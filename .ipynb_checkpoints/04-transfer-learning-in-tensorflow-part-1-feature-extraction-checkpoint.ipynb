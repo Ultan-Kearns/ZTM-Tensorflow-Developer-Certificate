{
 "cells": [
  {
   "cell_type": "code",
   "execution_count": 6,
   "id": "9b3d993f-469e-4c66-9555-55af951f9260",
   "metadata": {},
   "outputs": [],
   "source": [
    "import tensorflow as tf"
   ]
  },
  {
   "cell_type": "markdown",
   "id": "c0daa54a-dc4c-4f03-9615-c6c74c44ebbe",
   "metadata": {},
   "source": [
    "# Transfer learning with tensorflow part 1: feature extraction\n",
    "\n",
    "Transfer learning is leveraging a working model's existing architecture and learned patterns for our own problem.\n",
    "\n",
    "There are two main benefits:\n",
    "\n",
    "1. Can leverage the existing neural network architecture proven to work on problems similar to our own\n",
    "2. Can leverage a working neural architectures which has already learned patterns on similar data to our own, then we can adapt those patterns to our own data"
   ]
  },
  {
   "cell_type": "markdown",
   "id": "163f4def-b564-45f4-80e7-704676ef69d0",
   "metadata": {},
   "source": [
    "## Downloading and becoming one with the data"
   ]
  },
  {
   "cell_type": "code",
   "execution_count": 1,
   "id": "ef4a2d4c-f73a-4c26-8f97-bbea67408f7f",
   "metadata": {},
   "outputs": [],
   "source": [
    "# Get data(10% of 10 food classes file)\n",
    "import zipfile \n",
    "import os\n",
    "\n",
    "# Unzip downloaded file\n",
    "if not \"10_food_classes_10_percent.zip\" in os.listdir(\"./\"):\n",
    "    !wget https://storage.googleapis.com/ztm_tf_course/food_vision/10_food_classes_10_percent.zip\n",
    "    zip_ref = zipfile.ZipFile(\"10_food_classes_10_percent.zip\")\n",
    "    zip_ref.extractall()\n",
    "    zip_ref.close()"
   ]
  },
  {
   "cell_type": "code",
   "execution_count": 2,
   "id": "4733c2b9-dcaa-4c88-97f1-37c2edc96a19",
   "metadata": {},
   "outputs": [
    {
     "name": "stdout",
     "output_type": "stream",
     "text": [
      "There are 2 directories and 0 in 10_food_classes_10_percent\n",
      "There are 10 directories and 0 in 10_food_classes_10_percent/test\n",
      "There are 0 directories and 250 in 10_food_classes_10_percent/test/fried_rice\n",
      "There are 0 directories and 250 in 10_food_classes_10_percent/test/ice_cream\n",
      "There are 0 directories and 250 in 10_food_classes_10_percent/test/ramen\n",
      "There are 0 directories and 250 in 10_food_classes_10_percent/test/hamburger\n",
      "There are 0 directories and 250 in 10_food_classes_10_percent/test/sushi\n",
      "There are 0 directories and 250 in 10_food_classes_10_percent/test/chicken_curry\n",
      "There are 0 directories and 250 in 10_food_classes_10_percent/test/grilled_salmon\n",
      "There are 0 directories and 250 in 10_food_classes_10_percent/test/pizza\n",
      "There are 0 directories and 250 in 10_food_classes_10_percent/test/steak\n",
      "There are 0 directories and 250 in 10_food_classes_10_percent/test/chicken_wings\n",
      "There are 10 directories and 0 in 10_food_classes_10_percent/train\n",
      "There are 0 directories and 75 in 10_food_classes_10_percent/train/fried_rice\n",
      "There are 0 directories and 75 in 10_food_classes_10_percent/train/ice_cream\n",
      "There are 0 directories and 75 in 10_food_classes_10_percent/train/ramen\n",
      "There are 0 directories and 75 in 10_food_classes_10_percent/train/hamburger\n",
      "There are 0 directories and 75 in 10_food_classes_10_percent/train/sushi\n",
      "There are 0 directories and 75 in 10_food_classes_10_percent/train/chicken_curry\n",
      "There are 0 directories and 75 in 10_food_classes_10_percent/train/grilled_salmon\n",
      "There are 0 directories and 75 in 10_food_classes_10_percent/train/pizza\n",
      "There are 0 directories and 75 in 10_food_classes_10_percent/train/steak\n",
      "There are 0 directories and 75 in 10_food_classes_10_percent/train/chicken_wings\n"
     ]
    }
   ],
   "source": [
    "# walk through 10% data directory and list number of files\n",
    "for dirpath, dirnames, filenames in os.walk(\"10_food_classes_10_percent\"):\n",
    "    print(f\"There are {len(dirnames)} directories and {len(filenames)} in {dirpath}\")"
   ]
  },
  {
   "cell_type": "markdown",
   "id": "8fcf396b-b6bd-4739-9df2-f316a8ca71b9",
   "metadata": {},
   "source": [
    "## Creating data loaders(preparing the data)\n",
    "We'll use the `ImageDataGenerator` class to load our images in batches"
   ]
  },
  {
   "cell_type": "code",
   "execution_count": 5,
   "id": "5c682949-4d60-4f89-a3b7-9635523fe6f1",
   "metadata": {},
   "outputs": [
    {
     "name": "stdout",
     "output_type": "stream",
     "text": [
      "Training Images:\n",
      "Found 750 images belonging to 10 classes.\n",
      "Found 2500 images belonging to 10 classes.\n"
     ]
    }
   ],
   "source": [
    "# Setup data inputs \n",
    "from tensorflow.keras.preprocessing.image import ImageDataGenerator\n",
    "\n",
    "IMAGE_SHAPE=(224,224)\n",
    "BATCH_SIZE=32\n",
    "EPOCHS = 5\n",
    "\n",
    "train_dir = \"10_food_classes_10_percent/train\"\n",
    "test_dir = \"10_food_classes_10_percent/test\"\n",
    "train_datagen=ImageDataGenerator(rescale=1/255.)\n",
    "test_datagen=ImageDataGenerator(rescale=1/255.)\n",
    "\n",
    "print(\"Training Images:\")\n",
    "train_data_10_percent = train_datagen.flow_from_directory(train_dir,\n",
    "                                                          target_size=IMAGE_SHAPE,\n",
    "                                                          batch_size=BATCH_SIZE,\n",
    "                                                          class_mode=\"categorical\")\n",
    "test_data = test_datagen.flow_from_directory(test_dir,\n",
    "                                             target_size=IMAGE_SHAPE,\n",
    "                                             batch_size=BATCH_SIZE,\n",
    "                                             class_mode=\"categorical\")"
   ]
  },
  {
   "cell_type": "code",
   "execution_count": null,
   "id": "5f41fc69-d0a5-4573-8e91-ea04dd589560",
   "metadata": {},
   "outputs": [],
   "source": [
    " "
   ]
  },
  {
   "cell_type": "code",
   "execution_count": null,
   "id": "10da1bf4-8ea4-4ffc-9cfe-353820f198d1",
   "metadata": {},
   "outputs": [],
   "source": []
  },
  {
   "cell_type": "code",
   "execution_count": null,
   "id": "0abeed2d-bbad-46b0-a0ad-11b53d34bfb0",
   "metadata": {},
   "outputs": [],
   "source": []
  }
 ],
 "metadata": {
  "kernelspec": {
   "display_name": "Python 3 (ipykernel)",
   "language": "python",
   "name": "python3"
  },
  "language_info": {
   "codemirror_mode": {
    "name": "ipython",
    "version": 3
   },
   "file_extension": ".py",
   "mimetype": "text/x-python",
   "name": "python",
   "nbconvert_exporter": "python",
   "pygments_lexer": "ipython3",
   "version": "3.11.8"
  }
 },
 "nbformat": 4,
 "nbformat_minor": 5
}
