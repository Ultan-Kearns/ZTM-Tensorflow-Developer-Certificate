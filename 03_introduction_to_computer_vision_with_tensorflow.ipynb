{
 "cells": [
  {
   "cell_type": "markdown",
   "metadata": {
    "colab_type": "text",
    "id": "view-in-github"
   },
   "source": [
    "<a href=\"https://colab.research.google.com/github/Ultan-Kearns/ZTM-Tensorflow-Developer-Certificate/blob/master/03_introduction_to_computer_vision_with_tensorflow.ipynb\" target=\"_parent\"><img src=\"https://colab.research.google.com/assets/colab-badge.svg\" alt=\"Open In Colab\"/></a>"
   ]
  },
  {
   "cell_type": "markdown",
   "metadata": {
    "id": "DtmpBWJhWp6p"
   },
   "source": [
    "# Introduction to Convolutional Neural Networks and Computer Vision with Tensorflow\n",
    "\n",
    "Computer vision is the practice of writing algorithmes which can discover patterns within visual data.  Such as a camera of a self-driving car recognizing the car in front"
   ]
  },
  {
   "cell_type": "markdown",
   "metadata": {
    "id": "J8C6nuM0e9z2"
   },
   "source": [
    "## Get the data\n"
   ]
  },
  {
   "cell_type": "code",
   "execution_count": 2,
   "metadata": {
    "colab": {
     "base_uri": "https://localhost:8080/"
    },
    "id": "jL_r-YDnW-DG",
    "outputId": "b4d01df4-00f4-45e1-8503-fff7f659b949"
   },
   "outputs": [],
   "source": [
    "import zipfile\n",
    "import os\n",
    "if(not \"pizza_steak.zip\" in os.listdir()):\n",
    "    !wget https://storage.googleapis.com/ztm_tf_course/food_vision/pizza_steak.zip\n",
    "    # unzip\n",
    "    zip_ref = zipfile.ZipFile(\"pizza_steak.zip\")\n",
    "    zip_ref.extractall()\n",
    "    zip_ref.close()"
   ]
  },
  {
   "cell_type": "markdown",
   "metadata": {
    "id": "coBpKopaY-No"
   },
   "source": [
    "The images we're working with are from the Food101 dataset(101 different classes of food): https://kaggle.com/dansbecker/food101\n",
    "\n",
    "However we've modified it to use only two classes(pizza & steak) using the image data modification notebook https://github.com/mrdbourke/tensorflow-deep-learning/blob/main/extras/image_data_modification.ipynb\n",
    "\n",
    "**Note** We start with a smaller dataset so that we can experiment quickly so we can figure out what works and what doesn't work before scaling up."
   ]
  },
  {
   "cell_type": "markdown",
   "metadata": {
    "id": "RMcpOo93Z_x1"
   },
   "source": [
    "## Inspect the data (become one with it)\n",
    "A very crucial step at the beginning of any machine learning project is becoming one with the dataset\n",
    "\n",
    "And for computer vision project.... this usually means visualizing many smamples of your data."
   ]
  },
  {
   "cell_type": "code",
   "execution_count": 3,
   "metadata": {
    "colab": {
     "base_uri": "https://localhost:8080/"
    },
    "id": "bl6Uk1l7dbpe",
    "outputId": "7418e909-212e-4e53-e111-6a600dffc08a"
   },
   "outputs": [
    {
     "name": "stdout",
     "output_type": "stream",
     "text": [
      "test  train\n"
     ]
    }
   ],
   "source": [
    "!ls pizza_steak"
   ]
  },
  {
   "cell_type": "code",
   "execution_count": 4,
   "metadata": {
    "colab": {
     "base_uri": "https://localhost:8080/"
    },
    "id": "LUjHJu1_duBV",
    "outputId": "5c02ec25-4575-45c9-9163-1a90ba0d7e73"
   },
   "outputs": [
    {
     "name": "stdout",
     "output_type": "stream",
     "text": [
      "pizza  steak\n"
     ]
    }
   ],
   "source": [
    "!ls pizza_steak/train"
   ]
  },
  {
   "cell_type": "code",
   "execution_count": 5,
   "metadata": {
    "colab": {
     "base_uri": "https://localhost:8080/"
    },
    "id": "s4Wc3hZOdzl7",
    "outputId": "fdc640a9-ecb0-4bfc-8d33-f64027a6adc2"
   },
   "outputs": [
    {
     "name": "stdout",
     "output_type": "stream",
     "text": [
      "1000205.jpg  1647351.jpg  2238681.jpg  2824680.jpg  3375959.jpg  417368.jpg\n",
      "100135.jpg   1650002.jpg  2238802.jpg  2825100.jpg  3381560.jpg  4176.jpg\n",
      "101312.jpg   165639.jpg   2254705.jpg  2826987.jpg  3382936.jpg  42125.jpg\n",
      "1021458.jpg  1658186.jpg  225990.jpg   2832499.jpg  3386119.jpg  421476.jpg\n",
      "1032846.jpg  1658443.jpg  2260231.jpg  2832960.jpg  3388717.jpg  421561.jpg\n",
      "10380.jpg    165964.jpg   2268692.jpg  285045.jpg   3389138.jpg  438871.jpg\n",
      "1049459.jpg  167069.jpg   2271133.jpg  285147.jpg   3393547.jpg  43924.jpg\n",
      "1053665.jpg  1675632.jpg  227576.jpg   2855315.jpg  3393688.jpg  440188.jpg\n",
      "1068516.jpg  1678108.jpg  2283057.jpg  2856066.jpg  3396589.jpg  442757.jpg\n",
      "1068975.jpg  168006.jpg   2286639.jpg  2859933.jpg  339891.jpg\t 443210.jpg\n",
      "1081258.jpg  1682496.jpg  2287136.jpg  286219.jpg   3417789.jpg  444064.jpg\n",
      "1090122.jpg  1684438.jpg  2291292.jpg  2862562.jpg  3425047.jpg  444709.jpg\n",
      "1093966.jpg  168775.jpg   229323.jpg   2865730.jpg  3434983.jpg  447557.jpg\n",
      "1098844.jpg  1697339.jpg  2300534.jpg  2878151.jpg  3435358.jpg  461187.jpg\n",
      "1100074.jpg  1710569.jpg  2300845.jpg  2880035.jpg  3438319.jpg  461689.jpg\n",
      "1105280.jpg  1714605.jpg  231296.jpg   2881783.jpg  3444407.jpg  465494.jpg\n",
      "1117936.jpg  1724387.jpg  2315295.jpg  2884233.jpg  345734.jpg\t 468384.jpg\n",
      "1126126.jpg  1724717.jpg  2323132.jpg  2890573.jpg  3460673.jpg  477486.jpg\n",
      "114601.jpg   172936.jpg   2324994.jpg  2893832.jpg  3465327.jpg  482022.jpg\n",
      "1147047.jpg  1736543.jpg  2327701.jpg  2893892.jpg  3466159.jpg  482465.jpg\n",
      "1147883.jpg  1736968.jpg  2331076.jpg  2907177.jpg  3469024.jpg  483788.jpg\n",
      "1155665.jpg  1746626.jpg  233964.jpg   290850.jpg   3470083.jpg  493029.jpg\n",
      "1163977.jpg  1752330.jpg  2344227.jpg  2909031.jpg  3476564.jpg  503589.jpg\n",
      "1190233.jpg  1761285.jpg  234626.jpg   2910418.jpg  3478318.jpg  510757.jpg\n",
      "1208405.jpg  176508.jpg   234704.jpg   2912290.jpg  3488748.jpg  513129.jpg\n",
      "1209120.jpg  1772039.jpg  2357281.jpg  2916448.jpg  3492328.jpg  513842.jpg\n",
      "1212161.jpg  1777107.jpg  2361812.jpg  2916967.jpg  3518960.jpg  523535.jpg\n",
      "1213988.jpg  1787505.jpg  2365287.jpg  2927833.jpg  3522209.jpg  525041.jpg\n",
      "1219039.jpg  179293.jpg   2374582.jpg  2928643.jpg  3524429.jpg  534560.jpg\n",
      "1225762.jpg  1816235.jpg  239025.jpg   2929179.jpg  3528458.jpg  534633.jpg\n",
      "1230968.jpg  1822407.jpg  2390628.jpg  2936477.jpg  3531805.jpg  536535.jpg\n",
      "1236155.jpg  1823263.jpg  2392910.jpg  2938012.jpg  3536023.jpg  541410.jpg\n",
      "1241193.jpg  1826066.jpg  2394465.jpg  2938151.jpg  3538682.jpg  543691.jpg\n",
      "1248337.jpg  1828502.jpg  2395127.jpg  2939678.jpg  3540750.jpg  560503.jpg\n",
      "1257104.jpg  1828969.jpg  2396291.jpg  2940544.jpg  354329.jpg\t 561972.jpg\n",
      "126345.jpg   1829045.jpg  2400975.jpg  2940621.jpg  3547166.jpg  56240.jpg\n",
      "1264050.jpg  1829088.jpg  2403776.jpg  2949079.jpg  3553911.jpg  56409.jpg\n",
      "1264154.jpg  1836332.jpg  2403907.jpg  295491.jpg   3556871.jpg  564530.jpg\n",
      "1264858.jpg  1839025.jpg  240435.jpg   296268.jpg   355715.jpg\t 568972.jpg\n",
      "127029.jpg   1839481.jpg  2404695.jpg  2964732.jpg  356234.jpg\t 576725.jpg\n",
      "1289900.jpg  183995.jpg   2404884.jpg  2965021.jpg  3571963.jpg  588739.jpg\n",
      "1290362.jpg  184110.jpg   2407770.jpg  2966859.jpg  3576078.jpg  590142.jpg\n",
      "1295457.jpg  184226.jpg   2412263.jpg  2977966.jpg  3577618.jpg  60633.jpg\n",
      "1312841.jpg  1846706.jpg  2425062.jpg  2979061.jpg  3577732.jpg  60655.jpg\n",
      "1313316.jpg  1849364.jpg  2425389.jpg  2983260.jpg  3578934.jpg  606820.jpg\n",
      "1324791.jpg  1849463.jpg  2435316.jpg  2984311.jpg  358042.jpg\t 612551.jpg\n",
      "1327567.jpg  1849542.jpg  2437268.jpg  2988960.jpg  358045.jpg\t 614975.jpg\n",
      "1327667.jpg  1853564.jpg  2437843.jpg  2989882.jpg  3591821.jpg  616809.jpg\n",
      "1333055.jpg  1869467.jpg  2440131.jpg  2995169.jpg  359330.jpg\t 628628.jpg\n",
      "1334054.jpg  1870942.jpg  2443168.jpg  2996324.jpg  3601483.jpg  632427.jpg\n",
      "1335556.jpg  187303.jpg   2446660.jpg  3000131.jpg  3606642.jpg  636594.jpg\n",
      "1337814.jpg  187521.jpg   2455944.jpg  3002350.jpg  3609394.jpg  637374.jpg\n",
      "1340977.jpg  1888450.jpg  2458401.jpg  3007772.jpg  361067.jpg\t 640539.jpg\n",
      "1343209.jpg  1889336.jpg  2487306.jpg  3008192.jpg  3613455.jpg  644777.jpg\n",
      "134369.jpg   1907039.jpg  248841.jpg   3009617.jpg  3621464.jpg  644867.jpg\n",
      "1344105.jpg  1925230.jpg  2489716.jpg  3011642.jpg  3621562.jpg  658189.jpg\n",
      "134598.jpg   1927984.jpg  2490489.jpg  3020591.jpg  3621565.jpg  660900.jpg\n",
      "1346387.jpg  1930577.jpg  2495884.jpg  3030578.jpg  3623556.jpg  663014.jpg\n",
      "1348047.jpg  1937872.jpg  2495903.jpg  3047807.jpg  3640915.jpg  664545.jpg\n",
      "1351372.jpg  1941807.jpg  2499364.jpg  3059843.jpg  3643951.jpg  667075.jpg\n",
      "1362989.jpg  1942333.jpg  2500292.jpg  3074367.jpg  3653129.jpg  669180.jpg\n",
      "1367035.jpg  1945132.jpg  2509017.jpg  3082120.jpg  3656752.jpg  669960.jpg\n",
      "1371177.jpg  1961025.jpg  250978.jpg   3094354.jpg  3663518.jpg  6709.jpg\n",
      "1375640.jpg  1966300.jpg  2514432.jpg  3095301.jpg  3663800.jpg  674001.jpg\n",
      "1382427.jpg  1966967.jpg  2526838.jpg  3099645.jpg  3664376.jpg  676189.jpg\n",
      "1392718.jpg  1969596.jpg  252858.jpg   3100476.jpg  3670607.jpg  681609.jpg\n",
      "1395906.jpg  1971757.jpg  2532239.jpg  3110387.jpg  3671021.jpg  6926.jpg\n",
      "1400760.jpg  1976160.jpg  2534567.jpg  3113772.jpg  3671877.jpg  703556.jpg\n",
      "1403005.jpg  1984271.jpg  2535431.jpg  3116018.jpg  368073.jpg\t 703909.jpg\n",
      "1404770.jpg  1987213.jpg  2535456.jpg  3128952.jpg  368162.jpg\t 704316.jpg\n",
      "140832.jpg   1987639.jpg  2538000.jpg  3130412.jpg  368170.jpg\t 714298.jpg\n",
      "141056.jpg   1995118.jpg  2543081.jpg  3136.jpg     3693649.jpg  720060.jpg\n",
      "141135.jpg   1995252.jpg  2544643.jpg  313851.jpg   3700079.jpg  726083.jpg\n",
      "1413972.jpg  199754.jpg   2547797.jpg  3140083.jpg  3704103.jpg  728020.jpg\n",
      "1421393.jpg  2002400.jpg  2548974.jpg  3140147.jpg  3707493.jpg  732986.jpg\n",
      "1428947.jpg  2011264.jpg  2549316.jpg  3142045.jpg  3716881.jpg  734445.jpg\n",
      "1433912.jpg  2012996.jpg  2561199.jpg  3142618.jpg  3724677.jpg  735441.jpg\n",
      "143490.jpg   2013535.jpg  2563233.jpg  3142674.jpg  3727036.jpg  740090.jpg\n",
      "1445352.jpg  2017387.jpg  256592.jpg   3143192.jpg  3727491.jpg  745189.jpg\n",
      "1446401.jpg  2018173.jpg  2568848.jpg  314359.jpg   3736065.jpg  752203.jpg\n",
      "1453991.jpg  2020613.jpg  2573392.jpg  3157832.jpg  37384.jpg\t 75537.jpg\n",
      "1456841.jpg  2032669.jpg  2592401.jpg  3159818.jpg  3743286.jpg  756655.jpg\n",
      "146833.jpg   203450.jpg   2599817.jpg  3162376.jpg  3745515.jpg  762210.jpg\n",
      "1476404.jpg  2034628.jpg  2603058.jpg  3168620.jpg  3750472.jpg  763690.jpg\n",
      "1485083.jpg  2036920.jpg  2606444.jpg  3171085.jpg  3752362.jpg  767442.jpg\n",
      "1487113.jpg  2038418.jpg  2614189.jpg  317206.jpg   3766099.jpg  786409.jpg\n",
      "148916.jpg   2042975.jpg  2614649.jpg  3173444.jpg  3770370.jpg  80215.jpg\n",
      "149087.jpg   2045647.jpg  2615718.jpg  3180182.jpg  377190.jpg\t 802348.jpg\n",
      "1493169.jpg  2050584.jpg  2619625.jpg  31881.jpg    3777020.jpg  804684.jpg\n",
      "149682.jpg   2052542.jpg  2622140.jpg  3191589.jpg  3777482.jpg  812163.jpg\n",
      "1508094.jpg  2056627.jpg  262321.jpg   3204977.jpg  3781152.jpg  813486.jpg\n",
      "1512226.jpg  2062248.jpg  2625330.jpg  320658.jpg   3787809.jpg  819027.jpg\n",
      "1512347.jpg  2081995.jpg  2628106.jpg  3209173.jpg  3788729.jpg  822550.jpg\n",
      "1524526.jpg  2087958.jpg  2629750.jpg  3223400.jpg  3790962.jpg  823766.jpg\n",
      "1530833.jpg  2088030.jpg  2643906.jpg  3223601.jpg  3792514.jpg  827764.jpg\n",
      "1539499.jpg  2088195.jpg  2644457.jpg  3241894.jpg  379737.jpg\t 830007.jpg\n",
      "1541672.jpg  2090493.jpg  2648423.jpg  3245533.jpg  3807440.jpg  838344.jpg\n",
      "1548239.jpg  2090504.jpg  2651300.jpg  3245622.jpg  381162.jpg\t 853327.jpg\n",
      "1550997.jpg  2125877.jpg  2653594.jpg  3247009.jpg  3812039.jpg  854150.jpg\n",
      "1552530.jpg  2129685.jpg  2661577.jpg  3253588.jpg  3829392.jpg  864997.jpg\n",
      "15580.jpg    2133717.jpg  2668916.jpg  3260624.jpg  3830872.jpg  885571.jpg\n",
      "1559052.jpg  2136662.jpg  268444.jpg   326587.jpg   38442.jpg\t 907107.jpg\n",
      "1563266.jpg  213765.jpg   2691461.jpg  32693.jpg    3855584.jpg  908261.jpg\n",
      "1567554.jpg  2138335.jpg  2706403.jpg  3271253.jpg  3857508.jpg  910672.jpg\n",
      "1575322.jpg  2140776.jpg  270687.jpg   3274423.jpg  386335.jpg\t 911803.jpg\n",
      "1588879.jpg  214320.jpg   2707522.jpg  3280453.jpg  3867460.jpg  91432.jpg\n",
      "1594719.jpg  2146963.jpg  2711806.jpg  3298495.jpg  3868959.jpg  914570.jpg\n",
      "1595869.jpg  215222.jpg   2716993.jpg  330182.jpg   3869679.jpg  922752.jpg\n",
      "1598345.jpg  2154126.jpg  2724554.jpg  3306627.jpg  388776.jpg\t 923772.jpg\n",
      "1598885.jpg  2154779.jpg  2738227.jpg  3315727.jpg  3890465.jpg  926414.jpg\n",
      "1600179.jpg  2159975.jpg  2748917.jpg  331860.jpg   3894222.jpg  931356.jpg\n",
      "1600794.jpg  2163079.jpg  2760475.jpg  332232.jpg   3895825.jpg  937133.jpg\n",
      "160552.jpg   217250.jpg   2761427.jpg  3322909.jpg  389739.jpg\t 945791.jpg\n",
      "1606596.jpg  2172600.jpg  2765887.jpg  332557.jpg   3916407.jpg  947877.jpg\n",
      "1615395.jpg  2173084.jpg  2768451.jpg  3326734.jpg  393349.jpg\t 952407.jpg\n",
      "1618011.jpg  217996.jpg   2771149.jpg  3330642.jpg  393494.jpg\t 952437.jpg\n",
      "1619357.jpg  2193684.jpg  2779040.jpg  3333128.jpg  398288.jpg\t 955466.jpg\n",
      "1621763.jpg  220341.jpg   2788312.jpg  3333735.jpg  40094.jpg\t 9555.jpg\n",
      "1623325.jpg  22080.jpg\t  2788759.jpg  3334973.jpg  401094.jpg\t 961341.jpg\n",
      "1624450.jpg  2216146.jpg  2796102.jpg  3335013.jpg  401144.jpg\t 97656.jpg\n",
      "1624747.jpg  2222018.jpg  280284.jpg   3335267.jpg  401651.jpg\t 979110.jpg\n",
      "1628861.jpg  2223787.jpg  2807888.jpg  3346787.jpg  405173.jpg\t 980247.jpg\n",
      "1632774.jpg  2230959.jpg  2815172.jpg  3364420.jpg  405794.jpg\t 982988.jpg\n",
      "1636831.jpg  2232310.jpg  2818805.jpg  336637.jpg   40762.jpg\t 987732.jpg\n",
      "1645470.jpg  2233395.jpg  2823872.jpg  3372616.jpg  413325.jpg\t 996684.jpg\n"
     ]
    }
   ],
   "source": [
    "!ls pizza_steak/train/steak"
   ]
  },
  {
   "cell_type": "code",
   "execution_count": 6,
   "metadata": {
    "colab": {
     "base_uri": "https://localhost:8080/"
    },
    "id": "13uDa1fbd03f",
    "outputId": "ae88eea8-f7a8-4b51-cd3b-d312d1be1ca1"
   },
   "outputs": [
    {
     "name": "stdout",
     "output_type": "stream",
     "text": [
      "There are 2 directories and 0 images in 'pizza_steak'.\n",
      "There are 2 directories and 0 images in 'pizza_steak/test'.\n",
      "There are 0 directories and 250 images in 'pizza_steak/test/pizza'.\n",
      "There are 0 directories and 250 images in 'pizza_steak/test/steak'.\n",
      "There are 2 directories and 0 images in 'pizza_steak/train'.\n",
      "There are 0 directories and 750 images in 'pizza_steak/train/pizza'.\n",
      "There are 0 directories and 750 images in 'pizza_steak/train/steak'.\n"
     ]
    }
   ],
   "source": [
    "import os\n",
    "\n",
    "# walk through the pizza_steak directory and list the number of files\n",
    "\n",
    "for dirpath, dirnames, filenames in os.walk(\"pizza_steak\"):\n",
    "  print(f\"There are {len(dirnames)} directories and {len(filenames)} images in '{dirpath}'.\")"
   ]
  },
  {
   "cell_type": "code",
   "execution_count": 7,
   "metadata": {
    "colab": {
     "base_uri": "https://localhost:8080/"
    },
    "id": "f6Bp4TAHfIca",
    "outputId": "807f93e6-3c53-4998-af3d-74fc0efe97a3"
   },
   "outputs": [
    {
     "data": {
      "text/plain": [
       "750"
      ]
     },
     "execution_count": 7,
     "metadata": {},
     "output_type": "execute_result"
    }
   ],
   "source": [
    "# Another way to find out how many images are in a file\n",
    "\n",
    "num_steak_images_train = len(os.listdir(\"pizza_steak/train/steak\"))\n",
    "num_steak_images_train"
   ]
  },
  {
   "cell_type": "markdown",
   "metadata": {
    "id": "KanBTtQTBoqj"
   },
   "source": [
    "To visualize our images first let's get the class names programmatically"
   ]
  },
  {
   "cell_type": "code",
   "execution_count": 8,
   "metadata": {
    "colab": {
     "base_uri": "https://localhost:8080/"
    },
    "id": "dQH8CMaTB2gu",
    "outputId": "d3bbd81c-4b88-4fc7-d4ff-f81c0ed7e39f"
   },
   "outputs": [
    {
     "name": "stdout",
     "output_type": "stream",
     "text": [
      "['pizza' 'steak']\n"
     ]
    }
   ],
   "source": [
    "# Get the classnames programmatically\n",
    "import pathlib\n",
    "import numpy as np\n",
    "data_dir = pathlib.Path(\"pizza_steak/train\")\n",
    "class_names = np.array(sorted([item.name for item in data_dir.glob(\"*\")])) # created a list of class names from sub directories\n",
    "print(class_names)"
   ]
  },
  {
   "cell_type": "code",
   "execution_count": 9,
   "metadata": {
    "id": "PSgEGbKKCJdi"
   },
   "outputs": [],
   "source": [
    "# Let's visualize our images\n",
    "\n",
    "import matplotlib.pyplot as plt\n",
    "import matplotlib.image as mpimg\n",
    "import random\n",
    "\n",
    "def view_random_image(target_dir,target_class):\n",
    "  # Set up the target directory(we'll view images from here)\n",
    "  target_folder = target_dir+\"/\"+target_class\n",
    "  # Get the random image path\n",
    "  random_image = random.sample(os.listdir(target_folder), 1)\n",
    "  # Read in image and plot using matplot lib\n",
    "  img = mpimg.imread(target_folder + \"/\" +random_image[0])\n",
    "  plt.imshow(img)\n",
    "  plt.title(target_class)\n",
    "  plt.axis(\"off\")\n",
    "  print(f\"Image shape: {img.shape}\")\n",
    "  return img"
   ]
  },
  {
   "cell_type": "code",
   "execution_count": 10,
   "metadata": {
    "colab": {
     "base_uri": "https://localhost:8080/",
     "height": 446
    },
    "id": "SnVc_9a0C9KE",
    "outputId": "1a9e23fe-2db8-4662-8e02-1994a62fa699"
   },
   "outputs": [
    {
     "name": "stdout",
     "output_type": "stream",
     "text": [
      "Image shape: (512, 512, 3)\n"
     ]
    },
    {
     "data": {
      "image/png": "[encoded data removed]",
      "text/plain": [
       "<Figure size 640x480 with 1 Axes>"
      ]
     },
     "metadata": {},
     "output_type": "display_data"
    }
   ],
   "source": [
    "# View random image from the dataset\n",
    "classes = [\"pizza\",\"steak\"]\n",
    "img = view_random_image(\"pizza_steak/train\",classes[random.randint(0,1)])"
   ]
  },
  {
   "cell_type": "code",
   "execution_count": 11,
   "metadata": {
    "colab": {
     "base_uri": "https://localhost:8080/"
    },
    "id": "FxLxTVN0DKv0",
    "outputId": "1fd877c7-3ccc-42c8-f354-6337c10c760f"
   },
   "outputs": [
    {
     "name": "stderr",
     "output_type": "stream",
     "text": [
      "2024-04-22 23:31:49.124918: I tensorflow/core/platform/cpu_feature_guard.cc:210] This TensorFlow binary is optimized to use available CPU instructions in performance-critical operations.\n",
      "To enable the following instructions: SSE3 SSE4.1 SSE4.2 AVX AVX2 FMA, in other operations, rebuild TensorFlow with the appropriate compiler flags.\n"
     ]
    },
    {
     "data": {
      "text/plain": [
       "<tf.Tensor: shape=(512, 512, 3), dtype=uint8, numpy=\n",
       "array([[[189, 113,  38],\n",
       "        [190, 114,  39],\n",
       "        [192, 115,  43],\n",
       "        ...,\n",
       "        [222, 146,  70],\n",
       "        [220, 144,  68],\n",
       "        [219, 143,  67]],\n",
       "\n",
       "       [[193, 117,  42],\n",
       "        [193, 117,  42],\n",
       "        [192, 115,  43],\n",
       "        ...,\n",
       "        [222, 146,  70],\n",
       "        [221, 145,  69],\n",
       "        [220, 144,  68]],\n",
       "\n",
       "       [[197, 121,  45],\n",
       "        [195, 119,  43],\n",
       "        [193, 117,  42],\n",
       "        ...,\n",
       "        [220, 144,  68],\n",
       "        [220, 144,  68],\n",
       "        [220, 144,  68]],\n",
       "\n",
       "       ...,\n",
       "\n",
       "       [[104,  40,  15],\n",
       "        [107,  43,  18],\n",
       "        [110,  46,  21],\n",
       "        ...,\n",
       "        [248, 223, 183],\n",
       "        [248, 223, 183],\n",
       "        [250, 225, 185]],\n",
       "\n",
       "       [[105,  41,  14],\n",
       "        [107,  43,  16],\n",
       "        [109,  45,  18],\n",
       "        ...,\n",
       "        [247, 222, 182],\n",
       "        [247, 222, 182],\n",
       "        [249, 224, 184]],\n",
       "\n",
       "       [[112,  48,  21],\n",
       "        [112,  48,  21],\n",
       "        [112,  48,  21],\n",
       "        ...,\n",
       "        [247, 222, 182],\n",
       "        [247, 222, 182],\n",
       "        [248, 223, 183]]], dtype=uint8)>"
      ]
     },
     "execution_count": 11,
     "metadata": {},
     "output_type": "execute_result"
    }
   ],
   "source": [
    "import tensorflow as tf\n",
    "tf.constant(img)"
   ]
  },
  {
   "cell_type": "code",
   "execution_count": 12,
   "metadata": {
    "colab": {
     "base_uri": "https://localhost:8080/"
    },
    "id": "VAuP_sZ8EkSb",
    "outputId": "0b0079fa-6647-48d7-ee05-1e93b4bcd1fc"
   },
   "outputs": [
    {
     "data": {
      "text/plain": [
       "(512, 512, 3)"
      ]
     },
     "execution_count": 12,
     "metadata": {},
     "output_type": "execute_result"
    }
   ],
   "source": [
    "# View the image shape\n",
    "img.shape # returns width, heigh, colour channels"
   ]
  },
  {
   "cell_type": "code",
   "execution_count": 13,
   "metadata": {
    "colab": {
     "base_uri": "https://localhost:8080/"
    },
    "id": "qfnUaoWyHg1M",
    "outputId": "7630018e-cb4f-49ae-ab49-ea3315406604"
   },
   "outputs": [
    {
     "data": {
      "text/plain": [
       "array([[[0.74117647, 0.44313725, 0.14901961],\n",
       "        [0.74509804, 0.44705882, 0.15294118],\n",
       "        [0.75294118, 0.45098039, 0.16862745],\n",
       "        ...,\n",
       "        [0.87058824, 0.57254902, 0.2745098 ],\n",
       "        [0.8627451 , 0.56470588, 0.26666667],\n",
       "        [0.85882353, 0.56078431, 0.2627451 ]],\n",
       "\n",
       "       [[0.75686275, 0.45882353, 0.16470588],\n",
       "        [0.75686275, 0.45882353, 0.16470588],\n",
       "        [0.75294118, 0.45098039, 0.16862745],\n",
       "        ...,\n",
       "        [0.87058824, 0.57254902, 0.2745098 ],\n",
       "        [0.86666667, 0.56862745, 0.27058824],\n",
       "        [0.8627451 , 0.56470588, 0.26666667]],\n",
       "\n",
       "       [[0.77254902, 0.4745098 , 0.17647059],\n",
       "        [0.76470588, 0.46666667, 0.16862745],\n",
       "        [0.75686275, 0.45882353, 0.16470588],\n",
       "        ...,\n",
       "        [0.8627451 , 0.56470588, 0.26666667],\n",
       "        [0.8627451 , 0.56470588, 0.26666667],\n",
       "        [0.8627451 , 0.56470588, 0.26666667]],\n",
       "\n",
       "       ...,\n",
       "\n",
       "       [[0.40784314, 0.15686275, 0.05882353],\n",
       "        [0.41960784, 0.16862745, 0.07058824],\n",
       "        [0.43137255, 0.18039216, 0.08235294],\n",
       "        ...,\n",
       "        [0.97254902, 0.8745098 , 0.71764706],\n",
       "        [0.97254902, 0.8745098 , 0.71764706],\n",
       "        [0.98039216, 0.88235294, 0.7254902 ]],\n",
       "\n",
       "       [[0.41176471, 0.16078431, 0.05490196],\n",
       "        [0.41960784, 0.16862745, 0.0627451 ],\n",
       "        [0.42745098, 0.17647059, 0.07058824],\n",
       "        ...,\n",
       "        [0.96862745, 0.87058824, 0.71372549],\n",
       "        [0.96862745, 0.87058824, 0.71372549],\n",
       "        [0.97647059, 0.87843137, 0.72156863]],\n",
       "\n",
       "       [[0.43921569, 0.18823529, 0.08235294],\n",
       "        [0.43921569, 0.18823529, 0.08235294],\n",
       "        [0.43921569, 0.18823529, 0.08235294],\n",
       "        ...,\n",
       "        [0.96862745, 0.87058824, 0.71372549],\n",
       "        [0.96862745, 0.87058824, 0.71372549],\n",
       "        [0.97254902, 0.8745098 , 0.71764706]]])"
      ]
     },
     "execution_count": 13,
     "metadata": {},
     "output_type": "execute_result"
    }
   ],
   "source": [
    "img / 255."
   ]
  },
  {
   "cell_type": "markdown",
   "metadata": {
    "id": "g4TLMxM1IKoO"
   },
   "source": [
    "## An end-to-end example\n",
    "\n",
    "Let's build a convolutional neural network to find patterns in our images.  More specifically we need a way to:\n",
    "\n",
    "* Load our images\n",
    "* Pre process our images\n",
    "* Build a CNN to find patterns in our images\n",
    "* Compile our CNN\n",
    "* Fit the CNN to our training data"
   ]
  },
  {
   "cell_type": "code",
   "execution_count": 23,
   "metadata": {
    "colab": {
     "base_uri": "https://localhost:8080/"
    },
    "id": "T9RSr2FYYLqm",
    "outputId": "e3b74ec0-44d1-4534-c064-80a0cfd7b05f"
   },
   "outputs": [
    {
     "ename": "ModuleNotFoundError",
     "evalue": "No module named 'tensorflow.keras'",
     "output_type": "error",
     "traceback": [
      "\u001b[0;31m---------------------------------------------------------------------------\u001b[0m",
      "\u001b[0;31mModuleNotFoundError\u001b[0m                       Traceback (most recent call last)",
      "Cell \u001b[0;32mIn[23], line 2\u001b[0m\n\u001b[1;32m      1\u001b[0m \u001b[38;5;28;01mimport\u001b[39;00m \u001b[38;5;21;01mtensorflow\u001b[39;00m \u001b[38;5;28;01mas\u001b[39;00m \u001b[38;5;21;01mtf\u001b[39;00m\n\u001b[0;32m----> 2\u001b[0m \u001b[38;5;28;01mfrom\u001b[39;00m \u001b[38;5;21;01mtensorflow\u001b[39;00m\u001b[38;5;21;01m.\u001b[39;00m\u001b[38;5;21;01mkeras\u001b[39;00m\u001b[38;5;21;01m.\u001b[39;00m\u001b[38;5;21;01mpreprocessing\u001b[39;00m\u001b[38;5;21;01m.\u001b[39;00m\u001b[38;5;21;01mimage\u001b[39;00m \u001b[38;5;28;01mimport\u001b[39;00m ImageDataGenerator\n\u001b[1;32m      4\u001b[0m \u001b[38;5;66;03m# Set the random seed\u001b[39;00m\n\u001b[1;32m      5\u001b[0m tf\u001b[38;5;241m.\u001b[39mrandom\u001b[38;5;241m.\u001b[39mset_seed(\u001b[38;5;241m42\u001b[39m)\n",
      "\u001b[0;31mModuleNotFoundError\u001b[0m: No module named 'tensorflow.keras'"
     ]
    }
   ],
   "source": [
    "import tensorflow as tf\n",
    "from tensorflow.keras.preprocessing.image import ImageDataGenerator\n",
    "\n",
    "# Set the random seed\n",
    "tf.random.set_seed(42)\n",
    "\n",
    "# Preprocess data(get all pixel values between 1 & 0, also called scaling / normalization)\n",
    "train_datagen = ImageDataGenerator(rescale=1./255)\n",
    "valid_datagen = ImageDataGenerator(rescale=1./255)\n",
    "\n",
    "# Setup paths to our data directories\n",
    "train_dir = \"./pizza_steak/train\"\n",
    "test_dir=\"./pizza_steak/test\"\n",
    "# Import data from directories and turn it into batches\n",
    "\n",
    "train_data = train_datagen.flow_from_directory(train_dir,batch_size=32, target_size=(224,224), class_mode=\"binary\",seed=42)\n",
    "valid_data = valid_datagen.flow_from_directory(test_dir,batch_size=32,target_size=(224,224),class_mode=\"binary\",seed=42)\n",
    "\n",
    "# Build a CNN model (Same as the Tiny VGG on the CNN explainer website)\n",
    "model_1 = tf.keras.Sequential([\n",
    "    tf.keras.layers.Conv2D(filters=10,kernel_size=3,activation=\"relu\",input_shape=(224,224,3)),\n",
    "    tf.keras.layers.Conv2D(10,3,activation=\"relu\"),\n",
    "    tf.keras.layers.MaxPool2D(pool_size=2,padding=\"valid\"),\n",
    "    tf.keras.layers.Conv2D(10,3,activation=\"relu\"),\n",
    "    tf.keras.layers.Conv2D(10,3,activation=\"relu\"),\n",
    "    tf.keras.layers.MaxPool2D(pool_size=2,padding=\"valid\"),\n",
    "    tf.keras.layers.Flatten(),\n",
    "    tf.keras.layers.Dense(1,activation=\"sigmoid\")\n",
    "])\n",
    "\n",
    "# Compile our CNN\n",
    "model_1.compile(loss=\"binary_crossentropy\",optimizer=tf.keras.optimizers.Adam(),metrics=[\"accuracy\"])\n",
    "\n",
    "# Fit the model\n",
    "history_1 = model_1.fit(train_data,epochs=5,steps_per_epoch=len(train_data),validation_data=valid_data,validation_steps=len(valid_data))"
   ]
  },
  {
   "cell_type": "markdown",
   "metadata": {
    "id": "BsEuLVgZYw8m"
   },
   "source": [
    "**Note:** If the above cell is taking longer than ~10 seconds per epoch make sure you're using a GPU runtime"
   ]
  },
  {
   "cell_type": "code",
   "execution_count": null,
   "metadata": {
    "colab": {
     "base_uri": "https://localhost:8080/"
    },
    "id": "qizMbTBhG7X7",
    "outputId": "860abcf2-5ea2-4288-c348-5d2bc28736bf"
   },
   "outputs": [],
   "source": [
    "# Get model summary\n",
    "model_1.summary()"
   ]
  },
  {
   "cell_type": "markdown",
   "metadata": {
    "id": "6grGbv-XHgf1"
   },
   "source": [
    "## Using the same model as before\n",
    "\n",
    "Let's replicate the model we've built in a previous section to see if it works with our image data\n",
    "\n",
    "The model we're building is from the [tensorflow playground](https://playground.tensorflow.org/#activation=tanh&batchSize=10&dataset=circle&regDataset=reg-plane&learningRate=0.03&regularizationRate=0&noise=0&networkShape=4,2&seed=0.94210&showTestData=false&discretize=false&percTrainData=50&x=true&y=true&xTimesY=false&xSquared=false&ySquared=false&cosX=false&sinX=false&cosY=false&sinY=false&collectStats=false&problem=classification&initZero=false&hideText=false)"
   ]
  },
  {
   "cell_type": "code",
   "execution_count": null,
   "metadata": {
    "colab": {
     "base_uri": "https://localhost:8080/"
    },
    "id": "Da9BoUAmNFTK",
    "outputId": "a2b97197-956b-4086-c9fe-87347da7534d"
   },
   "outputs": [],
   "source": [
    "# set random seed\n",
    "tf.random.set_seed(42)\n",
    "\n",
    "# create the model  to replicate Tensorflow Playground Model\n",
    "\n",
    "model_2 = tf.keras.Sequential([\n",
    "    tf.keras.layers.Flatten(input_shape=(224,224,3)),\n",
    "    tf.keras.layers.Dense(4,activation=\"relu\"),\n",
    "    tf.keras.layers.Dense(4,activation=\"relu\"),\n",
    "    tf.keras.layers.Dense(1,activation=\"sigmoid\")\n",
    "])\n",
    "# compile the model\n",
    "model_2.compile(loss=\"binary_crossentropy\",\n",
    "                optimizer=tf.keras.optimizers.Adam(),\n",
    "                metrics=[\"accuracy\"])\n",
    "\n",
    "# Fit the model\n",
    "\n",
    "history_2 = model_2.fit(train_data,epochs=5,steps_per_epoch=len(train_data),validation_data=valid_data,validation_steps=len(valid_data))"
   ]
  },
  {
   "cell_type": "code",
   "execution_count": null,
   "metadata": {
    "colab": {
     "base_uri": "https://localhost:8080/"
    },
    "id": "sVHKe4qfNyxm",
    "outputId": "390574cf-921d-46d9-de40-ca5a292e71c9"
   },
   "outputs": [],
   "source": [
    "# set random seed\n",
    "tf.random.set_seed(42)\n",
    "\n",
    "my_model = tf.keras.Sequential([\n",
    "    tf.keras.layers.Conv2D(filters=10,kernel_size=3,activation=\"relu\",input_shape=(224,224,3)),\n",
    "    tf.keras.layers.Dense(4,activation=\"relu\"),\n",
    "    tf.keras.layers.Dense(4,activation=\"relu\"),\n",
    "    tf.keras.layers.MaxPool2D(pool_size=2,padding=\"valid\"),\n",
    "    tf.keras.layers.Flatten(),\n",
    "    tf.keras.layers.Dense(1,activation=\"sigmoid\")\n",
    "])\n",
    "# compile the model\n",
    "my_model.compile(loss=\"binary_crossentropy\",\n",
    "                optimizer=tf.keras.optimizers.Adam(),\n",
    "                metrics=[\"accuracy\"])\n",
    "\n",
    "# Fit the model\n",
    "\n",
    "history_3 = my_model.fit(train_data,epochs=5,steps_per_epoch=len(train_data),validation_data=valid_data,validation_steps=len(valid_data))"
   ]
  },
  {
   "cell_type": "code",
   "execution_count": null,
   "metadata": {
    "colab": {
     "base_uri": "https://localhost:8080/"
    },
    "id": "07Bw0r8YOcb8",
    "outputId": "8cf97842-ad97-4142-c5f1-5d268d499faa"
   },
   "outputs": [],
   "source": [
    "model_2.summary()"
   ]
  },
  {
   "cell_type": "markdown",
   "metadata": {
    "id": "Nc9VUdBffT5n"
   },
   "source": [
    "Despite having 20x more parameters than our original CNN, the model performs terribly... let's try again"
   ]
  },
  {
   "cell_type": "code",
   "execution_count": null,
   "metadata": {
    "colab": {
     "base_uri": "https://localhost:8080/"
    },
    "id": "bCRSxirbifis",
    "outputId": "b08048f7-5bfa-49e2-a0e8-0bc778493d2d"
   },
   "outputs": [],
   "source": [
    "# set random seed\n",
    "tf.random.set_seed(42)\n",
    "\n",
    "# create the model  to replicate Tensorflow Playground Model\n",
    "\n",
    "model_3 = tf.keras.Sequential([\n",
    "    tf.keras.layers.Flatten(input_shape=(224,224,3)),\n",
    "    tf.keras.layers.Dense(100,activation=\"relu\"),\n",
    "    tf.keras.layers.Dense(100,activation=\"relu\"),\n",
    "    tf.keras.layers.Dense(100,activation=\"relu\"),\n",
    "    tf.keras.layers.Dense(1,activation=\"sigmoid\")\n",
    "])\n",
    "# compile the model\n",
    "model_3.compile(loss=\"binary_crossentropy\",\n",
    "                optimizer=tf.keras.optimizers.Adam(),\n",
    "                metrics=[\"accuracy\"])\n",
    "\n",
    "# Fit the model\n",
    "\n",
    "history_3 = model_3.fit(train_data,epochs=5,steps_per_epoch=len(train_data),validation_data=valid_data,validation_steps=len(valid_data))"
   ]
  },
  {
   "cell_type": "code",
   "execution_count": null,
   "metadata": {
    "id": "O0-t7eZEiwTP"
   },
   "outputs": [],
   "source": [
    "model_3.summary()"
   ]
  },
  {
   "cell_type": "code",
   "execution_count": null,
   "metadata": {
    "id": "UVyGQ_kDjzuW"
   },
   "outputs": [],
   "source": [
    "15000000 / 31000"
   ]
  },
  {
   "cell_type": "markdown",
   "metadata": {
    "id": "nRhbUvyzj3kV"
   },
   "source": [
    "**Note:** You can think of trainable parameters as **patterns a model can learn from data**. intuitively, better. And in lots of cases it is. But in this case, the difference here is two different styles of model we're using where a series of dense layers has a number of different learnable parameters connected to each other and hence a high number of possible learnable patterns, **a convolutional neural network seeks to sort out and learn the most important patterns in an image**.  So even though these are less learnable parameters in our CNN, these are often more helpful in deciphering between different features in an image."
   ]
  },
  {
   "cell_type": "code",
   "execution_count": null,
   "metadata": {
    "id": "i4avIuutm_53"
   },
   "outputs": [],
   "source": [
    "model_1.summary()"
   ]
  },
  {
   "cell_type": "markdown",
   "metadata": {
    "id": "-Q34YEEAnF0B"
   },
   "source": [
    "## Binary Classification: Let's break it down\n",
    "1. Become one with the data(visualize,visualize,visualize)\n",
    "2. Preprocess the data(prepped it for our model, the main step was scaling / normalizing)\n",
    "3. Created a model(start with a baseline)\n",
    "4. Fit the model\n",
    "5. Evaluate the model\n",
    "6. Adjust different parameters and improve the model(try to beat our baseline)\n",
    "7. Repeat until satisfied(experiment,experiment,experiment)"
   ]
  },
  {
   "cell_type": "markdown",
   "metadata": {
    "id": "Gaj0GcXCnzYy"
   },
   "source": [
    "## 1. Become one with the data"
   ]
  },
  {
   "cell_type": "code",
   "execution_count": null,
   "metadata": {
    "id": "ZfIy-LiDn2Mm"
   },
   "outputs": [],
   "source": [
    "plt.figure()\n",
    "plt.subplot(1,2,1)\n",
    "steak_img = view_random_image(\"pizza_steak/train/\",\"steak\")\n",
    "plt.subplot(1,2,2)\n",
    "pizza_img = view_random_image(\"pizza_steak/train/\",\"pizza\")"
   ]
  },
  {
   "cell_type": "markdown",
   "metadata": {
    "id": "MS8aqRy5n-0Q"
   },
   "source": [
    "## 2. Pre-process the data(prepare it for a model)"
   ]
  },
  {
   "cell_type": "code",
   "execution_count": null,
   "metadata": {
    "id": "AxFKqSD-ul4Z"
   },
   "outputs": [],
   "source": [
    "# Define our directory dataset paths\n",
    "\n",
    "train_dir = \"pizza_steak/train\"\n",
    "test_dir = \"pizza_steak/test\""
   ]
  },
  {
   "cell_type": "markdown",
   "metadata": {
    "id": "-PTuVUACxGWr"
   },
   "source": [
    "Our next step is to turn our data into **batches**\n",
    "\n",
    "A batch is a small subset of the data.  Splits data into a certain number to make training easier and so as not to cause overflows.\n",
    "\n",
    "it does this for a couple of reasons:\n",
    "1. memory limitations - larger numbers may not fit on memory available\n",
    "2. Trying to learn patterns in 10k images in one hit could result in the model not being able to learn very well.\n",
    "\n",
    "why 32?\n",
    "\n",
    "Because 32 is standard practice, although larger numbers could be useful in some cases."
   ]
  },
  {
   "cell_type": "code",
   "execution_count": null,
   "metadata": {
    "id": "KP5XKzy1xFc_"
   },
   "outputs": [],
   "source": [
    "# create train and test data generators and rescale the data\n",
    "from tensorflow.keras.preprocessing.image import ImageDataGenerator\n",
    "train_datagen = ImageDataGenerator(rescale=1/255.)\n",
    "test_datagen = ImageDataGenerator(rescale=1/255.)\n"
   ]
  },
  {
   "cell_type": "code",
   "execution_count": null,
   "metadata": {
    "id": "2y43E4dEzTbN"
   },
   "outputs": [],
   "source": [
    "# Load our image data from directories and turn into batches\n",
    "train_data = train_datagen.flow_from_directory(directory=train_dir,target_size=(224,224),class_mode=\"binary\",batch_size=32)\n",
    "test_data = test_datagen.flow_from_directory(directory=test_dir,target_size=(224,224),class_mode=\"binary\",batch_size=32)"
   ]
  },
  {
   "cell_type": "code",
   "execution_count": null,
   "metadata": {
    "id": "I5HyKcgxzfIU"
   },
   "outputs": [],
   "source": [
    "# Get a sample of a training data batch\n",
    "images, labels = train_data.next() # get next batch of images / labels in train data\n",
    "len(images),len(labels)"
   ]
  },
  {
   "cell_type": "code",
   "execution_count": null,
   "metadata": {
    "id": "G9FN_QLk1cQw"
   },
   "outputs": [],
   "source": [
    "# How many batches are there\n",
    "len(train_data)"
   ]
  },
  {
   "cell_type": "code",
   "execution_count": null,
   "metadata": {
    "id": "Gaii-edW1oL-"
   },
   "outputs": [],
   "source": [
    "1500 / 32"
   ]
  },
  {
   "cell_type": "code",
   "execution_count": null,
   "metadata": {
    "id": "Y9IkG7rl1pAr"
   },
   "outputs": [],
   "source": [
    "# Get the first two images\n",
    "images[:2], images[0].shape"
   ]
  },
  {
   "cell_type": "code",
   "execution_count": null,
   "metadata": {
    "id": "1uJUd3s01xr0"
   },
   "outputs": [],
   "source": [
    "images[7].shape"
   ]
  },
  {
   "cell_type": "code",
   "execution_count": null,
   "metadata": {
    "id": "IL8d11yq19VL"
   },
   "outputs": [],
   "source": [
    "# View the first batch of labels\n",
    "labels"
   ]
  },
  {
   "cell_type": "markdown",
   "metadata": {
    "id": "HOSOt5Im2F8L"
   },
   "source": [
    "### 3. Create a CNN model(start with a baseline)\n",
    "\n",
    "A baseline is a relatively simple model or existing result that you setup when you start a machine learning model which you will use as a metric when comparing to other models\n",
    "\n",
    "**NOTE:** In deep learning there is an almost infinite amount of architectures you could create.  So one of the best ways to get started is start by using something simple and see if it works then introduce complexity as required."
   ]
  },
  {
   "cell_type": "code",
   "execution_count": null,
   "metadata": {
    "id": "WphFxlou2k6r"
   },
   "outputs": [],
   "source": [
    "# Make the creating of our model a little easier\n",
    "from tensorflow.keras.optimizers import Adam\n",
    "from tensorflow.keras.layers import Dense, Flatten, Conv2D, MaxPool2D, Activation\n",
    "from tensorflow.keras import Sequential"
   ]
  },
  {
   "cell_type": "code",
   "execution_count": null,
   "metadata": {
    "id": "WaThVIgw2w8_"
   },
   "outputs": [],
   "source": [
    "model_4 = Sequential([Conv2D(filters=10, # Filter is the number of sliding windows going across the input\n",
    "                             kernel_size=3, # The size of the sliding window going across an input\n",
    "                             strides=1, # The size of the step the sliding window takes across an input\n",
    "                             padding=\"valid\", # if 'same' the output shape is same as input shape, if 'valid' output shape gets compressed\n",
    "                             activation=\"relu\",\n",
    "                             input_shape=(224,224,3)), #input layer\n",
    "                      Conv2D(10,3,activation=\"relu\"),\n",
    "                      Conv2D(10,3,activation=\"relu\"),\n",
    "                      Flatten(),\n",
    "                      Dense(1,activation=\"sigmoid\") # output layer 1 and sigmoid since bary\n",
    "                      ])"
   ]
  },
  {
   "cell_type": "code",
   "execution_count": null,
   "metadata": {
    "id": "aCQkOYIr3MIk"
   },
   "outputs": [],
   "source": [
    "model_4.compile(loss=\"binary_crossentropy\",optimizer=Adam(),metrics=[\"accuracy\"])"
   ]
  },
  {
   "cell_type": "markdown",
   "metadata": {
    "id": "jkDTSAWaTHJ2"
   },
   "source": [
    "## 4. Fit the model"
   ]
  },
  {
   "cell_type": "code",
   "execution_count": null,
   "metadata": {
    "id": "a3of3P0HTZ1G"
   },
   "outputs": [],
   "source": [
    "# Check the lengths of training and test generators\n",
    "len(train_data), len(test_data)"
   ]
  },
  {
   "cell_type": "code",
   "execution_count": null,
   "metadata": {
    "id": "MxG_z8gMS_6F"
   },
   "outputs": [],
   "source": [
    "# fit the model\n",
    "history_4 = model_4.fit(train_data, epochs=5,steps_per_epoch=len(train_data),validation_data=test_data,validation_steps=len(test_data))"
   ]
  },
  {
   "cell_type": "code",
   "execution_count": null,
   "metadata": {
    "id": "GWatGHLPTKGY"
   },
   "outputs": [],
   "source": [
    "model_1.evaluate(test_data)"
   ]
  },
  {
   "cell_type": "code",
   "execution_count": null,
   "metadata": {
    "id": "ZfelN2rPT-XV"
   },
   "outputs": [],
   "source": [
    "model_1.summary()"
   ]
  },
  {
   "cell_type": "markdown",
   "metadata": {
    "id": "rLwDx8SbVMY0"
   },
   "source": [
    "## 5. evaluating our model\n",
    "\n",
    "It looks like our model is learning something, let's evaluate it."
   ]
  },
  {
   "cell_type": "code",
   "execution_count": null,
   "metadata": {
    "id": "d8uxl-qBV80Z"
   },
   "outputs": [],
   "source": [
    "import pandas as pd\n",
    "\n",
    "pd.DataFrame(history_4.history).plot(figsize=(10,7))"
   ]
  },
  {
   "cell_type": "code",
   "execution_count": null,
   "metadata": {
    "id": "4FlMsVOaWCGH"
   },
   "outputs": [],
   "source": [
    "# Plot the validation and training curves seperately\n",
    "\n",
    "def plot_loss_curve(history):\n",
    "  \"\"\"\n",
    "  Returns separate loss curves for training and validation loss curves\n",
    "  \"\"\"\n",
    "  loss = history.history[\"loss\"]\n",
    "  val_loss = history.history[\"val_loss\"]\n",
    "\n",
    "  accuracy = history.history[\"accuracy\"]\n",
    "  val_accuracy = history.history[\"val_accuracy\"]\n",
    "  epochs = range(len(history.history[\"loss\"]))\n",
    "\n",
    "  # Plot loss\n",
    "  plt.plot(epochs,loss,label=\"Training_loss\")\n",
    "  plt.plot(epochs,val_loss,label=\"val_loss\")\n",
    "  plt.title(\"loss\")\n",
    "  plt.xlabel(\"epochs\")\n",
    "  plt.legend()\n",
    "\n",
    "  # Plot accuracy\n",
    "  plt.figure()\n",
    "  plt.plot(epochs,accuracy,label=\"training_accuracy\")\n",
    "  plt.plot(epochs,val_accuracy,label=\"val_accuracy\")\n",
    "  plt.title(\"accuracy\")\n",
    "  plt.xlabel(\"epochs\")\n",
    "  plt.legend()"
   ]
  },
  {
   "cell_type": "code",
   "execution_count": null,
   "metadata": {
    "id": "vv74x6B_Zivx"
   },
   "outputs": [],
   "source": [
    "plot_loss_curve(history_4)"
   ]
  },
  {
   "cell_type": "markdown",
   "metadata": {
    "id": "CtqFRaNJaUzo"
   },
   "source": [
    "**Note:** When a model's **Validation loss starts to increase**, it's likely that the model is **Overfitting** the training dataset.  This means it's learning the patterns in the training dataset *too well* and thus the model's ability to generalize to unseen data will be diminished"
   ]
  },
  {
   "cell_type": "markdown",
   "metadata": {
    "id": "6esfJY475avC"
   },
   "source": [
    "## 6. Adjust the model parameters\n",
    "\n",
    "Fitting a machine learning model comes in 3 steps:\n",
    "0. Create a baseline\n",
    "1. Beat the baseline by overfitting a larger model\n",
    "2. Reduce overfitting\n",
    "\n",
    "Ways to induce overfitting:\n",
    "\n",
    "* Increase the number of conv layers\n",
    "* Increase the number of conv filters\n",
    "* Add another dense layer to the output of our flattened layer\n",
    "\n",
    "Reduce overfitting:\n",
    "\n",
    "* Add data augmentation\n",
    "* Add regularization layers(such as MaxPool2D)\n",
    "* Add more data...\n",
    "\n",
    "> **Note:** Reducing overfitting is also known as **Regularization**."
   ]
  },
  {
   "cell_type": "code",
   "execution_count": null,
   "metadata": {
    "id": "dpKhfJMb5mYK"
   },
   "outputs": [],
   "source": [
    "# Create the model(this is going to be our new baseline)\n",
    "model_5 = Sequential([\n",
    "    Conv2D(10, 3, activation=\"relu\", input_shape=(224,224,3)),\n",
    "    MaxPool2D(pool_size=2),\n",
    "    Conv2D(10,3,activation=\"relu\"),\n",
    "    MaxPool2D(10,2),\n",
    "    Conv2D(10,3,activation=\"relu\"),\n",
    "    MaxPool2D(),\n",
    "    Flatten(),\n",
    "    Dense(1,activation=\"sigmoid\")\n",
    "])"
   ]
  },
  {
   "cell_type": "markdown",
   "metadata": {
    "id": "9uFBHMMD6qnR"
   },
   "source": []
  },
  {
   "cell_type": "code",
   "execution_count": null,
   "metadata": {
    "id": "cUwh3vXi6fnO"
   },
   "outputs": [],
   "source": [
    "# compile the model\n",
    "model_5.compile(loss=\"binary_crossentropy\",optimizer=Adam(),metrics=[\"accuracy\"])"
   ]
  },
  {
   "cell_type": "code",
   "execution_count": null,
   "metadata": {
    "id": "4K3NrDlW7SZs"
   },
   "outputs": [],
   "source": [
    "history_5 = model_5.fit(train_data,epochs=5,steps_per_epoch=len(train_data),validation_data=test_data,validation_steps=len(valid_data))"
   ]
  },
  {
   "cell_type": "code",
   "execution_count": null,
   "metadata": {
    "id": "dC9I2MLd8GGG"
   },
   "outputs": [],
   "source": [
    "# Get a summary of our model with max polling\n",
    "model_5.summary()"
   ]
  },
  {
   "cell_type": "code",
   "execution_count": null,
   "metadata": {
    "id": "zQjUuzHB8VEK"
   },
   "outputs": [],
   "source": [
    "model_4.summary()"
   ]
  },
  {
   "cell_type": "code",
   "execution_count": null,
   "metadata": {
    "id": "oZWU_WQb86Qr"
   },
   "outputs": [],
   "source": [
    "# Plot loss curves\n",
    "plot_loss_curve(history_5)"
   ]
  },
  {
   "cell_type": "markdown",
   "metadata": {
    "id": "HXo-doHK-nyr"
   },
   "source": [
    "### Opening our bag of tricks and finding data augmentation"
   ]
  },
  {
   "cell_type": "code",
   "execution_count": null,
   "metadata": {
    "id": "SV_vzGhG9Bay"
   },
   "outputs": [],
   "source": [
    "# Create ImageDataGenerator training instance with data augmentation\n",
    "train_datagen_augmented = ImageDataGenerator(rescale=1/255.,\n",
    "                                             rotation_range=0.02,\n",
    "                                             shear_range=0.2,\n",
    "                                             zoom_range=0.2,\n",
    "                                             width_shift_range=0.2,\n",
    "                                             height_shift_range=0.3,\n",
    "                                             horizontal_flip=True)\n",
    "\n",
    "# Create ImageDataGenerator without data augmentation\n",
    "train_datagen=ImageDataGenerator(rescale=1/255.)\n",
    "\n",
    "# Create ImageDataGenerator without data augmentation for the test dataset\n",
    "test_datagen=ImageDataGenerator(rescale=1/255.)"
   ]
  },
  {
   "cell_type": "markdown",
   "metadata": {
    "id": "qkjZE4j3_bAI"
   },
   "source": [
    "Data Augmentation modifies the image slightly to allow for more diversity in the dataset which artificially inflates it.  This allows the model to better generalise to new data."
   ]
  },
  {
   "cell_type": "code",
   "execution_count": null,
   "metadata": {
    "id": "e4RAv6Z7_DP5"
   },
   "outputs": [],
   "source": [
    "# import data and augment it from training directory\n",
    "print(\"Augmented training data\")\n",
    "\n",
    "IMG_SIZE = (224,224)\n",
    "\n",
    "train_data_augmented = train_datagen_augmented.flow_from_directory(train_dir,\n",
    "                                            target_size=IMG_SIZE,\n",
    "                                            batch_size=32,\n",
    "                                            class_mode=\"binary\",\n",
    "                                            shuffle=False)\n",
    "# create non-augmented train data batches\n",
    "train_data = train_datagen.flow_from_directory(train_dir,\n",
    "                                               target_size=IMG_SIZE,\n",
    "                                               batch_size=32,\n",
    "                                               class_mode=\"binary\",\n",
    "                                               shuffle=False)\n",
    "\n",
    "# Create non-augmented test data batches\n",
    "print(\"Non-augmented test data: \")\n",
    "test_data = test_datagen.flow_from_directory(test_dir,\n",
    "                                             target_size=IMG_SIZE,\n",
    "                                             batch_size=32,\n",
    "                                             class_mode=\"binary\")"
   ]
  },
  {
   "cell_type": "markdown",
   "metadata": {
    "id": "KDHRW7jPdZoT"
   },
   "source": [
    "**Note:** Data augmentation is usually only performed on the training data.  Using `ImageDataGenerator` built-in data augmentation parameters our images are left as they are in the directories but are modified as they're loaded into the model.\n",
    "\n",
    "Finally... let's visualize some augmented data"
   ]
  },
  {
   "cell_type": "code",
   "execution_count": null,
   "metadata": {
    "id": "RBDUewVbduYF"
   },
   "outputs": [],
   "source": [
    "# Get sample of augmented data batches\n",
    "images, labels = train_data.next()\n",
    "augmented_images, augmented_labels = train_data_augmented.next()"
   ]
  },
  {
   "cell_type": "code",
   "execution_count": null,
   "metadata": {
    "id": "itrfUa10eHbc"
   },
   "outputs": [],
   "source": [
    "random_number = random.randint(1,32)\n",
    "print(f\"showing image number: {random_number}\")\n",
    "plt.imshow(images[random_number])\n",
    "plt.title(f\"Original image\")\n",
    "plt.axis(False)\n",
    "plt.figure()\n",
    "plt.imshow(augmented_images[random_number])\n",
    "plt.title(f\"Augmented image\")\n",
    "plt.axis(False)"
   ]
  },
  {
   "cell_type": "markdown",
   "metadata": {
    "id": "PYAyeBwLkLx-"
   },
   "source": [
    "Now let's try on our augmented set"
   ]
  },
  {
   "cell_type": "code",
   "execution_count": null,
   "metadata": {
    "id": "xX7tybeEeWUp"
   },
   "outputs": [],
   "source": [
    "# Create the model(this is going to be our new baseline)\n",
    "model_6 = Sequential([\n",
    "    Conv2D(10, 3, activation=\"relu\", input_shape=(224,224,3)),\n",
    "    MaxPool2D(pool_size=2),\n",
    "    Conv2D(10,3,activation=\"relu\"),\n",
    "    MaxPool2D(10,2),\n",
    "    Conv2D(10,3,activation=\"relu\"),\n",
    "    MaxPool2D(),\n",
    "    Flatten(),\n",
    "    Dense(1,activation=\"sigmoid\")\n",
    "])\n",
    "\n",
    "# compile the model\n",
    "model_6.compile(loss=\"binary_crossentropy\",optimizer=Adam(),metrics=[\"accuracy\"])\n",
    "\n",
    "history_6 = model_6.fit(train_data_augmented,\n",
    "                        epochs=5,\n",
    "                        steps_per_epoch=len(train_data_augmented),\n",
    "                        validation_data=test_data,\n",
    "                        validation_steps=len(valid_data))"
   ]
  },
  {
   "cell_type": "code",
   "execution_count": null,
   "metadata": {
    "id": "v3nj_Yhslgq3"
   },
   "outputs": [],
   "source": [
    "# Check models training curves\n",
    "plot_loss_curve(history_6)"
   ]
  },
  {
   "cell_type": "markdown",
   "metadata": {
    "id": "oeap4hpQmHzD"
   },
   "source": [
    "Let's shuffle our augmented training data and train another model (the same as before) on it and see what happens."
   ]
  },
  {
   "cell_type": "code",
   "execution_count": null,
   "metadata": {
    "id": "weDaK8xSnD6f"
   },
   "outputs": [],
   "source": [
    "train_datagen_augmented_shuffled = train_datagen_augmented.flow_from_directory(train_dir,\n",
    "                                                                               target_size=(224,224),\n",
    "                                                                               class_mode=\"binary\",\n",
    "                                                                               batch_size=32,\n",
    "                                                                               shuffle=True)\n"
   ]
  },
  {
   "cell_type": "code",
   "execution_count": null,
   "metadata": {
    "id": "iuRI6aVsnbcO"
   },
   "outputs": [],
   "source": [
    "# Create the model (same as model 5 and model 6)\n",
    "# Create the model(this is going to be our new baseline)\n",
    "model_7 = Sequential([\n",
    "    Conv2D(10, 3, activation=\"relu\", input_shape=(224,224,3)),\n",
    "    MaxPool2D(pool_size=2),\n",
    "    Conv2D(10,3,activation=\"relu\"),\n",
    "    MaxPool2D(10,2),\n",
    "    Conv2D(10,3,activation=\"relu\"),\n",
    "    MaxPool2D(),\n",
    "    Flatten(),\n",
    "    Dense(1,activation=\"sigmoid\")\n",
    "])\n",
    "\n",
    "# compile the model\n",
    "model_7.compile(loss=\"binary_crossentropy\",optimizer=Adam(),metrics=[\"accuracy\"])\n",
    "\n",
    "history_7 = model_7.fit(train_datagen_augmented_shuffled,\n",
    "                        epochs=5,\n",
    "                        steps_per_epoch=len(train_data_augmented),\n",
    "                        validation_data=test_data,\n",
    "                        validation_steps=len(valid_data))"
   ]
  },
  {
   "cell_type": "code",
   "execution_count": null,
   "metadata": {
    "id": "LzmfURoDnmhW"
   },
   "outputs": [],
   "source": [
    "plot_loss_curve(history_7)"
   ]
  },
  {
   "cell_type": "markdown",
   "metadata": {
    "id": "GTGXTWpJpbfO"
   },
   "source": [
    "When shuffling training data the model gets exposed to random images from both classes while training, this is important as it allows the model to learn from both classess simultaneously."
   ]
  },
  {
   "cell_type": "markdown",
   "metadata": {
    "id": "OpIuEMJ2pzoa"
   },
   "source": [
    "## 7. Repeat until satisfied\n",
    "\n",
    "Since we've already beaten our baseline, there are a few things we could try to continue to improve our model:\n",
    "\n",
    "* Increase the number of model layers(e.g. add more `Conv2D` layer)\n",
    "* Increase the number of filters in each convolutional layer\n",
    "* Train for longer\n",
    "* Find ideal learning rate(possibly using callbacks)\n",
    "* Get more data(Allows model to better generalise)\n",
    "* Use **Transfer Learning** to leverage what another model has learned and use it for our own use case\n",
    "\n",
    "> Practice: **Recreate model on CNN website** same as `model_1` and see how it performs on augmented training data"
   ]
  },
  {
   "cell_type": "code",
   "execution_count": null,
   "metadata": {
    "id": "CMBcOgisp2NR"
   },
   "outputs": [],
   "source": [
    "model_1_recreated = Sequential([\n",
    "    tf.keras.layers.Conv2D(filters=10,kernel_size=3,activation=\"relu\",input_shape=(224,224,3)),\n",
    "    tf.keras.layers.Conv2D(10,3,activation=\"relu\"),\n",
    "    tf.keras.layers.MaxPool2D(pool_size=2,padding=\"valid\"),\n",
    "    tf.keras.layers.Conv2D(10,3,activation=\"relu\"),\n",
    "    tf.keras.layers.Conv2D(10,3,activation=\"relu\"),\n",
    "    tf.keras.layers.MaxPool2D(pool_size=2,padding=\"valid\"),\n",
    "    tf.keras.layers.Flatten(),\n",
    "    tf.keras.layers.Dense(1,activation=\"sigmoid\")\n",
    "])\n",
    "model_1_recreated.compile(loss=\"binary_crossentropy\",\n",
    "                          optimizer=Adam(),\n",
    "                          metrics=[\"accuracy\"])"
   ]
  },
  {
   "cell_type": "code",
   "execution_count": null,
   "metadata": {
    "id": "MpGau8nyrhNZ"
   },
   "outputs": [],
   "source": [
    "history_model_1_recreated = model_1_recreated.fit(train_datagen_augmented_shuffled,\n",
    "                        epochs=5,\n",
    "                        steps_per_epoch=len(train_data_augmented),\n",
    "                        validation_data=test_data,\n",
    "                        validation_steps=len(valid_data))"
   ]
  },
  {
   "cell_type": "code",
   "execution_count": null,
   "metadata": {
    "id": "vscDjAXFsVmv"
   },
   "outputs": [],
   "source": [
    "plot_loss_curve(history_model_1_recreated)"
   ]
  },
  {
   "cell_type": "markdown",
   "metadata": {
    "id": "tdp774RGtPx0"
   },
   "source": [
    "Making a prediction with our trained model\n",
    "What good is a trained model if you can't make predictions with it?\n",
    "\n",
    "To really test it out, we'll upload a couple of our own images and see how the model goes.\n",
    "\n",
    "First, let's remind ourselves of the classnames and view the image we're going to test on.\n",
    "\n"
   ]
  },
  {
   "cell_type": "code",
   "execution_count": null,
   "metadata": {
    "id": "PRmdnT7Xhu-A"
   },
   "outputs": [],
   "source": [
    "# Classes we're working with\n",
    "print(class_names)\n"
   ]
  },
  {
   "cell_type": "code",
   "execution_count": null,
   "metadata": {
    "id": "Yv_AGuhZhu7Z"
   },
   "outputs": [],
   "source": [
    "# View our example image\n",
    "!wget https://raw.githubusercontent.com/mrdbourke/tensorflow-deep-learning/main/images/03-steak.jpeg\n",
    "steak = mpimg.imread(\"03-steak.jpeg\")\n",
    "plt.imshow(steak)\n",
    "plt.axis(False);"
   ]
  },
  {
   "cell_type": "code",
   "execution_count": null,
   "metadata": {
    "id": "xoypyH1-huR7"
   },
   "outputs": [],
   "source": [
    "steak.shape\n"
   ]
  },
  {
   "cell_type": "markdown",
   "metadata": {
    "id": "pjAgPFKThz9f"
   },
   "source": [
    "Since our model takes in images of shapes (224, 224, 3), we've got to reshape our custom image to use it with our model.\n",
    "\n",
    "To do so, we can import and decode our image using tf.io.read_file (for readining files) and tf.image (for resizing our image and turning it into a tensor).\n",
    "\n",
    "🔑 Note: For your model to make predictions on unseen data, for example, your own custom images, the custom image has to be in the same shape as your model has been trained on. In more general terms, to make predictions on custom data it has to be in the same form that your model has been trained on.\n",
    "\n"
   ]
  },
  {
   "cell_type": "code",
   "execution_count": null,
   "metadata": {
    "id": "oSPW1AZoh2GF"
   },
   "outputs": [],
   "source": [
    "# Create a function to import an image and resize it to be able to be used with our model\n",
    "def load_and_prep_image(filename, img_shape=224):\n",
    "  \"\"\"\n",
    "  Reads an image from filename, turns it into a tensor\n",
    "  and reshapes it to (img_shape, img_shape, colour_channel).\n",
    "  \"\"\"\n",
    "  # Read in target file (an image)\n",
    "  img = tf.io.read_file(filename)\n",
    "\n",
    "  # Decode the read file into a tensor & ensure 3 colour channels\n",
    "  # (our model is trained on images with 3 colour channels and sometimes images have 4 colour channels)\n",
    "  img = tf.image.decode_image(img, channels=3)\n",
    "\n",
    "  # Resize the image (to the same size our model was trained on)\n",
    "  img = tf.image.resize(img, size = [img_shape, img_shape])\n",
    "\n",
    "  # Rescale the image (get all values between 0 and 1)\n",
    "  img = img/255.\n",
    "  return img"
   ]
  },
  {
   "cell_type": "code",
   "execution_count": null,
   "metadata": {
    "id": "NMZlljtOh3fY"
   },
   "outputs": [],
   "source": [
    "# Load in and preprocess our custom image\n",
    "steak = load_and_prep_image(\"03-steak.jpeg\")\n",
    "steak"
   ]
  },
  {
   "cell_type": "code",
   "execution_count": null,
   "metadata": {
    "id": "KKLDR5Kth7Mh"
   },
   "outputs": [],
   "source": [
    "#model_1_recreated.predict(steak)"
   ]
  },
  {
   "cell_type": "markdown",
   "metadata": {
    "id": "sN3tXvI1h_f9"
   },
   "source": [
    "There's one more problem...\n",
    "\n",
    "Although our image is in the same shape as the images our model has been trained on, we're still missing a dimension.\n",
    "\n",
    "Remember how our model was trained in batches?\n",
    "\n",
    "Well, the batch size becomes the first dimension.\n",
    "\n",
    "So in reality, our model was trained on data in the shape of (batch_size, 224, 224, 3).\n",
    "\n",
    "We can fix this by adding an extra to our custom image tensor using tf.expand_dims.\n",
    "\n"
   ]
  },
  {
   "cell_type": "code",
   "execution_count": null,
   "metadata": {
    "id": "vEHHgnP5h88M"
   },
   "outputs": [],
   "source": [
    "# Add an extra axis\n",
    "print(f\"Shape before new dimension: {steak.shape}\")\n",
    "steak = tf.expand_dims(steak, axis=0) # add an extra dimension at axis 0\n",
    "#steak = steak[tf.newaxis, ...] # alternative to the above, '...' is short for 'every other dimension'\n",
    "print(f\"Shape after new dimension: {steak.shape}\")\n",
    "steak\n"
   ]
  },
  {
   "cell_type": "code",
   "execution_count": null,
   "metadata": {
    "id": "r_2q_S6GiGD-"
   },
   "outputs": [],
   "source": [
    "# Make a prediction on custom image tensor\n",
    "pred = model_1_recreated.predict(steak)\n",
    "pred"
   ]
  },
  {
   "cell_type": "markdown",
   "metadata": {
    "id": "aLpUD68viP50"
   },
   "source": [
    "Ahh, the predictions come out in prediction probability form. In other words, this means how likely the image is to be one class or another.\n",
    "\n",
    "Since we're working with a binary classification problem, if the prediction probability is over 0.5, according to the model, the prediction is most likely to be the postive class (class 1).\n",
    "\n",
    "And if the prediction probability is under 0.5, according to the model, the predicted class is most likely to be the negative class (class 0).\n",
    "\n",
    "🔑 Note: The 0.5 cutoff can be adjusted to your liking. For example, you could set the limit to be 0.8 and over for the positive class and 0.2 for the negative class. However, doing this will almost always change your model's performance metrics so be sure to make sure they change in the right direction.\n",
    "\n",
    "But saying positive and negative class doesn't make much sense when we're working with pizza 🍕 and steak 🥩...\n",
    "\n",
    "So let's write a little function to convert predictions into their class names and then plot the target image.\n",
    "\n"
   ]
  },
  {
   "cell_type": "code",
   "execution_count": null,
   "metadata": {
    "id": "FiLBNeEUiL4j"
   },
   "outputs": [],
   "source": [
    "# Remind ourselves of our class names\n",
    "class_names\n"
   ]
  },
  {
   "cell_type": "code",
   "execution_count": null,
   "metadata": {
    "id": "O-TkKt5giTru"
   },
   "outputs": [],
   "source": [
    "# We can index the predicted class by rounding the prediction probability\n",
    "pred_class = class_names[int(tf.round(pred)[0][0])]\n",
    "pred_class\n"
   ]
  },
  {
   "cell_type": "code",
   "execution_count": null,
   "metadata": {
    "id": "4H6OeFL7iSBi"
   },
   "outputs": [],
   "source": [
    "def pred_and_plot(model, filename, class_names):\n",
    "  \"\"\"\n",
    "  Imports an image located at filename, makes a prediction on it with\n",
    "  a trained model and plots the image with the predicted class as the title.\n",
    "  \"\"\"\n",
    "  # Import the target image and preprocess it\n",
    "  img = load_and_prep_image(filename)\n",
    "\n",
    "  # Make a prediction\n",
    "  pred = model.predict(tf.expand_dims(img, axis=0))\n",
    "\n",
    "  # Get the predicted class\n",
    "  pred_class = class_names[int(tf.round(pred)[0][0])]\n",
    "\n",
    "  # Plot the image and predicted class\n",
    "  plt.imshow(img)\n",
    "  plt.title(f\"Prediction: {pred_class}\")\n",
    "  plt.axis(False);"
   ]
  },
  {
   "cell_type": "code",
   "execution_count": null,
   "metadata": {
    "id": "uebxfdE-iW9o"
   },
   "outputs": [],
   "source": [
    "# Test our model on a custom image\n",
    "pred_and_plot(model_1_recreated, \"03-steak.jpeg\", class_names)"
   ]
  },
  {
   "cell_type": "markdown",
   "metadata": {
    "id": "Mqg64hERiaji"
   },
   "source": [
    "Nice! Our model got the prediction right.\n",
    "\n",
    "The only downside of working with food is this is making me hungry.\n",
    "\n",
    "Let's try one more image.\n",
    "\n"
   ]
  },
  {
   "cell_type": "code",
   "execution_count": null,
   "metadata": {
    "id": "YD9cKRCviYfT"
   },
   "outputs": [],
   "source": [
    "# Download another test image and make a prediction on it\n",
    "!wget https://raw.githubusercontent.com/mrdbourke/tensorflow-deep-learning/main/images/03-pizza-dad.jpeg\n",
    "pred_and_plot(model_1_recreated, \"03-pizza-dad.jpeg\", class_names)\n"
   ]
  },
  {
   "cell_type": "markdown",
   "metadata": {
    "id": "HTRQStnC4C9Z"
   },
   "source": [
    "# Multi-class Image Classification\n",
    "We've just been through a bunch of the following steps with a binary classification problem.  Now we're going to step things up a notch using 10 classes instead of 2.\n",
    "1. Become one with the data\n",
    "2. Preprocess the data\n",
    "3. Create a model\n",
    "4. Fit the model\n",
    "5. Evaluate the model\n",
    "6. Adjust differing hyper params and improve model(to beat our baseline and to reduce overfitting)\n",
    "7. Repeat until satisfied"
   ]
  },
  {
   "cell_type": "markdown",
   "metadata": {
    "id": "1IZl7nMz8kCp"
   },
   "source": [
    "## 1. Import and become one with the data"
   ]
  },
  {
   "cell_type": "code",
   "execution_count": null,
   "metadata": {
    "id": "0SjXL07o7lq2"
   },
   "outputs": [],
   "source": [
    "import zipfile\n",
    "if(not \"10_food_classes_all_data.zip\" in os.listdir()):\n",
    "    !wget https://storage.googleapis.com/ztm_tf_course/food_vision/10_food_classes_all_data.zip\n",
    "    \n",
    "    # Unzip  our data\n",
    "    zip_ref = zipfile.ZipFile(\"10_food_classes_all_data.zip\",\"r\")\n",
    "    zip_ref.extractall()\n",
    "    zip_ref.close()"
   ]
  },
  {
   "cell_type": "code",
   "execution_count": null,
   "metadata": {
    "id": "gWi8dHFS80jn"
   },
   "outputs": [],
   "source": [
    "import os\n",
    "# walk through 10 classes of food image data\n",
    "for dirpath, dirnames, filenames in os.walk(\"10_food_classes_all_data\"):\n",
    "  print(f\"There are {len(dirnames)} directories and {len(filenames)} images in `{dirpath}`\")"
   ]
  },
  {
   "cell_type": "code",
   "execution_count": null,
   "metadata": {
    "id": "gyI5ipjg99dG"
   },
   "outputs": [],
   "source": [
    "train_dir = \"10_food_classes_all_data/train\"\n",
    "test_dir = \"10_food_classes_all_data/test\""
   ]
  },
  {
   "cell_type": "code",
   "execution_count": null,
   "metadata": {
    "id": "KIiVsLFu-6Nk"
   },
   "outputs": [],
   "source": [
    "import pathlib\n",
    "import numpy as np\n",
    "data_dir = pathlib.Path(train_dir)\n",
    "class_names = np.array(sorted([item.name for item in data_dir.glob(\"*\")]))\n",
    "print(class_names)"
   ]
  },
  {
   "cell_type": "code",
   "execution_count": null,
   "metadata": {
    "id": "h73WG18K-RDY"
   },
   "outputs": [],
   "source": [
    "# Visualise, visualise, visualise\n",
    "import random\n",
    "img = view_random_image(target_dir=train_dir,target_class=random.choice(class_names))"
   ]
  },
  {
   "cell_type": "markdown",
   "metadata": {
    "id": "mhY3kVyYH-AD"
   },
   "source": [
    "2. Preprocess the data (prepare it for a model)\n",
    "After going through a handful of images (it's good to visualize at least 10-100 different examples), it looks like our data directories are setup correctly.\n",
    "\n",
    "Time to preprocess the data.\n",
    "\n"
   ]
  },
  {
   "cell_type": "code",
   "execution_count": null,
   "metadata": {
    "id": "OzGAs4zX-Vin"
   },
   "outputs": [],
   "source": [
    "from tensorflow.keras.preprocessing.image import ImageDataGenerator\n",
    "\n",
    "# Rescale the data and create data generator instances\n",
    "train_datagen = ImageDataGenerator(rescale=1/255.)\n",
    "test_datagen = ImageDataGenerator(rescale=1/255.)\n",
    "\n",
    "# Load data in from directories and turn it into batches\n",
    "train_data = train_datagen.flow_from_directory(train_dir,\n",
    "                                               target_size=(224, 224),\n",
    "                                               batch_size=32,\n",
    "                                               class_mode='categorical') # changed to categorical\n",
    "\n",
    "test_data = train_datagen.flow_from_directory(test_dir,\n",
    "                                              target_size=(224, 224),\n",
    "                                              batch_size=32,\n",
    "                                              class_mode='categorical')\n"
   ]
  },
  {
   "cell_type": "markdown",
   "metadata": {
    "id": "VXZMiD-4IGaI"
   },
   "source": [
    "As with binary classifcation, we've creator image generators. The main change this time is that we've changed the class_mode parameter to 'categorical' because we're dealing with 10 classes of food images.\n",
    "\n",
    "Everything else like rescaling the images, creating the batch size and target image size stay the same.\n",
    "\n",
    "🤔 Question: Why is the image size 224x224? This could actually be any size we wanted, however, 224x224 is a very common size for preprocessing images to. Depending on your problem you might want to use larger or smaller images.\n",
    "\n"
   ]
  },
  {
   "cell_type": "markdown",
   "metadata": {
    "id": "qlpfAQiRIJou"
   },
   "source": [
    "## 3. Create a model (start with a baseline)\n",
    "We can use the same model (TinyVGG) we used for the binary classification problem for our multi-class classification problem with a couple of small tweaks.\n",
    "\n",
    "Namely:\n",
    "\n",
    "Changing the output layer to use have 10 ouput neurons (the same number as the number of classes we have).\n",
    "Changing the output layer to use 'softmax' activation instead of 'sigmoid' activation.\n",
    "Changing the loss function to be 'categorical_crossentropy' instead of 'binary_crossentropy'.\n"
   ]
  },
  {
   "cell_type": "code",
   "execution_count": null,
   "metadata": {
    "id": "JL5OUJENIDti"
   },
   "outputs": [],
   "source": [
    "import tensorflow as tf\n",
    "from tensorflow.keras.models import Sequential\n",
    "from tensorflow.keras.layers import Conv2D, MaxPool2D, Flatten, Dense\n",
    "\n",
    "# Create our model (a clone of model_8, except to be multi-class)\n",
    "model_9 = Sequential([\n",
    "  Conv2D(10, 3, activation='relu', input_shape=(224, 224, 3)),\n",
    "  Conv2D(10, 3, activation='relu'),\n",
    "  MaxPool2D(),\n",
    "  Conv2D(10, 3, activation='relu'),\n",
    "  Conv2D(10, 3, activation='relu'),\n",
    "  MaxPool2D(),\n",
    "  Flatten(),\n",
    "  Dense(10, activation='softmax') # changed to have 10 neurons (same as number of classes) and 'softmax' activation\n",
    "])\n",
    "\n",
    "# Compile the model\n",
    "model_9.compile(loss=\"categorical_crossentropy\", # changed to categorical_crossentropy\n",
    "                optimizer=tf.keras.optimizers.Adam(),\n",
    "                metrics=[\"accuracy\"])\n"
   ]
  },
  {
   "cell_type": "markdown",
   "metadata": {
    "id": "JHhjBdHaIQIK"
   },
   "source": [
    "## 4. Fit a model\n",
    "Now we've got a model suited for working with multiple classes, let's fit it to our data.\n",
    "\n"
   ]
  },
  {
   "cell_type": "code",
   "execution_count": null,
   "metadata": {
    "id": "YmcnkIleIM5-"
   },
   "outputs": [],
   "source": [
    "# Fit the model\n",
    "history_9 = model_9.fit(train_data, # now 10 different classes\n",
    "                        epochs=5,\n",
    "                        steps_per_epoch=len(train_data),\n",
    "                        validation_data=test_data,\n",
    "                        validation_steps=len(test_data))\n"
   ]
  },
  {
   "cell_type": "markdown",
   "metadata": {
    "id": "B5tcYF8tIS-d"
   },
   "source": [
    "Why do you think each epoch takes longer than when working with only two classes of images?\n",
    "\n",
    "It's because we're now dealing with more images than we were before. We've got 10 classes with 750 training images and 250 validation images each totalling 10,000 images. Where as when we had two classes, we had 1500 training images and 500 validation images, totalling 2000.\n",
    "\n",
    "The intuitive reasoning here is the more data you have, the longer a model will take to find patterns.\n",
    "\n"
   ]
  },
  {
   "cell_type": "markdown",
   "metadata": {
    "id": "TBphRNLKIVr_"
   },
   "source": [
    "## 5. Evaluate the model\n",
    "Woohoo! We've just trained a model on 10 different classes of food images, let's see how it went.\n",
    "\n"
   ]
  },
  {
   "cell_type": "code",
   "execution_count": null,
   "metadata": {
    "id": "1u6Tz1BVIXhN"
   },
   "outputs": [],
   "source": [
    "# Evaluate on the test data\n",
    "model_9.evaluate(test_data)\n"
   ]
  },
  {
   "cell_type": "code",
   "execution_count": null,
   "metadata": {
    "id": "8SGmsDisIibR"
   },
   "outputs": [],
   "source": [
    "# Check out the model's loss curves on the 10 classes of data (note: this function comes from above in the notebook)\n",
    "plot_loss_curve(history_9)\n"
   ]
  },
  {
   "cell_type": "markdown",
   "metadata": {},
   "source": [
    "What do these loss curves tell us?\n",
    "\n",
    "Well... it seems our model is **overfitting** the training dataset quite badly... in other words, it's getting great results on the training data but fails to generalize well to unseen data and performs poorly on the dataset"
   ]
  },
  {
   "cell_type": "markdown",
   "metadata": {
    "id": "6JKHYcZXIeqI"
   },
   "source": [
    "Woah, that's quite the gap between the training and validation loss curves.\n",
    "\n",
    "What does this tell us?\n",
    "\n",
    "It seems our model is overfitting the training set quite badly. In other words, it's getting great results on the training data but fails to generalize well to unseen data and performs poorly on the test data.\n",
    "\n"
   ]
  },
  {
   "cell_type": "markdown",
   "metadata": {
    "id": "weN9jUKTIllh"
   },
   "source": [
    "## 6. Adjust the model parameters(to beat baseline & reduce overfitting)\n",
    "Due to its performance on the training data, it's clear our model is learning something. However, performing well on the training data is like going well in the classroom but failing to use your skills in real life.\n",
    "\n",
    "Ideally, we'd like our model to perform as well on the test data as it does on the training data.\n",
    "\n",
    "So our next steps will be to try and prevent our model overfitting. A couple of ways to prevent overfitting include:\n",
    "\n",
    "- Get more data - Having more data gives the model more opportunities to learn patterns, patterns which may be more generalizable to new examples.\n",
    "\n",
    "- Simplify model - If the current model is already overfitting the training data, it may be too complicated of a model. This means it's learning the patterns of the data too well and isn't able to generalize well to unseen data. One way to simplify a model is to reduce the number of layers it uses or to reduce the number of hidden units in each layer.\n",
    "\n",
    "Use data augmentation: \n",
    "\n",
    "- Data augmentation manipulates the training data in a way so that's harder for the model to learn as it artificially adds more variety to the data. If a model is able to learn patterns in augmented data, the model may be able to generalize better to unseen data.\n",
    "Use transfer learning \n",
    "\n",
    "- Transfer learning involves leverages the patterns (also called pretrained weights) one model has learned to use as the foundation for your own task. In our case, we could use one computer vision model pretrained on a large variety of images and then tweak it slightly to be more specialized for food images.\n",
    "\n",
    "\n",
    "🔑 Note: Preventing overfitting is also referred to as regularization.\n",
    "\n",
    "If you've already got an existing dataset, you're probably most likely to try one or a combination of the last three above options first.\n",
    "\n",
    "Since collecting more data would involve us manually taking more images of food, let's try the ones we can do from right within the notebook.\n",
    "\n",
    "How about we simplify our model first?\n",
    "\n",
    "To do so, we'll remove two of the convolutional layers, taking the total number of convolutional layers from four to two.\n",
    "\n"
   ]
  },
  {
   "cell_type": "code",
   "execution_count": null,
   "metadata": {
    "id": "CpKK2sniIn9U"
   },
   "outputs": [],
   "source": [
    "# How about we try and simplify our model first\n",
    "# Let's try to remove two conv layers from our model....\n",
    "model_10 = Sequential([\n",
    "    Conv2D(10,3,activation=\"relu\",input_shape=(224,224,3)),\n",
    "    MaxPool2D(),\n",
    "    Conv2D(10,3,activation=\"relu\"),\n",
    "    MaxPool2D(),\n",
    "    Flatten(),\n",
    "    Dense(10,activation=\"softmax\")\n",
    "])\n",
    "model_10.compile(optimizer=Adam(),loss=\"categorical_crossentropy\",metrics=[\"accuracy\"])"
   ]
  },
  {
   "cell_type": "code",
   "execution_count": null,
   "metadata": {},
   "outputs": [],
   "source": [
    "model_10.summary()"
   ]
  },
  {
   "cell_type": "code",
   "execution_count": null,
   "metadata": {},
   "outputs": [],
   "source": [
    "history_10 = model_10.fit(train_data,\n",
    "                          epochs=5,\n",
    "                          validation_data = test_data)"
   ]
  },
  {
   "cell_type": "code",
   "execution_count": null,
   "metadata": {},
   "outputs": [],
   "source": [
    "# Check out models loss curves\n",
    "plot_loss_curve(history_10)"
   ]
  },
  {
   "cell_type": "code",
   "execution_count": null,
   "metadata": {},
   "outputs": [],
   "source": [
    "model_9.summary()\n",
    "\n",
    "model_10.summary()"
   ]
  },
  {
   "cell_type": "markdown",
   "metadata": {},
   "source": [
    "Looks like our \"simplifying the model\" experiment didn't work the accuracy went down and overfitting occurred \n",
    "\n",
    "maybe data augmentation?"
   ]
  },
  {
   "cell_type": "code",
   "execution_count": null,
   "metadata": {},
   "outputs": [],
   "source": [
    "# Create ImageDataGenerator training instance with data augmentation\n",
    "train_datagen_augmented = ImageDataGenerator(rescale=1/255.,\n",
    "                                             rotation_range=0.2,\n",
    "                                             zoom_range=0.2,\n",
    "                                             width_shift_range=0.2,\n",
    "                                             height_shift_range=0.2,\n",
    "                                             horizontal_flip=True)\n",
    "train_data_augmented = train_datagen.flow_from_directory(train_dir,\n",
    "                                            target_size=IMG_SIZE,\n",
    "                                            batch_size=32,\n",
    "                                            class_mode=\"categorical\",\n",
    "                                            shuffle=True)"
   ]
  },
  {
   "cell_type": "code",
   "execution_count": null,
   "metadata": {},
   "outputs": [],
   "source": [
    "# How about we try and simplify our model first\n",
    "# Let's try to remove two conv layers from our model....\n",
    "\n",
    "# Clones the model without any knowledge of the models weights\n",
    "model_11 = tf.keras.models.clone_model(model_9)\n",
    "model_11.compile(optimizer=Adam(),loss=\"categorical_crossentropy\",metrics=[\"accuracy\"])"
   ]
  },
  {
   "cell_type": "code",
   "execution_count": null,
   "metadata": {},
   "outputs": [],
   "source": [
    "history_11 = model_11.fit(train_data_augmented, epochs=5,\n",
    "                          steps_per_epoch=len(train_data_augmented),\n",
    "                          validation_data=test_data,\n",
    "                         validation_steps=(len(test_data)))"
   ]
  },
  {
   "cell_type": "code",
   "execution_count": null,
   "metadata": {},
   "outputs": [],
   "source": [
    "model_11.summary()"
   ]
  },
  {
   "cell_type": "code",
   "execution_count": null,
   "metadata": {},
   "outputs": [],
   "source": [
    "plot_loss_curve(history_11)"
   ]
  },
  {
   "cell_type": "markdown",
   "metadata": {},
   "source": [
    "Woah! that looks much better, the loss curves are much close to each other than the baseline model and they look like they're heading in the right direction.  So if we were to train for longer, we might see further improvments."
   ]
  },
  {
   "cell_type": "markdown",
   "metadata": {},
   "source": [
    "## 7. Repeat until satisfied\n",
    "\n",
    "We could keep going here, continually trying to bring our loss curves closer together and trying to improve the validation / test accuracy.\n",
    "\n",
    "How?\n",
    "\n",
    "By running lost of experiments, namely:\n",
    "\n",
    "- Restructuring our model's architecture (increasing layers / hidden units)\n",
    "- Try different methods of data augmentation(try out different parameters in data generators)\n",
    "- training for longer\n",
    "- try **transfer learning**"
   ]
  },
  {
   "cell_type": "markdown",
   "metadata": {},
   "source": [
    "## Making a prediction with our trained model\n",
    "\n",
    "Let's use our trained model to make some predictions on our own custom images"
   ]
  },
  {
   "cell_type": "code",
   "execution_count": null,
   "metadata": {},
   "outputs": [],
   "source": [
    "# Remind ourselves of the classes our model is trained on\n",
    "class_names"
   ]
  },
  {
   "cell_type": "code",
   "execution_count": null,
   "metadata": {},
   "outputs": [],
   "source": [
    "# Download some custom images\n",
    "!wget https://github.com/mrdbourke/tensorflow-deep-learning/blob/main/images/03-pizza-dad.jpeg\n",
    "!wget https://github.com/mrdbourke/tensorflow-deep-learning/blob/main/images/03-steak.jpeg\n",
    "!wget https://github.com/mrdbourke/tensorflow-deep-learning/blob/main/images/03-sushi.jpeg\n",
    "!wget https://github.com/mrdbourke/tensorflow-deep-learning/blob/main/images/03-hamburger.jpeg"
   ]
  },
  {
   "cell_type": "code",
   "execution_count": null,
   "metadata": {},
   "outputs": [],
   "source": [
    "## Reconfig pred_and_plot to work with multi_class images\n",
    "def pred_and_plot(model, filename, class_names):\n",
    "  \"\"\"\n",
    "  Imports an image located at filename, makes a prediction on it with\n",
    "  a trained model and plots the image with the predicted class as the title.\n",
    "  \"\"\"\n",
    "  # Import the target image and preprocess it\n",
    "  img = load_and_prep_image(filename)\n",
    "\n",
    "  # Make a prediction\n",
    "  pred = model.predict(tf.expand_dims(img, axis=0))\n",
    "  print(len(pred[0]))\n",
    "  print(tf.argmax(pred))\n",
    "  # Add in logic for multi-class\n",
    "  if len(pred[0]) > 1:\n",
    "        pred_class = class_names[tf.argmax(pred[0])]\n",
    "  else:\n",
    "      # Get the predicted class\n",
    "      pred_class = class_names[int(tf.round(pred)[0])]\n",
    "    \n",
    "# Plot the image and predicted class\n",
    "  plt.imshow(img)\n",
    "  plt.title(f\"Prediction: {pred_class}\")\n",
    "  plt.axis(False);\n"
   ]
  },
  {
   "cell_type": "code",
   "execution_count": null,
   "metadata": {},
   "outputs": [],
   "source": [
    "class_names"
   ]
  },
  {
   "cell_type": "code",
   "execution_count": null,
   "metadata": {},
   "outputs": [],
   "source": [
    "# Make a prediction using model_11\n",
    "pred_and_plot(model=model_11,filename='03-pizza-dad.jpeg',class_names=class_names)"
   ]
  },
  {
   "cell_type": "code",
   "execution_count": null,
   "metadata": {},
   "outputs": [],
   "source": [
    "# Make a prediction using model_11\n",
    "pred_and_plot(model=model_3,filename='03-steak.jpeg',class_names=[\"pizza\",\"steak\"])"
   ]
  },
  {
   "cell_type": "markdown",
   "metadata": {},
   "source": [
    "Looks like our model didn't peform very well on our custom images, this is due to it's accuracy only reaching ~39%.   "
   ]
  },
  {
   "cell_type": "markdown",
   "metadata": {},
   "source": [
    "## Training and saving our model"
   ]
  },
  {
   "cell_type": "code",
   "execution_count": null,
   "metadata": {},
   "outputs": [],
   "source": [
    "model_11.save(\"saved_trained_model_11\")"
   ]
  },
  {
   "cell_type": "code",
   "execution_count": null,
   "metadata": {},
   "outputs": [],
   "source": [
    "loaded_model_11 = tf.keras.models.load_model(\"saved_trained_model_11\")"
   ]
  },
  {
   "cell_type": "code",
   "execution_count": null,
   "metadata": {},
   "outputs": [],
   "source": [
    "# Compare our saved model to existing model\n",
    "loaded_model_11.evaluate(test_data)"
   ]
  },
  {
   "cell_type": "code",
   "execution_count": null,
   "metadata": {},
   "outputs": [],
   "source": [
    "model_11.evaluate(test_data)"
   ]
  },
  {
   "cell_type": "code",
   "execution_count": null,
   "metadata": {},
   "outputs": [],
   "source": []
  }
 ],
 "metadata": {
  "accelerator": "GPU",
  "colab": {
   "authorship_tag": "ABX9TyPq38ZTFrFTD+guFwm3wRdF",
   "gpuType": "T4",
   "include_colab_link": true,
   "provenance": []
  },
  "kernelspec": {
   "display_name": "Python 3 (ipykernel)",
   "language": "python",
   "name": "python3"
  },
  "language_info": {
   "codemirror_mode": {
    "name": "ipython",
    "version": 3
   },
   "file_extension": ".py",
   "mimetype": "text/x-python",
   "name": "python",
   "nbconvert_exporter": "python",
   "pygments_lexer": "ipython3",
   "version": "3.11.8"
  }
 },
 "nbformat": 4,
 "nbformat_minor": 4
}
