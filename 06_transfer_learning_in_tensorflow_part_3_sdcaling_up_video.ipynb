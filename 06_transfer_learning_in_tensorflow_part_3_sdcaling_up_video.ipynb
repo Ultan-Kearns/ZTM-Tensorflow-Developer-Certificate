{
 "cells": [
  {
   "cell_type": "markdown",
   "id": "f5941a90-d898-45e0-887d-e1ed4c92098b",
   "metadata": {},
   "source": [
    "# Transfer learning with Tensorflow Part 3: Scaling up(Food Vision Mini)\n",
    "\n",
    "We've seen the power of transfer learning feature extraction and fine-tuning, now it's time to scale up to all of the classes in Food101 (101 total classes of food).\n",
    "\n",
    "Our goal is to beat the original Food101 paper with 10% of training data(levaraging the power of deep-learning).\n",
    "\n",
    "Original food 101 paper: https://data.vision.ee.ethz.ch/cvl/datasets_extra/food-101/\n",
    "\n",
    "and our baseline to beat is 50.76% accuracy across 101 classes"
   ]
  },
  {
   "cell_type": "code",
   "execution_count": 38,
   "id": "84b05738-f80b-4247-b418-631951732b0a",
   "metadata": {},
   "outputs": [
    {
     "name": "stdout",
     "output_type": "stream",
     "text": [
      "Thu Aug 14 22:32:41 2025       \n",
      "+-----------------------------------------------------------------------------------------+\n",
      "| NVIDIA-SMI 575.64.05              Driver Version: 575.64.05      CUDA Version: 12.9     |\n",
      "|-----------------------------------------+------------------------+----------------------+\n",
      "| GPU  Name                 Persistence-M | Bus-Id          Disp.A | Volatile Uncorr. ECC |\n",
      "| Fan  Temp   Perf          Pwr:Usage/Cap |           Memory-Usage | GPU-Util  Compute M. |\n",
      "|                                         |                        |               MIG M. |\n",
      "|=========================================+========================+======================|\n",
      "|   0  NVIDIA GeForce RTX 4080 ...    Off |   00000000:09:00.0  On |                  N/A |\n",
      "| 31%   32C    P8              6W /  320W |   14154MiB /  16376MiB |      0%      Default |\n",
      "|                                         |                        |                  N/A |\n",
      "+-----------------------------------------+------------------------+----------------------+\n",
      "                                                                                         \n",
      "+-----------------------------------------------------------------------------------------+\n",
      "| Processes:                                                                              |\n",
      "|  GPU   GI   CI              PID   Type   Process name                        GPU Memory |\n",
      "|        ID   ID                                                               Usage      |\n",
      "|=========================================================================================|\n",
      "|    0   N/A  N/A            1743      G   /usr/lib/Xorg                           549MiB |\n",
      "|    0   N/A  N/A            1816      G   /usr/bin/gnome-shell                     68MiB |\n",
      "|    0   N/A  N/A            2005      G   /usr/bin/ckb-next                         4MiB |\n",
      "|    0   N/A  N/A            2799      G   ...ams-for-linux/teams-for-linux         44MiB |\n",
      "|    0   N/A  N/A            2942      G   /opt/brave-bin/brave                      3MiB |\n",
      "|    0   N/A  N/A            2995      G   ...178270588b40fe6c0c45f77ab1806        130MiB |\n",
      "|    0   N/A  N/A            6523      G   /usr/lib/slack/slack                    106MiB |\n",
      "|    0   N/A  N/A           15891      G   ...ess --variations-seed-version         57MiB |\n",
      "|    0   N/A  N/A           46248      G   ...share/Steam/ubuntu12_32/steam          4MiB |\n",
      "|    0   N/A  N/A           46418      G   ./steamwebhelper                         43MiB |\n",
      "|    0   N/A  N/A           46443    C+G   ...am/ubuntu12_64/steamwebhelper          9MiB |\n",
      "|    0   N/A  N/A           50051      G   /opt/discord/Discord                     84MiB |\n",
      "|    0   N/A  N/A           50499      G   /usr/bin/alacritty                       10MiB |\n",
      "|    0   N/A  N/A           50732      C   /usr/bin/python                       12880MiB |\n",
      "+-----------------------------------------------------------------------------------------+\n",
      "\u001b[33mWARNING: Ignoring invalid distribution ~ensorflow (/usr/lib/python3.11/site-packages)\u001b[0m\u001b[33m\n",
      "\u001b[0mRequirement already satisfied: tensorflow==2.20.0rc0 in /usr/lib/python3.11/site-packages (2.20.0rc0)\n",
      "Requirement already satisfied: absl-py>=1.0.0 in /usr/lib/python3.11/site-packages (from tensorflow==2.20.0rc0) (2.3.1)\n",
      "Requirement already satisfied: astunparse>=1.6.0 in /usr/lib/python3.11/site-packages (from tensorflow==2.20.0rc0) (1.6.3)\n",
      "Requirement already satisfied: flatbuffers>=24.3.25 in /usr/lib/python3.11/site-packages (from tensorflow==2.20.0rc0) (25.2.10)\n",
      "Requirement already satisfied: gast!=0.5.0,!=0.5.1,!=0.5.2,>=0.2.1 in /usr/lib/python3.11/site-packages (from tensorflow==2.20.0rc0) (0.6.0)\n",
      "Requirement already satisfied: google_pasta>=0.1.1 in /usr/lib/python3.11/site-packages (from tensorflow==2.20.0rc0) (0.2.0)\n",
      "Requirement already satisfied: libclang>=13.0.0 in /usr/lib/python3.11/site-packages (from tensorflow==2.20.0rc0) (18.1.1)\n",
      "Requirement already satisfied: opt_einsum>=2.3.2 in /usr/lib/python3.11/site-packages (from tensorflow==2.20.0rc0) (3.4.0)\n",
      "Requirement already satisfied: packaging in /usr/lib/python3.11/site-packages (from tensorflow==2.20.0rc0) (25.0)\n",
      "Requirement already satisfied: protobuf>=5.28.0 in /usr/lib/python3.11/site-packages (from tensorflow==2.20.0rc0) (5.29.5)\n",
      "Requirement already satisfied: requests<3,>=2.21.0 in /usr/lib/python3.11/site-packages (from tensorflow==2.20.0rc0) (2.32.4)\n",
      "Requirement already satisfied: setuptools in /usr/lib/python3.11/site-packages (from tensorflow==2.20.0rc0) (80.9.0)\n",
      "Requirement already satisfied: six>=1.12.0 in /usr/lib/python3.11/site-packages (from tensorflow==2.20.0rc0) (1.17.0)\n",
      "Requirement already satisfied: termcolor>=1.1.0 in /usr/lib/python3.11/site-packages (from tensorflow==2.20.0rc0) (3.1.0)\n",
      "Requirement already satisfied: typing_extensions>=3.6.6 in /usr/lib/python3.11/site-packages (from tensorflow==2.20.0rc0) (4.14.1)\n",
      "Requirement already satisfied: wrapt>=1.11.0 in /usr/lib/python3.11/site-packages (from tensorflow==2.20.0rc0) (1.17.2)\n",
      "Requirement already satisfied: grpcio<2.0,>=1.24.3 in /usr/lib/python3.11/site-packages (from tensorflow==2.20.0rc0) (1.74.0)\n",
      "Requirement already satisfied: tensorboard~=2.20.0 in /usr/lib/python3.11/site-packages (from tensorflow==2.20.0rc0) (2.20.0)\n",
      "Requirement already satisfied: keras>=3.10.0 in /usr/lib/python3.11/site-packages (from tensorflow==2.20.0rc0) (3.11.1)\n",
      "Requirement already satisfied: numpy>=1.26.0 in /usr/lib/python3.11/site-packages (from tensorflow==2.20.0rc0) (2.0.2)\n",
      "Requirement already satisfied: h5py>=3.11.0 in /usr/lib/python3.11/site-packages (from tensorflow==2.20.0rc0) (3.14.0)\n",
      "Requirement already satisfied: ml_dtypes<1.0.0,>=0.5.1 in /usr/lib/python3.11/site-packages (from tensorflow==2.20.0rc0) (0.5.3)\n",
      "Requirement already satisfied: charset_normalizer<4,>=2 in /usr/lib/python3.11/site-packages (from requests<3,>=2.21.0->tensorflow==2.20.0rc0) (3.4.3)\n",
      "Requirement already satisfied: idna<4,>=2.5 in /usr/lib/python3.11/site-packages (from requests<3,>=2.21.0->tensorflow==2.20.0rc0) (3.10)\n",
      "Requirement already satisfied: urllib3<3,>=1.21.1 in /usr/lib/python3.11/site-packages (from requests<3,>=2.21.0->tensorflow==2.20.0rc0) (2.5.0)\n",
      "Requirement already satisfied: certifi>=2017.4.17 in /usr/lib/python3.11/site-packages (from requests<3,>=2.21.0->tensorflow==2.20.0rc0) (2025.8.3)\n",
      "Requirement already satisfied: markdown>=2.6.8 in /usr/lib/python3.11/site-packages (from tensorboard~=2.20.0->tensorflow==2.20.0rc0) (3.8.2)\n",
      "Requirement already satisfied: pillow in /usr/lib/python3.11/site-packages (from tensorboard~=2.20.0->tensorflow==2.20.0rc0) (11.3.0)\n",
      "Requirement already satisfied: tensorboard-data-server<0.8.0,>=0.7.0 in /usr/lib/python3.11/site-packages (from tensorboard~=2.20.0->tensorflow==2.20.0rc0) (0.7.2)\n",
      "Requirement already satisfied: werkzeug>=1.0.1 in /usr/lib/python3.11/site-packages (from tensorboard~=2.20.0->tensorflow==2.20.0rc0) (3.1.3)\n",
      "Requirement already satisfied: wheel<1.0,>=0.23.0 in /usr/lib/python3.11/site-packages (from astunparse>=1.6.0->tensorflow==2.20.0rc0) (0.45.1)\n",
      "Requirement already satisfied: rich in /usr/lib/python3.11/site-packages (from keras>=3.10.0->tensorflow==2.20.0rc0) (14.1.0)\n",
      "Requirement already satisfied: namex in /usr/lib/python3.11/site-packages (from keras>=3.10.0->tensorflow==2.20.0rc0) (0.1.0)\n",
      "Requirement already satisfied: optree in /usr/lib/python3.11/site-packages (from keras>=3.10.0->tensorflow==2.20.0rc0) (0.17.0)\n",
      "Requirement already satisfied: MarkupSafe>=2.1.1 in /usr/lib/python3.11/site-packages (from werkzeug>=1.0.1->tensorboard~=2.20.0->tensorflow==2.20.0rc0) (3.0.2)\n",
      "Requirement already satisfied: markdown-it-py>=2.2.0 in /usr/lib/python3.11/site-packages (from rich->keras>=3.10.0->tensorflow==2.20.0rc0) (3.0.0)\n",
      "Requirement already satisfied: pygments<3.0.0,>=2.13.0 in /usr/lib/python3.11/site-packages (from rich->keras>=3.10.0->tensorflow==2.20.0rc0) (2.19.2)\n",
      "Requirement already satisfied: mdurl~=0.1 in /usr/lib/python3.11/site-packages (from markdown-it-py>=2.2.0->rich->keras>=3.10.0->tensorflow==2.20.0rc0) (0.1.2)\n",
      "\u001b[33mWARNING: Ignoring invalid distribution ~ensorflow (/usr/lib/python3.11/site-packages)\u001b[0m\u001b[33m\n",
      "\u001b[0m\u001b[33mWARNING: Ignoring invalid distribution ~ensorflow (/usr/lib/python3.11/site-packages)\u001b[0m\u001b[33m\n",
      "\u001b[0m\u001b[33mWARNING: Running pip as the 'root' user can result in broken permissions and conflicting behaviour with the system package manager, possibly rendering your system unusable. It is recommended to use a virtual environment instead: https://pip.pypa.io/warnings/venv. Use the --root-user-action option if you know what you are doing and want to suppress this warning.\u001b[0m\u001b[33m\n",
      "\u001b[0m/usr/bin/python\n",
      "3.13.5 (main, Jun 21 2025, 09:35:00) [GCC 15.1.1 20250425]\n"
     ]
    }
   ],
   "source": [
    "!nvidia-smi\n",
    "!pip install tensorflow==2.20.0rc0\n",
    "import tensorflow as tf\n",
    "import sys\n",
    "print(sys.executable)\n",
    "print(sys.version)\n"
   ]
  },
  {
   "cell_type": "markdown",
   "id": "66fa9174-d030-4401-aaaa-78c9f3fe6a01",
   "metadata": {},
   "source": [
    "## Creating helper functions\n",
    "In previous notebooks, we've created a series of helper functions to do different tasks let's download them\n"
   ]
  },
  {
   "cell_type": "code",
   "execution_count": 39,
   "id": "9bd56035-0f2a-49a8-896a-7e25fd137b24",
   "metadata": {},
   "outputs": [],
   "source": [
    "# !wget https://github.com/mrdbourke/tensorflow-deep-learning/blob/main/extras/helper_functions.py"
   ]
  },
  {
   "cell_type": "code",
   "execution_count": 40,
   "id": "46cdd611-ca8b-40d6-9e9f-25cfdc44109a",
   "metadata": {},
   "outputs": [],
   "source": [
    "from helper_functions import create_tensorboard_callback, plot_loss_curves, unzip_data, compare_historys, walk_through_dir\n"
   ]
  },
  {
   "cell_type": "markdown",
   "id": "cc62b500-bc34-4128-86d5-1670953833be",
   "metadata": {},
   "source": [
    "## 101 Food Classes: working with less data\n",
    "Our goal is to beat the original food 101 paper with 10% of training data, so let's download it\n",
    "\n",
    "The data we're downloading comes from the original food 101 dataset but has been preprocessed using the image_data_modification notebook: https://github.com/mrdbourke/tensorflow-deep-learning/blob/main/extras/image_data_modification.ipynb"
   ]
  },
  {
   "cell_type": "code",
   "execution_count": 41,
   "id": "36f71afc-61f0-4dbc-9092-dd80a0f95b1f",
   "metadata": {},
   "outputs": [],
   "source": [
    "import os\n",
    "\n",
    "if not os.path.exists('101_food_classes_10_percent.zip'): \n",
    "    !wget https://storage.googleapis.com/ztm_tf_course/food_vision/101_food_classes_10_percent.zip\n",
    "    unzip_data('101_food_classes_10_percent.zip')\n",
    "    \n",
    "train_dir= \"101_food_classes_10_percent/train/\"\n",
    "test_dir= \"101_food_classes_10_percent/test/\""
   ]
  },
  {
   "cell_type": "code",
   "execution_count": 42,
   "id": "191744b9-db8c-4933-a7b1-2b8e8b31e274",
   "metadata": {},
   "outputs": [
    {
     "name": "stdout",
     "output_type": "stream",
     "text": [
      "There are 2 directories and 0 images in '101_food_classes_10_percent'.\n",
      "There are 101 directories and 0 images in '101_food_classes_10_percent/test'.\n",
      "There are 0 directories and 250 images in '101_food_classes_10_percent/test/foie_gras'.\n",
      "There are 0 directories and 250 images in '101_food_classes_10_percent/test/club_sandwich'.\n",
      "There are 0 directories and 250 images in '101_food_classes_10_percent/test/cheese_plate'.\n",
      "There are 0 directories and 250 images in '101_food_classes_10_percent/test/cup_cakes'.\n",
      "There are 0 directories and 250 images in '101_food_classes_10_percent/test/garlic_bread'.\n",
      "There are 0 directories and 250 images in '101_food_classes_10_percent/test/gnocchi'.\n",
      "There are 0 directories and 250 images in '101_food_classes_10_percent/test/ice_cream'.\n",
      "There are 0 directories and 250 images in '101_food_classes_10_percent/test/samosa'.\n",
      "There are 0 directories and 250 images in '101_food_classes_10_percent/test/donuts'.\n",
      "There are 0 directories and 250 images in '101_food_classes_10_percent/test/tuna_tartare'.\n",
      "There are 0 directories and 250 images in '101_food_classes_10_percent/test/filet_mignon'.\n",
      "There are 0 directories and 250 images in '101_food_classes_10_percent/test/seaweed_salad'.\n",
      "There are 0 directories and 250 images in '101_food_classes_10_percent/test/french_toast'.\n",
      "There are 0 directories and 250 images in '101_food_classes_10_percent/test/chicken_curry'.\n",
      "There are 0 directories and 250 images in '101_food_classes_10_percent/test/shrimp_and_grits'.\n",
      "There are 0 directories and 250 images in '101_food_classes_10_percent/test/steak'.\n",
      "There are 0 directories and 250 images in '101_food_classes_10_percent/test/cheesecake'.\n",
      "There are 0 directories and 250 images in '101_food_classes_10_percent/test/red_velvet_cake'.\n",
      "There are 0 directories and 250 images in '101_food_classes_10_percent/test/waffles'.\n",
      "There are 0 directories and 250 images in '101_food_classes_10_percent/test/churros'.\n",
      "There are 0 directories and 250 images in '101_food_classes_10_percent/test/gyoza'.\n",
      "There are 0 directories and 250 images in '101_food_classes_10_percent/test/lobster_roll_sandwich'.\n",
      "There are 0 directories and 250 images in '101_food_classes_10_percent/test/huevos_rancheros'.\n",
      "There are 0 directories and 250 images in '101_food_classes_10_percent/test/breakfast_burrito'.\n",
      "There are 0 directories and 250 images in '101_food_classes_10_percent/test/grilled_cheese_sandwich'.\n",
      "There are 0 directories and 250 images in '101_food_classes_10_percent/test/spaghetti_bolognese'.\n",
      "There are 0 directories and 250 images in '101_food_classes_10_percent/test/falafel'.\n",
      "There are 0 directories and 250 images in '101_food_classes_10_percent/test/poutine'.\n",
      "There are 0 directories and 250 images in '101_food_classes_10_percent/test/greek_salad'.\n",
      "There are 0 directories and 250 images in '101_food_classes_10_percent/test/beef_tartare'.\n",
      "There are 0 directories and 250 images in '101_food_classes_10_percent/test/fried_calamari'.\n",
      "There are 0 directories and 250 images in '101_food_classes_10_percent/test/guacamole'.\n",
      "There are 0 directories and 250 images in '101_food_classes_10_percent/test/ravioli'.\n",
      "There are 0 directories and 250 images in '101_food_classes_10_percent/test/lobster_bisque'.\n",
      "There are 0 directories and 250 images in '101_food_classes_10_percent/test/beet_salad'.\n",
      "There are 0 directories and 250 images in '101_food_classes_10_percent/test/risotto'.\n",
      "There are 0 directories and 250 images in '101_food_classes_10_percent/test/crab_cakes'.\n",
      "There are 0 directories and 250 images in '101_food_classes_10_percent/test/strawberry_shortcake'.\n",
      "There are 0 directories and 250 images in '101_food_classes_10_percent/test/edamame'.\n",
      "There are 0 directories and 250 images in '101_food_classes_10_percent/test/ceviche'.\n",
      "There are 0 directories and 250 images in '101_food_classes_10_percent/test/hot_and_sour_soup'.\n",
      "There are 0 directories and 250 images in '101_food_classes_10_percent/test/spring_rolls'.\n",
      "There are 0 directories and 250 images in '101_food_classes_10_percent/test/sashimi'.\n",
      "There are 0 directories and 250 images in '101_food_classes_10_percent/test/paella'.\n",
      "There are 0 directories and 250 images in '101_food_classes_10_percent/test/clam_chowder'.\n",
      "There are 0 directories and 250 images in '101_food_classes_10_percent/test/miso_soup'.\n",
      "There are 0 directories and 250 images in '101_food_classes_10_percent/test/escargots'.\n",
      "There are 0 directories and 250 images in '101_food_classes_10_percent/test/hot_dog'.\n",
      "There are 0 directories and 250 images in '101_food_classes_10_percent/test/pulled_pork_sandwich'.\n",
      "There are 0 directories and 250 images in '101_food_classes_10_percent/test/bruschetta'.\n",
      "There are 0 directories and 250 images in '101_food_classes_10_percent/test/panna_cotta'.\n",
      "There are 0 directories and 250 images in '101_food_classes_10_percent/test/fish_and_chips'.\n",
      "There are 0 directories and 250 images in '101_food_classes_10_percent/test/pad_thai'.\n",
      "There are 0 directories and 250 images in '101_food_classes_10_percent/test/tiramisu'.\n",
      "There are 0 directories and 250 images in '101_food_classes_10_percent/test/takoyaki'.\n",
      "There are 0 directories and 250 images in '101_food_classes_10_percent/test/macarons'.\n",
      "There are 0 directories and 250 images in '101_food_classes_10_percent/test/apple_pie'.\n",
      "There are 0 directories and 250 images in '101_food_classes_10_percent/test/cannoli'.\n",
      "There are 0 directories and 250 images in '101_food_classes_10_percent/test/scallops'.\n",
      "There are 0 directories and 250 images in '101_food_classes_10_percent/test/frozen_yogurt'.\n",
      "There are 0 directories and 250 images in '101_food_classes_10_percent/test/chicken_quesadilla'.\n",
      "There are 0 directories and 250 images in '101_food_classes_10_percent/test/mussels'.\n",
      "There are 0 directories and 250 images in '101_food_classes_10_percent/test/beef_carpaccio'.\n",
      "There are 0 directories and 250 images in '101_food_classes_10_percent/test/eggs_benedict'.\n",
      "There are 0 directories and 250 images in '101_food_classes_10_percent/test/spaghetti_carbonara'.\n",
      "There are 0 directories and 250 images in '101_food_classes_10_percent/test/omelette'.\n",
      "There are 0 directories and 250 images in '101_food_classes_10_percent/test/sushi'.\n",
      "There are 0 directories and 250 images in '101_food_classes_10_percent/test/chocolate_mousse'.\n",
      "There are 0 directories and 250 images in '101_food_classes_10_percent/test/beignets'.\n",
      "There are 0 directories and 250 images in '101_food_classes_10_percent/test/bibimbap'.\n",
      "There are 0 directories and 250 images in '101_food_classes_10_percent/test/hummus'.\n",
      "There are 0 directories and 250 images in '101_food_classes_10_percent/test/pork_chop'.\n",
      "There are 0 directories and 250 images in '101_food_classes_10_percent/test/chicken_wings'.\n",
      "There are 0 directories and 250 images in '101_food_classes_10_percent/test/grilled_salmon'.\n",
      "There are 0 directories and 250 images in '101_food_classes_10_percent/test/chocolate_cake'.\n",
      "There are 0 directories and 250 images in '101_food_classes_10_percent/test/tacos'.\n",
      "There are 0 directories and 250 images in '101_food_classes_10_percent/test/hamburger'.\n",
      "There are 0 directories and 250 images in '101_food_classes_10_percent/test/baby_back_ribs'.\n",
      "There are 0 directories and 250 images in '101_food_classes_10_percent/test/pancakes'.\n",
      "There are 0 directories and 250 images in '101_food_classes_10_percent/test/prime_rib'.\n",
      "There are 0 directories and 250 images in '101_food_classes_10_percent/test/pizza'.\n",
      "There are 0 directories and 250 images in '101_food_classes_10_percent/test/nachos'.\n",
      "There are 0 directories and 250 images in '101_food_classes_10_percent/test/macaroni_and_cheese'.\n",
      "There are 0 directories and 250 images in '101_food_classes_10_percent/test/bread_pudding'.\n",
      "There are 0 directories and 250 images in '101_food_classes_10_percent/test/ramen'.\n",
      "There are 0 directories and 250 images in '101_food_classes_10_percent/test/croque_madame'.\n",
      "There are 0 directories and 250 images in '101_food_classes_10_percent/test/lasagna'.\n",
      "There are 0 directories and 250 images in '101_food_classes_10_percent/test/peking_duck'.\n",
      "There are 0 directories and 250 images in '101_food_classes_10_percent/test/deviled_eggs'.\n",
      "There are 0 directories and 250 images in '101_food_classes_10_percent/test/french_fries'.\n",
      "There are 0 directories and 250 images in '101_food_classes_10_percent/test/dumplings'.\n",
      "There are 0 directories and 250 images in '101_food_classes_10_percent/test/fried_rice'.\n",
      "There are 0 directories and 250 images in '101_food_classes_10_percent/test/french_onion_soup'.\n",
      "There are 0 directories and 250 images in '101_food_classes_10_percent/test/pho'.\n",
      "There are 0 directories and 250 images in '101_food_classes_10_percent/test/caprese_salad'.\n",
      "There are 0 directories and 250 images in '101_food_classes_10_percent/test/oysters'.\n",
      "There are 0 directories and 250 images in '101_food_classes_10_percent/test/baklava'.\n",
      "There are 0 directories and 250 images in '101_food_classes_10_percent/test/creme_brulee'.\n",
      "There are 0 directories and 250 images in '101_food_classes_10_percent/test/carrot_cake'.\n",
      "There are 0 directories and 250 images in '101_food_classes_10_percent/test/onion_rings'.\n",
      "There are 0 directories and 250 images in '101_food_classes_10_percent/test/caesar_salad'.\n",
      "There are 101 directories and 0 images in '101_food_classes_10_percent/train'.\n",
      "There are 0 directories and 75 images in '101_food_classes_10_percent/train/foie_gras'.\n",
      "There are 0 directories and 75 images in '101_food_classes_10_percent/train/club_sandwich'.\n",
      "There are 0 directories and 75 images in '101_food_classes_10_percent/train/cheese_plate'.\n",
      "There are 0 directories and 75 images in '101_food_classes_10_percent/train/cup_cakes'.\n",
      "There are 0 directories and 75 images in '101_food_classes_10_percent/train/garlic_bread'.\n",
      "There are 0 directories and 75 images in '101_food_classes_10_percent/train/gnocchi'.\n",
      "There are 0 directories and 75 images in '101_food_classes_10_percent/train/ice_cream'.\n",
      "There are 0 directories and 75 images in '101_food_classes_10_percent/train/samosa'.\n",
      "There are 0 directories and 75 images in '101_food_classes_10_percent/train/donuts'.\n",
      "There are 0 directories and 75 images in '101_food_classes_10_percent/train/tuna_tartare'.\n",
      "There are 0 directories and 75 images in '101_food_classes_10_percent/train/filet_mignon'.\n",
      "There are 0 directories and 75 images in '101_food_classes_10_percent/train/seaweed_salad'.\n",
      "There are 0 directories and 75 images in '101_food_classes_10_percent/train/french_toast'.\n",
      "There are 0 directories and 75 images in '101_food_classes_10_percent/train/chicken_curry'.\n",
      "There are 0 directories and 75 images in '101_food_classes_10_percent/train/shrimp_and_grits'.\n",
      "There are 0 directories and 75 images in '101_food_classes_10_percent/train/steak'.\n",
      "There are 0 directories and 75 images in '101_food_classes_10_percent/train/cheesecake'.\n",
      "There are 0 directories and 75 images in '101_food_classes_10_percent/train/red_velvet_cake'.\n",
      "There are 0 directories and 75 images in '101_food_classes_10_percent/train/waffles'.\n",
      "There are 0 directories and 75 images in '101_food_classes_10_percent/train/churros'.\n",
      "There are 0 directories and 75 images in '101_food_classes_10_percent/train/gyoza'.\n",
      "There are 0 directories and 75 images in '101_food_classes_10_percent/train/lobster_roll_sandwich'.\n",
      "There are 0 directories and 75 images in '101_food_classes_10_percent/train/huevos_rancheros'.\n",
      "There are 0 directories and 75 images in '101_food_classes_10_percent/train/breakfast_burrito'.\n",
      "There are 0 directories and 75 images in '101_food_classes_10_percent/train/grilled_cheese_sandwich'.\n",
      "There are 0 directories and 75 images in '101_food_classes_10_percent/train/spaghetti_bolognese'.\n",
      "There are 0 directories and 75 images in '101_food_classes_10_percent/train/falafel'.\n",
      "There are 0 directories and 75 images in '101_food_classes_10_percent/train/poutine'.\n",
      "There are 0 directories and 75 images in '101_food_classes_10_percent/train/greek_salad'.\n",
      "There are 0 directories and 75 images in '101_food_classes_10_percent/train/beef_tartare'.\n",
      "There are 0 directories and 75 images in '101_food_classes_10_percent/train/fried_calamari'.\n",
      "There are 0 directories and 75 images in '101_food_classes_10_percent/train/guacamole'.\n",
      "There are 0 directories and 75 images in '101_food_classes_10_percent/train/ravioli'.\n",
      "There are 0 directories and 75 images in '101_food_classes_10_percent/train/lobster_bisque'.\n",
      "There are 0 directories and 75 images in '101_food_classes_10_percent/train/beet_salad'.\n",
      "There are 0 directories and 75 images in '101_food_classes_10_percent/train/risotto'.\n",
      "There are 0 directories and 75 images in '101_food_classes_10_percent/train/crab_cakes'.\n",
      "There are 0 directories and 75 images in '101_food_classes_10_percent/train/strawberry_shortcake'.\n",
      "There are 0 directories and 75 images in '101_food_classes_10_percent/train/edamame'.\n",
      "There are 0 directories and 75 images in '101_food_classes_10_percent/train/ceviche'.\n",
      "There are 0 directories and 75 images in '101_food_classes_10_percent/train/hot_and_sour_soup'.\n",
      "There are 0 directories and 75 images in '101_food_classes_10_percent/train/spring_rolls'.\n",
      "There are 0 directories and 75 images in '101_food_classes_10_percent/train/sashimi'.\n",
      "There are 0 directories and 75 images in '101_food_classes_10_percent/train/paella'.\n",
      "There are 0 directories and 75 images in '101_food_classes_10_percent/train/clam_chowder'.\n",
      "There are 0 directories and 75 images in '101_food_classes_10_percent/train/miso_soup'.\n",
      "There are 0 directories and 75 images in '101_food_classes_10_percent/train/escargots'.\n",
      "There are 0 directories and 75 images in '101_food_classes_10_percent/train/hot_dog'.\n",
      "There are 0 directories and 75 images in '101_food_classes_10_percent/train/pulled_pork_sandwich'.\n",
      "There are 0 directories and 75 images in '101_food_classes_10_percent/train/bruschetta'.\n",
      "There are 0 directories and 75 images in '101_food_classes_10_percent/train/panna_cotta'.\n",
      "There are 0 directories and 75 images in '101_food_classes_10_percent/train/fish_and_chips'.\n",
      "There are 0 directories and 75 images in '101_food_classes_10_percent/train/pad_thai'.\n",
      "There are 0 directories and 75 images in '101_food_classes_10_percent/train/tiramisu'.\n",
      "There are 0 directories and 75 images in '101_food_classes_10_percent/train/takoyaki'.\n",
      "There are 0 directories and 75 images in '101_food_classes_10_percent/train/macarons'.\n",
      "There are 0 directories and 75 images in '101_food_classes_10_percent/train/apple_pie'.\n",
      "There are 0 directories and 75 images in '101_food_classes_10_percent/train/cannoli'.\n",
      "There are 0 directories and 75 images in '101_food_classes_10_percent/train/scallops'.\n",
      "There are 0 directories and 75 images in '101_food_classes_10_percent/train/frozen_yogurt'.\n",
      "There are 0 directories and 75 images in '101_food_classes_10_percent/train/chicken_quesadilla'.\n",
      "There are 0 directories and 75 images in '101_food_classes_10_percent/train/mussels'.\n",
      "There are 0 directories and 75 images in '101_food_classes_10_percent/train/beef_carpaccio'.\n",
      "There are 0 directories and 75 images in '101_food_classes_10_percent/train/eggs_benedict'.\n",
      "There are 0 directories and 75 images in '101_food_classes_10_percent/train/spaghetti_carbonara'.\n",
      "There are 0 directories and 75 images in '101_food_classes_10_percent/train/omelette'.\n",
      "There are 0 directories and 75 images in '101_food_classes_10_percent/train/sushi'.\n",
      "There are 0 directories and 75 images in '101_food_classes_10_percent/train/chocolate_mousse'.\n",
      "There are 0 directories and 75 images in '101_food_classes_10_percent/train/beignets'.\n",
      "There are 0 directories and 75 images in '101_food_classes_10_percent/train/bibimbap'.\n",
      "There are 0 directories and 75 images in '101_food_classes_10_percent/train/hummus'.\n",
      "There are 0 directories and 75 images in '101_food_classes_10_percent/train/pork_chop'.\n",
      "There are 0 directories and 75 images in '101_food_classes_10_percent/train/chicken_wings'.\n",
      "There are 0 directories and 75 images in '101_food_classes_10_percent/train/grilled_salmon'.\n",
      "There are 0 directories and 75 images in '101_food_classes_10_percent/train/chocolate_cake'.\n",
      "There are 0 directories and 75 images in '101_food_classes_10_percent/train/tacos'.\n",
      "There are 0 directories and 75 images in '101_food_classes_10_percent/train/hamburger'.\n",
      "There are 0 directories and 75 images in '101_food_classes_10_percent/train/baby_back_ribs'.\n",
      "There are 0 directories and 75 images in '101_food_classes_10_percent/train/pancakes'.\n",
      "There are 0 directories and 75 images in '101_food_classes_10_percent/train/prime_rib'.\n",
      "There are 0 directories and 75 images in '101_food_classes_10_percent/train/pizza'.\n",
      "There are 0 directories and 75 images in '101_food_classes_10_percent/train/nachos'.\n",
      "There are 0 directories and 75 images in '101_food_classes_10_percent/train/macaroni_and_cheese'.\n",
      "There are 0 directories and 75 images in '101_food_classes_10_percent/train/bread_pudding'.\n",
      "There are 0 directories and 75 images in '101_food_classes_10_percent/train/ramen'.\n",
      "There are 0 directories and 75 images in '101_food_classes_10_percent/train/croque_madame'.\n",
      "There are 0 directories and 75 images in '101_food_classes_10_percent/train/lasagna'.\n",
      "There are 0 directories and 75 images in '101_food_classes_10_percent/train/peking_duck'.\n",
      "There are 0 directories and 75 images in '101_food_classes_10_percent/train/deviled_eggs'.\n",
      "There are 0 directories and 75 images in '101_food_classes_10_percent/train/french_fries'.\n",
      "There are 0 directories and 75 images in '101_food_classes_10_percent/train/dumplings'.\n",
      "There are 0 directories and 75 images in '101_food_classes_10_percent/train/fried_rice'.\n",
      "There are 0 directories and 75 images in '101_food_classes_10_percent/train/french_onion_soup'.\n",
      "There are 0 directories and 75 images in '101_food_classes_10_percent/train/pho'.\n",
      "There are 0 directories and 75 images in '101_food_classes_10_percent/train/caprese_salad'.\n",
      "There are 0 directories and 75 images in '101_food_classes_10_percent/train/oysters'.\n",
      "There are 0 directories and 75 images in '101_food_classes_10_percent/train/baklava'.\n",
      "There are 0 directories and 75 images in '101_food_classes_10_percent/train/creme_brulee'.\n",
      "There are 0 directories and 75 images in '101_food_classes_10_percent/train/carrot_cake'.\n",
      "There are 0 directories and 75 images in '101_food_classes_10_percent/train/onion_rings'.\n",
      "There are 0 directories and 75 images in '101_food_classes_10_percent/train/caesar_salad'.\n"
     ]
    }
   ],
   "source": [
    "# How many images / classes are there?\n",
    "\n",
    "walk_through_dir(\"101_food_classes_10_percent\")"
   ]
  },
  {
   "cell_type": "code",
   "execution_count": 43,
   "id": "8f8887d3-f3c6-4dff-9862-ff5d6627bc70",
   "metadata": {},
   "outputs": [
    {
     "name": "stdout",
     "output_type": "stream",
     "text": [
      "Found 7575 files belonging to 101 classes.\n",
      "Found 25250 files belonging to 101 classes.\n"
     ]
    }
   ],
   "source": [
    "# Setup data inputs\n",
    "import tensorflow as tf\n",
    "\n",
    "IMG_SIZE = (224,224)\n",
    "train_data_all_10_percent = tf.keras.preprocessing.image_dataset_from_directory(train_dir,\n",
    "                                                                                label_mode=\"categorical\",\n",
    "                                                                                image_size=IMG_SIZE)\n",
    "test_data = tf.keras.preprocessing.image_dataset_from_directory(test_dir,\n",
    "                                                                label_mode=\"categorical\",\n",
    "                                                                image_size=IMG_SIZE,\n",
    "                                                                shuffle=False)"
   ]
  },
  {
   "cell_type": "markdown",
   "id": "f477fc9f-279d-481f-b18c-3e48f6cb7775",
   "metadata": {},
   "source": [
    "## Train a big dog model with transfer learning on 10% of 101 food classes.\n",
    "\n",
    "Here are the steps we're going to take:\n",
    "\n",
    "* Create a model ModelCheckpoint callback\n",
    "* Create a data augmentation layer to build data augmentation right into the model\n",
    "* Build a headless(no top layers) Functional EfficientNetB0 backboned-model\n",
    "* Compile our model\n",
    "* Feature extract for 5 full passes (5 epochs on the train dataset and validate on 15% of test data, to save epoch time)"
   ]
  },
  {
   "cell_type": "code",
   "execution_count": 44,
   "id": "c88a393e-af42-41d3-862d-c0c0fecff9a6",
   "metadata": {},
   "outputs": [],
   "source": [
    "# Create checkpoint callback\n",
    "checkpoint_path = \"101_classes_10_percet_data_model_checkpoint.weights.h5\"\n",
    "checkpoint_callback = tf.keras.callbacks.ModelCheckpoint(checkpoint_path,\n",
    "                                                         save_weights_only=True,\n",
    "                                                         monitor=\"val_accuracy\",\n",
    "                                                         save_best_only=True)"
   ]
  },
  {
   "cell_type": "code",
   "execution_count": 45,
   "id": "a0ae9a6b-ad90-467b-8c31-0ad561581843",
   "metadata": {},
   "outputs": [],
   "source": [
    "# Create data augmentation layer to incorporate it right into the model\n",
    "from tensorflow.keras import layers, preprocessing, Sequential\n",
    "\n",
    "# Setup data augmentation\n",
    "data_augmentation = Sequential([\n",
    "    layers.RandomFlip(\"horizontal\"),\n",
    "    layers.RandomRotation(0.2),\n",
    "    layers.RandomHeight(0.2),\n",
    "    layers.RandomWidth(0.2),\n",
    "    layers.RandomZoom(0.2)], name=\"data_augmentation\")\n",
    "    # layers.Rescaling(1/255.) rescale inputs of images between 0 & 1 requiried by some models"
   ]
  },
  {
   "cell_type": "code",
   "execution_count": 46,
   "id": "1223de20-d3cf-4025-a62c-8ec147a7f3e6",
   "metadata": {},
   "outputs": [],
   "source": [
    "# Setup the base model and freeze its layers (this will extract features)\n",
    "base_model = tf.keras.applications.EfficientNetB0(include_top=False)\n",
    "\n",
    "base_model.trainable = False\n",
    "\n",
    "# Setup model architecture with trainable top layers\n",
    "inputs = layers.Input(shape=(224,224,3),name=\"input_layer\")\n",
    "\n",
    "x = data_augmentation(inputs) # augment images (only happens during training phase)\n",
    "x = base_model(x, training=False) # put the base model in inference mode so weights which need to stay frozen do\n",
    "x = layers.GlobalAveragePooling2D(name=\"global_avg_pool_layer\")(x)\n",
    "outputs = layers.Dense(len(train_data_all_10_percent.class_names),activation=\"softmax\",name=\"output_layer\")(x)\n",
    "model = tf.keras.Model(inputs,outputs)"
   ]
  },
  {
   "cell_type": "code",
   "execution_count": 47,
   "id": "016ea1d3-14f2-4cf6-85ca-cdad7a457afe",
   "metadata": {},
   "outputs": [
    {
     "data": {
      "text/html": [
       "<pre style=\"white-space:pre;overflow-x:auto;line-height:normal;font-family:Menlo,'DejaVu Sans Mono',consolas,'Courier New',monospace\"><span style=\"font-weight: bold\">Model: \"functional_3\"</span>\n",
       "</pre>\n"
      ],
      "text/plain": [
       "\u001b[1mModel: \"functional_3\"\u001b[0m\n"
      ]
     },
     "metadata": {},
     "output_type": "display_data"
    },
    {
     "data": {
      "text/html": [
       "<pre style=\"white-space:pre;overflow-x:auto;line-height:normal;font-family:Menlo,'DejaVu Sans Mono',consolas,'Courier New',monospace\">┏━━━━━━━━━━━━━━━━━━━━━━━━━━━━━━━━━┳━━━━━━━━━━━━━━━━━━━━━━━━┳━━━━━━━━━━━━━━━┓\n",
       "┃<span style=\"font-weight: bold\"> Layer (type)                    </span>┃<span style=\"font-weight: bold\"> Output Shape           </span>┃<span style=\"font-weight: bold\">       Param # </span>┃\n",
       "┡━━━━━━━━━━━━━━━━━━━━━━━━━━━━━━━━━╇━━━━━━━━━━━━━━━━━━━━━━━━╇━━━━━━━━━━━━━━━┩\n",
       "│ input_layer (<span style=\"color: #0087ff; text-decoration-color: #0087ff\">InputLayer</span>)        │ (<span style=\"color: #00d7ff; text-decoration-color: #00d7ff\">None</span>, <span style=\"color: #00af00; text-decoration-color: #00af00\">224</span>, <span style=\"color: #00af00; text-decoration-color: #00af00\">224</span>, <span style=\"color: #00af00; text-decoration-color: #00af00\">3</span>)    │             <span style=\"color: #00af00; text-decoration-color: #00af00\">0</span> │\n",
       "├─────────────────────────────────┼────────────────────────┼───────────────┤\n",
       "│ data_augmentation (<span style=\"color: #0087ff; text-decoration-color: #0087ff\">Sequential</span>)  │ (<span style=\"color: #00d7ff; text-decoration-color: #00d7ff\">None</span>, <span style=\"color: #00d7ff; text-decoration-color: #00d7ff\">None</span>, <span style=\"color: #00d7ff; text-decoration-color: #00d7ff\">None</span>, <span style=\"color: #00af00; text-decoration-color: #00af00\">3</span>)  │             <span style=\"color: #00af00; text-decoration-color: #00af00\">0</span> │\n",
       "├─────────────────────────────────┼────────────────────────┼───────────────┤\n",
       "│ efficientnetb0 (<span style=\"color: #0087ff; text-decoration-color: #0087ff\">Functional</span>)     │ (<span style=\"color: #00d7ff; text-decoration-color: #00d7ff\">None</span>, <span style=\"color: #00d7ff; text-decoration-color: #00d7ff\">None</span>, <span style=\"color: #00d7ff; text-decoration-color: #00d7ff\">None</span>,     │     <span style=\"color: #00af00; text-decoration-color: #00af00\">4,049,571</span> │\n",
       "│                                 │ <span style=\"color: #00af00; text-decoration-color: #00af00\">1280</span>)                  │               │\n",
       "├─────────────────────────────────┼────────────────────────┼───────────────┤\n",
       "│ global_avg_pool_layer           │ (<span style=\"color: #00d7ff; text-decoration-color: #00d7ff\">None</span>, <span style=\"color: #00af00; text-decoration-color: #00af00\">1280</span>)           │             <span style=\"color: #00af00; text-decoration-color: #00af00\">0</span> │\n",
       "│ (<span style=\"color: #0087ff; text-decoration-color: #0087ff\">GlobalAveragePooling2D</span>)        │                        │               │\n",
       "├─────────────────────────────────┼────────────────────────┼───────────────┤\n",
       "│ output_layer (<span style=\"color: #0087ff; text-decoration-color: #0087ff\">Dense</span>)            │ (<span style=\"color: #00d7ff; text-decoration-color: #00d7ff\">None</span>, <span style=\"color: #00af00; text-decoration-color: #00af00\">101</span>)            │       <span style=\"color: #00af00; text-decoration-color: #00af00\">129,381</span> │\n",
       "└─────────────────────────────────┴────────────────────────┴───────────────┘\n",
       "</pre>\n"
      ],
      "text/plain": [
       "┏━━━━━━━━━━━━━━━━━━━━━━━━━━━━━━━━━┳━━━━━━━━━━━━━━━━━━━━━━━━┳━━━━━━━━━━━━━━━┓\n",
       "┃\u001b[1m \u001b[0m\u001b[1mLayer (type)                   \u001b[0m\u001b[1m \u001b[0m┃\u001b[1m \u001b[0m\u001b[1mOutput Shape          \u001b[0m\u001b[1m \u001b[0m┃\u001b[1m \u001b[0m\u001b[1m      Param #\u001b[0m\u001b[1m \u001b[0m┃\n",
       "┡━━━━━━━━━━━━━━━━━━━━━━━━━━━━━━━━━╇━━━━━━━━━━━━━━━━━━━━━━━━╇━━━━━━━━━━━━━━━┩\n",
       "│ input_layer (\u001b[38;5;33mInputLayer\u001b[0m)        │ (\u001b[38;5;45mNone\u001b[0m, \u001b[38;5;34m224\u001b[0m, \u001b[38;5;34m224\u001b[0m, \u001b[38;5;34m3\u001b[0m)    │             \u001b[38;5;34m0\u001b[0m │\n",
       "├─────────────────────────────────┼────────────────────────┼───────────────┤\n",
       "│ data_augmentation (\u001b[38;5;33mSequential\u001b[0m)  │ (\u001b[38;5;45mNone\u001b[0m, \u001b[38;5;45mNone\u001b[0m, \u001b[38;5;45mNone\u001b[0m, \u001b[38;5;34m3\u001b[0m)  │             \u001b[38;5;34m0\u001b[0m │\n",
       "├─────────────────────────────────┼────────────────────────┼───────────────┤\n",
       "│ efficientnetb0 (\u001b[38;5;33mFunctional\u001b[0m)     │ (\u001b[38;5;45mNone\u001b[0m, \u001b[38;5;45mNone\u001b[0m, \u001b[38;5;45mNone\u001b[0m,     │     \u001b[38;5;34m4,049,571\u001b[0m │\n",
       "│                                 │ \u001b[38;5;34m1280\u001b[0m)                  │               │\n",
       "├─────────────────────────────────┼────────────────────────┼───────────────┤\n",
       "│ global_avg_pool_layer           │ (\u001b[38;5;45mNone\u001b[0m, \u001b[38;5;34m1280\u001b[0m)           │             \u001b[38;5;34m0\u001b[0m │\n",
       "│ (\u001b[38;5;33mGlobalAveragePooling2D\u001b[0m)        │                        │               │\n",
       "├─────────────────────────────────┼────────────────────────┼───────────────┤\n",
       "│ output_layer (\u001b[38;5;33mDense\u001b[0m)            │ (\u001b[38;5;45mNone\u001b[0m, \u001b[38;5;34m101\u001b[0m)            │       \u001b[38;5;34m129,381\u001b[0m │\n",
       "└─────────────────────────────────┴────────────────────────┴───────────────┘\n"
      ]
     },
     "metadata": {},
     "output_type": "display_data"
    },
    {
     "data": {
      "text/html": [
       "<pre style=\"white-space:pre;overflow-x:auto;line-height:normal;font-family:Menlo,'DejaVu Sans Mono',consolas,'Courier New',monospace\"><span style=\"font-weight: bold\"> Total params: </span><span style=\"color: #00af00; text-decoration-color: #00af00\">4,178,952</span> (15.94 MB)\n",
       "</pre>\n"
      ],
      "text/plain": [
       "\u001b[1m Total params: \u001b[0m\u001b[38;5;34m4,178,952\u001b[0m (15.94 MB)\n"
      ]
     },
     "metadata": {},
     "output_type": "display_data"
    },
    {
     "data": {
      "text/html": [
       "<pre style=\"white-space:pre;overflow-x:auto;line-height:normal;font-family:Menlo,'DejaVu Sans Mono',consolas,'Courier New',monospace\"><span style=\"font-weight: bold\"> Trainable params: </span><span style=\"color: #00af00; text-decoration-color: #00af00\">129,381</span> (505.39 KB)\n",
       "</pre>\n"
      ],
      "text/plain": [
       "\u001b[1m Trainable params: \u001b[0m\u001b[38;5;34m129,381\u001b[0m (505.39 KB)\n"
      ]
     },
     "metadata": {},
     "output_type": "display_data"
    },
    {
     "data": {
      "text/html": [
       "<pre style=\"white-space:pre;overflow-x:auto;line-height:normal;font-family:Menlo,'DejaVu Sans Mono',consolas,'Courier New',monospace\"><span style=\"font-weight: bold\"> Non-trainable params: </span><span style=\"color: #00af00; text-decoration-color: #00af00\">4,049,571</span> (15.45 MB)\n",
       "</pre>\n"
      ],
      "text/plain": [
       "\u001b[1m Non-trainable params: \u001b[0m\u001b[38;5;34m4,049,571\u001b[0m (15.45 MB)\n"
      ]
     },
     "metadata": {},
     "output_type": "display_data"
    }
   ],
   "source": [
    "# Get summary of model created\n",
    "model.summary()"
   ]
  },
  {
   "cell_type": "code",
   "execution_count": 48,
   "id": "b774cc75-7867-4315-b8a1-1d19985865be",
   "metadata": {},
   "outputs": [
    {
     "name": "stdout",
     "output_type": "stream",
     "text": [
      "Epoch 1/5\n",
      "\u001b[1m237/237\u001b[0m \u001b[32m━━━━━━━━━━━━━━━━━━━━\u001b[0m\u001b[37m\u001b[0m \u001b[1m18s\u001b[0m 49ms/step - accuracy: 0.1583 - loss: 3.9587 - val_accuracy: 0.4142 - val_loss: 2.6050\n",
      "Epoch 2/5\n",
      "\u001b[1m237/237\u001b[0m \u001b[32m━━━━━━━━━━━━━━━━━━━━\u001b[0m\u001b[37m\u001b[0m \u001b[1m9s\u001b[0m 39ms/step - accuracy: 0.4776 - loss: 2.3387 - val_accuracy: 0.4804 - val_loss: 2.1395\n",
      "Epoch 3/5\n",
      "\u001b[1m237/237\u001b[0m \u001b[32m━━━━━━━━━━━━━━━━━━━━\u001b[0m\u001b[37m\u001b[0m \u001b[1m9s\u001b[0m 38ms/step - accuracy: 0.5441 - loss: 1.9259 - val_accuracy: 0.5101 - val_loss: 1.9618\n",
      "Epoch 4/5\n",
      "\u001b[1m237/237\u001b[0m \u001b[32m━━━━━━━━━━━━━━━━━━━━\u001b[0m\u001b[37m\u001b[0m \u001b[1m9s\u001b[0m 39ms/step - accuracy: 0.5905 - loss: 1.6928 - val_accuracy: 0.5185 - val_loss: 1.8603\n",
      "Epoch 5/5\n",
      "\u001b[1m237/237\u001b[0m \u001b[32m━━━━━━━━━━━━━━━━━━━━\u001b[0m\u001b[37m\u001b[0m \u001b[1m9s\u001b[0m 39ms/step - accuracy: 0.6263 - loss: 1.5298 - val_accuracy: 0.5318 - val_loss: 1.7935\n"
     ]
    }
   ],
   "source": [
    "model.compile(optimizer=\"adam\",loss=\"categorical_crossentropy\",metrics=[\"accuracy\"])\n",
    "history_all_classes_10_percent = model.fit(train_data_all_10_percent,\n",
    "                                           epochs=5,\n",
    "                                           validation_data=test_data,\n",
    "                                           validation_steps=int(len(test_data) * 0.15),\n",
    "                                           callbacks=[checkpoint_callback])\n"
   ]
  },
  {
   "cell_type": "code",
   "execution_count": 49,
   "id": "820a7e44-bb75-435e-b9a1-c223ce944c2f",
   "metadata": {},
   "outputs": [
    {
     "name": "stdout",
     "output_type": "stream",
     "text": [
      "\u001b[1m790/790\u001b[0m \u001b[32m━━━━━━━━━━━━━━━━━━━━\u001b[0m\u001b[37m\u001b[0m \u001b[1m16s\u001b[0m 20ms/step - accuracy: 0.5543 - loss: 1.7027\n"
     ]
    },
    {
     "data": {
      "text/plain": [
       "[1.6069591045379639, 0.5790098905563354]"
      ]
     },
     "execution_count": 49,
     "metadata": {},
     "output_type": "execute_result"
    }
   ],
   "source": [
    "# Evaluate on whole test dataset\n",
    "fine_tuning_results = model.evaluate(test_data)\n",
    "fine_tuning_results"
   ]
  },
  {
   "cell_type": "code",
   "execution_count": 50,
   "id": "ce6c2702-c6de-4693-b6c1-dd6ad906b788",
   "metadata": {},
   "outputs": [
    {
     "data": {
      "image/png": "[encoded data removed]",
      "text/plain": [
       "<Figure size 640x480 with 1 Axes>"
      ]
     },
     "metadata": {},
     "output_type": "display_data"
    },
    {
     "data": {
      "image/png": "[encoded data removed]",
      "text/plain": [
       "<Figure size 640x480 with 1 Axes>"
      ]
     },
     "metadata": {},
     "output_type": "display_data"
    }
   ],
   "source": [
    "plot_loss_curves(history_all_classes_10_percent)"
   ]
  },
  {
   "cell_type": "markdown",
   "id": "fc9871b3-ef92-43f6-8024-e60a7ceba94d",
   "metadata": {},
   "source": [
    "**Question** What do these curves suggests - overfitting - performing too well and not able to generalise to new data"
   ]
  },
  {
   "cell_type": "markdown",
   "id": "dfcd6325-119a-45f5-97a9-860954ebfb64",
   "metadata": {},
   "source": [
    "## Fine-tuning"
   ]
  },
  {
   "cell_type": "code",
   "execution_count": 51,
   "id": "45e21301-04ac-49fc-92ef-88ac2b500c41",
   "metadata": {},
   "outputs": [],
   "source": [
    "# Unfreeze all of the layers in the base model\n",
    "base_model.trainable = True\n",
    "\n",
    "# refreeze every layer except the last 5 layers\n",
    "for layer in base_model.layers[:-5]:\n",
    "    layer.trainable = False"
   ]
  },
  {
   "cell_type": "code",
   "execution_count": 52,
   "id": "e4be81fd-e032-4768-914c-fe8914f253a4",
   "metadata": {},
   "outputs": [],
   "source": [
    "# recompile model with lower learning rate typically best practice\n",
    "base_model.compile(optimizer=tf.keras.optimizers.Adam(learning_rate=0.0001), loss=\"categorical_crossentropy\",\n",
    "                   metrics=[\"accuracy\"])"
   ]
  },
  {
   "cell_type": "code",
   "execution_count": 53,
   "id": "49e28108-4a6a-4df7-a53a-1dd5a04bff08",
   "metadata": {},
   "outputs": [
    {
     "name": "stdout",
     "output_type": "stream",
     "text": [
      "input_layer True\n",
      "data_augmentation True\n",
      "efficientnetb0 True\n",
      "global_avg_pool_layer True\n",
      "output_layer True\n"
     ]
    }
   ],
   "source": [
    "# What layers in model are trainable\n",
    "for layer in model.layers:\n",
    "    print(layer.name, layer.trainable)"
   ]
  },
  {
   "cell_type": "code",
   "execution_count": 54,
   "id": "2be158da-a23f-4ebc-8ce8-b5ef6425e3ca",
   "metadata": {},
   "outputs": [
    {
     "name": "stdout",
     "output_type": "stream",
     "text": [
      "0 input_layer_2 False\n",
      "1 rescaling_2 False\n",
      "2 normalization_1 False\n",
      "3 rescaling_3 False\n",
      "4 stem_conv_pad False\n",
      "5 stem_conv False\n",
      "6 stem_bn False\n",
      "7 stem_activation False\n",
      "8 block1a_dwconv False\n",
      "9 block1a_bn False\n",
      "10 block1a_activation False\n",
      "11 block1a_se_squeeze False\n",
      "12 block1a_se_reshape False\n",
      "13 block1a_se_reduce False\n",
      "14 block1a_se_expand False\n",
      "15 block1a_se_excite False\n",
      "16 block1a_project_conv False\n",
      "17 block1a_project_bn False\n",
      "18 block2a_expand_conv False\n",
      "19 block2a_expand_bn False\n",
      "20 block2a_expand_activation False\n",
      "21 block2a_dwconv_pad False\n",
      "22 block2a_dwconv False\n",
      "23 block2a_bn False\n",
      "24 block2a_activation False\n",
      "25 block2a_se_squeeze False\n",
      "26 block2a_se_reshape False\n",
      "27 block2a_se_reduce False\n",
      "28 block2a_se_expand False\n",
      "29 block2a_se_excite False\n",
      "30 block2a_project_conv False\n",
      "31 block2a_project_bn False\n",
      "32 block2b_expand_conv False\n",
      "33 block2b_expand_bn False\n",
      "34 block2b_expand_activation False\n",
      "35 block2b_dwconv False\n",
      "36 block2b_bn False\n",
      "37 block2b_activation False\n",
      "38 block2b_se_squeeze False\n",
      "39 block2b_se_reshape False\n",
      "40 block2b_se_reduce False\n",
      "41 block2b_se_expand False\n",
      "42 block2b_se_excite False\n",
      "43 block2b_project_conv False\n",
      "44 block2b_project_bn False\n",
      "45 block2b_drop False\n",
      "46 block2b_add False\n",
      "47 block3a_expand_conv False\n",
      "48 block3a_expand_bn False\n",
      "49 block3a_expand_activation False\n",
      "50 block3a_dwconv_pad False\n",
      "51 block3a_dwconv False\n",
      "52 block3a_bn False\n",
      "53 block3a_activation False\n",
      "54 block3a_se_squeeze False\n",
      "55 block3a_se_reshape False\n",
      "56 block3a_se_reduce False\n",
      "57 block3a_se_expand False\n",
      "58 block3a_se_excite False\n",
      "59 block3a_project_conv False\n",
      "60 block3a_project_bn False\n",
      "61 block3b_expand_conv False\n",
      "62 block3b_expand_bn False\n",
      "63 block3b_expand_activation False\n",
      "64 block3b_dwconv False\n",
      "65 block3b_bn False\n",
      "66 block3b_activation False\n",
      "67 block3b_se_squeeze False\n",
      "68 block3b_se_reshape False\n",
      "69 block3b_se_reduce False\n",
      "70 block3b_se_expand False\n",
      "71 block3b_se_excite False\n",
      "72 block3b_project_conv False\n",
      "73 block3b_project_bn False\n",
      "74 block3b_drop False\n",
      "75 block3b_add False\n",
      "76 block4a_expand_conv False\n",
      "77 block4a_expand_bn False\n",
      "78 block4a_expand_activation False\n",
      "79 block4a_dwconv_pad False\n",
      "80 block4a_dwconv False\n",
      "81 block4a_bn False\n",
      "82 block4a_activation False\n",
      "83 block4a_se_squeeze False\n",
      "84 block4a_se_reshape False\n",
      "85 block4a_se_reduce False\n",
      "86 block4a_se_expand False\n",
      "87 block4a_se_excite False\n",
      "88 block4a_project_conv False\n",
      "89 block4a_project_bn False\n",
      "90 block4b_expand_conv False\n",
      "91 block4b_expand_bn False\n",
      "92 block4b_expand_activation False\n",
      "93 block4b_dwconv False\n",
      "94 block4b_bn False\n",
      "95 block4b_activation False\n",
      "96 block4b_se_squeeze False\n",
      "97 block4b_se_reshape False\n",
      "98 block4b_se_reduce False\n",
      "99 block4b_se_expand False\n",
      "100 block4b_se_excite False\n",
      "101 block4b_project_conv False\n",
      "102 block4b_project_bn False\n",
      "103 block4b_drop False\n",
      "104 block4b_add False\n",
      "105 block4c_expand_conv False\n",
      "106 block4c_expand_bn False\n",
      "107 block4c_expand_activation False\n",
      "108 block4c_dwconv False\n",
      "109 block4c_bn False\n",
      "110 block4c_activation False\n",
      "111 block4c_se_squeeze False\n",
      "112 block4c_se_reshape False\n",
      "113 block4c_se_reduce False\n",
      "114 block4c_se_expand False\n",
      "115 block4c_se_excite False\n",
      "116 block4c_project_conv False\n",
      "117 block4c_project_bn False\n",
      "118 block4c_drop False\n",
      "119 block4c_add False\n",
      "120 block5a_expand_conv False\n",
      "121 block5a_expand_bn False\n",
      "122 block5a_expand_activation False\n",
      "123 block5a_dwconv False\n",
      "124 block5a_bn False\n",
      "125 block5a_activation False\n",
      "126 block5a_se_squeeze False\n",
      "127 block5a_se_reshape False\n",
      "128 block5a_se_reduce False\n",
      "129 block5a_se_expand False\n",
      "130 block5a_se_excite False\n",
      "131 block5a_project_conv False\n",
      "132 block5a_project_bn False\n",
      "133 block5b_expand_conv False\n",
      "134 block5b_expand_bn False\n",
      "135 block5b_expand_activation False\n",
      "136 block5b_dwconv False\n",
      "137 block5b_bn False\n",
      "138 block5b_activation False\n",
      "139 block5b_se_squeeze False\n",
      "140 block5b_se_reshape False\n",
      "141 block5b_se_reduce False\n",
      "142 block5b_se_expand False\n",
      "143 block5b_se_excite False\n",
      "144 block5b_project_conv False\n",
      "145 block5b_project_bn False\n",
      "146 block5b_drop False\n",
      "147 block5b_add False\n",
      "148 block5c_expand_conv False\n",
      "149 block5c_expand_bn False\n",
      "150 block5c_expand_activation False\n",
      "151 block5c_dwconv False\n",
      "152 block5c_bn False\n",
      "153 block5c_activation False\n",
      "154 block5c_se_squeeze False\n",
      "155 block5c_se_reshape False\n",
      "156 block5c_se_reduce False\n",
      "157 block5c_se_expand False\n",
      "158 block5c_se_excite False\n",
      "159 block5c_project_conv False\n",
      "160 block5c_project_bn False\n",
      "161 block5c_drop False\n",
      "162 block5c_add False\n",
      "163 block6a_expand_conv False\n",
      "164 block6a_expand_bn False\n",
      "165 block6a_expand_activation False\n",
      "166 block6a_dwconv_pad False\n",
      "167 block6a_dwconv False\n",
      "168 block6a_bn False\n",
      "169 block6a_activation False\n",
      "170 block6a_se_squeeze False\n",
      "171 block6a_se_reshape False\n",
      "172 block6a_se_reduce False\n",
      "173 block6a_se_expand False\n",
      "174 block6a_se_excite False\n",
      "175 block6a_project_conv False\n",
      "176 block6a_project_bn False\n",
      "177 block6b_expand_conv False\n",
      "178 block6b_expand_bn False\n",
      "179 block6b_expand_activation False\n",
      "180 block6b_dwconv False\n",
      "181 block6b_bn False\n",
      "182 block6b_activation False\n",
      "183 block6b_se_squeeze False\n",
      "184 block6b_se_reshape False\n",
      "185 block6b_se_reduce False\n",
      "186 block6b_se_expand False\n",
      "187 block6b_se_excite False\n",
      "188 block6b_project_conv False\n",
      "189 block6b_project_bn False\n",
      "190 block6b_drop False\n",
      "191 block6b_add False\n",
      "192 block6c_expand_conv False\n",
      "193 block6c_expand_bn False\n",
      "194 block6c_expand_activation False\n",
      "195 block6c_dwconv False\n",
      "196 block6c_bn False\n",
      "197 block6c_activation False\n",
      "198 block6c_se_squeeze False\n",
      "199 block6c_se_reshape False\n",
      "200 block6c_se_reduce False\n",
      "201 block6c_se_expand False\n",
      "202 block6c_se_excite False\n",
      "203 block6c_project_conv False\n",
      "204 block6c_project_bn False\n",
      "205 block6c_drop False\n",
      "206 block6c_add False\n",
      "207 block6d_expand_conv False\n",
      "208 block6d_expand_bn False\n",
      "209 block6d_expand_activation False\n",
      "210 block6d_dwconv False\n",
      "211 block6d_bn False\n",
      "212 block6d_activation False\n",
      "213 block6d_se_squeeze False\n",
      "214 block6d_se_reshape False\n",
      "215 block6d_se_reduce False\n",
      "216 block6d_se_expand False\n",
      "217 block6d_se_excite False\n",
      "218 block6d_project_conv False\n",
      "219 block6d_project_bn False\n",
      "220 block6d_drop False\n",
      "221 block6d_add False\n",
      "222 block7a_expand_conv False\n",
      "223 block7a_expand_bn False\n",
      "224 block7a_expand_activation False\n",
      "225 block7a_dwconv False\n",
      "226 block7a_bn False\n",
      "227 block7a_activation False\n",
      "228 block7a_se_squeeze False\n",
      "229 block7a_se_reshape False\n",
      "230 block7a_se_reduce False\n",
      "231 block7a_se_expand False\n",
      "232 block7a_se_excite False\n",
      "233 block7a_project_conv True\n",
      "234 block7a_project_bn True\n",
      "235 top_conv True\n",
      "236 top_bn True\n",
      "237 top_activation True\n"
     ]
    }
   ],
   "source": [
    "# Check which layers are trainable in base model\n",
    "for layer_number, layer in enumerate(base_model.layers):\n",
    "    print(layer_number, layer.name, layer.trainable)"
   ]
  },
  {
   "cell_type": "code",
   "execution_count": 56,
   "id": "e66de075-09dd-4cfa-a8fe-79584e94f563",
   "metadata": {},
   "outputs": [
    {
     "name": "stdout",
     "output_type": "stream",
     "text": [
      "Epoch 5/10\n",
      "\u001b[1m237/237\u001b[0m \u001b[32m━━━━━━━━━━━━━━━━━━━━\u001b[0m\u001b[37m\u001b[0m \u001b[1m10s\u001b[0m 41ms/step - accuracy: 0.6519 - loss: 1.4007 - val_accuracy: 0.5336 - val_loss: 1.7728\n",
      "Epoch 6/10\n",
      "\u001b[1m237/237\u001b[0m \u001b[32m━━━━━━━━━━━━━━━━━━━━\u001b[0m\u001b[37m\u001b[0m \u001b[1m8s\u001b[0m 36ms/step - accuracy: 0.6755 - loss: 1.3119 - val_accuracy: 0.5336 - val_loss: 1.7614\n",
      "Epoch 7/10\n",
      "\u001b[1m237/237\u001b[0m \u001b[32m━━━━━━━━━━━━━━━━━━━━\u001b[0m\u001b[37m\u001b[0m \u001b[1m9s\u001b[0m 38ms/step - accuracy: 0.6857 - loss: 1.2313 - val_accuracy: 0.5421 - val_loss: 1.7490\n",
      "Epoch 8/10\n",
      "\u001b[1m237/237\u001b[0m \u001b[32m━━━━━━━━━━━━━━━━━━━━\u001b[0m\u001b[37m\u001b[0m \u001b[1m9s\u001b[0m 38ms/step - accuracy: 0.7043 - loss: 1.1870 - val_accuracy: 0.5474 - val_loss: 1.7053\n",
      "Epoch 9/10\n",
      "\u001b[1m237/237\u001b[0m \u001b[32m━━━━━━━━━━━━━━━━━━━━\u001b[0m\u001b[37m\u001b[0m \u001b[1m9s\u001b[0m 37ms/step - accuracy: 0.7186 - loss: 1.1165 - val_accuracy: 0.5522 - val_loss: 1.6894\n",
      "Epoch 10/10\n",
      "\u001b[1m237/237\u001b[0m \u001b[32m━━━━━━━━━━━━━━━━━━━━\u001b[0m\u001b[37m\u001b[0m \u001b[1m9s\u001b[0m 37ms/step - accuracy: 0.7301 - loss: 1.0473 - val_accuracy: 0.5506 - val_loss: 1.6872\n"
     ]
    }
   ],
   "source": [
    "fine_tune_epochs = 10 # model has already done 5 epochs (feature extraction), this is the total number of epochs we're after \n",
    "history_all_classes_10_percent = model.fit(train_data_all_10_percent,\n",
    "                                           epochs=fine_tune_epochs,\n",
    "                                           validation_data=test_data,\n",
    "                                           validation_steps=int(len(test_data) * 0.15),\n",
    "                                           callbacks=[checkpoint_callback],\n",
    "                                           initial_epoch = history_all_classes_10_percent.epoch[-1])"
   ]
  },
  {
   "cell_type": "code",
   "execution_count": null,
   "id": "4e871212-97d0-4b59-ae1c-787ec74644b0",
   "metadata": {},
   "outputs": [],
   "source": []
  }
 ],
 "metadata": {
  "kernelspec": {
   "display_name": "Python 3 (ipykernel)",
   "language": "python",
   "name": "python3"
  },
  "language_info": {
   "codemirror_mode": {
    "name": "ipython",
    "version": 3
   },
   "file_extension": ".py",
   "mimetype": "text/x-python",
   "name": "python",
   "nbconvert_exporter": "python",
   "pygments_lexer": "ipython3",
   "version": "3.13.5"
  }
 },
 "nbformat": 4,
 "nbformat_minor": 5
}
