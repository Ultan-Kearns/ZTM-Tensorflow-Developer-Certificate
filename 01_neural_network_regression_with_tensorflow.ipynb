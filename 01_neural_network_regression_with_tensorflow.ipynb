{
  "cells": [
    {
      "cell_type": "markdown",
      "metadata": {
        "id": "view-in-github",
        "colab_type": "text"
      },
      "source": [
        "<a href=\"https://colab.research.google.com/github/Ultan-Kearns/ZTM-Tensorflow-Developer-Certificate/blob/master/01_neural_network_regression_with_tensorflow.ipynb\" target=\"_parent\"><img src=\"https://colab.research.google.com/assets/colab-badge.svg\" alt=\"Open In Colab\"/></a>"
      ]
    },
    {
      "cell_type": "markdown",
      "metadata": {
        "id": "m2hWQ5CuXy0k"
      },
      "source": [
        "# Introduction to Regresion with Neural Networks in Tensorflow\n",
        "There are many definitions for a regression problem but in our case, we're going to simplify it: predicting a numerical variable based on some other combination of variables, even shorter predicting a number"
      ]
    },
    {
      "cell_type": "code",
      "execution_count": 132,
      "metadata": {
        "colab": {
          "base_uri": "https://localhost:8080/"
        },
        "id": "Hzx5HZkth7n3",
        "outputId": "809c79fa-903e-4072-f083-204028432534"
      },
      "outputs": [
        {
          "output_type": "stream",
          "name": "stdout",
          "text": [
            "2.15.0\n"
          ]
        }
      ],
      "source": [
        "# import tensorflow\n",
        "import tensorflow as tf\n",
        "print(tf.__version__)"
      ]
    },
    {
      "cell_type": "markdown",
      "metadata": {
        "id": "ATMaw2F-iA_A"
      },
      "source": [
        "## Creating data to view and fit"
      ]
    },
    {
      "cell_type": "code",
      "execution_count": 133,
      "metadata": {
        "colab": {
          "base_uri": "https://localhost:8080/",
          "height": 452
        },
        "id": "c3ukeQN-iI8n",
        "outputId": "5a6298cf-59dc-4079-cf1e-4e7c0d9b70b0"
      },
      "outputs": [
        {
          "output_type": "execute_result",
          "data": {
            "text/plain": [
              "<matplotlib.collections.PathCollection at 0x7fe638d69f90>"
            ]
          },
          "metadata": {},
          "execution_count": 133
        },
        {
          "output_type": "display_data",
          "data": {
            "text/plain": [
              "<Figure size 640x480 with 1 Axes>"
            ],
            "image/png": "[encoded data removed]"
          },
          "metadata": {}
        }
      ],
      "source": [
        "import numpy as np\n",
        "import matplotlib.pyplot as plt\n",
        "# create features\n",
        "X = np.array([-7.0,-4.0,-1.0,2.0,5.0,8.0,11.0,14.0])\n",
        "# create labels\n",
        "y = np.array([3.0,6.0,9.0,12.0,15.0,18.0,21.0,24.0])\n",
        "\n",
        "plt.scatter(X,y)"
      ]
    },
    {
      "cell_type": "code",
      "execution_count": 134,
      "metadata": {
        "colab": {
          "base_uri": "https://localhost:8080/"
        },
        "id": "00Kkv_EniIJg",
        "outputId": "d98c1350-cb53-46ba-d478-dfbf996f4ffc"
      },
      "outputs": [
        {
          "output_type": "execute_result",
          "data": {
            "text/plain": [
              "array([ True,  True,  True,  True,  True,  True,  True,  True])"
            ]
          },
          "metadata": {},
          "execution_count": 134
        }
      ],
      "source": [
        "y == X + 10"
      ]
    },
    {
      "cell_type": "markdown",
      "metadata": {
        "id": "Rq3y_qdqi_CV"
      },
      "source": [
        "## Input and output shapes"
      ]
    },
    {
      "cell_type": "code",
      "execution_count": 135,
      "metadata": {
        "colab": {
          "base_uri": "https://localhost:8080/"
        },
        "id": "bWxsOGAljs9n",
        "outputId": "aad6c65e-bf4d-4e75-9612-b4374674600e"
      },
      "outputs": [
        {
          "output_type": "execute_result",
          "data": {
            "text/plain": [
              "(-7.0, 3.0)"
            ]
          },
          "metadata": {},
          "execution_count": 135
        }
      ],
      "source": [
        "X[0], y[0]"
      ]
    },
    {
      "cell_type": "code",
      "execution_count": 136,
      "metadata": {
        "colab": {
          "base_uri": "https://localhost:8080/"
        },
        "id": "W5mjdl7BjwEi",
        "outputId": "65b2c2b3-ebbb-4fb8-e6a7-9d164a60e530"
      },
      "outputs": [
        {
          "output_type": "execute_result",
          "data": {
            "text/plain": [
              "(-4.0, 6.0)"
            ]
          },
          "metadata": {},
          "execution_count": 136
        }
      ],
      "source": [
        "X[1],y[1]"
      ]
    },
    {
      "cell_type": "code",
      "execution_count": 137,
      "metadata": {
        "colab": {
          "base_uri": "https://localhost:8080/"
        },
        "id": "JiupWI3xjIDb",
        "outputId": "816f7d99-b8b5-475f-a154-c2a9ed51513a"
      },
      "outputs": [
        {
          "output_type": "execute_result",
          "data": {
            "text/plain": [
              "(<tf.Tensor: shape=(3,), dtype=string, numpy=array([b'bedroom', b'bathroom', b'garage'], dtype=object)>,\n",
              " <tf.Tensor: shape=(1,), dtype=int32, numpy=array([939700], dtype=int32)>)"
            ]
          },
          "metadata": {},
          "execution_count": 137
        }
      ],
      "source": [
        "# Create a demo tensor for our housing price prediction problem\n",
        "house_info = tf.constant([\"bedroom\",\"bathroom\",\"garage\"])\n",
        "house_price = tf.constant([939700])\n",
        "house_info,house_price"
      ]
    },
    {
      "cell_type": "code",
      "execution_count": 138,
      "metadata": {
        "colab": {
          "base_uri": "https://localhost:8080/"
        },
        "id": "ZeIP8hvmjhHE",
        "outputId": "33a74b04-0b72-41a5-a3f6-85ac908f74cc"
      },
      "outputs": [
        {
          "output_type": "execute_result",
          "data": {
            "text/plain": [
              "((8,), (8,))"
            ]
          },
          "metadata": {},
          "execution_count": 138
        }
      ],
      "source": [
        "input_shape = X.shape\n",
        "output_shape = y.shape\n",
        "input_shape, output_shape"
      ]
    },
    {
      "cell_type": "code",
      "execution_count": 139,
      "metadata": {
        "colab": {
          "base_uri": "https://localhost:8080/"
        },
        "id": "9uxfKqe7jmkq",
        "outputId": "ca19928a-02a3-4b31-8d36-2969d4dc38c3"
      },
      "outputs": [
        {
          "output_type": "execute_result",
          "data": {
            "text/plain": [
              "((), ())"
            ]
          },
          "metadata": {},
          "execution_count": 139
        }
      ],
      "source": [
        "input_shape = X[0].shape\n",
        "output_shape = y[0].shape\n",
        "input_shape, output_shape"
      ]
    },
    {
      "cell_type": "code",
      "execution_count": 140,
      "metadata": {
        "colab": {
          "base_uri": "https://localhost:8080/"
        },
        "id": "aaIeHyRYj3fw",
        "outputId": "61c6cb0b-b060-4baa-f7fe-7e3c1d48cf60"
      },
      "outputs": [
        {
          "output_type": "execute_result",
          "data": {
            "text/plain": [
              "0"
            ]
          },
          "metadata": {},
          "execution_count": 140
        }
      ],
      "source": [
        "X[0].ndim"
      ]
    },
    {
      "cell_type": "code",
      "execution_count": 141,
      "metadata": {
        "colab": {
          "base_uri": "https://localhost:8080/"
        },
        "id": "n24G3tVkj9Mg",
        "outputId": "14ff3efa-8d5a-4455-cffc-658b7c6b38df"
      },
      "outputs": [
        {
          "output_type": "execute_result",
          "data": {
            "text/plain": [
              "(-7.0, 3.0)"
            ]
          },
          "metadata": {},
          "execution_count": 141
        }
      ],
      "source": [
        "X[0],y[0]"
      ]
    },
    {
      "cell_type": "code",
      "execution_count": 142,
      "metadata": {
        "colab": {
          "base_uri": "https://localhost:8080/"
        },
        "id": "NsZjQRhUj-6-",
        "outputId": "3dcc982a-09bb-493d-d67d-e4077234945b"
      },
      "outputs": [
        {
          "output_type": "execute_result",
          "data": {
            "text/plain": [
              "(<tf.Tensor: shape=(8,), dtype=float32, numpy=array([-7., -4., -1.,  2.,  5.,  8., 11., 14.], dtype=float32)>,\n",
              " TensorShape([8]))"
            ]
          },
          "metadata": {},
          "execution_count": 142
        }
      ],
      "source": [
        "# Turn numpy arrays into tensors\n",
        "X = tf.cast(tf.constant(X),dtype=tf.float32)\n",
        "y = tf.cast(tf.constant(y),dtype=tf.float32)\n",
        "X,y.shape\n"
      ]
    },
    {
      "cell_type": "code",
      "execution_count": 143,
      "metadata": {
        "colab": {
          "base_uri": "https://localhost:8080/"
        },
        "id": "4JXYCIEnv1Io",
        "outputId": "daf2ff80-9525-44b7-99a3-87dbd63cf7e0"
      },
      "outputs": [
        {
          "output_type": "execute_result",
          "data": {
            "text/plain": [
              "(TensorShape([]), TensorShape([]))"
            ]
          },
          "metadata": {},
          "execution_count": 143
        }
      ],
      "source": [
        "input_shape = X[0].shape\n",
        "output_shape=y[0].shape\n",
        "input_shape, output_shape"
      ]
    },
    {
      "cell_type": "code",
      "execution_count": 144,
      "metadata": {
        "colab": {
          "base_uri": "https://localhost:8080/",
          "height": 452
        },
        "id": "PHqjaO_MwEQk",
        "outputId": "24ddad7e-7d4c-435d-f475-6164fbd0639c"
      },
      "outputs": [
        {
          "output_type": "execute_result",
          "data": {
            "text/plain": [
              "<matplotlib.collections.PathCollection at 0x7fe638d7bdf0>"
            ]
          },
          "metadata": {},
          "execution_count": 144
        },
        {
          "output_type": "display_data",
          "data": {
            "text/plain": [
              "<Figure size 640x480 with 1 Axes>"
            ],
            "image/png": "[encoded data removed]"
          },
          "metadata": {}
        }
      ],
      "source": [
        "plt.scatter(X,y)"
      ]
    },
    {
      "cell_type": "markdown",
      "metadata": {
        "id": "wEpL0t1HyORv"
      },
      "source": [
        "## Steps in modelling with tensorflow\n",
        "1. Creating a model - define input and output  layers as well as hidden layers of model\n",
        "2. Compiling a model - define loss function(tells how wrong model is) and the optimizer(improves model and tells us how to improve) evaluation metrics(gauges how well model performs)\n",
        "3. Fitting the model(where model learns patterns in data)"
      ]
    },
    {
      "cell_type": "code",
      "execution_count": 145,
      "metadata": {
        "id": "TBWHBScTzQ2G"
      },
      "outputs": [],
      "source": [
        "tf.random.set_seed(42)"
      ]
    },
    {
      "cell_type": "code",
      "execution_count": 146,
      "metadata": {
        "id": "I4qEYEG61DPy"
      },
      "outputs": [],
      "source": [
        "model = tf.keras.Sequential()\n",
        "model.add(tf.keras.layers.Dense(1))"
      ]
    },
    {
      "cell_type": "code",
      "execution_count": 147,
      "metadata": {
        "colab": {
          "base_uri": "https://localhost:8080/"
        },
        "id": "zXprJ3LZyqCM",
        "outputId": "be53217a-2c20-489b-fc8a-24891c1c3f70"
      },
      "outputs": [
        {
          "output_type": "stream",
          "name": "stdout",
          "text": [
            "Epoch 1/5\n",
            "1/1 [==============================] - 0s 435ms/step - loss: 8.4541 - mae: 8.4541\n",
            "Epoch 2/5\n",
            "1/1 [==============================] - 0s 16ms/step - loss: 8.3216 - mae: 8.3216\n",
            "Epoch 3/5\n",
            "1/1 [==============================] - 0s 14ms/step - loss: 8.1891 - mae: 8.1891\n",
            "Epoch 4/5\n",
            "1/1 [==============================] - 0s 12ms/step - loss: 8.0566 - mae: 8.0566\n",
            "Epoch 5/5\n",
            "1/1 [==============================] - 0s 16ms/step - loss: 7.9241 - mae: 7.9241\n"
          ]
        },
        {
          "output_type": "execute_result",
          "data": {
            "text/plain": [
              "<keras.src.callbacks.History at 0x7fe639768e80>"
            ]
          },
          "metadata": {},
          "execution_count": 147
        }
      ],
      "source": [
        "# 1. Create a model using sequential API(specified to problem)\n",
        "model = tf.keras.Sequential([\n",
        "    tf.keras.layers.Dense(1),\n",
        "])\n",
        "# 2. compile model\n",
        "model.compile(loss=tf.keras.losses.mae, optimizer=tf.keras.optimizers.SGD(),metrics=[\"mae\"]) # mean absolute error\n",
        "# 3. fit the model\n",
        "model.fit(tf.expand_dims(X, axis=-1), y, epochs=5) # <- updated line\n"
      ]
    },
    {
      "cell_type": "code",
      "execution_count": 148,
      "metadata": {
        "colab": {
          "base_uri": "https://localhost:8080/"
        },
        "id": "CDQS6bAt2Mlz",
        "outputId": "d02ac367-c231-4b56-95e7-cf962b17a5d4"
      },
      "outputs": [
        {
          "output_type": "execute_result",
          "data": {
            "text/plain": [
              "(<tf.Tensor: shape=(8,), dtype=float32, numpy=array([-7., -4., -1.,  2.,  5.,  8., 11., 14.], dtype=float32)>,\n",
              " <tf.Tensor: shape=(8,), dtype=float32, numpy=array([ 3.,  6.,  9., 12., 15., 18., 21., 24.], dtype=float32)>)"
            ]
          },
          "metadata": {},
          "execution_count": 148
        }
      ],
      "source": [
        "X,y"
      ]
    },
    {
      "cell_type": "code",
      "execution_count": 149,
      "metadata": {
        "colab": {
          "base_uri": "https://localhost:8080/"
        },
        "id": "VZXvYRChzWac",
        "outputId": "9716b2aa-9d2b-4a93-85f5-2cab6861a674"
      },
      "outputs": [
        {
          "output_type": "stream",
          "name": "stdout",
          "text": [
            "1/1 [==============================] - 0s 74ms/step\n"
          ]
        },
        {
          "output_type": "execute_result",
          "data": {
            "text/plain": [
              "array([[17.833424]], dtype=float32)"
            ]
          },
          "metadata": {},
          "execution_count": 149
        }
      ],
      "source": [
        "y_pred = model.predict([11.0])\n",
        "y_pred"
      ]
    },
    {
      "cell_type": "markdown",
      "metadata": {
        "id": "5jQPZv5w006H"
      },
      "source": [
        "## Improving our model\n",
        "We can improve our model, by altering the steps we took to create the model\n",
        "\n",
        "1. creating a model - here we might add more layers, increase hidden units within each hidden layer, change activation func of layers\n",
        "2. compiling a model - here we might change optimization function or perhaps the learning rate of the optimization function\n",
        "3. fitting a model - here we might fit a model for more epochs or on more data"
      ]
    },
    {
      "cell_type": "code",
      "execution_count": 150,
      "metadata": {
        "colab": {
          "base_uri": "https://localhost:8080/"
        },
        "id": "IYXoxTiy45C4",
        "outputId": "afba18c3-154c-4d4f-f22f-c17b9d3c83aa"
      },
      "outputs": [
        {
          "output_type": "stream",
          "name": "stdout",
          "text": [
            "Epoch 1/100\n",
            "1/1 [==============================] - 0s 325ms/step - loss: 13.9741 - mae: 13.9741\n",
            "Epoch 2/100\n",
            "1/1 [==============================] - 0s 14ms/step - loss: 13.8416 - mae: 13.8416\n",
            "Epoch 3/100\n",
            "1/1 [==============================] - 0s 18ms/step - loss: 13.7091 - mae: 13.7091\n",
            "Epoch 4/100\n",
            "1/1 [==============================] - 0s 9ms/step - loss: 13.5766 - mae: 13.5766\n",
            "Epoch 5/100\n",
            "1/1 [==============================] - 0s 18ms/step - loss: 13.4441 - mae: 13.4441\n",
            "Epoch 6/100\n",
            "1/1 [==============================] - 0s 13ms/step - loss: 13.3116 - mae: 13.3116\n",
            "Epoch 7/100\n",
            "1/1 [==============================] - 0s 15ms/step - loss: 13.1791 - mae: 13.1791\n",
            "Epoch 8/100\n",
            "1/1 [==============================] - 0s 11ms/step - loss: 13.0466 - mae: 13.0466\n",
            "Epoch 9/100\n",
            "1/1 [==============================] - 0s 11ms/step - loss: 12.9141 - mae: 12.9141\n",
            "Epoch 10/100\n",
            "1/1 [==============================] - 0s 13ms/step - loss: 12.7816 - mae: 12.7816\n",
            "Epoch 11/100\n",
            "1/1 [==============================] - 0s 12ms/step - loss: 12.6491 - mae: 12.6491\n",
            "Epoch 12/100\n",
            "1/1 [==============================] - 0s 13ms/step - loss: 12.5166 - mae: 12.5166\n",
            "Epoch 13/100\n",
            "1/1 [==============================] - 0s 10ms/step - loss: 12.3841 - mae: 12.3841\n",
            "Epoch 14/100\n",
            "1/1 [==============================] - 0s 16ms/step - loss: 12.2516 - mae: 12.2516\n",
            "Epoch 15/100\n",
            "1/1 [==============================] - 0s 11ms/step - loss: 12.1191 - mae: 12.1191\n",
            "Epoch 16/100\n",
            "1/1 [==============================] - 0s 12ms/step - loss: 11.9866 - mae: 11.9866\n",
            "Epoch 17/100\n",
            "1/1 [==============================] - 0s 13ms/step - loss: 11.8541 - mae: 11.8541\n",
            "Epoch 18/100\n",
            "1/1 [==============================] - 0s 10ms/step - loss: 11.7216 - mae: 11.7216\n",
            "Epoch 19/100\n",
            "1/1 [==============================] - 0s 11ms/step - loss: 11.5891 - mae: 11.5891\n",
            "Epoch 20/100\n",
            "1/1 [==============================] - 0s 10ms/step - loss: 11.4566 - mae: 11.4566\n",
            "Epoch 21/100\n",
            "1/1 [==============================] - 0s 11ms/step - loss: 11.3241 - mae: 11.3241\n",
            "Epoch 22/100\n",
            "1/1 [==============================] - 0s 13ms/step - loss: 11.1916 - mae: 11.1916\n",
            "Epoch 23/100\n",
            "1/1 [==============================] - 0s 10ms/step - loss: 11.0591 - mae: 11.0591\n",
            "Epoch 24/100\n",
            "1/1 [==============================] - 0s 11ms/step - loss: 10.9266 - mae: 10.9266\n",
            "Epoch 25/100\n",
            "1/1 [==============================] - 0s 12ms/step - loss: 10.7941 - mae: 10.7941\n",
            "Epoch 26/100\n",
            "1/1 [==============================] - 0s 12ms/step - loss: 10.6616 - mae: 10.6616\n",
            "Epoch 27/100\n",
            "1/1 [==============================] - 0s 10ms/step - loss: 10.5291 - mae: 10.5291\n",
            "Epoch 28/100\n",
            "1/1 [==============================] - 0s 11ms/step - loss: 10.3966 - mae: 10.3966\n",
            "Epoch 29/100\n",
            "1/1 [==============================] - 0s 10ms/step - loss: 10.2641 - mae: 10.2641\n",
            "Epoch 30/100\n",
            "1/1 [==============================] - 0s 12ms/step - loss: 10.1316 - mae: 10.1316\n",
            "Epoch 31/100\n",
            "1/1 [==============================] - 0s 15ms/step - loss: 9.9991 - mae: 9.9991\n",
            "Epoch 32/100\n",
            "1/1 [==============================] - 0s 10ms/step - loss: 9.8666 - mae: 9.8666\n",
            "Epoch 33/100\n",
            "1/1 [==============================] - 0s 10ms/step - loss: 9.7341 - mae: 9.7341\n",
            "Epoch 34/100\n",
            "1/1 [==============================] - 0s 10ms/step - loss: 9.6016 - mae: 9.6016\n",
            "Epoch 35/100\n",
            "1/1 [==============================] - 0s 11ms/step - loss: 9.4691 - mae: 9.4691\n",
            "Epoch 36/100\n",
            "1/1 [==============================] - 0s 10ms/step - loss: 9.3366 - mae: 9.3366\n",
            "Epoch 37/100\n",
            "1/1 [==============================] - 0s 10ms/step - loss: 9.2041 - mae: 9.2041\n",
            "Epoch 38/100\n",
            "1/1 [==============================] - 0s 11ms/step - loss: 9.0716 - mae: 9.0716\n",
            "Epoch 39/100\n",
            "1/1 [==============================] - 0s 11ms/step - loss: 8.9391 - mae: 8.9391\n",
            "Epoch 40/100\n",
            "1/1 [==============================] - 0s 11ms/step - loss: 8.8066 - mae: 8.8066\n",
            "Epoch 41/100\n",
            "1/1 [==============================] - 0s 11ms/step - loss: 8.6741 - mae: 8.6741\n",
            "Epoch 42/100\n",
            "1/1 [==============================] - 0s 11ms/step - loss: 8.5416 - mae: 8.5416\n",
            "Epoch 43/100\n",
            "1/1 [==============================] - 0s 11ms/step - loss: 8.4091 - mae: 8.4091\n",
            "Epoch 44/100\n",
            "1/1 [==============================] - 0s 11ms/step - loss: 8.2766 - mae: 8.2766\n",
            "Epoch 45/100\n",
            "1/1 [==============================] - 0s 11ms/step - loss: 8.1441 - mae: 8.1441\n",
            "Epoch 46/100\n",
            "1/1 [==============================] - 0s 11ms/step - loss: 8.0116 - mae: 8.0116\n",
            "Epoch 47/100\n",
            "1/1 [==============================] - 0s 12ms/step - loss: 7.8791 - mae: 7.8791\n",
            "Epoch 48/100\n",
            "1/1 [==============================] - 0s 11ms/step - loss: 7.7466 - mae: 7.7466\n",
            "Epoch 49/100\n",
            "1/1 [==============================] - 0s 12ms/step - loss: 7.6141 - mae: 7.6141\n",
            "Epoch 50/100\n",
            "1/1 [==============================] - 0s 11ms/step - loss: 7.4816 - mae: 7.4816\n",
            "Epoch 51/100\n",
            "1/1 [==============================] - 0s 11ms/step - loss: 7.3491 - mae: 7.3491\n",
            "Epoch 52/100\n",
            "1/1 [==============================] - 0s 12ms/step - loss: 7.2166 - mae: 7.2166\n",
            "Epoch 53/100\n",
            "1/1 [==============================] - 0s 12ms/step - loss: 7.1100 - mae: 7.1100\n",
            "Epoch 54/100\n",
            "1/1 [==============================] - 0s 12ms/step - loss: 7.1044 - mae: 7.1044\n",
            "Epoch 55/100\n",
            "1/1 [==============================] - 0s 10ms/step - loss: 7.0988 - mae: 7.0988\n",
            "Epoch 56/100\n",
            "1/1 [==============================] - 0s 10ms/step - loss: 7.0931 - mae: 7.0931\n",
            "Epoch 57/100\n",
            "1/1 [==============================] - 0s 11ms/step - loss: 7.0875 - mae: 7.0875\n",
            "Epoch 58/100\n",
            "1/1 [==============================] - 0s 11ms/step - loss: 7.0819 - mae: 7.0819\n",
            "Epoch 59/100\n",
            "1/1 [==============================] - 0s 11ms/step - loss: 7.0762 - mae: 7.0762\n",
            "Epoch 60/100\n",
            "1/1 [==============================] - 0s 11ms/step - loss: 7.0706 - mae: 7.0706\n",
            "Epoch 61/100\n",
            "1/1 [==============================] - 0s 11ms/step - loss: 7.0650 - mae: 7.0650\n",
            "Epoch 62/100\n",
            "1/1 [==============================] - 0s 11ms/step - loss: 7.0594 - mae: 7.0594\n",
            "Epoch 63/100\n",
            "1/1 [==============================] - 0s 12ms/step - loss: 7.0538 - mae: 7.0538\n",
            "Epoch 64/100\n",
            "1/1 [==============================] - 0s 12ms/step - loss: 7.0481 - mae: 7.0481\n",
            "Epoch 65/100\n",
            "1/1 [==============================] - 0s 11ms/step - loss: 7.0425 - mae: 7.0425\n",
            "Epoch 66/100\n",
            "1/1 [==============================] - 0s 11ms/step - loss: 7.0369 - mae: 7.0369\n",
            "Epoch 67/100\n",
            "1/1 [==============================] - 0s 11ms/step - loss: 7.0312 - mae: 7.0312\n",
            "Epoch 68/100\n",
            "1/1 [==============================] - 0s 11ms/step - loss: 7.0256 - mae: 7.0256\n",
            "Epoch 69/100\n",
            "1/1 [==============================] - 0s 11ms/step - loss: 7.0200 - mae: 7.0200\n",
            "Epoch 70/100\n",
            "1/1 [==============================] - 0s 12ms/step - loss: 7.0144 - mae: 7.0144\n",
            "Epoch 71/100\n",
            "1/1 [==============================] - 0s 19ms/step - loss: 7.0087 - mae: 7.0087\n",
            "Epoch 72/100\n",
            "1/1 [==============================] - 0s 12ms/step - loss: 7.0031 - mae: 7.0031\n",
            "Epoch 73/100\n",
            "1/1 [==============================] - 0s 12ms/step - loss: 6.9975 - mae: 6.9975\n",
            "Epoch 74/100\n",
            "1/1 [==============================] - 0s 12ms/step - loss: 6.9919 - mae: 6.9919\n",
            "Epoch 75/100\n",
            "1/1 [==============================] - 0s 13ms/step - loss: 6.9862 - mae: 6.9862\n",
            "Epoch 76/100\n",
            "1/1 [==============================] - 0s 12ms/step - loss: 6.9806 - mae: 6.9806\n",
            "Epoch 77/100\n",
            "1/1 [==============================] - 0s 12ms/step - loss: 6.9750 - mae: 6.9750\n",
            "Epoch 78/100\n",
            "1/1 [==============================] - 0s 15ms/step - loss: 6.9694 - mae: 6.9694\n",
            "Epoch 79/100\n",
            "1/1 [==============================] - 0s 11ms/step - loss: 6.9637 - mae: 6.9637\n",
            "Epoch 80/100\n",
            "1/1 [==============================] - 0s 11ms/step - loss: 6.9581 - mae: 6.9581\n",
            "Epoch 81/100\n",
            "1/1 [==============================] - 0s 11ms/step - loss: 6.9525 - mae: 6.9525\n",
            "Epoch 82/100\n",
            "1/1 [==============================] - 0s 11ms/step - loss: 6.9469 - mae: 6.9469\n",
            "Epoch 83/100\n",
            "1/1 [==============================] - 0s 10ms/step - loss: 6.9412 - mae: 6.9412\n",
            "Epoch 84/100\n",
            "1/1 [==============================] - 0s 11ms/step - loss: 6.9356 - mae: 6.9356\n",
            "Epoch 85/100\n",
            "1/1 [==============================] - 0s 13ms/step - loss: 6.9300 - mae: 6.9300\n",
            "Epoch 86/100\n",
            "1/1 [==============================] - 0s 16ms/step - loss: 6.9244 - mae: 6.9244\n",
            "Epoch 87/100\n",
            "1/1 [==============================] - 0s 11ms/step - loss: 6.9187 - mae: 6.9187\n",
            "Epoch 88/100\n",
            "1/1 [==============================] - 0s 13ms/step - loss: 6.9131 - mae: 6.9131\n",
            "Epoch 89/100\n",
            "1/1 [==============================] - 0s 13ms/step - loss: 6.9075 - mae: 6.9075\n",
            "Epoch 90/100\n",
            "1/1 [==============================] - 0s 11ms/step - loss: 6.9019 - mae: 6.9019\n",
            "Epoch 91/100\n",
            "1/1 [==============================] - 0s 11ms/step - loss: 6.8963 - mae: 6.8963\n",
            "Epoch 92/100\n",
            "1/1 [==============================] - 0s 11ms/step - loss: 6.8906 - mae: 6.8906\n",
            "Epoch 93/100\n",
            "1/1 [==============================] - 0s 12ms/step - loss: 6.8850 - mae: 6.8850\n",
            "Epoch 94/100\n",
            "1/1 [==============================] - 0s 11ms/step - loss: 6.8794 - mae: 6.8794\n",
            "Epoch 95/100\n",
            "1/1 [==============================] - 0s 12ms/step - loss: 6.8738 - mae: 6.8738\n",
            "Epoch 96/100\n",
            "1/1 [==============================] - 0s 12ms/step - loss: 6.8681 - mae: 6.8681\n",
            "Epoch 97/100\n",
            "1/1 [==============================] - 0s 11ms/step - loss: 6.8625 - mae: 6.8625\n",
            "Epoch 98/100\n",
            "1/1 [==============================] - 0s 11ms/step - loss: 6.8569 - mae: 6.8569\n",
            "Epoch 99/100\n",
            "1/1 [==============================] - 0s 10ms/step - loss: 6.8512 - mae: 6.8512\n",
            "Epoch 100/100\n",
            "1/1 [==============================] - 0s 10ms/step - loss: 6.8456 - mae: 6.8456\n"
          ]
        },
        {
          "output_type": "execute_result",
          "data": {
            "text/plain": [
              "<keras.src.callbacks.History at 0x7fe638d7f8b0>"
            ]
          },
          "metadata": {},
          "execution_count": 150
        }
      ],
      "source": [
        "# 1. Create a model using sequential API(specified to problem)\n",
        "model = tf.keras.Sequential([\n",
        "    tf.keras.layers.Dense(1),\n",
        "])\n",
        "# 2. compile model\n",
        "model.compile(loss=tf.keras.losses.mae, optimizer=tf.keras.optimizers.SGD(),metrics=[\"mae\"]) # mean absolute error\n",
        "# 3. fit the model\n",
        "model.fit(tf.expand_dims(X, axis=-1), y, epochs=100) # <- updated line\n"
      ]
    },
    {
      "cell_type": "code",
      "execution_count": 151,
      "metadata": {
        "colab": {
          "base_uri": "https://localhost:8080/"
        },
        "id": "jniXwecG5SPU",
        "outputId": "020b6a05-b3b8-4e53-fb1d-f8e03cc82df4"
      },
      "outputs": [
        {
          "output_type": "stream",
          "name": "stdout",
          "text": [
            "1/1 [==============================] - 0s 84ms/step\n"
          ]
        },
        {
          "output_type": "execute_result",
          "data": {
            "text/plain": [
              "array([[29.51727]], dtype=float32)"
            ]
          },
          "metadata": {},
          "execution_count": 151
        }
      ],
      "source": [
        "# Lets see if pred has improved\n",
        "y_pred = model.predict([17.0])\n",
        "y_pred"
      ]
    },
    {
      "cell_type": "code",
      "execution_count": 152,
      "metadata": {
        "colab": {
          "base_uri": "https://localhost:8080/"
        },
        "id": "WWkQsStt8Ers",
        "outputId": "7ffee2ac-3845-47d0-e720-82ebc46d2a45"
      },
      "outputs": [
        {
          "output_type": "stream",
          "name": "stdout",
          "text": [
            "Epoch 1/100\n",
            "1/1 [==============================] - 1s 961ms/step - loss: 12.8645 - mae: 12.8645\n",
            "Epoch 2/100\n",
            "1/1 [==============================] - 0s 19ms/step - loss: 12.1838 - mae: 12.1838\n",
            "Epoch 3/100\n",
            "1/1 [==============================] - 0s 16ms/step - loss: 11.4985 - mae: 11.4985\n",
            "Epoch 4/100\n",
            "1/1 [==============================] - 0s 19ms/step - loss: 10.8075 - mae: 10.8075\n",
            "Epoch 5/100\n",
            "1/1 [==============================] - 0s 12ms/step - loss: 10.1086 - mae: 10.1086\n",
            "Epoch 6/100\n",
            "1/1 [==============================] - 0s 16ms/step - loss: 9.3988 - mae: 9.3988\n",
            "Epoch 7/100\n",
            "1/1 [==============================] - 0s 19ms/step - loss: 8.6748 - mae: 8.6748\n",
            "Epoch 8/100\n",
            "1/1 [==============================] - 0s 13ms/step - loss: 7.9334 - mae: 7.9334\n",
            "Epoch 9/100\n",
            "1/1 [==============================] - 0s 13ms/step - loss: 7.1714 - mae: 7.1714\n",
            "Epoch 10/100\n",
            "1/1 [==============================] - 0s 12ms/step - loss: 6.8072 - mae: 6.8072\n",
            "Epoch 11/100\n",
            "1/1 [==============================] - 0s 12ms/step - loss: 7.0719 - mae: 7.0719\n",
            "Epoch 12/100\n",
            "1/1 [==============================] - 0s 13ms/step - loss: 7.3568 - mae: 7.3568\n",
            "Epoch 13/100\n",
            "1/1 [==============================] - 0s 18ms/step - loss: 7.6433 - mae: 7.6433\n",
            "Epoch 14/100\n",
            "1/1 [==============================] - 0s 16ms/step - loss: 7.7253 - mae: 7.7253\n",
            "Epoch 15/100\n",
            "1/1 [==============================] - 0s 13ms/step - loss: 7.6050 - mae: 7.6050\n",
            "Epoch 16/100\n",
            "1/1 [==============================] - 0s 13ms/step - loss: 7.3345 - mae: 7.3345\n",
            "Epoch 17/100\n",
            "1/1 [==============================] - 0s 14ms/step - loss: 7.0125 - mae: 7.0125\n",
            "Epoch 18/100\n",
            "1/1 [==============================] - 0s 14ms/step - loss: 6.7487 - mae: 6.7487\n",
            "Epoch 19/100\n",
            "1/1 [==============================] - 0s 13ms/step - loss: 6.4694 - mae: 6.4694\n",
            "Epoch 20/100\n",
            "1/1 [==============================] - 0s 17ms/step - loss: 6.1794 - mae: 6.1794\n",
            "Epoch 21/100\n",
            "1/1 [==============================] - 0s 13ms/step - loss: 6.1349 - mae: 6.1349\n",
            "Epoch 22/100\n",
            "1/1 [==============================] - 0s 13ms/step - loss: 6.0864 - mae: 6.0864\n",
            "Epoch 23/100\n",
            "1/1 [==============================] - 0s 14ms/step - loss: 6.2038 - mae: 6.2038\n",
            "Epoch 24/100\n",
            "1/1 [==============================] - 0s 20ms/step - loss: 6.2440 - mae: 6.2440\n",
            "Epoch 25/100\n",
            "1/1 [==============================] - 0s 14ms/step - loss: 6.1840 - mae: 6.1840\n",
            "Epoch 26/100\n",
            "1/1 [==============================] - 0s 14ms/step - loss: 6.0361 - mae: 6.0361\n",
            "Epoch 27/100\n",
            "1/1 [==============================] - 0s 14ms/step - loss: 5.8090 - mae: 5.8090\n",
            "Epoch 28/100\n",
            "1/1 [==============================] - 0s 17ms/step - loss: 5.6168 - mae: 5.6168\n",
            "Epoch 29/100\n",
            "1/1 [==============================] - 0s 13ms/step - loss: 5.5116 - mae: 5.5116\n",
            "Epoch 30/100\n",
            "1/1 [==============================] - 0s 12ms/step - loss: 5.4036 - mae: 5.4036\n",
            "Epoch 31/100\n",
            "1/1 [==============================] - 0s 12ms/step - loss: 5.4336 - mae: 5.4336\n",
            "Epoch 32/100\n",
            "1/1 [==============================] - 0s 15ms/step - loss: 5.4223 - mae: 5.4223\n",
            "Epoch 33/100\n",
            "1/1 [==============================] - 0s 14ms/step - loss: 5.3659 - mae: 5.3659\n",
            "Epoch 34/100\n",
            "1/1 [==============================] - 0s 11ms/step - loss: 5.2681 - mae: 5.2681\n",
            "Epoch 35/100\n",
            "1/1 [==============================] - 0s 13ms/step - loss: 5.1325 - mae: 5.1325\n",
            "Epoch 36/100\n",
            "1/1 [==============================] - 0s 10ms/step - loss: 4.9624 - mae: 4.9624\n",
            "Epoch 37/100\n",
            "1/1 [==============================] - 0s 15ms/step - loss: 4.7611 - mae: 4.7611\n",
            "Epoch 38/100\n",
            "1/1 [==============================] - 0s 11ms/step - loss: 4.6325 - mae: 4.6325\n",
            "Epoch 39/100\n",
            "1/1 [==============================] - 0s 11ms/step - loss: 4.5401 - mae: 4.5401\n",
            "Epoch 40/100\n",
            "1/1 [==============================] - 0s 14ms/step - loss: 4.4532 - mae: 4.4532\n",
            "Epoch 41/100\n",
            "1/1 [==============================] - 0s 12ms/step - loss: 4.3675 - mae: 4.3675\n",
            "Epoch 42/100\n",
            "1/1 [==============================] - 0s 13ms/step - loss: 4.1846 - mae: 4.1846\n",
            "Epoch 43/100\n",
            "1/1 [==============================] - 0s 12ms/step - loss: 4.0417 - mae: 4.0417\n",
            "Epoch 44/100\n",
            "1/1 [==============================] - 0s 11ms/step - loss: 3.8916 - mae: 3.8916\n",
            "Epoch 45/100\n",
            "1/1 [==============================] - 0s 19ms/step - loss: 3.7343 - mae: 3.7343\n",
            "Epoch 46/100\n",
            "1/1 [==============================] - 0s 12ms/step - loss: 3.5769 - mae: 3.5769\n",
            "Epoch 47/100\n",
            "1/1 [==============================] - 0s 13ms/step - loss: 3.4395 - mae: 3.4395\n",
            "Epoch 48/100\n",
            "1/1 [==============================] - 0s 11ms/step - loss: 3.2512 - mae: 3.2512\n",
            "Epoch 49/100\n",
            "1/1 [==============================] - 0s 11ms/step - loss: 3.0926 - mae: 3.0926\n",
            "Epoch 50/100\n",
            "1/1 [==============================] - 0s 12ms/step - loss: 2.9252 - mae: 2.9252\n",
            "Epoch 51/100\n",
            "1/1 [==============================] - 0s 12ms/step - loss: 2.7468 - mae: 2.7468\n",
            "Epoch 52/100\n",
            "1/1 [==============================] - 0s 21ms/step - loss: 2.6074 - mae: 2.6074\n",
            "Epoch 53/100\n",
            "1/1 [==============================] - 0s 13ms/step - loss: 2.3451 - mae: 2.3451\n",
            "Epoch 54/100\n",
            "1/1 [==============================] - 0s 17ms/step - loss: 2.1225 - mae: 2.1225\n",
            "Epoch 55/100\n",
            "1/1 [==============================] - 0s 13ms/step - loss: 1.9063 - mae: 1.9063\n",
            "Epoch 56/100\n",
            "1/1 [==============================] - 0s 12ms/step - loss: 1.6884 - mae: 1.6884\n",
            "Epoch 57/100\n",
            "1/1 [==============================] - 0s 15ms/step - loss: 1.4293 - mae: 1.4293\n",
            "Epoch 58/100\n",
            "1/1 [==============================] - 0s 14ms/step - loss: 1.1869 - mae: 1.1869\n",
            "Epoch 59/100\n",
            "1/1 [==============================] - 0s 14ms/step - loss: 0.9639 - mae: 0.9639\n",
            "Epoch 60/100\n",
            "1/1 [==============================] - 0s 12ms/step - loss: 0.6614 - mae: 0.6614\n",
            "Epoch 61/100\n",
            "1/1 [==============================] - 0s 14ms/step - loss: 0.4009 - mae: 0.4009\n",
            "Epoch 62/100\n",
            "1/1 [==============================] - 0s 13ms/step - loss: 0.1185 - mae: 0.1185\n",
            "Epoch 63/100\n",
            "1/1 [==============================] - 0s 15ms/step - loss: 0.2610 - mae: 0.2610\n",
            "Epoch 64/100\n",
            "1/1 [==============================] - 0s 13ms/step - loss: 0.4502 - mae: 0.4502\n",
            "Epoch 65/100\n",
            "1/1 [==============================] - 0s 13ms/step - loss: 0.6082 - mae: 0.6082\n",
            "Epoch 66/100\n",
            "1/1 [==============================] - 0s 20ms/step - loss: 0.7221 - mae: 0.7221\n",
            "Epoch 67/100\n",
            "1/1 [==============================] - 0s 18ms/step - loss: 0.7905 - mae: 0.7905\n",
            "Epoch 68/100\n",
            "1/1 [==============================] - 0s 25ms/step - loss: 0.8139 - mae: 0.8139\n",
            "Epoch 69/100\n",
            "1/1 [==============================] - 0s 18ms/step - loss: 0.7940 - mae: 0.7940\n",
            "Epoch 70/100\n",
            "1/1 [==============================] - 0s 20ms/step - loss: 0.7296 - mae: 0.7296\n",
            "Epoch 71/100\n",
            "1/1 [==============================] - 0s 20ms/step - loss: 0.6911 - mae: 0.6911\n",
            "Epoch 72/100\n",
            "1/1 [==============================] - 0s 20ms/step - loss: 0.5302 - mae: 0.5302\n",
            "Epoch 73/100\n",
            "1/1 [==============================] - 0s 16ms/step - loss: 0.4266 - mae: 0.4266\n",
            "Epoch 74/100\n",
            "1/1 [==============================] - 0s 14ms/step - loss: 0.2625 - mae: 0.2625\n",
            "Epoch 75/100\n",
            "1/1 [==============================] - 0s 12ms/step - loss: 0.1350 - mae: 0.1350\n",
            "Epoch 76/100\n",
            "1/1 [==============================] - 0s 12ms/step - loss: 0.1101 - mae: 0.1101\n",
            "Epoch 77/100\n",
            "1/1 [==============================] - 0s 12ms/step - loss: 0.3740 - mae: 0.3740\n",
            "Epoch 78/100\n",
            "1/1 [==============================] - 0s 12ms/step - loss: 0.4289 - mae: 0.4289\n",
            "Epoch 79/100\n",
            "1/1 [==============================] - 0s 11ms/step - loss: 0.3912 - mae: 0.3912\n",
            "Epoch 80/100\n",
            "1/1 [==============================] - 0s 10ms/step - loss: 0.4657 - mae: 0.4657\n",
            "Epoch 81/100\n",
            "1/1 [==============================] - 0s 12ms/step - loss: 0.3700 - mae: 0.3700\n",
            "Epoch 82/100\n",
            "1/1 [==============================] - 0s 12ms/step - loss: 0.4671 - mae: 0.4671\n",
            "Epoch 83/100\n",
            "1/1 [==============================] - 0s 12ms/step - loss: 0.4139 - mae: 0.4139\n",
            "Epoch 84/100\n",
            "1/1 [==============================] - 0s 13ms/step - loss: 0.1876 - mae: 0.1876\n",
            "Epoch 85/100\n",
            "1/1 [==============================] - 0s 11ms/step - loss: 0.4316 - mae: 0.4316\n",
            "Epoch 86/100\n",
            "1/1 [==============================] - 0s 11ms/step - loss: 0.4194 - mae: 0.4194\n",
            "Epoch 87/100\n",
            "1/1 [==============================] - 0s 10ms/step - loss: 0.1838 - mae: 0.1838\n",
            "Epoch 88/100\n",
            "1/1 [==============================] - 0s 11ms/step - loss: 0.5539 - mae: 0.5539\n",
            "Epoch 89/100\n",
            "1/1 [==============================] - 0s 11ms/step - loss: 0.7163 - mae: 0.7163\n",
            "Epoch 90/100\n",
            "1/1 [==============================] - 0s 15ms/step - loss: 0.5648 - mae: 0.5648\n",
            "Epoch 91/100\n",
            "1/1 [==============================] - 0s 12ms/step - loss: 0.2254 - mae: 0.2254\n",
            "Epoch 92/100\n",
            "1/1 [==============================] - 0s 13ms/step - loss: 0.4196 - mae: 0.4196\n",
            "Epoch 93/100\n",
            "1/1 [==============================] - 0s 12ms/step - loss: 0.5073 - mae: 0.5073\n",
            "Epoch 94/100\n",
            "1/1 [==============================] - 0s 9ms/step - loss: 0.2872 - mae: 0.2872\n",
            "Epoch 95/100\n",
            "1/1 [==============================] - 0s 11ms/step - loss: 0.2222 - mae: 0.2222\n",
            "Epoch 96/100\n",
            "1/1 [==============================] - 0s 15ms/step - loss: 0.3627 - mae: 0.3627\n",
            "Epoch 97/100\n",
            "1/1 [==============================] - 0s 12ms/step - loss: 0.2294 - mae: 0.2294\n",
            "Epoch 98/100\n",
            "1/1 [==============================] - 0s 12ms/step - loss: 0.2257 - mae: 0.2257\n",
            "Epoch 99/100\n",
            "1/1 [==============================] - 0s 13ms/step - loss: 0.2623 - mae: 0.2623\n",
            "Epoch 100/100\n",
            "1/1 [==============================] - 0s 11ms/step - loss: 0.1026 - mae: 0.1026\n"
          ]
        },
        {
          "output_type": "execute_result",
          "data": {
            "text/plain": [
              "<keras.src.callbacks.History at 0x7fe638b3e9b0>"
            ]
          },
          "metadata": {},
          "execution_count": 152
        }
      ],
      "source": [
        "# 1. Create a model using sequential API(specified to problem)\n",
        "model = tf.keras.Sequential([\n",
        "    tf.keras.layers.Dense(50,activation=None),\n",
        "    tf.keras.layers.Dense(1),\n",
        "])\n",
        "# 2. compile model\n",
        "model.compile(loss=tf.keras.losses.mae, optimizer=tf.keras.optimizers.Adam(learning_rate=0.01),metrics=[\"mae\"]) # mean absolute error\n",
        "# 3. fit the model\n",
        "model.fit(tf.expand_dims(X, axis=-1), y, epochs=100) # <- updated line\n"
      ]
    },
    {
      "cell_type": "code",
      "execution_count": 153,
      "metadata": {
        "colab": {
          "base_uri": "https://localhost:8080/"
        },
        "id": "DuslWhU28aIO",
        "outputId": "280a7f56-8cc5-4aec-b7c9-54ba63cdb191"
      },
      "outputs": [
        {
          "output_type": "execute_result",
          "data": {
            "text/plain": [
              "(<tf.Tensor: shape=(8,), dtype=float32, numpy=array([-7., -4., -1.,  2.,  5.,  8., 11., 14.], dtype=float32)>,\n",
              " <tf.Tensor: shape=(8,), dtype=float32, numpy=array([ 3.,  6.,  9., 12., 15., 18., 21., 24.], dtype=float32)>)"
            ]
          },
          "metadata": {},
          "execution_count": 153
        }
      ],
      "source": [
        "X,y"
      ]
    },
    {
      "cell_type": "code",
      "execution_count": 154,
      "metadata": {
        "colab": {
          "base_uri": "https://localhost:8080/"
        },
        "id": "komLYnfi8Q8S",
        "outputId": "a1177b87-8d8f-4e39-dcfc-2c970d34e1d4"
      },
      "outputs": [
        {
          "output_type": "stream",
          "name": "stdout",
          "text": [
            "1/1 [==============================] - 0s 169ms/step\n"
          ]
        },
        {
          "output_type": "execute_result",
          "data": {
            "text/plain": [
              "array([[26.951086]], dtype=float32)"
            ]
          },
          "metadata": {},
          "execution_count": 154
        }
      ],
      "source": [
        "# Lets see if pred has improved\n",
        "y_pred = model.predict([17.0])\n",
        "y_pred"
      ]
    },
    {
      "cell_type": "markdown",
      "metadata": {
        "id": "k5Fxd8Qd8FxS"
      },
      "source": [
        "## Evaluating a model\n",
        "In practice, a typical workflow you'll go through when building a neural network is:\n",
        "\n",
        "``` build a model -> fit it -> evaluate it -> tweak a model -> evaluate it -> repeat"
      ]
    },
    {
      "cell_type": "markdown",
      "metadata": {
        "id": "JRHGTOUN4fCd"
      },
      "source": [
        "When it comes to evaluation experiment experiment experiment\n",
        "When it comes to evaluation it's\n",
        "> visualization, visualization, visualization\n",
        "It's a good idea to visualize\n",
        "* The data - imagine what it looks like\n",
        "* The model itself - what does our model look like?\n",
        "* The training of a model - how does model perform while it learns?\n",
        "* The predictions of the model - how do predictions line up with the ground truth"
      ]
    },
    {
      "cell_type": "code",
      "execution_count": 155,
      "metadata": {
        "colab": {
          "base_uri": "https://localhost:8080/"
        },
        "id": "O_l1TrMgU8OI",
        "outputId": "c6f47360-b030-43ca-d77c-3eee197aaf17"
      },
      "outputs": [
        {
          "output_type": "execute_result",
          "data": {
            "text/plain": [
              "<tf.Tensor: shape=(50,), dtype=int32, numpy=\n",
              "array([-100,  -96,  -92,  -88,  -84,  -80,  -76,  -72,  -68,  -64,  -60,\n",
              "        -56,  -52,  -48,  -44,  -40,  -36,  -32,  -28,  -24,  -20,  -16,\n",
              "        -12,   -8,   -4,    0,    4,    8,   12,   16,   20,   24,   28,\n",
              "         32,   36,   40,   44,   48,   52,   56,   60,   64,   68,   72,\n",
              "         76,   80,   84,   88,   92,   96], dtype=int32)>"
            ]
          },
          "metadata": {},
          "execution_count": 155
        }
      ],
      "source": [
        "# Make a bigger dataset\n",
        "X = tf.range(-100,100,4)\n",
        "X"
      ]
    },
    {
      "cell_type": "code",
      "execution_count": 156,
      "metadata": {
        "colab": {
          "base_uri": "https://localhost:8080/"
        },
        "id": "ClUwP6AvVDIY",
        "outputId": "ddb5c724-21ae-454b-fb54-ce034ba929bb"
      },
      "outputs": [
        {
          "output_type": "execute_result",
          "data": {
            "text/plain": [
              "<tf.Tensor: shape=(50,), dtype=int32, numpy=\n",
              "array([-90, -86, -82, -78, -74, -70, -66, -62, -58, -54, -50, -46, -42,\n",
              "       -38, -34, -30, -26, -22, -18, -14, -10,  -6,  -2,   2,   6,  10,\n",
              "        14,  18,  22,  26,  30,  34,  38,  42,  46,  50,  54,  58,  62,\n",
              "        66,  70,  74,  78,  82,  86,  90,  94,  98, 102, 106], dtype=int32)>"
            ]
          },
          "metadata": {},
          "execution_count": 156
        }
      ],
      "source": [
        "# Make labels for the datase\n",
        "y = X + 10\n",
        "y"
      ]
    },
    {
      "cell_type": "code",
      "execution_count": 157,
      "metadata": {
        "colab": {
          "base_uri": "https://localhost:8080/",
          "height": 447
        },
        "id": "KaS1K5sUVN30",
        "outputId": "2fbbb5fa-2cf2-4d1f-a982-b5c4dae8b3c8"
      },
      "outputs": [
        {
          "output_type": "execute_result",
          "data": {
            "text/plain": [
              "<matplotlib.collections.PathCollection at 0x7fe638880cd0>"
            ]
          },
          "metadata": {},
          "execution_count": 157
        },
        {
          "output_type": "display_data",
          "data": {
            "text/plain": [
              "<Figure size 640x480 with 1 Axes>"
            ],
            "image/png": "[encoded data removed]"
          },
          "metadata": {}
        }
      ],
      "source": [
        "# visualize the data\n",
        "plt.scatter(X,y)"
      ]
    },
    {
      "cell_type": "markdown",
      "metadata": {
        "id": "Bk62q06AVtjp"
      },
      "source": [
        "### The 3 sets...."
      ]
    },
    {
      "cell_type": "markdown",
      "metadata": {
        "id": "Y1PiPPYeUTu9"
      },
      "source": [
        "* **Training** - the model used to train the data, usually 70 - 80 % of the total amount of data\n",
        "* **Validation** - Used to validate how well the model performs usually around 10% of the total available data\n",
        "* **Test** - provides an unbiased account of how well the model is performing usually 10 - 15 % of the total available data\n",
        "\n",
        "We want the model to be able to generalize - performs well on data which the model hasn't seen before and learns generalised patterns within the data"
      ]
    },
    {
      "cell_type": "code",
      "execution_count": 158,
      "metadata": {
        "colab": {
          "base_uri": "https://localhost:8080/"
        },
        "id": "q_ifD0ZlaocP",
        "outputId": "b98abe3b-3a9f-405c-aaee-317c10b40b56"
      },
      "outputs": [
        {
          "output_type": "execute_result",
          "data": {
            "text/plain": [
              "50"
            ]
          },
          "metadata": {},
          "execution_count": 158
        }
      ],
      "source": [
        "# Check the length of how many samples we have\n",
        "len(X)"
      ]
    },
    {
      "cell_type": "code",
      "execution_count": 159,
      "metadata": {
        "colab": {
          "base_uri": "https://localhost:8080/"
        },
        "id": "x2xoPmEabAwa",
        "outputId": "6d666854-81ef-4068-ebdc-659a4cd4304e"
      },
      "outputs": [
        {
          "output_type": "execute_result",
          "data": {
            "text/plain": [
              "(40, 10, 40, 10)"
            ]
          },
          "metadata": {},
          "execution_count": 159
        }
      ],
      "source": [
        "# Split the data into train and test sets\n",
        "X_train = X[:40] # first 40 are training samples\n",
        "y_train = y[:40]\n",
        "\n",
        "X_test = X[40:]\n",
        "y_test = y[40:]\n",
        "\n",
        "len(X_train),len(X_test),len(y_train),len(y_test)"
      ]
    },
    {
      "cell_type": "markdown",
      "metadata": {
        "id": "u9GxXdrjcWmQ"
      },
      "source": [
        "### Visualizing the data\n",
        "Now we've got the data in training and test sets... let's visualize it again!"
      ]
    },
    {
      "cell_type": "code",
      "execution_count": 160,
      "metadata": {
        "colab": {
          "base_uri": "https://localhost:8080/",
          "height": 616
        },
        "id": "RmQ7DnPNc211",
        "outputId": "c4839846-3511-4962-a7b0-e74781eb9022"
      },
      "outputs": [
        {
          "output_type": "execute_result",
          "data": {
            "text/plain": [
              "<matplotlib.legend.Legend at 0x7fe6388b3d60>"
            ]
          },
          "metadata": {},
          "execution_count": 160
        },
        {
          "output_type": "display_data",
          "data": {
            "text/plain": [
              "<Figure size 1000x700 with 1 Axes>"
            ],
            "image/png": "[encoded data removed]"
          },
          "metadata": {}
        }
      ],
      "source": [
        "plt.figure(figsize=(10,7))\n",
        "\n",
        "# plot the training data in blue\n",
        "plt.scatter(X_train,y_train, c='b',label=\"Training data\")\n",
        "plt.scatter(X_test, y_test, c=\"g\",label=(\"Testing data\"))\n",
        "plt.legend()"
      ]
    },
    {
      "cell_type": "markdown",
      "metadata": {
        "id": "lldNEoaJdLvo"
      },
      "source": [
        "# Let's have a look at how to build a neural network with our data"
      ]
    },
    {
      "cell_type": "code",
      "execution_count": 161,
      "metadata": {
        "colab": {
          "base_uri": "https://localhost:8080/"
        },
        "id": "WHxIIuWunwXM",
        "outputId": "d6d44142-417c-44a3-824e-00e51126595c"
      },
      "outputs": [
        {
          "output_type": "stream",
          "name": "stdout",
          "text": [
            "Epoch 1/100\n",
            "2/2 [==============================] - 0s 8ms/step - loss: 10.1264 - mae: 10.1264\n",
            "Epoch 2/100\n",
            "2/2 [==============================] - 0s 8ms/step - loss: 10.7684 - mae: 10.7684\n",
            "Epoch 3/100\n",
            "2/2 [==============================] - 0s 9ms/step - loss: 11.4992 - mae: 11.4992\n",
            "Epoch 4/100\n",
            "2/2 [==============================] - 0s 8ms/step - loss: 10.1737 - mae: 10.1737\n",
            "Epoch 5/100\n",
            "2/2 [==============================] - 0s 8ms/step - loss: 13.1157 - mae: 13.1157\n",
            "Epoch 6/100\n",
            "2/2 [==============================] - 0s 9ms/step - loss: 13.7504 - mae: 13.7504\n",
            "Epoch 7/100\n",
            "2/2 [==============================] - 0s 9ms/step - loss: 10.4245 - mae: 10.4245\n",
            "Epoch 8/100\n",
            "2/2 [==============================] - 0s 8ms/step - loss: 11.6472 - mae: 11.6472\n",
            "Epoch 9/100\n",
            "2/2 [==============================] - 0s 10ms/step - loss: 9.8754 - mae: 9.8754\n",
            "Epoch 10/100\n",
            "2/2 [==============================] - 0s 8ms/step - loss: 9.9218 - mae: 9.9218\n",
            "Epoch 11/100\n",
            "2/2 [==============================] - 0s 8ms/step - loss: 9.8938 - mae: 9.8938\n",
            "Epoch 12/100\n",
            "2/2 [==============================] - 0s 8ms/step - loss: 9.8349 - mae: 9.8349\n",
            "Epoch 13/100\n",
            "2/2 [==============================] - 0s 8ms/step - loss: 9.6731 - mae: 9.6731\n",
            "Epoch 14/100\n",
            "2/2 [==============================] - 0s 8ms/step - loss: 11.0361 - mae: 11.0361\n",
            "Epoch 15/100\n",
            "2/2 [==============================] - 0s 10ms/step - loss: 13.4687 - mae: 13.4687\n",
            "Epoch 16/100\n",
            "2/2 [==============================] - 0s 8ms/step - loss: 13.0883 - mae: 13.0883\n",
            "Epoch 17/100\n",
            "2/2 [==============================] - 0s 9ms/step - loss: 10.1367 - mae: 10.1367\n",
            "Epoch 18/100\n",
            "2/2 [==============================] - 0s 10ms/step - loss: 10.6530 - mae: 10.6530\n",
            "Epoch 19/100\n",
            "2/2 [==============================] - 0s 8ms/step - loss: 10.0303 - mae: 10.0303\n",
            "Epoch 20/100\n",
            "2/2 [==============================] - 0s 9ms/step - loss: 10.8248 - mae: 10.8248\n",
            "Epoch 21/100\n",
            "2/2 [==============================] - 0s 8ms/step - loss: 12.1340 - mae: 12.1340\n",
            "Epoch 22/100\n",
            "2/2 [==============================] - 0s 8ms/step - loss: 9.5375 - mae: 9.5375\n",
            "Epoch 23/100\n",
            "2/2 [==============================] - 0s 8ms/step - loss: 9.3086 - mae: 9.3086\n",
            "Epoch 24/100\n",
            "2/2 [==============================] - 0s 8ms/step - loss: 9.6767 - mae: 9.6767\n",
            "Epoch 25/100\n",
            "2/2 [==============================] - 0s 9ms/step - loss: 9.5732 - mae: 9.5732\n",
            "Epoch 26/100\n",
            "2/2 [==============================] - 0s 8ms/step - loss: 9.9957 - mae: 9.9957\n",
            "Epoch 27/100\n",
            "2/2 [==============================] - 0s 10ms/step - loss: 10.3292 - mae: 10.3292\n",
            "Epoch 28/100\n",
            "2/2 [==============================] - 0s 10ms/step - loss: 9.7199 - mae: 9.7199\n",
            "Epoch 29/100\n",
            "2/2 [==============================] - 0s 7ms/step - loss: 9.6063 - mae: 9.6063\n",
            "Epoch 30/100\n",
            "2/2 [==============================] - 0s 9ms/step - loss: 9.7307 - mae: 9.7307\n",
            "Epoch 31/100\n",
            "2/2 [==============================] - 0s 11ms/step - loss: 10.6248 - mae: 10.6248\n",
            "Epoch 32/100\n",
            "2/2 [==============================] - 0s 8ms/step - loss: 9.6554 - mae: 9.6554\n",
            "Epoch 33/100\n",
            "2/2 [==============================] - 0s 9ms/step - loss: 9.4468 - mae: 9.4468\n",
            "Epoch 34/100\n",
            "2/2 [==============================] - 0s 10ms/step - loss: 9.7724 - mae: 9.7724\n",
            "Epoch 35/100\n",
            "2/2 [==============================] - 0s 10ms/step - loss: 10.9999 - mae: 10.9999\n",
            "Epoch 36/100\n",
            "2/2 [==============================] - 0s 9ms/step - loss: 10.9734 - mae: 10.9734\n",
            "Epoch 37/100\n",
            "2/2 [==============================] - 0s 10ms/step - loss: 10.9316 - mae: 10.9316\n",
            "Epoch 38/100\n",
            "2/2 [==============================] - 0s 8ms/step - loss: 9.5586 - mae: 9.5586\n",
            "Epoch 39/100\n",
            "2/2 [==============================] - 0s 8ms/step - loss: 12.5760 - mae: 12.5760\n",
            "Epoch 40/100\n",
            "2/2 [==============================] - 0s 8ms/step - loss: 11.6254 - mae: 11.6254\n",
            "Epoch 41/100\n",
            "2/2 [==============================] - 0s 8ms/step - loss: 14.8297 - mae: 14.8297\n",
            "Epoch 42/100\n",
            "2/2 [==============================] - 0s 8ms/step - loss: 9.8017 - mae: 9.8017\n",
            "Epoch 43/100\n",
            "2/2 [==============================] - 0s 8ms/step - loss: 9.4863 - mae: 9.4863\n",
            "Epoch 44/100\n",
            "2/2 [==============================] - 0s 9ms/step - loss: 9.5157 - mae: 9.5157\n",
            "Epoch 45/100\n",
            "2/2 [==============================] - 0s 8ms/step - loss: 9.6492 - mae: 9.6492\n",
            "Epoch 46/100\n",
            "2/2 [==============================] - 0s 9ms/step - loss: 9.1420 - mae: 9.1420\n",
            "Epoch 47/100\n",
            "2/2 [==============================] - 0s 7ms/step - loss: 9.0481 - mae: 9.0481\n",
            "Epoch 48/100\n",
            "2/2 [==============================] - 0s 8ms/step - loss: 8.8820 - mae: 8.8820\n",
            "Epoch 49/100\n",
            "2/2 [==============================] - 0s 7ms/step - loss: 10.2936 - mae: 10.2936\n",
            "Epoch 50/100\n",
            "2/2 [==============================] - 0s 8ms/step - loss: 8.7992 - mae: 8.7992\n",
            "Epoch 51/100\n",
            "2/2 [==============================] - 0s 8ms/step - loss: 9.6151 - mae: 9.6151\n",
            "Epoch 52/100\n",
            "2/2 [==============================] - 0s 7ms/step - loss: 9.2084 - mae: 9.2084\n",
            "Epoch 53/100\n",
            "2/2 [==============================] - 0s 7ms/step - loss: 9.3657 - mae: 9.3657\n",
            "Epoch 54/100\n",
            "2/2 [==============================] - 0s 7ms/step - loss: 9.2427 - mae: 9.2427\n",
            "Epoch 55/100\n",
            "2/2 [==============================] - 0s 8ms/step - loss: 9.3988 - mae: 9.3988\n",
            "Epoch 56/100\n",
            "2/2 [==============================] - 0s 7ms/step - loss: 8.8856 - mae: 8.8856\n",
            "Epoch 57/100\n",
            "2/2 [==============================] - 0s 7ms/step - loss: 9.7955 - mae: 9.7955\n",
            "Epoch 58/100\n",
            "2/2 [==============================] - 0s 10ms/step - loss: 13.1934 - mae: 13.1934\n",
            "Epoch 59/100\n",
            "2/2 [==============================] - 0s 7ms/step - loss: 14.4698 - mae: 14.4698\n",
            "Epoch 60/100\n",
            "2/2 [==============================] - 0s 8ms/step - loss: 13.1543 - mae: 13.1543\n",
            "Epoch 61/100\n",
            "2/2 [==============================] - 0s 8ms/step - loss: 13.2297 - mae: 13.2297\n",
            "Epoch 62/100\n",
            "2/2 [==============================] - 0s 9ms/step - loss: 8.5500 - mae: 8.5500\n",
            "Epoch 63/100\n",
            "2/2 [==============================] - 0s 14ms/step - loss: 11.1132 - mae: 11.1132\n",
            "Epoch 64/100\n",
            "2/2 [==============================] - 0s 8ms/step - loss: 9.5703 - mae: 9.5703\n",
            "Epoch 65/100\n",
            "2/2 [==============================] - 0s 7ms/step - loss: 8.8533 - mae: 8.8533\n",
            "Epoch 66/100\n",
            "2/2 [==============================] - 0s 8ms/step - loss: 8.8115 - mae: 8.8115\n",
            "Epoch 67/100\n",
            "2/2 [==============================] - 0s 8ms/step - loss: 9.6800 - mae: 9.6800\n",
            "Epoch 68/100\n",
            "2/2 [==============================] - 0s 7ms/step - loss: 9.6870 - mae: 9.6870\n",
            "Epoch 69/100\n",
            "2/2 [==============================] - 0s 7ms/step - loss: 15.4101 - mae: 15.4101\n",
            "Epoch 70/100\n",
            "2/2 [==============================] - 0s 7ms/step - loss: 7.9468 - mae: 7.9468\n",
            "Epoch 71/100\n",
            "2/2 [==============================] - 0s 8ms/step - loss: 10.1813 - mae: 10.1813\n",
            "Epoch 72/100\n",
            "2/2 [==============================] - 0s 8ms/step - loss: 11.1225 - mae: 11.1225\n",
            "Epoch 73/100\n",
            "2/2 [==============================] - 0s 8ms/step - loss: 11.2924 - mae: 11.2924\n",
            "Epoch 74/100\n",
            "2/2 [==============================] - 0s 9ms/step - loss: 8.6003 - mae: 8.6003\n",
            "Epoch 75/100\n",
            "2/2 [==============================] - 0s 8ms/step - loss: 8.7544 - mae: 8.7544\n",
            "Epoch 76/100\n",
            "2/2 [==============================] - 0s 8ms/step - loss: 8.8001 - mae: 8.8001\n",
            "Epoch 77/100\n",
            "2/2 [==============================] - 0s 8ms/step - loss: 8.2674 - mae: 8.2674\n",
            "Epoch 78/100\n",
            "2/2 [==============================] - 0s 7ms/step - loss: 11.1450 - mae: 11.1450\n",
            "Epoch 79/100\n",
            "2/2 [==============================] - 0s 7ms/step - loss: 9.4984 - mae: 9.4984\n",
            "Epoch 80/100\n",
            "2/2 [==============================] - 0s 9ms/step - loss: 13.5179 - mae: 13.5179\n",
            "Epoch 81/100\n",
            "2/2 [==============================] - 0s 8ms/step - loss: 13.7354 - mae: 13.7354\n",
            "Epoch 82/100\n",
            "2/2 [==============================] - 0s 8ms/step - loss: 16.6764 - mae: 16.6764\n",
            "Epoch 83/100\n",
            "2/2 [==============================] - 0s 8ms/step - loss: 9.0098 - mae: 9.0098\n",
            "Epoch 84/100\n",
            "2/2 [==============================] - 0s 9ms/step - loss: 9.7001 - mae: 9.7001\n",
            "Epoch 85/100\n",
            "2/2 [==============================] - 0s 8ms/step - loss: 10.5944 - mae: 10.5944\n",
            "Epoch 86/100\n",
            "2/2 [==============================] - 0s 8ms/step - loss: 12.3652 - mae: 12.3652\n",
            "Epoch 87/100\n",
            "2/2 [==============================] - 0s 8ms/step - loss: 9.4589 - mae: 9.4589\n",
            "Epoch 88/100\n",
            "2/2 [==============================] - 0s 8ms/step - loss: 10.1451 - mae: 10.1451\n",
            "Epoch 89/100\n",
            "2/2 [==============================] - 0s 8ms/step - loss: 10.0844 - mae: 10.0844\n",
            "Epoch 90/100\n",
            "2/2 [==============================] - 0s 8ms/step - loss: 14.4863 - mae: 14.4863\n",
            "Epoch 91/100\n",
            "2/2 [==============================] - 0s 7ms/step - loss: 10.4992 - mae: 10.4992\n",
            "Epoch 92/100\n",
            "2/2 [==============================] - 0s 7ms/step - loss: 9.6533 - mae: 9.6533\n",
            "Epoch 93/100\n",
            "2/2 [==============================] - 0s 8ms/step - loss: 15.4310 - mae: 15.4310\n",
            "Epoch 94/100\n",
            "2/2 [==============================] - 0s 15ms/step - loss: 12.7134 - mae: 12.7134\n",
            "Epoch 95/100\n",
            "2/2 [==============================] - 0s 9ms/step - loss: 12.8719 - mae: 12.8719\n",
            "Epoch 96/100\n",
            "2/2 [==============================] - 0s 12ms/step - loss: 8.9158 - mae: 8.9158\n",
            "Epoch 97/100\n",
            "2/2 [==============================] - 0s 9ms/step - loss: 8.8094 - mae: 8.8094\n",
            "Epoch 98/100\n",
            "2/2 [==============================] - 0s 10ms/step - loss: 8.7655 - mae: 8.7655\n",
            "Epoch 99/100\n",
            "2/2 [==============================] - 0s 9ms/step - loss: 8.3539 - mae: 8.3539\n",
            "Epoch 100/100\n",
            "2/2 [==============================] - 0s 8ms/step - loss: 8.6585 - mae: 8.6585\n"
          ]
        },
        {
          "output_type": "execute_result",
          "data": {
            "text/plain": [
              "<keras.src.callbacks.History at 0x7fe6389630a0>"
            ]
          },
          "metadata": {},
          "execution_count": 161
        }
      ],
      "source": [
        "# 1. Create a model using sequential API(specified to problem)\n",
        "model = tf.keras.Sequential([\n",
        "    tf.keras.layers.Dense(1),\n",
        "])\n",
        "# 2. compile model\n",
        "model.compile(loss=tf.keras.losses.mae, optimizer=tf.keras.optimizers.SGD(),metrics=[\"mae\"]) # mean absolute error\n",
        "# 3. fit the model\n",
        "model.fit(tf.expand_dims(X, axis=-1), y, epochs=100) # <- updated line\n"
      ]
    },
    {
      "cell_type": "markdown",
      "metadata": {
        "id": "_zOAcwuaojHp"
      },
      "source": [
        "# Visualizing the model"
      ]
    },
    {
      "cell_type": "code",
      "execution_count": 162,
      "metadata": {
        "id": "aL4yEzWForrp"
      },
      "outputs": [],
      "source": [
        "model.build()"
      ]
    },
    {
      "cell_type": "code",
      "execution_count": 163,
      "metadata": {
        "colab": {
          "base_uri": "https://localhost:8080/"
        },
        "id": "qvYVLQuPokVX",
        "outputId": "8808991a-9170-4976-adf2-7a705b90ad9d"
      },
      "outputs": [
        {
          "output_type": "stream",
          "name": "stdout",
          "text": [
            "Model: \"sequential_34\"\n",
            "_________________________________________________________________\n",
            " Layer (type)                Output Shape              Param #   \n",
            "=================================================================\n",
            " dense_41 (Dense)            (None, 1)                 2         \n",
            "                                                                 \n",
            "=================================================================\n",
            "Total params: 2 (8.00 Byte)\n",
            "Trainable params: 2 (8.00 Byte)\n",
            "Non-trainable params: 0 (0.00 Byte)\n",
            "_________________________________________________________________\n"
          ]
        }
      ],
      "source": [
        "model.summary()"
      ]
    },
    {
      "cell_type": "code",
      "execution_count": 164,
      "metadata": {
        "colab": {
          "base_uri": "https://localhost:8080/"
        },
        "id": "0k3tUZZnpCM9",
        "outputId": "375edaa1-c72e-46ff-810a-6ff2a9f9ca8e"
      },
      "outputs": [
        {
          "output_type": "execute_result",
          "data": {
            "text/plain": [
              "(<tf.Tensor: shape=(), dtype=int32, numpy=-100>,\n",
              " <tf.Tensor: shape=(), dtype=int32, numpy=-90>)"
            ]
          },
          "metadata": {},
          "execution_count": 164
        }
      ],
      "source": [
        "X[0],y[0]"
      ]
    },
    {
      "cell_type": "code",
      "execution_count": 165,
      "metadata": {
        "colab": {
          "base_uri": "https://localhost:8080/"
        },
        "id": "qkSj9kyXowEZ",
        "outputId": "4f05d0fa-ccb3-4349-ef14-133bbfa53519"
      },
      "outputs": [
        {
          "output_type": "stream",
          "name": "stdout",
          "text": [
            "Model: \"One_of_the_many_models_we_will_build\"\n",
            "_________________________________________________________________\n",
            " Layer (type)                Output Shape              Param #   \n",
            "=================================================================\n",
            " input_layer (Dense)         (None, 10)                20        \n",
            "                                                                 \n",
            " dense_42 (Dense)            (None, 10)                110       \n",
            "                                                                 \n",
            " dense_43 (Dense)            (None, 10)                110       \n",
            "                                                                 \n",
            " output_layer (Dense)        (None, 1)                 11        \n",
            "                                                                 \n",
            "=================================================================\n",
            "Total params: 251 (1004.00 Byte)\n",
            "Trainable params: 251 (1004.00 Byte)\n",
            "Non-trainable params: 0 (0.00 Byte)\n",
            "_________________________________________________________________\n"
          ]
        }
      ],
      "source": [
        "# let's create a model which builds automatically by defining the input_shape argument\n",
        "tf.random.set_seed(42)\n",
        "# create a model same as above\n",
        "model = tf.keras.Sequential([\n",
        "    tf.keras.layers.Dense(10,input_shape=[1],name=\"input_layer\"),\n",
        "    tf.keras.layers.Dense(10,activation=\"relu\"),\n",
        "    tf.keras.layers.Dense(10,activation=\"relu\"),\n",
        "    tf.keras.layers.Dense(1,name=\"output_layer\")\n",
        "], name=\"One_of_the_many_models_we_will_build\")\n",
        "# compile the model\n",
        "model.compile(loss=tf.keras.losses.mae,optimizer=tf.keras.optimizers.Adam(learning_rate=1e-3),metrics=[\"mae\"])\n",
        "#fit the model\n",
        "model.summary()"
      ]
    },
    {
      "cell_type": "markdown",
      "metadata": {
        "id": "CfBwUC6VpRRt"
      },
      "source": [
        "* **Total parameters** - total nums of parameters in the model\n",
        "* **Trainable parameters** - these are the parameters (patterns) the model can update as it trains\n",
        "* **Non-trainable params** - these parameters aren't updated during training(this usually occurs during transfer learning)\n",
        "\n",
        "** Resource ** For more in depth overview of trainable parameters within a layer checkout MIT's intro to deep-learning video http://introtodeeplearning.com/"
      ]
    },
    {
      "cell_type": "code",
      "execution_count": 166,
      "metadata": {
        "colab": {
          "base_uri": "https://localhost:8080/"
        },
        "id": "63mu3Rrgpz4_",
        "outputId": "833877c0-3352-4665-da8e-a9079b3a82e1"
      },
      "outputs": [
        {
          "output_type": "execute_result",
          "data": {
            "text/plain": [
              "<keras.src.callbacks.History at 0x7fe638735cf0>"
            ]
          },
          "metadata": {},
          "execution_count": 166
        }
      ],
      "source": [
        "# lets fit our model to the training data\n",
        "model.fit(X_train,y_train, epochs=100, verbose=0)"
      ]
    },
    {
      "cell_type": "code",
      "execution_count": 167,
      "metadata": {
        "colab": {
          "base_uri": "https://localhost:8080/"
        },
        "id": "8Aa7S652rSjz",
        "outputId": "27517c9e-7e89-4d36-eb0f-ae2ee7763224"
      },
      "outputs": [
        {
          "output_type": "stream",
          "name": "stdout",
          "text": [
            "Model: \"One_of_the_many_models_we_will_build\"\n",
            "_________________________________________________________________\n",
            " Layer (type)                Output Shape              Param #   \n",
            "=================================================================\n",
            " input_layer (Dense)         (None, 10)                20        \n",
            "                                                                 \n",
            " dense_42 (Dense)            (None, 10)                110       \n",
            "                                                                 \n",
            " dense_43 (Dense)            (None, 10)                110       \n",
            "                                                                 \n",
            " output_layer (Dense)        (None, 1)                 11        \n",
            "                                                                 \n",
            "=================================================================\n",
            "Total params: 251 (1004.00 Byte)\n",
            "Trainable params: 251 (1004.00 Byte)\n",
            "Non-trainable params: 0 (0.00 Byte)\n",
            "_________________________________________________________________\n"
          ]
        }
      ],
      "source": [
        "model.summary()"
      ]
    },
    {
      "cell_type": "code",
      "execution_count": 168,
      "metadata": {
        "colab": {
          "base_uri": "https://localhost:8080/",
          "height": 533
        },
        "id": "eRU5eQDhrs6C",
        "outputId": "1168a33d-4dff-4a00-8d4a-c89a675d0f01"
      },
      "outputs": [
        {
          "output_type": "execute_result",
          "data": {
            "image/png": "[encoded data removed]",
            "text/plain": [
              "<IPython.core.display.Image object>"
            ]
          },
          "metadata": {},
          "execution_count": 168
        }
      ],
      "source": [
        "plot_model(model,show_shapes=True)"
      ]
    },
    {
      "cell_type": "markdown",
      "metadata": {
        "id": "BNourEFg78m-"
      },
      "source": [
        "### Visualizing the model's predictions\n",
        "\n",
        "To visualize predictions, it's a good idea to plot them against the ground truth labels.\n",
        "\n",
        "Often you'll see this in the form of `y_test`or `y_true`vs `y_pred`(ground truth versus models prediction's)"
      ]
    },
    {
      "cell_type": "code",
      "execution_count": 169,
      "metadata": {
        "colab": {
          "base_uri": "https://localhost:8080/"
        },
        "id": "RO62A4oa9aAu",
        "outputId": "0b9dec67-d77e-44fe-8e8c-8a363de82839"
      },
      "outputs": [
        {
          "output_type": "stream",
          "name": "stdout",
          "text": [
            "1/1 [==============================] - 0s 86ms/step\n"
          ]
        },
        {
          "output_type": "execute_result",
          "data": {
            "text/plain": [
              "array([[ 79.13773 ],\n",
              "       [ 84.34975 ],\n",
              "       [ 89.56177 ],\n",
              "       [ 94.77378 ],\n",
              "       [ 99.98579 ],\n",
              "       [105.19781 ],\n",
              "       [110.409805],\n",
              "       [115.621826],\n",
              "       [120.83384 ],\n",
              "       [126.04586 ]], dtype=float32)"
            ]
          },
          "metadata": {},
          "execution_count": 169
        }
      ],
      "source": [
        "y_pred = model.predict(X_test)\n",
        "y_pred"
      ]
    },
    {
      "cell_type": "code",
      "execution_count": 170,
      "metadata": {
        "colab": {
          "base_uri": "https://localhost:8080/"
        },
        "id": "dxo6LtBw-uXe",
        "outputId": "1442bfec-9be1-4a25-ecb3-77c4fae33774"
      },
      "outputs": [
        {
          "output_type": "execute_result",
          "data": {
            "text/plain": [
              "<tf.Tensor: shape=(10,), dtype=int32, numpy=array([ 70,  74,  78,  82,  86,  90,  94,  98, 102, 106], dtype=int32)>"
            ]
          },
          "metadata": {},
          "execution_count": 170
        }
      ],
      "source": [
        "y_test"
      ]
    },
    {
      "cell_type": "markdown",
      "metadata": {
        "id": "X917cfcE-5kq"
      },
      "source": [
        "**Note** if you feel like you're going to reuse a piece of code turn it into function"
      ]
    },
    {
      "cell_type": "code",
      "execution_count": 171,
      "metadata": {
        "colab": {
          "base_uri": "https://localhost:8080/",
          "height": 599
        },
        "id": "H8FSgpS3-vRB",
        "outputId": "ff44f312-14d9-42bd-e840-0cb6797b56e1"
      },
      "outputs": [
        {
          "output_type": "display_data",
          "data": {
            "text/plain": [
              "<Figure size 1000x700 with 1 Axes>"
            ],
            "image/png": "[encoded data removed]"
          },
          "metadata": {}
        }
      ],
      "source": [
        "# let's create a plotting function\n",
        "def plot_predictions(train_data=X_train,train_labels=y_train,test_data=X_test,test_labels=y_test,predictions=y_pred):\n",
        "  \"\"\"\n",
        "  Plots training data, test data, and compares predictions to ground truth\n",
        "  \"\"\"\n",
        "  plt.figure(figsize=[10,7])\n",
        "  # Training data\n",
        "  plt.scatter(train_data,train_labels,c=\"blue\",label=\"Training data\")\n",
        "  # Test data\n",
        "  plt.scatter(test_data,test_labels,c=\"g\",label=\"Testing data\")\n",
        "  # plot predictions\n",
        "  plt.scatter(test_data,predictions,c=\"r\",label=\"Predictions\")\n",
        "  plt.legend()\n",
        "plot_predictions(train_data=X_train,train_labels=y_train,test_data=X_test,test_labels=y_test, predictions=y_pred)"
      ]
    },
    {
      "cell_type": "markdown",
      "metadata": {
        "id": "gll_i5mT_NG1"
      },
      "source": [
        "### Evaluating our model's predictions with regression evaluation metrics\n",
        "\n",
        "Depending on the problem you're working on, there will be different evaluation metrics to evaluate your model's performance.  \n",
        "\n",
        "Since we're working on regression problems, two of the main metrics we will use are:\n",
        "\n",
        "* MAE - mean absolute error: on average, how wrong are our predictions\n",
        "* MSE - mean squared error: square of average errors"
      ]
    },
    {
      "cell_type": "code",
      "execution_count": 172,
      "metadata": {
        "colab": {
          "base_uri": "https://localhost:8080/"
        },
        "id": "ryRtlbXeDijr",
        "outputId": "2e292ff2-d6e0-47ff-dd0b-2911b956ae0a"
      },
      "outputs": [
        {
          "output_type": "stream",
          "name": "stdout",
          "text": [
            "1/1 [==============================] - 0s 171ms/step - loss: 14.5918 - mae: 14.5918\n"
          ]
        },
        {
          "output_type": "execute_result",
          "data": {
            "text/plain": [
              "[14.591794967651367, 14.591794967651367]"
            ]
          },
          "metadata": {},
          "execution_count": 172
        }
      ],
      "source": [
        "# Evaluate the model on the test set\n",
        "model.evaluate(X_test,y_test)"
      ]
    },
    {
      "cell_type": "code",
      "execution_count": 173,
      "metadata": {
        "colab": {
          "base_uri": "https://localhost:8080/"
        },
        "id": "3OXVVRoaFkPh",
        "outputId": "c0ee92b3-1c54-4e65-d764-2e7041c562ff"
      },
      "outputs": [
        {
          "output_type": "stream",
          "name": "stdout",
          "text": [
            "tf.Tensor(\n",
            "[11.944906 10.33005  10.       11.109512 13.591472 17.358246 22.409805\n",
            " 27.621826 32.83384  38.04586 ], shape=(10,), dtype=float32)\n"
          ]
        }
      ],
      "source": [
        "# Calculate the mean absolute error\n",
        "mae = tf.metrics.mean_absolute_error(y_true=y_test,y_pred=tf.constant(y_pred))\n",
        "print(mae)"
      ]
    },
    {
      "cell_type": "code",
      "execution_count": 174,
      "metadata": {
        "colab": {
          "base_uri": "https://localhost:8080/"
        },
        "id": "24TF1x0dFRTk",
        "outputId": "3b83985c-3b3b-4319-9fc5-d4523851773a"
      },
      "outputs": [
        {
          "output_type": "execute_result",
          "data": {
            "text/plain": [
              "array([[ 79.13773 ],\n",
              "       [ 84.34975 ],\n",
              "       [ 89.56177 ],\n",
              "       [ 94.77378 ],\n",
              "       [ 99.98579 ],\n",
              "       [105.19781 ],\n",
              "       [110.409805],\n",
              "       [115.621826],\n",
              "       [120.83384 ],\n",
              "       [126.04586 ]], dtype=float32)"
            ]
          },
          "metadata": {},
          "execution_count": 174
        }
      ],
      "source": [
        "y_pred"
      ]
    },
    {
      "cell_type": "code",
      "execution_count": 175,
      "metadata": {
        "colab": {
          "base_uri": "https://localhost:8080/"
        },
        "id": "XnFdgxe2FiFo",
        "outputId": "5da98b8c-f52b-4081-dd80-1fa1b20d9cd1"
      },
      "outputs": [
        {
          "output_type": "execute_result",
          "data": {
            "text/plain": [
              "<tf.Tensor: shape=(10,), dtype=int32, numpy=array([ 70,  74,  78,  82,  86,  90,  94,  98, 102, 106], dtype=int32)>"
            ]
          },
          "metadata": {},
          "execution_count": 175
        }
      ],
      "source": [
        "y_test"
      ]
    },
    {
      "cell_type": "code",
      "execution_count": 176,
      "metadata": {
        "id": "3yRFeHhlFioW"
      },
      "outputs": [],
      "source": [
        "# needed to be done for both mae and mse as they weren't of the same shame(10,1) for y_pred vs (10,) for y_test\n",
        "y_pred = tf.squeeze(y_pred)"
      ]
    },
    {
      "cell_type": "code",
      "execution_count": 177,
      "metadata": {
        "colab": {
          "base_uri": "https://localhost:8080/"
        },
        "id": "6XoeoG0mH1Xh",
        "outputId": "df7f2078-4240-4cb5-aedf-717e542ed04a"
      },
      "outputs": [
        {
          "output_type": "stream",
          "name": "stdout",
          "text": [
            "tf.Tensor(225.03955, shape=(), dtype=float32)\n"
          ]
        }
      ],
      "source": [
        "# Calculate the mean squared error\n",
        "mse = tf.metrics.mean_squared_error(y_true=y_test,y_pred=tf.constant(y_pred))\n",
        "print(mse)"
      ]
    },
    {
      "cell_type": "code",
      "execution_count": 213,
      "metadata": {
        "id": "neYJktZyISmw"
      },
      "outputs": [],
      "source": [
        "def mean_absolute_error(y_true,y_pred):\n",
        "  return tf.metrics.mean_absolute_error(y_true=y_test,y_pred=tf.squeeze(tf.constant(y_pred)))\n",
        "\n",
        "def mean_squared_error(y_true,y_pred):\n",
        "  return tf.metrics.mean_squared_error(y_true=y_test,y_pred=tf.squeeze(tf.constant(y_pred)))\n"
      ]
    },
    {
      "cell_type": "markdown",
      "source": [
        "### Running experiements to improve our model\n",
        "\n",
        "```\n",
        "Build a model -> fit it -> evaluate it -> tweak it -> repeat\n",
        "```\n",
        "\n",
        "1. Get more data - more examples for the model to train on\n",
        "2. Make the model larger (using a more complex model) - this might be adding more layers or units per layer\n",
        "3. Train for longer number of epochs\n",
        "\n",
        "Let's do 3 different experiements\n",
        "\n",
        "1. `model_1` - same as the original model, 1 layer, trained for 100 epochs\n",
        "2. `model_2` - 2 layers trained for 100 epochs\n",
        "3. `model_3` - 2 layers trained for 500 epochs\n",
        "4.\n",
        "5."
      ],
      "metadata": {
        "id": "K_4tMUzKK9sH"
      }
    },
    {
      "cell_type": "code",
      "source": [
        "X_train = X[:40] # first 40 are training samples\n",
        "y_train = y[:40]\n",
        "\n",
        "X_test = X[40:]\n",
        "y_test = y[40:]"
      ],
      "metadata": {
        "id": "i0syQQtg4nlF"
      },
      "execution_count": 200,
      "outputs": []
    },
    {
      "cell_type": "code",
      "source": [
        "X_train,y_train\n"
      ],
      "metadata": {
        "colab": {
          "base_uri": "https://localhost:8080/"
        },
        "id": "Z2jtw8ls3yl9",
        "outputId": "3be2ecf9-b1b6-4c6d-de5b-33425286e1bc"
      },
      "execution_count": 201,
      "outputs": [
        {
          "output_type": "execute_result",
          "data": {
            "text/plain": [
              "(<tf.Tensor: shape=(40,), dtype=int32, numpy=\n",
              " array([-100,  -96,  -92,  -88,  -84,  -80,  -76,  -72,  -68,  -64,  -60,\n",
              "         -56,  -52,  -48,  -44,  -40,  -36,  -32,  -28,  -24,  -20,  -16,\n",
              "         -12,   -8,   -4,    0,    4,    8,   12,   16,   20,   24,   28,\n",
              "          32,   36,   40,   44,   48,   52,   56], dtype=int32)>,\n",
              " <tf.Tensor: shape=(40,), dtype=int32, numpy=\n",
              " array([-90, -86, -82, -78, -74, -70, -66, -62, -58, -54, -50, -46, -42,\n",
              "        -38, -34, -30, -26, -22, -18, -14, -10,  -6,  -2,   2,   6,  10,\n",
              "         14,  18,  22,  26,  30,  34,  38,  42,  46,  50,  54,  58,  62,\n",
              "         66], dtype=int32)>)"
            ]
          },
          "metadata": {},
          "execution_count": 201
        }
      ]
    },
    {
      "cell_type": "code",
      "source": [
        "X_train = tf.expand_dims(X_train, axis=-1)"
      ],
      "metadata": {
        "id": "EMTC3Bml5zAU"
      },
      "execution_count": 203,
      "outputs": []
    },
    {
      "cell_type": "code",
      "source": [
        "X_train"
      ],
      "metadata": {
        "colab": {
          "base_uri": "https://localhost:8080/"
        },
        "id": "sLUfBl1Y5zuc",
        "outputId": "9aaef2a8-bf70-45ac-f373-0a4b1b985a11"
      },
      "execution_count": 204,
      "outputs": [
        {
          "output_type": "execute_result",
          "data": {
            "text/plain": [
              "<tf.Tensor: shape=(40, 1), dtype=int32, numpy=\n",
              "array([[-100],\n",
              "       [ -96],\n",
              "       [ -92],\n",
              "       [ -88],\n",
              "       [ -84],\n",
              "       [ -80],\n",
              "       [ -76],\n",
              "       [ -72],\n",
              "       [ -68],\n",
              "       [ -64],\n",
              "       [ -60],\n",
              "       [ -56],\n",
              "       [ -52],\n",
              "       [ -48],\n",
              "       [ -44],\n",
              "       [ -40],\n",
              "       [ -36],\n",
              "       [ -32],\n",
              "       [ -28],\n",
              "       [ -24],\n",
              "       [ -20],\n",
              "       [ -16],\n",
              "       [ -12],\n",
              "       [  -8],\n",
              "       [  -4],\n",
              "       [   0],\n",
              "       [   4],\n",
              "       [   8],\n",
              "       [  12],\n",
              "       [  16],\n",
              "       [  20],\n",
              "       [  24],\n",
              "       [  28],\n",
              "       [  32],\n",
              "       [  36],\n",
              "       [  40],\n",
              "       [  44],\n",
              "       [  48],\n",
              "       [  52],\n",
              "       [  56]], dtype=int32)>"
            ]
          },
          "metadata": {},
          "execution_count": 204
        }
      ]
    },
    {
      "cell_type": "code",
      "source": [
        "model_1 = tf.keras.Sequential([\n",
        "    tf.keras.layers.Dense(1)\n",
        "])\n",
        "model_1.compile(loss=tf.keras.losses.mae,optimizer=tf.keras.optimizers.SGD(),metrics=[\"mae\"])\n",
        "model_1.fit(X_train,y_train,epochs=100)"
      ],
      "metadata": {
        "colab": {
          "base_uri": "https://localhost:8080/"
        },
        "id": "9HlRZKTE2iQ9",
        "outputId": "9cf51989-bdf0-4c08-b0d1-f4a6216b9e75"
      },
      "execution_count": 205,
      "outputs": [
        {
          "output_type": "stream",
          "name": "stdout",
          "text": [
            "Epoch 1/100\n",
            "2/2 [==============================] - 0s 15ms/step - loss: 19.5230 - mae: 19.5230\n",
            "Epoch 2/100\n",
            "2/2 [==============================] - 0s 12ms/step - loss: 8.1567 - mae: 8.1567\n",
            "Epoch 3/100\n",
            "2/2 [==============================] - 0s 12ms/step - loss: 10.2189 - mae: 10.2189\n",
            "Epoch 4/100\n",
            "2/2 [==============================] - 0s 12ms/step - loss: 12.5894 - mae: 12.5894\n",
            "Epoch 5/100\n",
            "2/2 [==============================] - 0s 12ms/step - loss: 11.6385 - mae: 11.6385\n",
            "Epoch 6/100\n",
            "2/2 [==============================] - 0s 11ms/step - loss: 10.7438 - mae: 10.7438\n",
            "Epoch 7/100\n",
            "2/2 [==============================] - 0s 10ms/step - loss: 8.8092 - mae: 8.8092\n",
            "Epoch 8/100\n",
            "2/2 [==============================] - 0s 13ms/step - loss: 8.1104 - mae: 8.1104\n",
            "Epoch 9/100\n",
            "2/2 [==============================] - 0s 11ms/step - loss: 18.7204 - mae: 18.7204\n",
            "Epoch 10/100\n",
            "2/2 [==============================] - 0s 11ms/step - loss: 14.4498 - mae: 14.4498\n",
            "Epoch 11/100\n",
            "2/2 [==============================] - 0s 11ms/step - loss: 11.7805 - mae: 11.7805\n",
            "Epoch 12/100\n",
            "2/2 [==============================] - 0s 10ms/step - loss: 16.4011 - mae: 16.4011\n",
            "Epoch 13/100\n",
            "2/2 [==============================] - 0s 13ms/step - loss: 11.9394 - mae: 11.9394\n",
            "Epoch 14/100\n",
            "2/2 [==============================] - 0s 11ms/step - loss: 13.8676 - mae: 13.8676\n",
            "Epoch 15/100\n",
            "2/2 [==============================] - 0s 11ms/step - loss: 11.2548 - mae: 11.2548\n",
            "Epoch 16/100\n",
            "2/2 [==============================] - 0s 17ms/step - loss: 8.5866 - mae: 8.5866\n",
            "Epoch 17/100\n",
            "2/2 [==============================] - 0s 10ms/step - loss: 13.7422 - mae: 13.7422\n",
            "Epoch 18/100\n",
            "2/2 [==============================] - 0s 12ms/step - loss: 11.5967 - mae: 11.5967\n",
            "Epoch 19/100\n",
            "2/2 [==============================] - 0s 10ms/step - loss: 17.7566 - mae: 17.7566\n",
            "Epoch 20/100\n",
            "2/2 [==============================] - 0s 10ms/step - loss: 14.8924 - mae: 14.8924\n",
            "Epoch 21/100\n",
            "2/2 [==============================] - 0s 12ms/step - loss: 10.7904 - mae: 10.7904\n",
            "Epoch 22/100\n",
            "2/2 [==============================] - 0s 10ms/step - loss: 8.5347 - mae: 8.5347\n",
            "Epoch 23/100\n",
            "2/2 [==============================] - 0s 11ms/step - loss: 9.7611 - mae: 9.7611\n",
            "Epoch 24/100\n",
            "2/2 [==============================] - 0s 10ms/step - loss: 10.8953 - mae: 10.8953\n",
            "Epoch 25/100\n",
            "2/2 [==============================] - 0s 12ms/step - loss: 9.1357 - mae: 9.1357\n",
            "Epoch 26/100\n",
            "2/2 [==============================] - 0s 10ms/step - loss: 13.1284 - mae: 13.1284\n",
            "Epoch 27/100\n",
            "2/2 [==============================] - 0s 8ms/step - loss: 10.4384 - mae: 10.4384\n",
            "Epoch 28/100\n",
            "2/2 [==============================] - 0s 8ms/step - loss: 13.4712 - mae: 13.4712\n",
            "Epoch 29/100\n",
            "2/2 [==============================] - 0s 11ms/step - loss: 9.6258 - mae: 9.6258\n",
            "Epoch 30/100\n",
            "2/2 [==============================] - 0s 8ms/step - loss: 17.3265 - mae: 17.3265\n",
            "Epoch 31/100\n",
            "2/2 [==============================] - 0s 7ms/step - loss: 22.7484 - mae: 22.7484\n",
            "Epoch 32/100\n",
            "2/2 [==============================] - 0s 7ms/step - loss: 7.9165 - mae: 7.9165\n",
            "Epoch 33/100\n",
            "2/2 [==============================] - 0s 7ms/step - loss: 14.2170 - mae: 14.2170\n",
            "Epoch 34/100\n",
            "2/2 [==============================] - 0s 7ms/step - loss: 12.4811 - mae: 12.4811\n",
            "Epoch 35/100\n",
            "2/2 [==============================] - 0s 7ms/step - loss: 8.2318 - mae: 8.2318\n",
            "Epoch 36/100\n",
            "2/2 [==============================] - 0s 7ms/step - loss: 10.4294 - mae: 10.4294\n",
            "Epoch 37/100\n",
            "2/2 [==============================] - 0s 8ms/step - loss: 10.0857 - mae: 10.0857\n",
            "Epoch 38/100\n",
            "2/2 [==============================] - 0s 7ms/step - loss: 11.2448 - mae: 11.2448\n",
            "Epoch 39/100\n",
            "2/2 [==============================] - 0s 8ms/step - loss: 14.8388 - mae: 14.8388\n",
            "Epoch 40/100\n",
            "2/2 [==============================] - 0s 8ms/step - loss: 12.9684 - mae: 12.9684\n",
            "Epoch 41/100\n",
            "2/2 [==============================] - 0s 8ms/step - loss: 9.3686 - mae: 9.3686\n",
            "Epoch 42/100\n",
            "2/2 [==============================] - 0s 8ms/step - loss: 10.9415 - mae: 10.9415\n",
            "Epoch 43/100\n",
            "2/2 [==============================] - 0s 8ms/step - loss: 8.3221 - mae: 8.3221\n",
            "Epoch 44/100\n",
            "2/2 [==============================] - 0s 8ms/step - loss: 12.9434 - mae: 12.9434\n",
            "Epoch 45/100\n",
            "2/2 [==============================] - 0s 8ms/step - loss: 13.7708 - mae: 13.7708\n",
            "Epoch 46/100\n",
            "2/2 [==============================] - 0s 8ms/step - loss: 8.4511 - mae: 8.4511\n",
            "Epoch 47/100\n",
            "2/2 [==============================] - 0s 7ms/step - loss: 9.1461 - mae: 9.1461\n",
            "Epoch 48/100\n",
            "2/2 [==============================] - 0s 8ms/step - loss: 10.6381 - mae: 10.6381\n",
            "Epoch 49/100\n",
            "2/2 [==============================] - 0s 8ms/step - loss: 7.7617 - mae: 7.7617\n",
            "Epoch 50/100\n",
            "2/2 [==============================] - 0s 12ms/step - loss: 9.5583 - mae: 9.5583\n",
            "Epoch 51/100\n",
            "2/2 [==============================] - 0s 9ms/step - loss: 9.1629 - mae: 9.1629\n",
            "Epoch 52/100\n",
            "2/2 [==============================] - 0s 10ms/step - loss: 16.4000 - mae: 16.4000\n",
            "Epoch 53/100\n",
            "2/2 [==============================] - 0s 9ms/step - loss: 14.1143 - mae: 14.1143\n",
            "Epoch 54/100\n",
            "2/2 [==============================] - 0s 7ms/step - loss: 21.0841 - mae: 21.0841\n",
            "Epoch 55/100\n",
            "2/2 [==============================] - 0s 8ms/step - loss: 16.4297 - mae: 16.4297\n",
            "Epoch 56/100\n",
            "2/2 [==============================] - 0s 8ms/step - loss: 9.9116 - mae: 9.9116\n",
            "Epoch 57/100\n",
            "2/2 [==============================] - 0s 9ms/step - loss: 9.6296 - mae: 9.6296\n",
            "Epoch 58/100\n",
            "2/2 [==============================] - 0s 7ms/step - loss: 8.9582 - mae: 8.9582\n",
            "Epoch 59/100\n",
            "2/2 [==============================] - 0s 8ms/step - loss: 10.1514 - mae: 10.1514\n",
            "Epoch 60/100\n",
            "2/2 [==============================] - 0s 11ms/step - loss: 8.4425 - mae: 8.4425\n",
            "Epoch 61/100\n",
            "2/2 [==============================] - 0s 7ms/step - loss: 9.2921 - mae: 9.2921\n",
            "Epoch 62/100\n",
            "2/2 [==============================] - 0s 8ms/step - loss: 7.0739 - mae: 7.0739\n",
            "Epoch 63/100\n",
            "2/2 [==============================] - 0s 9ms/step - loss: 8.6339 - mae: 8.6339\n",
            "Epoch 64/100\n",
            "2/2 [==============================] - 0s 7ms/step - loss: 9.2123 - mae: 9.2123\n",
            "Epoch 65/100\n",
            "2/2 [==============================] - 0s 7ms/step - loss: 10.4557 - mae: 10.4557\n",
            "Epoch 66/100\n",
            "2/2 [==============================] - 0s 8ms/step - loss: 15.6794 - mae: 15.6794\n",
            "Epoch 67/100\n",
            "2/2 [==============================] - 0s 8ms/step - loss: 10.0649 - mae: 10.0649\n",
            "Epoch 68/100\n",
            "2/2 [==============================] - 0s 8ms/step - loss: 9.0312 - mae: 9.0312\n",
            "Epoch 69/100\n",
            "2/2 [==============================] - 0s 8ms/step - loss: 12.5502 - mae: 12.5502\n",
            "Epoch 70/100\n",
            "2/2 [==============================] - 0s 8ms/step - loss: 8.9635 - mae: 8.9635\n",
            "Epoch 71/100\n",
            "2/2 [==============================] - 0s 8ms/step - loss: 9.9392 - mae: 9.9392\n",
            "Epoch 72/100\n",
            "2/2 [==============================] - 0s 7ms/step - loss: 9.9767 - mae: 9.9767\n",
            "Epoch 73/100\n",
            "2/2 [==============================] - 0s 8ms/step - loss: 12.4496 - mae: 12.4496\n",
            "Epoch 74/100\n",
            "2/2 [==============================] - 0s 8ms/step - loss: 10.5647 - mae: 10.5647\n",
            "Epoch 75/100\n",
            "2/2 [==============================] - 0s 8ms/step - loss: 9.6363 - mae: 9.6363\n",
            "Epoch 76/100\n",
            "2/2 [==============================] - 0s 8ms/step - loss: 11.1042 - mae: 11.1042\n",
            "Epoch 77/100\n",
            "2/2 [==============================] - 0s 8ms/step - loss: 8.2844 - mae: 8.2844\n",
            "Epoch 78/100\n",
            "2/2 [==============================] - 0s 9ms/step - loss: 8.9787 - mae: 8.9787\n",
            "Epoch 79/100\n",
            "2/2 [==============================] - 0s 7ms/step - loss: 19.7726 - mae: 19.7726\n",
            "Epoch 80/100\n",
            "2/2 [==============================] - 0s 8ms/step - loss: 17.8312 - mae: 17.8312\n",
            "Epoch 81/100\n",
            "2/2 [==============================] - 0s 8ms/step - loss: 7.0741 - mae: 7.0741\n",
            "Epoch 82/100\n",
            "2/2 [==============================] - 0s 10ms/step - loss: 10.4150 - mae: 10.4150\n",
            "Epoch 83/100\n",
            "2/2 [==============================] - 0s 9ms/step - loss: 9.8400 - mae: 9.8400\n",
            "Epoch 84/100\n",
            "2/2 [==============================] - 0s 8ms/step - loss: 7.9339 - mae: 7.9339\n",
            "Epoch 85/100\n",
            "2/2 [==============================] - 0s 8ms/step - loss: 9.4404 - mae: 9.4404\n",
            "Epoch 86/100\n",
            "2/2 [==============================] - 0s 7ms/step - loss: 9.4860 - mae: 9.4860\n",
            "Epoch 87/100\n",
            "2/2 [==============================] - 0s 9ms/step - loss: 11.4271 - mae: 11.4271\n",
            "Epoch 88/100\n",
            "2/2 [==============================] - 0s 7ms/step - loss: 9.9261 - mae: 9.9261\n",
            "Epoch 89/100\n",
            "2/2 [==============================] - 0s 8ms/step - loss: 7.2524 - mae: 7.2524\n",
            "Epoch 90/100\n",
            "2/2 [==============================] - 0s 9ms/step - loss: 12.6838 - mae: 12.6838\n",
            "Epoch 91/100\n",
            "2/2 [==============================] - 0s 8ms/step - loss: 7.3083 - mae: 7.3083\n",
            "Epoch 92/100\n",
            "2/2 [==============================] - 0s 9ms/step - loss: 7.6707 - mae: 7.6707\n",
            "Epoch 93/100\n",
            "2/2 [==============================] - 0s 13ms/step - loss: 7.1193 - mae: 7.1193\n",
            "Epoch 94/100\n",
            "2/2 [==============================] - 0s 8ms/step - loss: 12.5328 - mae: 12.5328\n",
            "Epoch 95/100\n",
            "2/2 [==============================] - 0s 8ms/step - loss: 9.9091 - mae: 9.9091\n",
            "Epoch 96/100\n",
            "2/2 [==============================] - 0s 8ms/step - loss: 9.1464 - mae: 9.1464\n",
            "Epoch 97/100\n",
            "2/2 [==============================] - 0s 9ms/step - loss: 12.0997 - mae: 12.0997\n",
            "Epoch 98/100\n",
            "2/2 [==============================] - 0s 7ms/step - loss: 9.0552 - mae: 9.0552\n",
            "Epoch 99/100\n",
            "2/2 [==============================] - 0s 7ms/step - loss: 8.5019 - mae: 8.5019\n",
            "Epoch 100/100\n",
            "2/2 [==============================] - 0s 8ms/step - loss: 14.4790 - mae: 14.4790\n"
          ]
        },
        {
          "output_type": "execute_result",
          "data": {
            "text/plain": [
              "<keras.src.callbacks.History at 0x7fe6388a3eb0>"
            ]
          },
          "metadata": {},
          "execution_count": 205
        }
      ]
    },
    {
      "cell_type": "code",
      "source": [
        "# make and plot predictions for model 1\n",
        "y_preds_1 = model_1.predict(X_test)\n",
        "plot_predictions(X_train,y_train,X_test,y_test,y_preds_1)"
      ],
      "metadata": {
        "colab": {
          "base_uri": "https://localhost:8080/",
          "height": 616
        },
        "id": "DpOJpvPJ2n9c",
        "outputId": "ec1f6963-689b-4417-bd82-0fd4fc998fa7"
      },
      "execution_count": 208,
      "outputs": [
        {
          "output_type": "stream",
          "name": "stdout",
          "text": [
            "1/1 [==============================] - 0s 49ms/step\n"
          ]
        },
        {
          "output_type": "display_data",
          "data": {
            "text/plain": [
              "<Figure size 1000x700 with 1 Axes>"
            ],
            "image/png": "[encoded data removed]"
          },
          "metadata": {}
        }
      ]
    },
    {
      "cell_type": "code",
      "source": [
        "mae_1= mean_absolute_error(y_test,y_preds_1)\n",
        "mse_1= mean_squared_error(y_test,y_preds_1)\n",
        "mae_1,mse_1"
      ],
      "metadata": {
        "colab": {
          "base_uri": "https://localhost:8080/"
        },
        "id": "9EOwJbzU6YRz",
        "outputId": "a427a727-8278-4a8f-f17d-55768b65ad85"
      },
      "execution_count": 216,
      "outputs": [
        {
          "output_type": "execute_result",
          "data": {
            "text/plain": [
              "(<tf.Tensor: shape=(), dtype=float32, numpy=30.559912>,\n",
              " <tf.Tensor: shape=(), dtype=float32, numpy=944.2736>)"
            ]
          },
          "metadata": {},
          "execution_count": 216
        }
      ]
    },
    {
      "cell_type": "code",
      "source": [
        "model_2 = tf.keras.Sequential([\n",
        "    tf.keras.layers.Dense(10),\n",
        "    tf.keras.layers.Dense(1)\n",
        "])\n",
        "model_2.compile(loss=tf.keras.losses.mae,optimizer=tf.keras.optimizers.SGD(),metrics=[\"mse\"])\n",
        "model_2.fit(X_train,y_train,epochs=100)"
      ],
      "metadata": {
        "colab": {
          "base_uri": "https://localhost:8080/"
        },
        "id": "xDhsyFLP7uy6",
        "outputId": "f2e1c80d-897b-4986-efc4-8a4893022cdf"
      },
      "execution_count": 225,
      "outputs": [
        {
          "output_type": "stream",
          "name": "stdout",
          "text": [
            "Epoch 1/100\n",
            "2/2 [==============================] - 1s 12ms/step - loss: 39.6682 - mae: 39.6682\n",
            "Epoch 2/100\n",
            "2/2 [==============================] - 0s 11ms/step - loss: 24.1847 - mae: 24.1847\n",
            "Epoch 3/100\n",
            "2/2 [==============================] - 0s 12ms/step - loss: 29.4928 - mae: 29.4928\n",
            "Epoch 4/100\n",
            "2/2 [==============================] - 0s 14ms/step - loss: 27.2620 - mae: 27.2620\n",
            "Epoch 5/100\n",
            "2/2 [==============================] - 0s 10ms/step - loss: 14.8726 - mae: 14.8726\n",
            "Epoch 6/100\n",
            "2/2 [==============================] - 0s 10ms/step - loss: 11.8261 - mae: 11.8261\n",
            "Epoch 7/100\n",
            "2/2 [==============================] - 0s 10ms/step - loss: 11.1485 - mae: 11.1485\n",
            "Epoch 8/100\n",
            "2/2 [==============================] - 0s 9ms/step - loss: 11.0676 - mae: 11.0676\n",
            "Epoch 9/100\n",
            "2/2 [==============================] - 0s 12ms/step - loss: 40.2794 - mae: 40.2794\n",
            "Epoch 10/100\n",
            "2/2 [==============================] - 0s 11ms/step - loss: 27.6983 - mae: 27.6983\n",
            "Epoch 11/100\n",
            "2/2 [==============================] - 0s 11ms/step - loss: 10.2411 - mae: 10.2411\n",
            "Epoch 12/100\n",
            "2/2 [==============================] - 0s 12ms/step - loss: 25.3267 - mae: 25.3267\n",
            "Epoch 13/100\n",
            "2/2 [==============================] - 0s 11ms/step - loss: 16.9097 - mae: 16.9097\n",
            "Epoch 14/100\n",
            "2/2 [==============================] - 0s 12ms/step - loss: 25.7825 - mae: 25.7825\n",
            "Epoch 15/100\n",
            "2/2 [==============================] - 0s 10ms/step - loss: 17.6251 - mae: 17.6251\n",
            "Epoch 16/100\n",
            "2/2 [==============================] - 0s 11ms/step - loss: 10.0589 - mae: 10.0589\n",
            "Epoch 17/100\n",
            "2/2 [==============================] - 0s 10ms/step - loss: 18.6344 - mae: 18.6344\n",
            "Epoch 18/100\n",
            "2/2 [==============================] - 0s 10ms/step - loss: 11.7711 - mae: 11.7711\n",
            "Epoch 19/100\n",
            "2/2 [==============================] - 0s 12ms/step - loss: 16.4721 - mae: 16.4721\n",
            "Epoch 20/100\n",
            "2/2 [==============================] - 0s 12ms/step - loss: 8.2350 - mae: 8.2350\n",
            "Epoch 21/100\n",
            "2/2 [==============================] - 0s 15ms/step - loss: 14.4190 - mae: 14.4190\n",
            "Epoch 22/100\n",
            "2/2 [==============================] - 0s 12ms/step - loss: 12.8349 - mae: 12.8349\n",
            "Epoch 23/100\n",
            "2/2 [==============================] - 0s 10ms/step - loss: 15.4688 - mae: 15.4688\n",
            "Epoch 24/100\n",
            "2/2 [==============================] - 0s 14ms/step - loss: 15.2587 - mae: 15.2587\n",
            "Epoch 25/100\n",
            "2/2 [==============================] - 0s 11ms/step - loss: 14.3316 - mae: 14.3316\n",
            "Epoch 26/100\n",
            "2/2 [==============================] - 0s 13ms/step - loss: 19.3342 - mae: 19.3342\n",
            "Epoch 27/100\n",
            "2/2 [==============================] - 0s 13ms/step - loss: 11.4503 - mae: 11.4503\n",
            "Epoch 28/100\n",
            "2/2 [==============================] - 0s 12ms/step - loss: 29.1312 - mae: 29.1312\n",
            "Epoch 29/100\n",
            "2/2 [==============================] - 0s 12ms/step - loss: 9.2449 - mae: 9.2449\n",
            "Epoch 30/100\n",
            "2/2 [==============================] - 0s 12ms/step - loss: 29.8622 - mae: 29.8622\n",
            "Epoch 31/100\n",
            "2/2 [==============================] - 0s 11ms/step - loss: 54.1892 - mae: 54.1892\n",
            "Epoch 32/100\n",
            "2/2 [==============================] - 0s 10ms/step - loss: 9.5695 - mae: 9.5695\n",
            "Epoch 33/100\n",
            "2/2 [==============================] - 0s 11ms/step - loss: 12.1626 - mae: 12.1626\n",
            "Epoch 34/100\n",
            "2/2 [==============================] - 0s 11ms/step - loss: 23.9316 - mae: 23.9316\n",
            "Epoch 35/100\n",
            "2/2 [==============================] - 0s 12ms/step - loss: 12.6130 - mae: 12.6130\n",
            "Epoch 36/100\n",
            "2/2 [==============================] - 0s 17ms/step - loss: 21.5207 - mae: 21.5207\n",
            "Epoch 37/100\n",
            "2/2 [==============================] - 0s 11ms/step - loss: 11.3790 - mae: 11.3790\n",
            "Epoch 38/100\n",
            "2/2 [==============================] - 0s 12ms/step - loss: 13.4709 - mae: 13.4709\n",
            "Epoch 39/100\n",
            "2/2 [==============================] - 0s 13ms/step - loss: 10.7897 - mae: 10.7897\n",
            "Epoch 40/100\n",
            "2/2 [==============================] - 0s 22ms/step - loss: 16.6165 - mae: 16.6165\n",
            "Epoch 41/100\n",
            "2/2 [==============================] - 0s 12ms/step - loss: 10.9772 - mae: 10.9772\n",
            "Epoch 42/100\n",
            "2/2 [==============================] - 0s 11ms/step - loss: 9.3032 - mae: 9.3032\n",
            "Epoch 43/100\n",
            "2/2 [==============================] - 0s 11ms/step - loss: 9.5898 - mae: 9.5898\n",
            "Epoch 44/100\n",
            "2/2 [==============================] - 0s 13ms/step - loss: 28.0414 - mae: 28.0414\n",
            "Epoch 45/100\n",
            "2/2 [==============================] - 0s 13ms/step - loss: 11.2909 - mae: 11.2909\n",
            "Epoch 46/100\n",
            "2/2 [==============================] - 0s 13ms/step - loss: 14.0979 - mae: 14.0979\n",
            "Epoch 47/100\n",
            "2/2 [==============================] - 0s 12ms/step - loss: 13.4877 - mae: 13.4877\n",
            "Epoch 48/100\n",
            "2/2 [==============================] - 0s 12ms/step - loss: 17.3173 - mae: 17.3173\n",
            "Epoch 49/100\n",
            "2/2 [==============================] - 0s 12ms/step - loss: 9.5226 - mae: 9.5226\n",
            "Epoch 50/100\n",
            "2/2 [==============================] - 0s 11ms/step - loss: 13.7238 - mae: 13.7238\n",
            "Epoch 51/100\n",
            "2/2 [==============================] - 0s 12ms/step - loss: 11.5630 - mae: 11.5630\n",
            "Epoch 52/100\n",
            "2/2 [==============================] - 0s 14ms/step - loss: 30.2944 - mae: 30.2944\n",
            "Epoch 53/100\n",
            "2/2 [==============================] - 0s 13ms/step - loss: 14.2429 - mae: 14.2429\n",
            "Epoch 54/100\n",
            "2/2 [==============================] - 0s 10ms/step - loss: 23.5493 - mae: 23.5493\n",
            "Epoch 55/100\n",
            "2/2 [==============================] - 0s 14ms/step - loss: 24.4638 - mae: 24.4638\n",
            "Epoch 56/100\n",
            "2/2 [==============================] - 0s 13ms/step - loss: 11.2977 - mae: 11.2977\n",
            "Epoch 57/100\n",
            "2/2 [==============================] - 0s 10ms/step - loss: 13.3026 - mae: 13.3026\n",
            "Epoch 58/100\n",
            "2/2 [==============================] - 0s 11ms/step - loss: 9.9152 - mae: 9.9152\n",
            "Epoch 59/100\n",
            "2/2 [==============================] - 0s 12ms/step - loss: 13.8449 - mae: 13.8449\n",
            "Epoch 60/100\n",
            "2/2 [==============================] - 0s 13ms/step - loss: 9.9589 - mae: 9.9589\n",
            "Epoch 61/100\n",
            "2/2 [==============================] - 0s 15ms/step - loss: 14.9029 - mae: 14.9029\n",
            "Epoch 62/100\n",
            "2/2 [==============================] - 0s 15ms/step - loss: 11.8807 - mae: 11.8807\n",
            "Epoch 63/100\n",
            "2/2 [==============================] - 0s 11ms/step - loss: 10.2613 - mae: 10.2613\n",
            "Epoch 64/100\n",
            "2/2 [==============================] - 0s 9ms/step - loss: 23.7779 - mae: 23.7779\n",
            "Epoch 65/100\n",
            "2/2 [==============================] - 0s 9ms/step - loss: 10.4369 - mae: 10.4369\n",
            "Epoch 66/100\n",
            "2/2 [==============================] - 0s 10ms/step - loss: 20.8377 - mae: 20.8377\n",
            "Epoch 67/100\n",
            "2/2 [==============================] - 0s 11ms/step - loss: 10.4096 - mae: 10.4096\n",
            "Epoch 68/100\n",
            "2/2 [==============================] - 0s 13ms/step - loss: 14.1098 - mae: 14.1098\n",
            "Epoch 69/100\n",
            "2/2 [==============================] - 0s 11ms/step - loss: 10.4755 - mae: 10.4755\n",
            "Epoch 70/100\n",
            "2/2 [==============================] - 0s 14ms/step - loss: 12.5426 - mae: 12.5426\n",
            "Epoch 71/100\n",
            "2/2 [==============================] - 0s 10ms/step - loss: 12.9740 - mae: 12.9740\n",
            "Epoch 72/100\n",
            "2/2 [==============================] - 0s 13ms/step - loss: 19.2756 - mae: 19.2756\n",
            "Epoch 73/100\n",
            "2/2 [==============================] - 0s 11ms/step - loss: 11.1041 - mae: 11.1041\n",
            "Epoch 74/100\n",
            "2/2 [==============================] - 0s 11ms/step - loss: 21.3571 - mae: 21.3571\n",
            "Epoch 75/100\n",
            "2/2 [==============================] - 0s 14ms/step - loss: 9.4306 - mae: 9.4306\n",
            "Epoch 76/100\n",
            "2/2 [==============================] - 0s 16ms/step - loss: 12.2495 - mae: 12.2495\n",
            "Epoch 77/100\n",
            "2/2 [==============================] - 0s 15ms/step - loss: 16.2583 - mae: 16.2583\n",
            "Epoch 78/100\n",
            "2/2 [==============================] - 0s 10ms/step - loss: 8.9955 - mae: 8.9955\n",
            "Epoch 79/100\n",
            "2/2 [==============================] - 0s 12ms/step - loss: 23.4963 - mae: 23.4963\n",
            "Epoch 80/100\n",
            "2/2 [==============================] - 0s 10ms/step - loss: 26.1777 - mae: 26.1777\n",
            "Epoch 81/100\n",
            "2/2 [==============================] - 0s 11ms/step - loss: 11.3973 - mae: 11.3973\n",
            "Epoch 82/100\n",
            "2/2 [==============================] - 0s 9ms/step - loss: 12.4636 - mae: 12.4636\n",
            "Epoch 83/100\n",
            "2/2 [==============================] - 0s 10ms/step - loss: 17.1362 - mae: 17.1362\n",
            "Epoch 84/100\n",
            "2/2 [==============================] - 0s 12ms/step - loss: 6.5569 - mae: 6.5569\n",
            "Epoch 85/100\n",
            "2/2 [==============================] - 0s 11ms/step - loss: 20.3805 - mae: 20.3805\n",
            "Epoch 86/100\n",
            "2/2 [==============================] - 0s 10ms/step - loss: 10.1599 - mae: 10.1599\n",
            "Epoch 87/100\n",
            "2/2 [==============================] - 0s 10ms/step - loss: 24.4464 - mae: 24.4464\n",
            "Epoch 88/100\n",
            "2/2 [==============================] - 0s 10ms/step - loss: 19.1087 - mae: 19.1087\n",
            "Epoch 89/100\n",
            "2/2 [==============================] - 0s 12ms/step - loss: 7.1418 - mae: 7.1418\n",
            "Epoch 90/100\n",
            "2/2 [==============================] - 0s 11ms/step - loss: 18.2084 - mae: 18.2084\n",
            "Epoch 91/100\n",
            "2/2 [==============================] - 0s 11ms/step - loss: 13.2558 - mae: 13.2558\n",
            "Epoch 92/100\n",
            "2/2 [==============================] - 0s 12ms/step - loss: 14.7881 - mae: 14.7881\n",
            "Epoch 93/100\n",
            "2/2 [==============================] - 0s 14ms/step - loss: 11.0825 - mae: 11.0825\n",
            "Epoch 94/100\n",
            "2/2 [==============================] - 0s 14ms/step - loss: 16.6725 - mae: 16.6725\n",
            "Epoch 95/100\n",
            "2/2 [==============================] - 0s 11ms/step - loss: 16.0393 - mae: 16.0393\n",
            "Epoch 96/100\n",
            "2/2 [==============================] - 0s 15ms/step - loss: 10.5609 - mae: 10.5609\n",
            "Epoch 97/100\n",
            "2/2 [==============================] - 0s 13ms/step - loss: 21.2071 - mae: 21.2071\n",
            "Epoch 98/100\n",
            "2/2 [==============================] - 0s 12ms/step - loss: 10.4343 - mae: 10.4343\n",
            "Epoch 99/100\n",
            "2/2 [==============================] - 0s 11ms/step - loss: 14.5247 - mae: 14.5247\n",
            "Epoch 100/100\n",
            "2/2 [==============================] - 0s 12ms/step - loss: 17.6893 - mae: 17.6893\n"
          ]
        },
        {
          "output_type": "execute_result",
          "data": {
            "text/plain": [
              "<keras.src.callbacks.History at 0x7fe62535bc40>"
            ]
          },
          "metadata": {},
          "execution_count": 225
        }
      ]
    },
    {
      "cell_type": "code",
      "source": [
        "y_preds_2 = model_2.predict(X_test)\n",
        "plot_predictions(X_train,y_train,X_test,y_test,y_preds_2)"
      ],
      "metadata": {
        "colab": {
          "base_uri": "https://localhost:8080/",
          "height": 616
        },
        "id": "SFlqmM4a8wqE",
        "outputId": "8e00250b-ebb8-4eb2-8396-d2914c80f6ff"
      },
      "execution_count": 227,
      "outputs": [
        {
          "output_type": "stream",
          "name": "stdout",
          "text": [
            "1/1 [==============================] - 0s 84ms/step\n"
          ]
        },
        {
          "output_type": "display_data",
          "data": {
            "text/plain": [
              "<Figure size 1000x700 with 1 Axes>"
            ],
            "image/png": "[encoded data removed]"
          },
          "metadata": {}
        }
      ]
    },
    {
      "cell_type": "code",
      "source": [
        "# calculate model 2 evaluation metrics\n",
        "mae_2 = mean_absolute_error(y_test,y_preds_2)\n",
        "mse_2 = mean_squared_error(y_test,y_preds_2)\n",
        "mae_2,mse_2"
      ],
      "metadata": {
        "colab": {
          "base_uri": "https://localhost:8080/"
        },
        "id": "QhkEO4Pl9vuK",
        "outputId": "77e0e68b-0bec-4a1a-d643-5a5f02e21bbe"
      },
      "execution_count": 229,
      "outputs": [
        {
          "output_type": "execute_result",
          "data": {
            "text/plain": [
              "(<tf.Tensor: shape=(), dtype=float32, numpy=13.176166>,\n",
              " <tf.Tensor: shape=(), dtype=float32, numpy=175.8389>)"
            ]
          },
          "metadata": {},
          "execution_count": 229
        }
      ]
    },
    {
      "cell_type": "code",
      "source": [
        "model_3 = tf.keras.Sequential([\n",
        "    tf.keras.layers.Dense(10),\n",
        "    tf.keras.layers.Dense(1)\n",
        "])\n",
        "model_3.compile(loss=tf.keras.losses.mae,optimizer=tf.keras.optimizers.SGD(),metrics=[\"mse\"])\n",
        "model_3.fit(X_train,y_train,epochs=500)"
      ],
      "metadata": {
        "colab": {
          "base_uri": "https://localhost:8080/"
        },
        "id": "ojJS5TIF9_GY",
        "outputId": "c3b4dbf3-9c7f-49c3-e961-ae23c3ed7897"
      },
      "execution_count": 230,
      "outputs": [
        {
          "output_type": "stream",
          "name": "stdout",
          "text": [
            "Epoch 1/500\n",
            "2/2 [==============================] - 1s 13ms/step - loss: 46.1415 - mse: 3291.4419\n",
            "Epoch 2/500\n",
            "2/2 [==============================] - 0s 13ms/step - loss: 26.6110 - mse: 919.8844\n",
            "Epoch 3/500\n",
            "2/2 [==============================] - 0s 22ms/step - loss: 32.1194 - mse: 1533.0920\n",
            "Epoch 4/500\n",
            "2/2 [==============================] - 0s 14ms/step - loss: 26.0124 - mse: 985.6437\n",
            "Epoch 5/500\n",
            "2/2 [==============================] - 0s 16ms/step - loss: 14.2843 - mse: 250.6435\n",
            "Epoch 6/500\n",
            "2/2 [==============================] - 0s 13ms/step - loss: 11.4156 - mse: 147.9342\n",
            "Epoch 7/500\n",
            "2/2 [==============================] - 0s 9ms/step - loss: 12.4484 - mse: 203.1715\n",
            "Epoch 8/500\n",
            "2/2 [==============================] - 0s 24ms/step - loss: 10.9691 - mse: 143.8329\n",
            "Epoch 9/500\n",
            "2/2 [==============================] - 0s 29ms/step - loss: 38.9415 - mse: 2363.0918\n",
            "Epoch 10/500\n",
            "2/2 [==============================] - 0s 11ms/step - loss: 26.5317 - mse: 989.5176\n",
            "Epoch 11/500\n",
            "2/2 [==============================] - 0s 14ms/step - loss: 11.8004 - mse: 217.8316\n",
            "Epoch 12/500\n",
            "2/2 [==============================] - 0s 18ms/step - loss: 23.5909 - mse: 788.4960\n",
            "Epoch 13/500\n",
            "2/2 [==============================] - 0s 9ms/step - loss: 21.1509 - mse: 637.8076\n",
            "Epoch 14/500\n",
            "2/2 [==============================] - 0s 9ms/step - loss: 23.6056 - mse: 854.3009\n",
            "Epoch 15/500\n",
            "2/2 [==============================] - 0s 9ms/step - loss: 15.7041 - mse: 335.5031\n",
            "Epoch 16/500\n",
            "2/2 [==============================] - 0s 14ms/step - loss: 10.4128 - mse: 124.6441\n",
            "Epoch 17/500\n",
            "2/2 [==============================] - 0s 16ms/step - loss: 19.6213 - mse: 523.3257\n",
            "Epoch 18/500\n",
            "2/2 [==============================] - 0s 22ms/step - loss: 13.2672 - mse: 274.9643\n",
            "Epoch 19/500\n",
            "2/2 [==============================] - 0s 21ms/step - loss: 16.0301 - mse: 410.5583\n",
            "Epoch 20/500\n",
            "2/2 [==============================] - 0s 13ms/step - loss: 10.1922 - mse: 154.1747\n",
            "Epoch 21/500\n",
            "2/2 [==============================] - 0s 21ms/step - loss: 13.7353 - mse: 248.6143\n",
            "Epoch 22/500\n",
            "2/2 [==============================] - 0s 17ms/step - loss: 21.9397 - mse: 682.6068\n",
            "Epoch 23/500\n",
            "2/2 [==============================] - 0s 17ms/step - loss: 10.4552 - mse: 166.6174\n",
            "Epoch 24/500\n",
            "2/2 [==============================] - 0s 17ms/step - loss: 15.7495 - mse: 333.0539\n",
            "Epoch 25/500\n",
            "2/2 [==============================] - 0s 16ms/step - loss: 14.9003 - mse: 292.3007\n",
            "Epoch 26/500\n",
            "2/2 [==============================] - 0s 26ms/step - loss: 19.5269 - mse: 577.9527\n",
            "Epoch 27/500\n",
            "2/2 [==============================] - 0s 17ms/step - loss: 20.5263 - mse: 636.9274\n",
            "Epoch 28/500\n",
            "2/2 [==============================] - 0s 15ms/step - loss: 14.9004 - mse: 342.1739\n",
            "Epoch 29/500\n",
            "2/2 [==============================] - 0s 19ms/step - loss: 9.2626 - mse: 93.3694\n",
            "Epoch 30/500\n",
            "2/2 [==============================] - 0s 20ms/step - loss: 30.2694 - mse: 1672.8252\n",
            "Epoch 31/500\n",
            "2/2 [==============================] - 0s 28ms/step - loss: 54.9901 - mse: 5422.1533\n",
            "Epoch 32/500\n",
            "2/2 [==============================] - 0s 35ms/step - loss: 9.6806 - mse: 102.5992\n",
            "Epoch 33/500\n",
            "2/2 [==============================] - 0s 15ms/step - loss: 12.2884 - mse: 189.5206\n",
            "Epoch 34/500\n",
            "2/2 [==============================] - 0s 16ms/step - loss: 24.3908 - mse: 903.4634\n",
            "Epoch 35/500\n",
            "2/2 [==============================] - 0s 15ms/step - loss: 11.9660 - mse: 210.1683\n",
            "Epoch 36/500\n",
            "2/2 [==============================] - 0s 15ms/step - loss: 22.2245 - mse: 702.3636\n",
            "Epoch 37/500\n",
            "2/2 [==============================] - 0s 20ms/step - loss: 17.3621 - mse: 428.9771\n",
            "Epoch 38/500\n",
            "2/2 [==============================] - 0s 15ms/step - loss: 10.6632 - mse: 130.5894\n",
            "Epoch 39/500\n",
            "2/2 [==============================] - 0s 15ms/step - loss: 11.1795 - mse: 161.6354\n",
            "Epoch 40/500\n",
            "2/2 [==============================] - 0s 14ms/step - loss: 17.9719 - mse: 467.3546\n",
            "Epoch 41/500\n",
            "2/2 [==============================] - 0s 16ms/step - loss: 10.3966 - mse: 183.2541\n",
            "Epoch 42/500\n",
            "2/2 [==============================] - 0s 15ms/step - loss: 7.2717 - mse: 75.6669\n",
            "Epoch 43/500\n",
            "2/2 [==============================] - 0s 17ms/step - loss: 18.9358 - mse: 531.4586\n",
            "Epoch 44/500\n",
            "2/2 [==============================] - 0s 14ms/step - loss: 20.0877 - mse: 623.9273\n",
            "Epoch 45/500\n",
            "2/2 [==============================] - 0s 15ms/step - loss: 10.1159 - mse: 127.7301\n",
            "Epoch 46/500\n",
            "2/2 [==============================] - 0s 15ms/step - loss: 11.3743 - mse: 159.9867\n",
            "Epoch 47/500\n",
            "2/2 [==============================] - 0s 17ms/step - loss: 9.8221 - mse: 152.8412\n",
            "Epoch 48/500\n",
            "2/2 [==============================] - 0s 23ms/step - loss: 17.6155 - mse: 421.9210\n",
            "Epoch 49/500\n",
            "2/2 [==============================] - 0s 18ms/step - loss: 9.3291 - mse: 95.5089\n",
            "Epoch 50/500\n",
            "2/2 [==============================] - 0s 17ms/step - loss: 13.3743 - mse: 235.9209\n",
            "Epoch 51/500\n",
            "2/2 [==============================] - 0s 21ms/step - loss: 11.4328 - mse: 148.5992\n",
            "Epoch 52/500\n",
            "2/2 [==============================] - 0s 18ms/step - loss: 29.3949 - mse: 1481.7764\n",
            "Epoch 53/500\n",
            "2/2 [==============================] - 0s 26ms/step - loss: 16.7469 - mse: 415.2299\n",
            "Epoch 54/500\n",
            "2/2 [==============================] - 0s 17ms/step - loss: 21.7246 - mse: 695.9620\n",
            "Epoch 55/500\n",
            "2/2 [==============================] - 0s 33ms/step - loss: 22.1708 - mse: 735.5565\n",
            "Epoch 56/500\n",
            "2/2 [==============================] - 0s 31ms/step - loss: 11.2408 - mse: 171.4845\n",
            "Epoch 57/500\n",
            "2/2 [==============================] - 0s 16ms/step - loss: 13.2193 - mse: 218.4449\n",
            "Epoch 58/500\n",
            "2/2 [==============================] - 0s 16ms/step - loss: 9.8717 - mse: 107.5471\n",
            "Epoch 59/500\n",
            "2/2 [==============================] - 0s 20ms/step - loss: 13.4107 - mse: 255.0891\n",
            "Epoch 60/500\n",
            "2/2 [==============================] - 0s 14ms/step - loss: 10.9370 - mse: 141.5658\n",
            "Epoch 61/500\n",
            "2/2 [==============================] - 0s 14ms/step - loss: 13.5599 - mse: 246.3060\n",
            "Epoch 62/500\n",
            "2/2 [==============================] - 0s 14ms/step - loss: 17.8759 - mse: 486.5571\n",
            "Epoch 63/500\n",
            "2/2 [==============================] - 0s 13ms/step - loss: 8.7392 - mse: 92.0923\n",
            "Epoch 64/500\n",
            "2/2 [==============================] - 0s 19ms/step - loss: 16.1368 - mse: 373.2455\n",
            "Epoch 65/500\n",
            "2/2 [==============================] - 0s 14ms/step - loss: 10.7475 - mse: 146.6293\n",
            "Epoch 66/500\n",
            "2/2 [==============================] - 0s 16ms/step - loss: 22.1842 - mse: 729.0892\n",
            "Epoch 67/500\n",
            "2/2 [==============================] - 0s 15ms/step - loss: 10.2693 - mse: 121.2270\n",
            "Epoch 68/500\n",
            "2/2 [==============================] - 0s 15ms/step - loss: 13.4687 - mse: 269.0387\n",
            "Epoch 69/500\n",
            "2/2 [==============================] - 0s 30ms/step - loss: 11.4336 - mse: 163.1653\n",
            "Epoch 70/500\n",
            "2/2 [==============================] - 0s 21ms/step - loss: 13.6183 - mse: 245.8262\n",
            "Epoch 71/500\n",
            "2/2 [==============================] - 0s 19ms/step - loss: 15.6259 - mse: 346.9017\n",
            "Epoch 72/500\n",
            "2/2 [==============================] - 0s 20ms/step - loss: 11.8532 - mse: 168.3961\n",
            "Epoch 73/500\n",
            "2/2 [==============================] - 0s 16ms/step - loss: 16.6283 - mse: 372.5463\n",
            "Epoch 74/500\n",
            "2/2 [==============================] - 0s 21ms/step - loss: 24.1439 - mse: 917.4168\n",
            "Epoch 75/500\n",
            "2/2 [==============================] - 0s 19ms/step - loss: 9.6322 - mse: 149.2883\n",
            "Epoch 76/500\n",
            "2/2 [==============================] - 0s 18ms/step - loss: 12.4840 - mse: 189.8023\n",
            "Epoch 77/500\n",
            "2/2 [==============================] - 0s 16ms/step - loss: 16.7166 - mse: 433.1824\n",
            "Epoch 78/500\n",
            "2/2 [==============================] - 0s 15ms/step - loss: 9.0865 - mse: 96.4347\n",
            "Epoch 79/500\n",
            "2/2 [==============================] - 0s 21ms/step - loss: 24.0375 - mse: 869.9484\n",
            "Epoch 80/500\n",
            "2/2 [==============================] - 0s 13ms/step - loss: 26.8318 - mse: 1112.2312\n",
            "Epoch 81/500\n",
            "2/2 [==============================] - 0s 13ms/step - loss: 11.7262 - mse: 172.7267\n",
            "Epoch 82/500\n",
            "2/2 [==============================] - 0s 13ms/step - loss: 12.0074 - mse: 211.7785\n",
            "Epoch 83/500\n",
            "2/2 [==============================] - 0s 14ms/step - loss: 17.4013 - mse: 394.4803\n",
            "Epoch 84/500\n",
            "2/2 [==============================] - 0s 14ms/step - loss: 7.2741 - mse: 73.4179\n",
            "Epoch 85/500\n",
            "2/2 [==============================] - 0s 14ms/step - loss: 14.9544 - mse: 312.3804\n",
            "Epoch 86/500\n",
            "2/2 [==============================] - 0s 24ms/step - loss: 15.2797 - mse: 315.3087\n",
            "Epoch 87/500\n",
            "2/2 [==============================] - 0s 16ms/step - loss: 19.0882 - mse: 520.2953\n",
            "Epoch 88/500\n",
            "2/2 [==============================] - 0s 28ms/step - loss: 29.8821 - mse: 1292.6764\n",
            "Epoch 89/500\n",
            "2/2 [==============================] - 0s 20ms/step - loss: 10.1987 - mse: 124.4687\n",
            "Epoch 90/500\n",
            "2/2 [==============================] - 0s 18ms/step - loss: 21.5670 - mse: 666.6552\n",
            "Epoch 91/500\n",
            "2/2 [==============================] - 0s 18ms/step - loss: 10.5965 - mse: 161.9229\n",
            "Epoch 92/500\n",
            "2/2 [==============================] - 0s 19ms/step - loss: 18.4332 - mse: 465.9873\n",
            "Epoch 93/500\n",
            "2/2 [==============================] - 0s 17ms/step - loss: 7.4303 - mse: 82.0555\n",
            "Epoch 94/500\n",
            "2/2 [==============================] - 0s 20ms/step - loss: 17.7655 - mse: 447.1505\n",
            "Epoch 95/500\n",
            "2/2 [==============================] - 0s 18ms/step - loss: 11.1369 - mse: 164.8803\n",
            "Epoch 96/500\n",
            "2/2 [==============================] - 0s 13ms/step - loss: 19.4611 - mse: 511.8674\n",
            "Epoch 97/500\n",
            "2/2 [==============================] - 0s 12ms/step - loss: 12.1826 - mse: 210.7603\n",
            "Epoch 98/500\n",
            "2/2 [==============================] - 0s 12ms/step - loss: 11.5861 - mse: 169.9247\n",
            "Epoch 99/500\n",
            "2/2 [==============================] - 0s 15ms/step - loss: 13.8980 - mse: 265.9795\n",
            "Epoch 100/500\n",
            "2/2 [==============================] - 0s 16ms/step - loss: 20.2398 - mse: 609.5466\n",
            "Epoch 101/500\n",
            "2/2 [==============================] - 0s 10ms/step - loss: 11.4653 - mse: 177.5457\n",
            "Epoch 102/500\n",
            "2/2 [==============================] - 0s 12ms/step - loss: 17.4956 - mse: 426.9632\n",
            "Epoch 103/500\n",
            "2/2 [==============================] - 0s 11ms/step - loss: 7.0359 - mse: 65.5260\n",
            "Epoch 104/500\n",
            "2/2 [==============================] - 0s 14ms/step - loss: 23.5836 - mse: 757.6815\n",
            "Epoch 105/500\n",
            "2/2 [==============================] - 0s 18ms/step - loss: 16.8890 - mse: 442.8787\n",
            "Epoch 106/500\n",
            "2/2 [==============================] - 0s 12ms/step - loss: 9.3064 - mse: 144.8145\n",
            "Epoch 107/500\n",
            "2/2 [==============================] - 0s 10ms/step - loss: 25.3812 - mse: 934.5589\n",
            "Epoch 108/500\n",
            "2/2 [==============================] - 0s 10ms/step - loss: 13.4577 - mse: 269.6037\n",
            "Epoch 109/500\n",
            "2/2 [==============================] - 0s 11ms/step - loss: 9.5316 - mse: 108.9673\n",
            "Epoch 110/500\n",
            "2/2 [==============================] - 0s 11ms/step - loss: 9.6795 - mse: 129.1703\n",
            "Epoch 111/500\n",
            "2/2 [==============================] - 0s 13ms/step - loss: 14.5936 - mse: 295.6797\n",
            "Epoch 112/500\n",
            "2/2 [==============================] - 0s 13ms/step - loss: 9.5749 - mse: 123.2412\n",
            "Epoch 113/500\n",
            "2/2 [==============================] - 0s 13ms/step - loss: 17.7860 - mse: 459.2938\n",
            "Epoch 114/500\n",
            "2/2 [==============================] - 0s 11ms/step - loss: 17.1570 - mse: 439.9706\n",
            "Epoch 115/500\n",
            "2/2 [==============================] - 0s 15ms/step - loss: 11.1229 - mse: 154.8629\n",
            "Epoch 116/500\n",
            "2/2 [==============================] - 0s 11ms/step - loss: 23.2717 - mse: 789.1554\n",
            "Epoch 117/500\n",
            "2/2 [==============================] - 0s 12ms/step - loss: 9.6152 - mse: 126.4837\n",
            "Epoch 118/500\n",
            "2/2 [==============================] - 0s 11ms/step - loss: 10.6868 - mse: 140.1030\n",
            "Epoch 119/500\n",
            "2/2 [==============================] - 0s 17ms/step - loss: 8.0469 - mse: 78.2086\n",
            "Epoch 120/500\n",
            "2/2 [==============================] - 0s 20ms/step - loss: 29.6212 - mse: 1309.7780\n",
            "Epoch 121/500\n",
            "2/2 [==============================] - 0s 12ms/step - loss: 8.0822 - mse: 70.7718\n",
            "Epoch 122/500\n",
            "2/2 [==============================] - 0s 12ms/step - loss: 28.2507 - mse: 1227.5204\n",
            "Epoch 123/500\n",
            "2/2 [==============================] - 0s 11ms/step - loss: 32.8291 - mse: 1584.4813\n",
            "Epoch 124/500\n",
            "2/2 [==============================] - 0s 10ms/step - loss: 19.5786 - mse: 568.6838\n",
            "Epoch 125/500\n",
            "2/2 [==============================] - 0s 11ms/step - loss: 7.0244 - mse: 72.6815\n",
            "Epoch 126/500\n",
            "2/2 [==============================] - 0s 11ms/step - loss: 21.7482 - mse: 662.5721\n",
            "Epoch 127/500\n",
            "2/2 [==============================] - 0s 11ms/step - loss: 7.9842 - mse: 69.4830\n",
            "Epoch 128/500\n",
            "2/2 [==============================] - 0s 10ms/step - loss: 21.0001 - mse: 649.6546\n",
            "Epoch 129/500\n",
            "2/2 [==============================] - 0s 11ms/step - loss: 9.0122 - mse: 119.8734\n",
            "Epoch 130/500\n",
            "2/2 [==============================] - 0s 11ms/step - loss: 23.9787 - mse: 810.7643\n",
            "Epoch 131/500\n",
            "2/2 [==============================] - 0s 12ms/step - loss: 9.7501 - mse: 131.9626\n",
            "Epoch 132/500\n",
            "2/2 [==============================] - 0s 11ms/step - loss: 18.2419 - mse: 497.2984\n",
            "Epoch 133/500\n",
            "2/2 [==============================] - 0s 15ms/step - loss: 7.5852 - mse: 80.8633\n",
            "Epoch 134/500\n",
            "2/2 [==============================] - 0s 9ms/step - loss: 18.5130 - mse: 502.7610\n",
            "Epoch 135/500\n",
            "2/2 [==============================] - 0s 9ms/step - loss: 10.5263 - mse: 148.7402\n",
            "Epoch 136/500\n",
            "2/2 [==============================] - 0s 8ms/step - loss: 18.2141 - mse: 469.3984\n",
            "Epoch 137/500\n",
            "2/2 [==============================] - 0s 8ms/step - loss: 23.0847 - mse: 718.7748\n",
            "Epoch 138/500\n",
            "2/2 [==============================] - 0s 10ms/step - loss: 9.1149 - mse: 139.9763\n",
            "Epoch 139/500\n",
            "2/2 [==============================] - 0s 8ms/step - loss: 8.9082 - mse: 145.4586\n",
            "Epoch 140/500\n",
            "2/2 [==============================] - 0s 9ms/step - loss: 16.4092 - mse: 386.3804\n",
            "Epoch 141/500\n",
            "2/2 [==============================] - 0s 7ms/step - loss: 8.4295 - mse: 90.9101\n",
            "Epoch 142/500\n",
            "2/2 [==============================] - 0s 7ms/step - loss: 36.8103 - mse: 2384.7029\n",
            "Epoch 143/500\n",
            "2/2 [==============================] - 0s 8ms/step - loss: 25.4731 - mse: 918.6652\n",
            "Epoch 144/500\n",
            "2/2 [==============================] - 0s 7ms/step - loss: 9.5536 - mse: 143.7607\n",
            "Epoch 145/500\n",
            "2/2 [==============================] - 0s 8ms/step - loss: 26.6411 - mse: 959.5223\n",
            "Epoch 146/500\n",
            "2/2 [==============================] - 0s 8ms/step - loss: 8.6879 - mse: 109.0109\n",
            "Epoch 147/500\n",
            "2/2 [==============================] - 0s 7ms/step - loss: 15.6552 - mse: 311.9883\n",
            "Epoch 148/500\n",
            "2/2 [==============================] - 0s 8ms/step - loss: 18.3544 - mse: 467.2744\n",
            "Epoch 149/500\n",
            "2/2 [==============================] - 0s 8ms/step - loss: 8.1726 - mse: 107.0438\n",
            "Epoch 150/500\n",
            "2/2 [==============================] - 0s 8ms/step - loss: 7.4939 - mse: 66.8878\n",
            "Epoch 151/500\n",
            "2/2 [==============================] - 0s 10ms/step - loss: 18.2374 - mse: 480.3012\n",
            "Epoch 152/500\n",
            "2/2 [==============================] - 0s 11ms/step - loss: 10.2747 - mse: 129.8238\n",
            "Epoch 153/500\n",
            "2/2 [==============================] - 0s 8ms/step - loss: 29.4794 - mse: 1252.9338\n",
            "Epoch 154/500\n",
            "2/2 [==============================] - 0s 8ms/step - loss: 10.5937 - mse: 200.6816\n",
            "Epoch 155/500\n",
            "2/2 [==============================] - 0s 8ms/step - loss: 15.4882 - mse: 349.4096\n",
            "Epoch 156/500\n",
            "2/2 [==============================] - 0s 9ms/step - loss: 17.0891 - mse: 441.5264\n",
            "Epoch 157/500\n",
            "2/2 [==============================] - 0s 8ms/step - loss: 32.6370 - mse: 1723.8083\n",
            "Epoch 158/500\n",
            "2/2 [==============================] - 0s 8ms/step - loss: 10.6621 - mse: 149.7458\n",
            "Epoch 159/500\n",
            "2/2 [==============================] - 0s 7ms/step - loss: 8.8916 - mse: 97.7773\n",
            "Epoch 160/500\n",
            "2/2 [==============================] - 0s 7ms/step - loss: 21.9961 - mse: 700.0255\n",
            "Epoch 161/500\n",
            "2/2 [==============================] - 0s 7ms/step - loss: 11.6667 - mse: 201.2000\n",
            "Epoch 162/500\n",
            "2/2 [==============================] - 0s 10ms/step - loss: 21.4446 - mse: 661.8370\n",
            "Epoch 163/500\n",
            "2/2 [==============================] - 0s 8ms/step - loss: 18.9175 - mse: 515.5126\n",
            "Epoch 164/500\n",
            "2/2 [==============================] - 0s 7ms/step - loss: 12.7567 - mse: 252.6230\n",
            "Epoch 165/500\n",
            "2/2 [==============================] - 0s 7ms/step - loss: 12.7090 - mse: 235.0191\n",
            "Epoch 166/500\n",
            "2/2 [==============================] - 0s 8ms/step - loss: 18.8649 - mse: 550.1995\n",
            "Epoch 167/500\n",
            "2/2 [==============================] - 0s 8ms/step - loss: 26.9072 - mse: 1102.4172\n",
            "Epoch 168/500\n",
            "2/2 [==============================] - 0s 8ms/step - loss: 9.9942 - mse: 120.6655\n",
            "Epoch 169/500\n",
            "2/2 [==============================] - 0s 7ms/step - loss: 23.1666 - mse: 831.3301\n",
            "Epoch 170/500\n",
            "2/2 [==============================] - 0s 8ms/step - loss: 9.5774 - mse: 170.5408\n",
            "Epoch 171/500\n",
            "2/2 [==============================] - 0s 11ms/step - loss: 15.8424 - mse: 377.3397\n",
            "Epoch 172/500\n",
            "2/2 [==============================] - 0s 13ms/step - loss: 13.8749 - mse: 284.9819\n",
            "Epoch 173/500\n",
            "2/2 [==============================] - 0s 9ms/step - loss: 22.5611 - mse: 720.1510\n",
            "Epoch 174/500\n",
            "2/2 [==============================] - 0s 9ms/step - loss: 11.3613 - mse: 180.3081\n",
            "Epoch 175/500\n",
            "2/2 [==============================] - 0s 10ms/step - loss: 20.1435 - mse: 656.0331\n",
            "Epoch 176/500\n",
            "2/2 [==============================] - 0s 9ms/step - loss: 7.4164 - mse: 68.7274\n",
            "Epoch 177/500\n",
            "2/2 [==============================] - 0s 9ms/step - loss: 8.6000 - mse: 104.8007\n",
            "Epoch 178/500\n",
            "2/2 [==============================] - 0s 8ms/step - loss: 15.5376 - mse: 347.4820\n",
            "Epoch 179/500\n",
            "2/2 [==============================] - 0s 7ms/step - loss: 9.2636 - mse: 119.7942\n",
            "Epoch 180/500\n",
            "2/2 [==============================] - 0s 10ms/step - loss: 8.1336 - mse: 93.3742\n",
            "Epoch 181/500\n",
            "2/2 [==============================] - 0s 10ms/step - loss: 18.7923 - mse: 508.6618\n",
            "Epoch 182/500\n",
            "2/2 [==============================] - 0s 7ms/step - loss: 10.7987 - mse: 152.0821\n",
            "Epoch 183/500\n",
            "2/2 [==============================] - 0s 9ms/step - loss: 11.5049 - mse: 198.2384\n",
            "Epoch 184/500\n",
            "2/2 [==============================] - 0s 7ms/step - loss: 29.7991 - mse: 1329.5110\n",
            "Epoch 185/500\n",
            "2/2 [==============================] - 0s 7ms/step - loss: 7.5436 - mse: 95.5571\n",
            "Epoch 186/500\n",
            "2/2 [==============================] - 0s 8ms/step - loss: 16.4467 - mse: 386.0948\n",
            "Epoch 187/500\n",
            "2/2 [==============================] - 0s 8ms/step - loss: 10.7168 - mse: 221.0484\n",
            "Epoch 188/500\n",
            "2/2 [==============================] - 0s 12ms/step - loss: 22.5279 - mse: 746.2628\n",
            "Epoch 189/500\n",
            "2/2 [==============================] - 0s 8ms/step - loss: 11.6799 - mse: 210.7310\n",
            "Epoch 190/500\n",
            "2/2 [==============================] - 0s 7ms/step - loss: 9.4304 - mse: 105.6570\n",
            "Epoch 191/500\n",
            "2/2 [==============================] - 0s 7ms/step - loss: 15.6253 - mse: 344.0020\n",
            "Epoch 192/500\n",
            "2/2 [==============================] - 0s 10ms/step - loss: 12.8425 - mse: 266.4105\n",
            "Epoch 193/500\n",
            "2/2 [==============================] - 0s 14ms/step - loss: 27.8084 - mse: 1076.8612\n",
            "Epoch 194/500\n",
            "2/2 [==============================] - 0s 12ms/step - loss: 7.1180 - mse: 78.0585\n",
            "Epoch 195/500\n",
            "2/2 [==============================] - 0s 11ms/step - loss: 7.0357 - mse: 75.1907\n",
            "Epoch 196/500\n",
            "2/2 [==============================] - 0s 9ms/step - loss: 21.9195 - mse: 704.8318\n",
            "Epoch 197/500\n",
            "2/2 [==============================] - 0s 11ms/step - loss: 21.0384 - mse: 656.2067\n",
            "Epoch 198/500\n",
            "2/2 [==============================] - 0s 12ms/step - loss: 12.5799 - mse: 240.2291\n",
            "Epoch 199/500\n",
            "2/2 [==============================] - 0s 9ms/step - loss: 18.0795 - mse: 468.7988\n",
            "Epoch 200/500\n",
            "2/2 [==============================] - 0s 11ms/step - loss: 13.9063 - mse: 289.0579\n",
            "Epoch 201/500\n",
            "2/2 [==============================] - 0s 11ms/step - loss: 6.0147 - mse: 50.2401\n",
            "Epoch 202/500\n",
            "2/2 [==============================] - 0s 12ms/step - loss: 22.9779 - mse: 752.2924\n",
            "Epoch 203/500\n",
            "2/2 [==============================] - 0s 11ms/step - loss: 8.9546 - mse: 152.0176\n",
            "Epoch 204/500\n",
            "2/2 [==============================] - 0s 12ms/step - loss: 18.9442 - mse: 537.8475\n",
            "Epoch 205/500\n",
            "2/2 [==============================] - 0s 9ms/step - loss: 9.3797 - mse: 126.8631\n",
            "Epoch 206/500\n",
            "2/2 [==============================] - 0s 12ms/step - loss: 11.0229 - mse: 166.5889\n",
            "Epoch 207/500\n",
            "2/2 [==============================] - 0s 12ms/step - loss: 17.5044 - mse: 462.8924\n",
            "Epoch 208/500\n",
            "2/2 [==============================] - 0s 7ms/step - loss: 14.2416 - mse: 293.5633\n",
            "Epoch 209/500\n",
            "2/2 [==============================] - 0s 7ms/step - loss: 16.5618 - mse: 406.4517\n",
            "Epoch 210/500\n",
            "2/2 [==============================] - 0s 7ms/step - loss: 18.0470 - mse: 474.8648\n",
            "Epoch 211/500\n",
            "2/2 [==============================] - 0s 8ms/step - loss: 9.8642 - mse: 145.3954\n",
            "Epoch 212/500\n",
            "2/2 [==============================] - 0s 11ms/step - loss: 18.5205 - mse: 517.5001\n",
            "Epoch 213/500\n",
            "2/2 [==============================] - 0s 11ms/step - loss: 14.9805 - mse: 305.8652\n",
            "Epoch 214/500\n",
            "2/2 [==============================] - 0s 10ms/step - loss: 14.5489 - mse: 291.6099\n",
            "Epoch 215/500\n",
            "2/2 [==============================] - 0s 7ms/step - loss: 23.2287 - mse: 795.1218\n",
            "Epoch 216/500\n",
            "2/2 [==============================] - 0s 8ms/step - loss: 13.4821 - mse: 282.2316\n",
            "Epoch 217/500\n",
            "2/2 [==============================] - 0s 7ms/step - loss: 9.9395 - mse: 139.6778\n",
            "Epoch 218/500\n",
            "2/2 [==============================] - 0s 8ms/step - loss: 12.4569 - mse: 204.2671\n",
            "Epoch 219/500\n",
            "2/2 [==============================] - 0s 9ms/step - loss: 5.2821 - mse: 40.3516\n",
            "Epoch 220/500\n",
            "2/2 [==============================] - 0s 9ms/step - loss: 12.4113 - mse: 243.4159\n",
            "Epoch 221/500\n",
            "2/2 [==============================] - 0s 8ms/step - loss: 22.4155 - mse: 731.8041\n",
            "Epoch 222/500\n",
            "2/2 [==============================] - 0s 14ms/step - loss: 21.5431 - mse: 725.0203\n",
            "Epoch 223/500\n",
            "2/2 [==============================] - 0s 11ms/step - loss: 11.6493 - mse: 197.1595\n",
            "Epoch 224/500\n",
            "2/2 [==============================] - 0s 8ms/step - loss: 15.1221 - mse: 345.8488\n",
            "Epoch 225/500\n",
            "2/2 [==============================] - 0s 8ms/step - loss: 17.1853 - mse: 385.2481\n",
            "Epoch 226/500\n",
            "2/2 [==============================] - 0s 8ms/step - loss: 16.3556 - mse: 397.2536\n",
            "Epoch 227/500\n",
            "2/2 [==============================] - 0s 12ms/step - loss: 16.7334 - mse: 397.0544\n",
            "Epoch 228/500\n",
            "2/2 [==============================] - 0s 9ms/step - loss: 10.1040 - mse: 181.7512\n",
            "Epoch 229/500\n",
            "2/2 [==============================] - 0s 12ms/step - loss: 18.0363 - mse: 456.5187\n",
            "Epoch 230/500\n",
            "2/2 [==============================] - 0s 8ms/step - loss: 15.6006 - mse: 314.2974\n",
            "Epoch 231/500\n",
            "2/2 [==============================] - 0s 8ms/step - loss: 21.1812 - mse: 669.6251\n",
            "Epoch 232/500\n",
            "2/2 [==============================] - 0s 8ms/step - loss: 25.3290 - mse: 917.8488\n",
            "Epoch 233/500\n",
            "2/2 [==============================] - 0s 11ms/step - loss: 16.3608 - mse: 389.5878\n",
            "Epoch 234/500\n",
            "2/2 [==============================] - 0s 11ms/step - loss: 7.2825 - mse: 66.6145\n",
            "Epoch 235/500\n",
            "2/2 [==============================] - 0s 10ms/step - loss: 17.0138 - mse: 405.3160\n",
            "Epoch 236/500\n",
            "2/2 [==============================] - 0s 8ms/step - loss: 7.1376 - mse: 69.7820\n",
            "Epoch 237/500\n",
            "2/2 [==============================] - 0s 14ms/step - loss: 9.2280 - mse: 119.1863\n",
            "Epoch 238/500\n",
            "2/2 [==============================] - 0s 11ms/step - loss: 8.1080 - mse: 86.7473\n",
            "Epoch 239/500\n",
            "2/2 [==============================] - 0s 15ms/step - loss: 17.1054 - mse: 440.4379\n",
            "Epoch 240/500\n",
            "2/2 [==============================] - 0s 13ms/step - loss: 8.8820 - mse: 107.9495\n",
            "Epoch 241/500\n",
            "2/2 [==============================] - 0s 11ms/step - loss: 13.2095 - mse: 274.1883\n",
            "Epoch 242/500\n",
            "2/2 [==============================] - 0s 13ms/step - loss: 8.8033 - mse: 105.2181\n",
            "Epoch 243/500\n",
            "2/2 [==============================] - 0s 13ms/step - loss: 18.8831 - mse: 545.2682\n",
            "Epoch 244/500\n",
            "2/2 [==============================] - 0s 10ms/step - loss: 14.0324 - mse: 274.8696\n",
            "Epoch 245/500\n",
            "2/2 [==============================] - 0s 11ms/step - loss: 14.6647 - mse: 289.2873\n",
            "Epoch 246/500\n",
            "2/2 [==============================] - 0s 10ms/step - loss: 15.7872 - mse: 369.5750\n",
            "Epoch 247/500\n",
            "2/2 [==============================] - 0s 10ms/step - loss: 17.6578 - mse: 420.1850\n",
            "Epoch 248/500\n",
            "2/2 [==============================] - 0s 11ms/step - loss: 13.2144 - mse: 251.3976\n",
            "Epoch 249/500\n",
            "2/2 [==============================] - 0s 11ms/step - loss: 14.4931 - mse: 288.0714\n",
            "Epoch 250/500\n",
            "2/2 [==============================] - 0s 12ms/step - loss: 23.2060 - mse: 791.6108\n",
            "Epoch 251/500\n",
            "2/2 [==============================] - 0s 14ms/step - loss: 9.3129 - mse: 119.4625\n",
            "Epoch 252/500\n",
            "2/2 [==============================] - 0s 13ms/step - loss: 36.7513 - mse: 2208.4778\n",
            "Epoch 253/500\n",
            "2/2 [==============================] - 0s 13ms/step - loss: 21.8918 - mse: 672.3882\n",
            "Epoch 254/500\n",
            "2/2 [==============================] - 0s 13ms/step - loss: 7.2869 - mse: 77.3875\n",
            "Epoch 255/500\n",
            "2/2 [==============================] - 0s 12ms/step - loss: 24.7873 - mse: 889.0181\n",
            "Epoch 256/500\n",
            "2/2 [==============================] - 0s 12ms/step - loss: 12.4603 - mse: 221.5321\n",
            "Epoch 257/500\n",
            "2/2 [==============================] - 0s 11ms/step - loss: 11.0411 - mse: 184.7475\n",
            "Epoch 258/500\n",
            "2/2 [==============================] - 0s 11ms/step - loss: 10.9115 - mse: 181.9658\n",
            "Epoch 259/500\n",
            "2/2 [==============================] - 0s 12ms/step - loss: 16.1207 - mse: 381.0959\n",
            "Epoch 260/500\n",
            "2/2 [==============================] - 0s 10ms/step - loss: 24.2044 - mse: 868.8516\n",
            "Epoch 261/500\n",
            "2/2 [==============================] - 0s 12ms/step - loss: 8.7711 - mse: 138.2825\n",
            "Epoch 262/500\n",
            "2/2 [==============================] - 0s 13ms/step - loss: 7.9603 - mse: 124.8467\n",
            "Epoch 263/500\n",
            "2/2 [==============================] - 0s 11ms/step - loss: 7.6928 - mse: 107.1762\n",
            "Epoch 264/500\n",
            "2/2 [==============================] - 0s 13ms/step - loss: 16.6014 - mse: 388.8705\n",
            "Epoch 265/500\n",
            "2/2 [==============================] - 0s 13ms/step - loss: 12.6799 - mse: 222.8731\n",
            "Epoch 266/500\n",
            "2/2 [==============================] - 0s 11ms/step - loss: 14.2224 - mse: 281.8964\n",
            "Epoch 267/500\n",
            "2/2 [==============================] - 0s 12ms/step - loss: 11.3411 - mse: 220.7730\n",
            "Epoch 268/500\n",
            "2/2 [==============================] - 0s 11ms/step - loss: 19.8338 - mse: 580.4886\n",
            "Epoch 269/500\n",
            "2/2 [==============================] - 0s 10ms/step - loss: 38.6255 - mse: 2294.2720\n",
            "Epoch 270/500\n",
            "2/2 [==============================] - 0s 15ms/step - loss: 11.4682 - mse: 201.5770\n",
            "Epoch 271/500\n",
            "2/2 [==============================] - 0s 16ms/step - loss: 13.9372 - mse: 271.4137\n",
            "Epoch 272/500\n",
            "2/2 [==============================] - 0s 19ms/step - loss: 27.6265 - mse: 1050.1971\n",
            "Epoch 273/500\n",
            "2/2 [==============================] - 0s 19ms/step - loss: 8.3674 - mse: 92.9798\n",
            "Epoch 274/500\n",
            "2/2 [==============================] - 0s 13ms/step - loss: 6.4346 - mse: 50.8313\n",
            "Epoch 275/500\n",
            "2/2 [==============================] - 0s 17ms/step - loss: 35.6111 - mse: 1930.3717\n",
            "Epoch 276/500\n",
            "2/2 [==============================] - 0s 15ms/step - loss: 8.0961 - mse: 114.1528\n",
            "Epoch 277/500\n",
            "2/2 [==============================] - 0s 12ms/step - loss: 26.6669 - mse: 967.6179\n",
            "Epoch 278/500\n",
            "2/2 [==============================] - 0s 14ms/step - loss: 10.8523 - mse: 206.4327\n",
            "Epoch 279/500\n",
            "2/2 [==============================] - 0s 22ms/step - loss: 16.2597 - mse: 403.6061\n",
            "Epoch 280/500\n",
            "2/2 [==============================] - 0s 13ms/step - loss: 21.5853 - mse: 699.8585\n",
            "Epoch 281/500\n",
            "2/2 [==============================] - 0s 12ms/step - loss: 22.9763 - mse: 803.4726\n",
            "Epoch 282/500\n",
            "2/2 [==============================] - 0s 16ms/step - loss: 7.9636 - mse: 92.3154\n",
            "Epoch 283/500\n",
            "2/2 [==============================] - 0s 16ms/step - loss: 8.2585 - mse: 92.1715\n",
            "Epoch 284/500\n",
            "2/2 [==============================] - 0s 13ms/step - loss: 25.7655 - mse: 1004.7695\n",
            "Epoch 285/500\n",
            "2/2 [==============================] - 0s 14ms/step - loss: 14.3256 - mse: 325.7742\n",
            "Epoch 286/500\n",
            "2/2 [==============================] - 0s 14ms/step - loss: 5.2250 - mse: 36.4320\n",
            "Epoch 287/500\n",
            "2/2 [==============================] - 0s 12ms/step - loss: 20.7486 - mse: 646.2327\n",
            "Epoch 288/500\n",
            "2/2 [==============================] - 0s 12ms/step - loss: 27.8695 - mse: 1179.6702\n",
            "Epoch 289/500\n",
            "2/2 [==============================] - 0s 17ms/step - loss: 10.9521 - mse: 241.6319\n",
            "Epoch 290/500\n",
            "2/2 [==============================] - 0s 13ms/step - loss: 16.1471 - mse: 345.3504\n",
            "Epoch 291/500\n",
            "2/2 [==============================] - 0s 15ms/step - loss: 16.3095 - mse: 389.0779\n",
            "Epoch 292/500\n",
            "2/2 [==============================] - 0s 13ms/step - loss: 14.5673 - mse: 283.6095\n",
            "Epoch 293/500\n",
            "2/2 [==============================] - 0s 14ms/step - loss: 15.9001 - mse: 362.3140\n",
            "Epoch 294/500\n",
            "2/2 [==============================] - 0s 19ms/step - loss: 24.0139 - mse: 859.5337\n",
            "Epoch 295/500\n",
            "2/2 [==============================] - 0s 12ms/step - loss: 14.8540 - mse: 320.0943\n",
            "Epoch 296/500\n",
            "2/2 [==============================] - 0s 12ms/step - loss: 4.3352 - mse: 27.6326\n",
            "Epoch 297/500\n",
            "2/2 [==============================] - 0s 11ms/step - loss: 11.8337 - mse: 247.7330\n",
            "Epoch 298/500\n",
            "2/2 [==============================] - 0s 12ms/step - loss: 23.7095 - mse: 819.8990\n",
            "Epoch 299/500\n",
            "2/2 [==============================] - 0s 12ms/step - loss: 19.1363 - mse: 546.7179\n",
            "Epoch 300/500\n",
            "2/2 [==============================] - 0s 20ms/step - loss: 9.2339 - mse: 134.7935\n",
            "Epoch 301/500\n",
            "2/2 [==============================] - 0s 14ms/step - loss: 12.7379 - mse: 244.6330\n",
            "Epoch 302/500\n",
            "2/2 [==============================] - 0s 17ms/step - loss: 7.3869 - mse: 75.1642\n",
            "Epoch 303/500\n",
            "2/2 [==============================] - 0s 13ms/step - loss: 18.2054 - mse: 484.4318\n",
            "Epoch 304/500\n",
            "2/2 [==============================] - 0s 13ms/step - loss: 11.6688 - mse: 203.2833\n",
            "Epoch 305/500\n",
            "2/2 [==============================] - 0s 13ms/step - loss: 8.8750 - mse: 119.0008\n",
            "Epoch 306/500\n",
            "2/2 [==============================] - 0s 12ms/step - loss: 21.3480 - mse: 640.2316\n",
            "Epoch 307/500\n",
            "2/2 [==============================] - 0s 12ms/step - loss: 8.3077 - mse: 141.6941\n",
            "Epoch 308/500\n",
            "2/2 [==============================] - 0s 17ms/step - loss: 21.0775 - mse: 679.6195\n",
            "Epoch 309/500\n",
            "2/2 [==============================] - 0s 13ms/step - loss: 18.9163 - mse: 513.5193\n",
            "Epoch 310/500\n",
            "2/2 [==============================] - 0s 16ms/step - loss: 5.8526 - mse: 75.2076\n",
            "Epoch 311/500\n",
            "2/2 [==============================] - 0s 20ms/step - loss: 8.7802 - mse: 156.8743\n",
            "Epoch 312/500\n",
            "2/2 [==============================] - 0s 19ms/step - loss: 29.9566 - mse: 1240.0930\n",
            "Epoch 313/500\n",
            "2/2 [==============================] - 0s 15ms/step - loss: 7.6440 - mse: 104.2914\n",
            "Epoch 314/500\n",
            "2/2 [==============================] - 0s 18ms/step - loss: 9.8966 - mse: 240.5725\n",
            "Epoch 315/500\n",
            "2/2 [==============================] - 0s 17ms/step - loss: 23.7408 - mse: 819.2311\n",
            "Epoch 316/500\n",
            "2/2 [==============================] - 0s 18ms/step - loss: 16.4400 - mse: 406.3950\n",
            "Epoch 317/500\n",
            "2/2 [==============================] - 0s 17ms/step - loss: 21.1334 - mse: 609.4639\n",
            "Epoch 318/500\n",
            "2/2 [==============================] - 0s 19ms/step - loss: 7.9427 - mse: 81.8638\n",
            "Epoch 319/500\n",
            "2/2 [==============================] - 0s 18ms/step - loss: 18.0270 - mse: 482.1566\n",
            "Epoch 320/500\n",
            "2/2 [==============================] - 0s 16ms/step - loss: 10.5698 - mse: 191.9014\n",
            "Epoch 321/500\n",
            "2/2 [==============================] - 0s 11ms/step - loss: 6.9626 - mse: 107.9749\n",
            "Epoch 322/500\n",
            "2/2 [==============================] - 0s 12ms/step - loss: 8.6690 - mse: 169.4599\n",
            "Epoch 323/500\n",
            "2/2 [==============================] - 0s 16ms/step - loss: 18.3497 - mse: 521.3083\n",
            "Epoch 324/500\n",
            "2/2 [==============================] - 0s 20ms/step - loss: 6.2654 - mse: 52.7390\n",
            "Epoch 325/500\n",
            "2/2 [==============================] - 0s 12ms/step - loss: 14.5704 - mse: 318.3039\n",
            "Epoch 326/500\n",
            "2/2 [==============================] - 0s 13ms/step - loss: 6.9516 - mse: 75.2575\n",
            "Epoch 327/500\n",
            "2/2 [==============================] - 0s 13ms/step - loss: 17.5976 - mse: 445.1595\n",
            "Epoch 328/500\n",
            "2/2 [==============================] - 0s 15ms/step - loss: 14.3742 - mse: 290.6545\n",
            "Epoch 329/500\n",
            "2/2 [==============================] - 0s 16ms/step - loss: 17.6800 - mse: 479.8540\n",
            "Epoch 330/500\n",
            "2/2 [==============================] - 0s 15ms/step - loss: 6.7494 - mse: 92.1193\n",
            "Epoch 331/500\n",
            "2/2 [==============================] - 0s 18ms/step - loss: 19.7593 - mse: 593.0388\n",
            "Epoch 332/500\n",
            "2/2 [==============================] - 0s 13ms/step - loss: 10.5271 - mse: 172.3414\n",
            "Epoch 333/500\n",
            "2/2 [==============================] - 0s 11ms/step - loss: 16.4686 - mse: 403.0414\n",
            "Epoch 334/500\n",
            "2/2 [==============================] - 0s 11ms/step - loss: 10.5414 - mse: 209.8464\n",
            "Epoch 335/500\n",
            "2/2 [==============================] - 0s 12ms/step - loss: 12.4880 - mse: 275.3081\n",
            "Epoch 336/500\n",
            "2/2 [==============================] - 0s 12ms/step - loss: 32.2249 - mse: 1416.7830\n",
            "Epoch 337/500\n",
            "2/2 [==============================] - 0s 11ms/step - loss: 10.4672 - mse: 179.9641\n",
            "Epoch 338/500\n",
            "2/2 [==============================] - 0s 13ms/step - loss: 19.7288 - mse: 575.6410\n",
            "Epoch 339/500\n",
            "2/2 [==============================] - 0s 11ms/step - loss: 34.9468 - mse: 1834.2063\n",
            "Epoch 340/500\n",
            "2/2 [==============================] - 0s 15ms/step - loss: 9.9289 - mse: 157.0688\n",
            "Epoch 341/500\n",
            "2/2 [==============================] - 0s 16ms/step - loss: 13.6077 - mse: 281.0189\n",
            "Epoch 342/500\n",
            "2/2 [==============================] - 0s 14ms/step - loss: 15.4144 - mse: 333.1728\n",
            "Epoch 343/500\n",
            "2/2 [==============================] - 0s 18ms/step - loss: 11.0475 - mse: 168.4111\n",
            "Epoch 344/500\n",
            "2/2 [==============================] - 0s 12ms/step - loss: 9.9112 - mse: 208.1793\n",
            "Epoch 345/500\n",
            "2/2 [==============================] - 0s 12ms/step - loss: 31.0023 - mse: 1351.8385\n",
            "Epoch 346/500\n",
            "2/2 [==============================] - 0s 13ms/step - loss: 10.6781 - mse: 253.8362\n",
            "Epoch 347/500\n",
            "2/2 [==============================] - 0s 13ms/step - loss: 25.6872 - mse: 924.0674\n",
            "Epoch 348/500\n",
            "2/2 [==============================] - 0s 11ms/step - loss: 12.9740 - mse: 263.1387\n",
            "Epoch 349/500\n",
            "2/2 [==============================] - 0s 13ms/step - loss: 13.1149 - mse: 249.0699\n",
            "Epoch 350/500\n",
            "2/2 [==============================] - 0s 13ms/step - loss: 15.4158 - mse: 331.0415\n",
            "Epoch 351/500\n",
            "2/2 [==============================] - 0s 12ms/step - loss: 32.9367 - mse: 1522.6572\n",
            "Epoch 352/500\n",
            "2/2 [==============================] - 0s 11ms/step - loss: 14.1570 - mse: 281.5238\n",
            "Epoch 353/500\n",
            "2/2 [==============================] - 0s 12ms/step - loss: 15.8825 - mse: 371.3665\n",
            "Epoch 354/500\n",
            "2/2 [==============================] - 0s 11ms/step - loss: 19.0104 - mse: 531.4919\n",
            "Epoch 355/500\n",
            "2/2 [==============================] - 0s 12ms/step - loss: 34.3341 - mse: 1807.3428\n",
            "Epoch 356/500\n",
            "2/2 [==============================] - 0s 12ms/step - loss: 8.2808 - mse: 110.0177\n",
            "Epoch 357/500\n",
            "2/2 [==============================] - 0s 12ms/step - loss: 21.8585 - mse: 716.4413\n",
            "Epoch 358/500\n",
            "2/2 [==============================] - 0s 11ms/step - loss: 19.9894 - mse: 576.3245\n",
            "Epoch 359/500\n",
            "2/2 [==============================] - 0s 13ms/step - loss: 11.0368 - mse: 291.2936\n",
            "Epoch 360/500\n",
            "2/2 [==============================] - 0s 12ms/step - loss: 20.2742 - mse: 618.4991\n",
            "Epoch 361/500\n",
            "2/2 [==============================] - 0s 11ms/step - loss: 10.9942 - mse: 220.6685\n",
            "Epoch 362/500\n",
            "2/2 [==============================] - 0s 11ms/step - loss: 6.7904 - mse: 76.2463\n",
            "Epoch 363/500\n",
            "2/2 [==============================] - 0s 16ms/step - loss: 24.0003 - mse: 838.9121\n",
            "Epoch 364/500\n",
            "2/2 [==============================] - 0s 10ms/step - loss: 29.7609 - mse: 1286.4028\n",
            "Epoch 365/500\n",
            "2/2 [==============================] - 0s 13ms/step - loss: 8.3262 - mse: 107.9202\n",
            "Epoch 366/500\n",
            "2/2 [==============================] - 0s 13ms/step - loss: 6.0662 - mse: 48.1840\n",
            "Epoch 367/500\n",
            "2/2 [==============================] - 0s 13ms/step - loss: 34.9545 - mse: 1855.0627\n",
            "Epoch 368/500\n",
            "2/2 [==============================] - 0s 11ms/step - loss: 7.3876 - mse: 100.3854\n",
            "Epoch 369/500\n",
            "2/2 [==============================] - 0s 13ms/step - loss: 9.2217 - mse: 129.4375\n",
            "Epoch 370/500\n",
            "2/2 [==============================] - 0s 12ms/step - loss: 10.9421 - mse: 206.9512\n",
            "Epoch 371/500\n",
            "2/2 [==============================] - 0s 12ms/step - loss: 9.0048 - mse: 141.9989\n",
            "Epoch 372/500\n",
            "2/2 [==============================] - 0s 13ms/step - loss: 7.6726 - mse: 143.9680\n",
            "Epoch 373/500\n",
            "2/2 [==============================] - 0s 12ms/step - loss: 25.0246 - mse: 917.4305\n",
            "Epoch 374/500\n",
            "2/2 [==============================] - 0s 12ms/step - loss: 13.2929 - mse: 285.4074\n",
            "Epoch 375/500\n",
            "2/2 [==============================] - 0s 16ms/step - loss: 11.8168 - mse: 213.3251\n",
            "Epoch 376/500\n",
            "2/2 [==============================] - 0s 12ms/step - loss: 14.1005 - mse: 283.6241\n",
            "Epoch 377/500\n",
            "2/2 [==============================] - 0s 14ms/step - loss: 15.6803 - mse: 317.8918\n",
            "Epoch 378/500\n",
            "2/2 [==============================] - 0s 12ms/step - loss: 16.9856 - mse: 462.4195\n",
            "Epoch 379/500\n",
            "2/2 [==============================] - 0s 12ms/step - loss: 19.4962 - mse: 541.4495\n",
            "Epoch 380/500\n",
            "2/2 [==============================] - 0s 12ms/step - loss: 15.8583 - mse: 391.1367\n",
            "Epoch 381/500\n",
            "2/2 [==============================] - 0s 15ms/step - loss: 11.4177 - mse: 217.6328\n",
            "Epoch 382/500\n",
            "2/2 [==============================] - 0s 14ms/step - loss: 16.3015 - mse: 354.5754\n",
            "Epoch 383/500\n",
            "2/2 [==============================] - 0s 18ms/step - loss: 22.0413 - mse: 749.4811\n",
            "Epoch 384/500\n",
            "2/2 [==============================] - 0s 17ms/step - loss: 7.7864 - mse: 84.1479\n",
            "Epoch 385/500\n",
            "2/2 [==============================] - 0s 12ms/step - loss: 10.5680 - mse: 276.6052\n",
            "Epoch 386/500\n",
            "2/2 [==============================] - 0s 13ms/step - loss: 19.0163 - mse: 567.0467\n",
            "Epoch 387/500\n",
            "2/2 [==============================] - 0s 14ms/step - loss: 15.4163 - mse: 367.1562\n",
            "Epoch 388/500\n",
            "2/2 [==============================] - 0s 15ms/step - loss: 5.8719 - mse: 73.4437\n",
            "Epoch 389/500\n",
            "2/2 [==============================] - 0s 10ms/step - loss: 18.0318 - mse: 510.9438\n",
            "Epoch 390/500\n",
            "2/2 [==============================] - 0s 12ms/step - loss: 24.7797 - mse: 909.2877\n",
            "Epoch 391/500\n",
            "2/2 [==============================] - 0s 9ms/step - loss: 16.4774 - mse: 411.1336\n",
            "Epoch 392/500\n",
            "2/2 [==============================] - 0s 12ms/step - loss: 8.3659 - mse: 172.1932\n",
            "Epoch 393/500\n",
            "2/2 [==============================] - 0s 20ms/step - loss: 18.1415 - mse: 513.3827\n",
            "Epoch 394/500\n",
            "2/2 [==============================] - 0s 15ms/step - loss: 14.1922 - mse: 277.7219\n",
            "Epoch 395/500\n",
            "2/2 [==============================] - 0s 12ms/step - loss: 28.6747 - mse: 1140.9259\n",
            "Epoch 396/500\n",
            "2/2 [==============================] - 0s 10ms/step - loss: 8.1603 - mse: 108.7056\n",
            "Epoch 397/500\n",
            "2/2 [==============================] - 0s 11ms/step - loss: 10.5004 - mse: 205.2260\n",
            "Epoch 398/500\n",
            "2/2 [==============================] - 0s 13ms/step - loss: 7.3451 - mse: 81.0113\n",
            "Epoch 399/500\n",
            "2/2 [==============================] - 0s 15ms/step - loss: 15.6295 - mse: 369.7914\n",
            "Epoch 400/500\n",
            "2/2 [==============================] - 0s 11ms/step - loss: 6.7002 - mse: 61.1079\n",
            "Epoch 401/500\n",
            "2/2 [==============================] - 0s 12ms/step - loss: 8.0047 - mse: 115.1303\n",
            "Epoch 402/500\n",
            "2/2 [==============================] - 0s 12ms/step - loss: 16.4781 - mse: 391.7671\n",
            "Epoch 403/500\n",
            "2/2 [==============================] - 0s 10ms/step - loss: 12.3236 - mse: 295.6418\n",
            "Epoch 404/500\n",
            "2/2 [==============================] - 0s 10ms/step - loss: 22.8993 - mse: 736.8846\n",
            "Epoch 405/500\n",
            "2/2 [==============================] - 0s 15ms/step - loss: 18.1739 - mse: 504.3707\n",
            "Epoch 406/500\n",
            "2/2 [==============================] - 0s 11ms/step - loss: 7.0428 - mse: 76.1732\n",
            "Epoch 407/500\n",
            "2/2 [==============================] - 0s 11ms/step - loss: 12.6930 - mse: 271.3747\n",
            "Epoch 408/500\n",
            "2/2 [==============================] - 0s 21ms/step - loss: 5.6383 - mse: 41.5912\n",
            "Epoch 409/500\n",
            "2/2 [==============================] - 0s 23ms/step - loss: 31.3693 - mse: 1524.4524\n",
            "Epoch 410/500\n",
            "2/2 [==============================] - 0s 13ms/step - loss: 9.2042 - mse: 220.9321\n",
            "Epoch 411/500\n",
            "2/2 [==============================] - 0s 12ms/step - loss: 14.8370 - mse: 285.2701\n",
            "Epoch 412/500\n",
            "2/2 [==============================] - 0s 12ms/step - loss: 21.7007 - mse: 720.8220\n",
            "Epoch 413/500\n",
            "2/2 [==============================] - 0s 12ms/step - loss: 12.6724 - mse: 249.3960\n",
            "Epoch 414/500\n",
            "2/2 [==============================] - 0s 11ms/step - loss: 6.0088 - mse: 87.9558\n",
            "Epoch 415/500\n",
            "2/2 [==============================] - 0s 20ms/step - loss: 13.2110 - mse: 239.7170\n",
            "Epoch 416/500\n",
            "2/2 [==============================] - 0s 14ms/step - loss: 27.4069 - mse: 1037.3082\n",
            "Epoch 417/500\n",
            "2/2 [==============================] - 0s 17ms/step - loss: 10.6855 - mse: 208.4828\n",
            "Epoch 418/500\n",
            "2/2 [==============================] - 0s 16ms/step - loss: 12.7916 - mse: 235.9213\n",
            "Epoch 419/500\n",
            "2/2 [==============================] - 0s 15ms/step - loss: 15.8484 - mse: 372.8265\n",
            "Epoch 420/500\n",
            "2/2 [==============================] - 0s 10ms/step - loss: 24.7103 - mse: 847.5304\n",
            "Epoch 421/500\n",
            "2/2 [==============================] - 0s 10ms/step - loss: 17.5772 - mse: 454.8076\n",
            "Epoch 422/500\n",
            "2/2 [==============================] - 0s 12ms/step - loss: 8.6770 - mse: 189.1170\n",
            "Epoch 423/500\n",
            "2/2 [==============================] - 0s 15ms/step - loss: 24.8952 - mse: 876.9906\n",
            "Epoch 424/500\n",
            "2/2 [==============================] - 0s 13ms/step - loss: 16.2944 - mse: 416.1170\n",
            "Epoch 425/500\n",
            "2/2 [==============================] - 0s 14ms/step - loss: 7.1206 - mse: 74.9448\n",
            "Epoch 426/500\n",
            "2/2 [==============================] - 0s 13ms/step - loss: 20.4085 - mse: 576.3143\n",
            "Epoch 427/500\n",
            "2/2 [==============================] - 0s 12ms/step - loss: 6.2961 - mse: 83.8565\n",
            "Epoch 428/500\n",
            "2/2 [==============================] - 0s 12ms/step - loss: 13.0701 - mse: 290.0362\n",
            "Epoch 429/500\n",
            "2/2 [==============================] - 0s 11ms/step - loss: 10.8488 - mse: 194.2295\n",
            "Epoch 430/500\n",
            "2/2 [==============================] - 0s 11ms/step - loss: 11.7147 - mse: 266.6243\n",
            "Epoch 431/500\n",
            "2/2 [==============================] - 0s 12ms/step - loss: 7.8753 - mse: 111.7268\n",
            "Epoch 432/500\n",
            "2/2 [==============================] - 0s 12ms/step - loss: 22.1420 - mse: 675.4049\n",
            "Epoch 433/500\n",
            "2/2 [==============================] - 0s 11ms/step - loss: 5.8749 - mse: 64.3505\n",
            "Epoch 434/500\n",
            "2/2 [==============================] - 0s 12ms/step - loss: 32.6601 - mse: 1485.8844\n",
            "Epoch 435/500\n",
            "2/2 [==============================] - 0s 13ms/step - loss: 13.6636 - mse: 269.4214\n",
            "Epoch 436/500\n",
            "2/2 [==============================] - 0s 13ms/step - loss: 28.9058 - mse: 1218.3506\n",
            "Epoch 437/500\n",
            "2/2 [==============================] - 0s 12ms/step - loss: 8.5774 - mse: 207.9833\n",
            "Epoch 438/500\n",
            "2/2 [==============================] - 0s 13ms/step - loss: 12.7155 - mse: 262.8598\n",
            "Epoch 439/500\n",
            "2/2 [==============================] - 0s 16ms/step - loss: 33.6892 - mse: 1571.8180\n",
            "Epoch 440/500\n",
            "2/2 [==============================] - 0s 14ms/step - loss: 15.0786 - mse: 294.4228\n",
            "Epoch 441/500\n",
            "2/2 [==============================] - 0s 18ms/step - loss: 17.4635 - mse: 487.2064\n",
            "Epoch 442/500\n",
            "2/2 [==============================] - 0s 13ms/step - loss: 22.3001 - mse: 751.1683\n",
            "Epoch 443/500\n",
            "2/2 [==============================] - 0s 16ms/step - loss: 23.5905 - mse: 784.5789\n",
            "Epoch 444/500\n",
            "2/2 [==============================] - 0s 12ms/step - loss: 10.9855 - mse: 203.2579\n",
            "Epoch 445/500\n",
            "2/2 [==============================] - 0s 11ms/step - loss: 14.8941 - mse: 315.5282\n",
            "Epoch 446/500\n",
            "2/2 [==============================] - 0s 9ms/step - loss: 17.9660 - mse: 514.4661\n",
            "Epoch 447/500\n",
            "2/2 [==============================] - 0s 14ms/step - loss: 5.4057 - mse: 50.7188\n",
            "Epoch 448/500\n",
            "2/2 [==============================] - 0s 11ms/step - loss: 10.0028 - mse: 254.1817\n",
            "Epoch 449/500\n",
            "2/2 [==============================] - 0s 11ms/step - loss: 13.9658 - mse: 276.2304\n",
            "Epoch 450/500\n",
            "2/2 [==============================] - 0s 11ms/step - loss: 16.7317 - mse: 422.4472\n",
            "Epoch 451/500\n",
            "2/2 [==============================] - 0s 12ms/step - loss: 14.2571 - mse: 301.4240\n",
            "Epoch 452/500\n",
            "2/2 [==============================] - 0s 13ms/step - loss: 30.5917 - mse: 1328.0159\n",
            "Epoch 453/500\n",
            "2/2 [==============================] - 0s 12ms/step - loss: 7.6080 - mse: 161.1880\n",
            "Epoch 454/500\n",
            "2/2 [==============================] - 0s 10ms/step - loss: 28.0964 - mse: 1101.5564\n",
            "Epoch 455/500\n",
            "2/2 [==============================] - 0s 10ms/step - loss: 8.2981 - mse: 134.4290\n",
            "Epoch 456/500\n",
            "2/2 [==============================] - 0s 10ms/step - loss: 12.0139 - mse: 286.5378\n",
            "Epoch 457/500\n",
            "2/2 [==============================] - 0s 16ms/step - loss: 15.4181 - mse: 339.2335\n",
            "Epoch 458/500\n",
            "2/2 [==============================] - 0s 14ms/step - loss: 16.9709 - mse: 469.9622\n",
            "Epoch 459/500\n",
            "2/2 [==============================] - 0s 10ms/step - loss: 3.0677 - mse: 13.8559\n",
            "Epoch 460/500\n",
            "2/2 [==============================] - 0s 10ms/step - loss: 12.4509 - mse: 250.8716\n",
            "Epoch 461/500\n",
            "2/2 [==============================] - 0s 8ms/step - loss: 12.4721 - mse: 272.9853\n",
            "Epoch 462/500\n",
            "2/2 [==============================] - 0s 9ms/step - loss: 13.3375 - mse: 245.9480\n",
            "Epoch 463/500\n",
            "2/2 [==============================] - 0s 10ms/step - loss: 29.5997 - mse: 1224.7662\n",
            "Epoch 464/500\n",
            "2/2 [==============================] - 0s 10ms/step - loss: 3.3839 - mse: 21.4018\n",
            "Epoch 465/500\n",
            "2/2 [==============================] - 0s 10ms/step - loss: 15.2196 - mse: 352.5890\n",
            "Epoch 466/500\n",
            "2/2 [==============================] - 0s 11ms/step - loss: 20.7972 - mse: 650.0350\n",
            "Epoch 467/500\n",
            "2/2 [==============================] - 0s 8ms/step - loss: 30.6522 - mse: 1434.2332\n",
            "Epoch 468/500\n",
            "2/2 [==============================] - 0s 11ms/step - loss: 11.0800 - mse: 236.2878\n",
            "Epoch 469/500\n",
            "2/2 [==============================] - 0s 10ms/step - loss: 12.9070 - mse: 279.8137\n",
            "Epoch 470/500\n",
            "2/2 [==============================] - 0s 10ms/step - loss: 3.4776 - mse: 17.6781\n",
            "Epoch 471/500\n",
            "2/2 [==============================] - 0s 10ms/step - loss: 42.1965 - mse: 2720.7029\n",
            "Epoch 472/500\n",
            "2/2 [==============================] - 0s 12ms/step - loss: 3.8230 - mse: 27.3807\n",
            "Epoch 473/500\n",
            "2/2 [==============================] - 0s 11ms/step - loss: 16.1053 - mse: 436.7100\n",
            "Epoch 474/500\n",
            "2/2 [==============================] - 0s 12ms/step - loss: 39.0221 - mse: 2364.3765\n",
            "Epoch 475/500\n",
            "2/2 [==============================] - 0s 13ms/step - loss: 15.8157 - mse: 363.0735\n",
            "Epoch 476/500\n",
            "2/2 [==============================] - 0s 18ms/step - loss: 13.4547 - mse: 248.1201\n",
            "Epoch 477/500\n",
            "2/2 [==============================] - 0s 11ms/step - loss: 29.8276 - mse: 1242.2853\n",
            "Epoch 478/500\n",
            "2/2 [==============================] - 0s 11ms/step - loss: 4.2840 - mse: 45.7608\n",
            "Epoch 479/500\n",
            "2/2 [==============================] - 0s 11ms/step - loss: 13.5976 - mse: 263.9265\n",
            "Epoch 480/500\n",
            "2/2 [==============================] - 0s 12ms/step - loss: 20.2611 - mse: 632.2509\n",
            "Epoch 481/500\n",
            "2/2 [==============================] - 0s 11ms/step - loss: 24.4906 - mse: 894.7133\n",
            "Epoch 482/500\n",
            "2/2 [==============================] - 0s 11ms/step - loss: 13.2439 - mse: 274.2666\n",
            "Epoch 483/500\n",
            "2/2 [==============================] - 0s 11ms/step - loss: 8.7823 - mse: 195.9692\n",
            "Epoch 484/500\n",
            "2/2 [==============================] - 0s 14ms/step - loss: 27.9474 - mse: 1106.1580\n",
            "Epoch 485/500\n",
            "2/2 [==============================] - 0s 9ms/step - loss: 8.6324 - mse: 159.6287\n",
            "Epoch 486/500\n",
            "2/2 [==============================] - 0s 10ms/step - loss: 5.3581 - mse: 53.7102\n",
            "Epoch 487/500\n",
            "2/2 [==============================] - 0s 11ms/step - loss: 11.9533 - mse: 277.2240\n",
            "Epoch 488/500\n",
            "2/2 [==============================] - 0s 10ms/step - loss: 27.4842 - mse: 1097.5706\n",
            "Epoch 489/500\n",
            "2/2 [==============================] - 0s 12ms/step - loss: 5.4549 - mse: 75.0851\n",
            "Epoch 490/500\n",
            "2/2 [==============================] - 0s 9ms/step - loss: 6.1258 - mse: 90.7261\n",
            "Epoch 491/500\n",
            "2/2 [==============================] - 0s 14ms/step - loss: 19.5957 - mse: 546.6506\n",
            "Epoch 492/500\n",
            "2/2 [==============================] - 0s 9ms/step - loss: 6.7176 - mse: 142.3640\n",
            "Epoch 493/500\n",
            "2/2 [==============================] - 0s 12ms/step - loss: 18.6115 - mse: 517.4551\n",
            "Epoch 494/500\n",
            "2/2 [==============================] - 0s 11ms/step - loss: 19.0106 - mse: 569.6019\n",
            "Epoch 495/500\n",
            "2/2 [==============================] - 0s 11ms/step - loss: 5.7814 - mse: 49.6731\n",
            "Epoch 496/500\n",
            "2/2 [==============================] - 0s 11ms/step - loss: 5.9892 - mse: 90.4579\n",
            "Epoch 497/500\n",
            "2/2 [==============================] - 0s 11ms/step - loss: 12.7887 - mse: 271.8367\n",
            "Epoch 498/500\n",
            "2/2 [==============================] - 0s 11ms/step - loss: 6.3872 - mse: 74.3491\n",
            "Epoch 499/500\n",
            "2/2 [==============================] - 0s 9ms/step - loss: 16.2513 - mse: 379.4467\n",
            "Epoch 500/500\n",
            "2/2 [==============================] - 0s 11ms/step - loss: 14.2763 - mse: 268.4955\n"
          ]
        },
        {
          "output_type": "execute_result",
          "data": {
            "text/plain": [
              "<keras.src.callbacks.History at 0x7fe62518efb0>"
            ]
          },
          "metadata": {},
          "execution_count": 230
        }
      ]
    },
    {
      "cell_type": "code",
      "source": [
        "y_preds_3 = model_3.predict(X_test)\n",
        "plot_predictions(X_train,y_train,X_test,y_test,y_preds_3)"
      ],
      "metadata": {
        "colab": {
          "base_uri": "https://localhost:8080/",
          "height": 616
        },
        "id": "B7YLTXWh-KhH",
        "outputId": "02cec0bc-4ccf-4d9d-a746-7642007eeb1e"
      },
      "execution_count": 231,
      "outputs": [
        {
          "output_type": "stream",
          "name": "stdout",
          "text": [
            "1/1 [==============================] - 0s 54ms/step\n"
          ]
        },
        {
          "output_type": "display_data",
          "data": {
            "text/plain": [
              "<Figure size 1000x700 with 1 Axes>"
            ],
            "image/png": "[encoded data removed]"
          },
          "metadata": {}
        }
      ]
    },
    {
      "cell_type": "code",
      "source": [
        "# calculate model 2 evaluation metrics\n",
        "mae_3 = mean_absolute_error(y_test,y_preds_3)\n",
        "mse_3 = mean_squared_error(y_test,y_preds_3)\n",
        "mae_3,mse_3"
      ],
      "metadata": {
        "colab": {
          "base_uri": "https://localhost:8080/"
        },
        "id": "Xk8FtdSs-Ls5",
        "outputId": "d16bc61a-58e8-4244-c141-030d9ed4f13a"
      },
      "execution_count": 232,
      "outputs": [
        {
          "output_type": "execute_result",
          "data": {
            "text/plain": [
              "(<tf.Tensor: shape=(), dtype=float32, numpy=67.524704>,\n",
              " <tf.Tensor: shape=(), dtype=float32, numpy=4643.423>)"
            ]
          },
          "metadata": {},
          "execution_count": 232
        }
      ]
    },
    {
      "cell_type": "markdown",
      "source": [
        "**Note** You want to start with small experiments - start with small models then scale\n"
      ],
      "metadata": {
        "id": "ho1K-EFk-njK"
      }
    },
    {
      "cell_type": "markdown",
      "source": [
        "### Comparing results of our experiments\n",
        "\n",
        "We've run a few experiments let's compare the results"
      ],
      "metadata": {
        "id": "g7xrRDsd-R5x"
      }
    }
  ],
  "metadata": {
    "colab": {
      "provenance": [],
      "authorship_tag": "ABX9TyMeZ9KWNXLwh3oXNqKLMpMB",
      "include_colab_link": true
    },
    "kernelspec": {
      "display_name": "Python 3",
      "name": "python3"
    },
    "language_info": {
      "name": "python"
    }
  },
  "nbformat": 4,
  "nbformat_minor": 0
}