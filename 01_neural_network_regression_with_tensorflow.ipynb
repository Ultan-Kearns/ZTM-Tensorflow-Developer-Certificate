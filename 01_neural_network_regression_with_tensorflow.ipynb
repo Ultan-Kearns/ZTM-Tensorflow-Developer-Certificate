{
  "cells": [
    {
      "cell_type": "markdown",
      "metadata": {
        "id": "view-in-github",
        "colab_type": "text"
      },
      "source": [
        "<a href=\"https://colab.research.google.com/github/Ultan-Kearns/ZTM-Tensorflow-Developer-Certificate/blob/master/01_neural_network_regression_with_tensorflow.ipynb\" target=\"_parent\"><img src=\"https://colab.research.google.com/assets/colab-badge.svg\" alt=\"Open In Colab\"/></a>"
      ]
    },
    {
      "cell_type": "markdown",
      "metadata": {
        "id": "m2hWQ5CuXy0k"
      },
      "source": [
        "# Introduction to Regresion with Neural Networks in Tensorflow\n",
        "There are many definitions for a regression problem but in our case, we're going to simplify it: predicting a numerical variable based on some other combination of variables, even shorter predicting a number"
      ]
    },
    {
      "cell_type": "code",
      "execution_count": 76,
      "metadata": {
        "colab": {
          "base_uri": "https://localhost:8080/"
        },
        "id": "Hzx5HZkth7n3",
        "outputId": "ae852785-4fdb-4fc5-ec88-6db76da5d58d"
      },
      "outputs": [
        {
          "output_type": "stream",
          "name": "stdout",
          "text": [
            "2.15.0\n"
          ]
        }
      ],
      "source": [
        "# import tensorflow\n",
        "import tensorflow as tf\n",
        "print(tf.__version__)"
      ]
    },
    {
      "cell_type": "markdown",
      "metadata": {
        "id": "ATMaw2F-iA_A"
      },
      "source": [
        "## Creating data to view and fit"
      ]
    },
    {
      "cell_type": "code",
      "execution_count": 77,
      "metadata": {
        "colab": {
          "base_uri": "https://localhost:8080/",
          "height": 452
        },
        "id": "c3ukeQN-iI8n",
        "outputId": "5a8b7b96-29e7-4d77-cd61-1b602130f13b"
      },
      "outputs": [
        {
          "output_type": "execute_result",
          "data": {
            "text/plain": [
              "<matplotlib.collections.PathCollection at 0x7bd07a7f2ad0>"
            ]
          },
          "metadata": {},
          "execution_count": 77
        },
        {
          "output_type": "display_data",
          "data": {
            "text/plain": [
              "<Figure size 640x480 with 1 Axes>"
            ],
            "image/png": "[encoded data removed]"
          },
          "metadata": {}
        }
      ],
      "source": [
        "import numpy as np\n",
        "import matplotlib.pyplot as plt\n",
        "# create features\n",
        "X = np.array([-7.0,-4.0,-1.0,2.0,5.0,8.0,11.0,14.0])\n",
        "# create labels\n",
        "y = np.array([3.0,6.0,9.0,12.0,15.0,18.0,21.0,24.0])\n",
        "\n",
        "plt.scatter(X,y)"
      ]
    },
    {
      "cell_type": "code",
      "execution_count": 78,
      "metadata": {
        "colab": {
          "base_uri": "https://localhost:8080/"
        },
        "id": "00Kkv_EniIJg",
        "outputId": "29564383-bbe9-4768-8e21-75e43215ab08"
      },
      "outputs": [
        {
          "output_type": "execute_result",
          "data": {
            "text/plain": [
              "array([ True,  True,  True,  True,  True,  True,  True,  True])"
            ]
          },
          "metadata": {},
          "execution_count": 78
        }
      ],
      "source": [
        "y == X + 10"
      ]
    },
    {
      "cell_type": "markdown",
      "metadata": {
        "id": "Rq3y_qdqi_CV"
      },
      "source": [
        "## Input and output shapes"
      ]
    },
    {
      "cell_type": "code",
      "execution_count": 79,
      "metadata": {
        "colab": {
          "base_uri": "https://localhost:8080/"
        },
        "id": "bWxsOGAljs9n",
        "outputId": "0ab5dc27-1c4a-4943-dd63-cd81f2e89a7d"
      },
      "outputs": [
        {
          "output_type": "execute_result",
          "data": {
            "text/plain": [
              "(-7.0, 3.0)"
            ]
          },
          "metadata": {},
          "execution_count": 79
        }
      ],
      "source": [
        "X[0], y[0]"
      ]
    },
    {
      "cell_type": "code",
      "execution_count": 80,
      "metadata": {
        "colab": {
          "base_uri": "https://localhost:8080/"
        },
        "id": "W5mjdl7BjwEi",
        "outputId": "e41e5d2c-b646-4bf2-d97a-3875570d4135"
      },
      "outputs": [
        {
          "output_type": "execute_result",
          "data": {
            "text/plain": [
              "(-4.0, 6.0)"
            ]
          },
          "metadata": {},
          "execution_count": 80
        }
      ],
      "source": [
        "X[1],y[1]"
      ]
    },
    {
      "cell_type": "code",
      "execution_count": 81,
      "metadata": {
        "colab": {
          "base_uri": "https://localhost:8080/"
        },
        "id": "JiupWI3xjIDb",
        "outputId": "f2db5bec-9038-4210-ced2-623cd19cbb37"
      },
      "outputs": [
        {
          "output_type": "execute_result",
          "data": {
            "text/plain": [
              "(<tf.Tensor: shape=(3,), dtype=string, numpy=array([b'bedroom', b'bathroom', b'garage'], dtype=object)>,\n",
              " <tf.Tensor: shape=(1,), dtype=int32, numpy=array([939700], dtype=int32)>)"
            ]
          },
          "metadata": {},
          "execution_count": 81
        }
      ],
      "source": [
        "# Create a demo tensor for our housing price prediction problem\n",
        "house_info = tf.constant([\"bedroom\",\"bathroom\",\"garage\"])\n",
        "house_price = tf.constant([939700])\n",
        "house_info,house_price"
      ]
    },
    {
      "cell_type": "code",
      "execution_count": 82,
      "metadata": {
        "colab": {
          "base_uri": "https://localhost:8080/"
        },
        "id": "ZeIP8hvmjhHE",
        "outputId": "82f0fd15-6b0f-414f-b1ee-9c761175ff6a"
      },
      "outputs": [
        {
          "output_type": "execute_result",
          "data": {
            "text/plain": [
              "((8,), (8,))"
            ]
          },
          "metadata": {},
          "execution_count": 82
        }
      ],
      "source": [
        "input_shape = X.shape\n",
        "output_shape = y.shape\n",
        "input_shape, output_shape"
      ]
    },
    {
      "cell_type": "code",
      "execution_count": 83,
      "metadata": {
        "colab": {
          "base_uri": "https://localhost:8080/"
        },
        "id": "9uxfKqe7jmkq",
        "outputId": "4b47706a-3f3b-4e4e-a6e0-9853571888fe"
      },
      "outputs": [
        {
          "output_type": "execute_result",
          "data": {
            "text/plain": [
              "((), ())"
            ]
          },
          "metadata": {},
          "execution_count": 83
        }
      ],
      "source": [
        "input_shape = X[0].shape\n",
        "output_shape = y[0].shape\n",
        "input_shape, output_shape"
      ]
    },
    {
      "cell_type": "code",
      "execution_count": 84,
      "metadata": {
        "colab": {
          "base_uri": "https://localhost:8080/"
        },
        "id": "aaIeHyRYj3fw",
        "outputId": "adadc44a-b973-45ec-e3fe-6b205f7b5f20"
      },
      "outputs": [
        {
          "output_type": "execute_result",
          "data": {
            "text/plain": [
              "0"
            ]
          },
          "metadata": {},
          "execution_count": 84
        }
      ],
      "source": [
        "X[0].ndim"
      ]
    },
    {
      "cell_type": "code",
      "execution_count": 85,
      "metadata": {
        "colab": {
          "base_uri": "https://localhost:8080/"
        },
        "id": "n24G3tVkj9Mg",
        "outputId": "145bd29f-3804-4399-9407-6c7e84fc32c5"
      },
      "outputs": [
        {
          "output_type": "execute_result",
          "data": {
            "text/plain": [
              "(-7.0, 3.0)"
            ]
          },
          "metadata": {},
          "execution_count": 85
        }
      ],
      "source": [
        "X[0],y[0]"
      ]
    },
    {
      "cell_type": "code",
      "execution_count": 86,
      "metadata": {
        "colab": {
          "base_uri": "https://localhost:8080/"
        },
        "id": "NsZjQRhUj-6-",
        "outputId": "05594847-7819-448f-c592-cebf1312ceac"
      },
      "outputs": [
        {
          "output_type": "execute_result",
          "data": {
            "text/plain": [
              "(<tf.Tensor: shape=(8,), dtype=float32, numpy=array([-7., -4., -1.,  2.,  5.,  8., 11., 14.], dtype=float32)>,\n",
              " TensorShape([8]))"
            ]
          },
          "metadata": {},
          "execution_count": 86
        }
      ],
      "source": [
        "# Turn numpy arrays into tensors\n",
        "X = tf.cast(tf.constant(X),dtype=tf.float32)\n",
        "y = tf.cast(tf.constant(y),dtype=tf.float32)\n",
        "X,y.shape\n"
      ]
    },
    {
      "cell_type": "code",
      "execution_count": 87,
      "metadata": {
        "colab": {
          "base_uri": "https://localhost:8080/"
        },
        "id": "4JXYCIEnv1Io",
        "outputId": "4f45d153-7927-476a-aa48-616beed882cb"
      },
      "outputs": [
        {
          "output_type": "execute_result",
          "data": {
            "text/plain": [
              "(TensorShape([]), TensorShape([]))"
            ]
          },
          "metadata": {},
          "execution_count": 87
        }
      ],
      "source": [
        "input_shape = X[0].shape\n",
        "output_shape=y[0].shape\n",
        "input_shape, output_shape"
      ]
    },
    {
      "cell_type": "code",
      "execution_count": 88,
      "metadata": {
        "colab": {
          "base_uri": "https://localhost:8080/",
          "height": 452
        },
        "id": "PHqjaO_MwEQk",
        "outputId": "b7b3fb4a-e1cb-4ded-ba88-9e18b49b851e"
      },
      "outputs": [
        {
          "output_type": "execute_result",
          "data": {
            "text/plain": [
              "<matplotlib.collections.PathCollection at 0x7bd07a685090>"
            ]
          },
          "metadata": {},
          "execution_count": 88
        },
        {
          "output_type": "display_data",
          "data": {
            "text/plain": [
              "<Figure size 640x480 with 1 Axes>"
            ],
            "image/png": "[encoded data removed]"
          },
          "metadata": {}
        }
      ],
      "source": [
        "plt.scatter(X,y)"
      ]
    },
    {
      "cell_type": "markdown",
      "metadata": {
        "id": "wEpL0t1HyORv"
      },
      "source": [
        "## Steps in modelling with tensorflow\n",
        "1. Creating a model - define input and output  layers as well as hidden layers of model\n",
        "2. Compiling a model - define loss function(tells how wrong model is) and the optimizer(improves model and tells us how to improve) evaluation metrics(gauges how well model performs)\n",
        "3. Fitting the model(where model learns patterns in data)"
      ]
    },
    {
      "cell_type": "code",
      "execution_count": 89,
      "metadata": {
        "id": "TBWHBScTzQ2G"
      },
      "outputs": [],
      "source": [
        "tf.random.set_seed(42)"
      ]
    },
    {
      "cell_type": "code",
      "execution_count": 90,
      "metadata": {
        "id": "I4qEYEG61DPy"
      },
      "outputs": [],
      "source": [
        "model = tf.keras.Sequential()\n",
        "model.add(tf.keras.layers.Dense(1))"
      ]
    },
    {
      "cell_type": "code",
      "execution_count": 91,
      "metadata": {
        "colab": {
          "base_uri": "https://localhost:8080/"
        },
        "id": "zXprJ3LZyqCM",
        "outputId": "d58b4f96-d0f6-48dd-c792-b0bf41604c56"
      },
      "outputs": [
        {
          "output_type": "stream",
          "name": "stdout",
          "text": [
            "Epoch 1/5\n",
            "1/1 [==============================] - 0s 362ms/step - loss: 14.1392 - mae: 14.1392\n",
            "Epoch 2/5\n",
            "1/1 [==============================] - 0s 11ms/step - loss: 14.0067 - mae: 14.0067\n",
            "Epoch 3/5\n",
            "1/1 [==============================] - 0s 10ms/step - loss: 13.8742 - mae: 13.8742\n",
            "Epoch 4/5\n",
            "1/1 [==============================] - 0s 9ms/step - loss: 13.7417 - mae: 13.7417\n",
            "Epoch 5/5\n",
            "1/1 [==============================] - 0s 9ms/step - loss: 13.6092 - mae: 13.6092\n"
          ]
        },
        {
          "output_type": "execute_result",
          "data": {
            "text/plain": [
              "<keras.src.callbacks.History at 0x7bd07a6c9ba0>"
            ]
          },
          "metadata": {},
          "execution_count": 91
        }
      ],
      "source": [
        "# 1. Create a model using sequential API(specified to problem)\n",
        "model = tf.keras.Sequential([\n",
        "    tf.keras.layers.Dense(1),\n",
        "])\n",
        "# 2. compile model\n",
        "model.compile(loss=tf.keras.losses.mae, optimizer=tf.keras.optimizers.SGD(),metrics=[\"mae\"]) # mean absolute error\n",
        "# 3. fit the model\n",
        "model.fit(tf.expand_dims(X, axis=-1), y, epochs=5) # <- updated line\n"
      ]
    },
    {
      "cell_type": "code",
      "execution_count": 92,
      "metadata": {
        "colab": {
          "base_uri": "https://localhost:8080/"
        },
        "id": "CDQS6bAt2Mlz",
        "outputId": "ddd26ae6-331f-478d-a9d9-2fba0ad595f9"
      },
      "outputs": [
        {
          "output_type": "execute_result",
          "data": {
            "text/plain": [
              "(<tf.Tensor: shape=(8,), dtype=float32, numpy=array([-7., -4., -1.,  2.,  5.,  8., 11., 14.], dtype=float32)>,\n",
              " <tf.Tensor: shape=(8,), dtype=float32, numpy=array([ 3.,  6.,  9., 12., 15., 18., 21., 24.], dtype=float32)>)"
            ]
          },
          "metadata": {},
          "execution_count": 92
        }
      ],
      "source": [
        "X,y"
      ]
    },
    {
      "cell_type": "code",
      "execution_count": 93,
      "metadata": {
        "colab": {
          "base_uri": "https://localhost:8080/"
        },
        "id": "VZXvYRChzWac",
        "outputId": "c21b534d-b35b-4aa8-da35-53d28891fc77"
      },
      "outputs": [
        {
          "output_type": "stream",
          "name": "stdout",
          "text": [
            "1/1 [==============================] - 0s 69ms/step\n"
          ]
        },
        {
          "output_type": "execute_result",
          "data": {
            "text/plain": [
              "array([[-0.03383639]], dtype=float32)"
            ]
          },
          "metadata": {},
          "execution_count": 93
        }
      ],
      "source": [
        "y_pred = model.predict([11.0])\n",
        "y_pred"
      ]
    },
    {
      "cell_type": "markdown",
      "metadata": {
        "id": "5jQPZv5w006H"
      },
      "source": [
        "## Improving our model\n",
        "We can improve our model, by altering the steps we took to create the model\n",
        "\n",
        "1. creating a model - here we might add more layers, increase hidden units within each hidden layer, change activation func of layers\n",
        "2. compiling a model - here we might change optimization function or perhaps the learning rate of the optimization function\n",
        "3. fitting a model - here we might fit a model for more epochs or on more data"
      ]
    },
    {
      "cell_type": "code",
      "execution_count": 94,
      "metadata": {
        "colab": {
          "base_uri": "https://localhost:8080/"
        },
        "id": "IYXoxTiy45C4",
        "outputId": "2e49dc38-e674-4d70-973c-4ee5346e7706"
      },
      "outputs": [
        {
          "output_type": "stream",
          "name": "stdout",
          "text": [
            "Epoch 1/100\n",
            "1/1 [==============================] - 0s 375ms/step - loss: 18.7196 - mae: 18.7196\n",
            "Epoch 2/100\n",
            "1/1 [==============================] - 0s 10ms/step - loss: 18.4384 - mae: 18.4384\n",
            "Epoch 3/100\n",
            "1/1 [==============================] - 0s 15ms/step - loss: 18.1571 - mae: 18.1571\n",
            "Epoch 4/100\n",
            "1/1 [==============================] - 0s 11ms/step - loss: 17.8759 - mae: 17.8759\n",
            "Epoch 5/100\n",
            "1/1 [==============================] - 0s 11ms/step - loss: 17.5946 - mae: 17.5946\n",
            "Epoch 6/100\n",
            "1/1 [==============================] - 0s 13ms/step - loss: 17.3134 - mae: 17.3134\n",
            "Epoch 7/100\n",
            "1/1 [==============================] - 0s 10ms/step - loss: 17.0321 - mae: 17.0321\n",
            "Epoch 8/100\n",
            "1/1 [==============================] - 0s 10ms/step - loss: 16.7509 - mae: 16.7509\n",
            "Epoch 9/100\n",
            "1/1 [==============================] - 0s 11ms/step - loss: 16.4696 - mae: 16.4696\n",
            "Epoch 10/100\n",
            "1/1 [==============================] - 0s 11ms/step - loss: 16.1884 - mae: 16.1884\n",
            "Epoch 11/100\n",
            "1/1 [==============================] - 0s 13ms/step - loss: 15.9071 - mae: 15.9071\n",
            "Epoch 12/100\n",
            "1/1 [==============================] - 0s 10ms/step - loss: 15.6259 - mae: 15.6259\n",
            "Epoch 13/100\n",
            "1/1 [==============================] - 0s 14ms/step - loss: 15.3446 - mae: 15.3446\n",
            "Epoch 14/100\n",
            "1/1 [==============================] - 0s 16ms/step - loss: 15.0634 - mae: 15.0634\n",
            "Epoch 15/100\n",
            "1/1 [==============================] - 0s 8ms/step - loss: 14.8022 - mae: 14.8022\n",
            "Epoch 16/100\n",
            "1/1 [==============================] - 0s 8ms/step - loss: 14.6697 - mae: 14.6697\n",
            "Epoch 17/100\n",
            "1/1 [==============================] - 0s 10ms/step - loss: 14.5372 - mae: 14.5372\n",
            "Epoch 18/100\n",
            "1/1 [==============================] - 0s 13ms/step - loss: 14.4047 - mae: 14.4047\n",
            "Epoch 19/100\n",
            "1/1 [==============================] - 0s 11ms/step - loss: 14.2722 - mae: 14.2722\n",
            "Epoch 20/100\n",
            "1/1 [==============================] - 0s 11ms/step - loss: 14.1397 - mae: 14.1397\n",
            "Epoch 21/100\n",
            "1/1 [==============================] - 0s 15ms/step - loss: 14.0072 - mae: 14.0072\n",
            "Epoch 22/100\n",
            "1/1 [==============================] - 0s 9ms/step - loss: 13.8747 - mae: 13.8747\n",
            "Epoch 23/100\n",
            "1/1 [==============================] - 0s 9ms/step - loss: 13.7422 - mae: 13.7422\n",
            "Epoch 24/100\n",
            "1/1 [==============================] - 0s 10ms/step - loss: 13.6097 - mae: 13.6097\n",
            "Epoch 25/100\n",
            "1/1 [==============================] - 0s 10ms/step - loss: 13.4772 - mae: 13.4772\n",
            "Epoch 26/100\n",
            "1/1 [==============================] - 0s 10ms/step - loss: 13.3447 - mae: 13.3447\n",
            "Epoch 27/100\n",
            "1/1 [==============================] - 0s 10ms/step - loss: 13.2122 - mae: 13.2122\n",
            "Epoch 28/100\n",
            "1/1 [==============================] - 0s 10ms/step - loss: 13.0797 - mae: 13.0797\n",
            "Epoch 29/100\n",
            "1/1 [==============================] - 0s 12ms/step - loss: 12.9472 - mae: 12.9472\n",
            "Epoch 30/100\n",
            "1/1 [==============================] - 0s 10ms/step - loss: 12.8147 - mae: 12.8147\n",
            "Epoch 31/100\n",
            "1/1 [==============================] - 0s 10ms/step - loss: 12.6822 - mae: 12.6822\n",
            "Epoch 32/100\n",
            "1/1 [==============================] - 0s 10ms/step - loss: 12.5497 - mae: 12.5497\n",
            "Epoch 33/100\n",
            "1/1 [==============================] - 0s 11ms/step - loss: 12.4172 - mae: 12.4172\n",
            "Epoch 34/100\n",
            "1/1 [==============================] - 0s 10ms/step - loss: 12.2847 - mae: 12.2847\n",
            "Epoch 35/100\n",
            "1/1 [==============================] - 0s 12ms/step - loss: 12.1522 - mae: 12.1522\n",
            "Epoch 36/100\n",
            "1/1 [==============================] - 0s 12ms/step - loss: 12.0197 - mae: 12.0197\n",
            "Epoch 37/100\n",
            "1/1 [==============================] - 0s 12ms/step - loss: 11.8872 - mae: 11.8872\n",
            "Epoch 38/100\n",
            "1/1 [==============================] - 0s 14ms/step - loss: 11.7547 - mae: 11.7547\n",
            "Epoch 39/100\n",
            "1/1 [==============================] - 0s 12ms/step - loss: 11.6222 - mae: 11.6222\n",
            "Epoch 40/100\n",
            "1/1 [==============================] - 0s 10ms/step - loss: 11.4897 - mae: 11.4897\n",
            "Epoch 41/100\n",
            "1/1 [==============================] - 0s 12ms/step - loss: 11.3572 - mae: 11.3572\n",
            "Epoch 42/100\n",
            "1/1 [==============================] - 0s 12ms/step - loss: 11.2247 - mae: 11.2247\n",
            "Epoch 43/100\n",
            "1/1 [==============================] - 0s 11ms/step - loss: 11.0922 - mae: 11.0922\n",
            "Epoch 44/100\n",
            "1/1 [==============================] - 0s 13ms/step - loss: 10.9597 - mae: 10.9597\n",
            "Epoch 45/100\n",
            "1/1 [==============================] - 0s 10ms/step - loss: 10.8272 - mae: 10.8272\n",
            "Epoch 46/100\n",
            "1/1 [==============================] - 0s 13ms/step - loss: 10.6947 - mae: 10.6947\n",
            "Epoch 47/100\n",
            "1/1 [==============================] - 0s 14ms/step - loss: 10.5622 - mae: 10.5622\n",
            "Epoch 48/100\n",
            "1/1 [==============================] - 0s 12ms/step - loss: 10.4297 - mae: 10.4297\n",
            "Epoch 49/100\n",
            "1/1 [==============================] - 0s 11ms/step - loss: 10.2972 - mae: 10.2972\n",
            "Epoch 50/100\n",
            "1/1 [==============================] - 0s 10ms/step - loss: 10.1647 - mae: 10.1647\n",
            "Epoch 51/100\n",
            "1/1 [==============================] - 0s 10ms/step - loss: 10.0322 - mae: 10.0322\n",
            "Epoch 52/100\n",
            "1/1 [==============================] - 0s 13ms/step - loss: 9.8997 - mae: 9.8997\n",
            "Epoch 53/100\n",
            "1/1 [==============================] - 0s 9ms/step - loss: 9.7672 - mae: 9.7672\n",
            "Epoch 54/100\n",
            "1/1 [==============================] - 0s 9ms/step - loss: 9.6347 - mae: 9.6347\n",
            "Epoch 55/100\n",
            "1/1 [==============================] - 0s 12ms/step - loss: 9.5022 - mae: 9.5022\n",
            "Epoch 56/100\n",
            "1/1 [==============================] - 0s 12ms/step - loss: 9.3697 - mae: 9.3697\n",
            "Epoch 57/100\n",
            "1/1 [==============================] - 0s 10ms/step - loss: 9.2372 - mae: 9.2372\n",
            "Epoch 58/100\n",
            "1/1 [==============================] - 0s 10ms/step - loss: 9.1047 - mae: 9.1047\n",
            "Epoch 59/100\n",
            "1/1 [==============================] - 0s 10ms/step - loss: 8.9722 - mae: 8.9722\n",
            "Epoch 60/100\n",
            "1/1 [==============================] - 0s 9ms/step - loss: 8.8397 - mae: 8.8397\n",
            "Epoch 61/100\n",
            "1/1 [==============================] - 0s 10ms/step - loss: 8.7072 - mae: 8.7072\n",
            "Epoch 62/100\n",
            "1/1 [==============================] - 0s 9ms/step - loss: 8.5747 - mae: 8.5747\n",
            "Epoch 63/100\n",
            "1/1 [==============================] - 0s 12ms/step - loss: 8.4422 - mae: 8.4422\n",
            "Epoch 64/100\n",
            "1/1 [==============================] - 0s 13ms/step - loss: 8.3097 - mae: 8.3097\n",
            "Epoch 65/100\n",
            "1/1 [==============================] - 0s 20ms/step - loss: 8.1772 - mae: 8.1772\n",
            "Epoch 66/100\n",
            "1/1 [==============================] - 0s 18ms/step - loss: 8.0447 - mae: 8.0447\n",
            "Epoch 67/100\n",
            "1/1 [==============================] - 0s 11ms/step - loss: 7.9122 - mae: 7.9122\n",
            "Epoch 68/100\n",
            "1/1 [==============================] - 0s 13ms/step - loss: 7.7797 - mae: 7.7797\n",
            "Epoch 69/100\n",
            "1/1 [==============================] - 0s 14ms/step - loss: 7.6472 - mae: 7.6472\n",
            "Epoch 70/100\n",
            "1/1 [==============================] - 0s 12ms/step - loss: 7.5147 - mae: 7.5147\n",
            "Epoch 71/100\n",
            "1/1 [==============================] - 0s 12ms/step - loss: 7.3822 - mae: 7.3822\n",
            "Epoch 72/100\n",
            "1/1 [==============================] - 0s 12ms/step - loss: 7.2497 - mae: 7.2497\n",
            "Epoch 73/100\n",
            "1/1 [==============================] - 0s 12ms/step - loss: 7.1172 - mae: 7.1172\n",
            "Epoch 74/100\n",
            "1/1 [==============================] - 0s 11ms/step - loss: 6.9847 - mae: 6.9847\n",
            "Epoch 75/100\n",
            "1/1 [==============================] - 0s 10ms/step - loss: 6.9713 - mae: 6.9713\n",
            "Epoch 76/100\n",
            "1/1 [==============================] - 0s 10ms/step - loss: 6.9656 - mae: 6.9656\n",
            "Epoch 77/100\n",
            "1/1 [==============================] - 0s 13ms/step - loss: 6.9600 - mae: 6.9600\n",
            "Epoch 78/100\n",
            "1/1 [==============================] - 0s 16ms/step - loss: 6.9544 - mae: 6.9544\n",
            "Epoch 79/100\n",
            "1/1 [==============================] - 0s 13ms/step - loss: 6.9488 - mae: 6.9488\n",
            "Epoch 80/100\n",
            "1/1 [==============================] - 0s 12ms/step - loss: 6.9431 - mae: 6.9431\n",
            "Epoch 81/100\n",
            "1/1 [==============================] - 0s 11ms/step - loss: 6.9375 - mae: 6.9375\n",
            "Epoch 82/100\n",
            "1/1 [==============================] - 0s 14ms/step - loss: 6.9319 - mae: 6.9319\n",
            "Epoch 83/100\n",
            "1/1 [==============================] - 0s 11ms/step - loss: 6.9263 - mae: 6.9263\n",
            "Epoch 84/100\n",
            "1/1 [==============================] - 0s 11ms/step - loss: 6.9206 - mae: 6.9206\n",
            "Epoch 85/100\n",
            "1/1 [==============================] - 0s 9ms/step - loss: 6.9150 - mae: 6.9150\n",
            "Epoch 86/100\n",
            "1/1 [==============================] - 0s 11ms/step - loss: 6.9094 - mae: 6.9094\n",
            "Epoch 87/100\n",
            "1/1 [==============================] - 0s 11ms/step - loss: 6.9038 - mae: 6.9038\n",
            "Epoch 88/100\n",
            "1/1 [==============================] - 0s 14ms/step - loss: 6.8981 - mae: 6.8981\n",
            "Epoch 89/100\n",
            "1/1 [==============================] - 0s 11ms/step - loss: 6.8925 - mae: 6.8925\n",
            "Epoch 90/100\n",
            "1/1 [==============================] - 0s 11ms/step - loss: 6.8869 - mae: 6.8869\n",
            "Epoch 91/100\n",
            "1/1 [==============================] - 0s 12ms/step - loss: 6.8813 - mae: 6.8813\n",
            "Epoch 92/100\n",
            "1/1 [==============================] - 0s 11ms/step - loss: 6.8756 - mae: 6.8756\n",
            "Epoch 93/100\n",
            "1/1 [==============================] - 0s 14ms/step - loss: 6.8700 - mae: 6.8700\n",
            "Epoch 94/100\n",
            "1/1 [==============================] - 0s 11ms/step - loss: 6.8644 - mae: 6.8644\n",
            "Epoch 95/100\n",
            "1/1 [==============================] - 0s 11ms/step - loss: 6.8588 - mae: 6.8588\n",
            "Epoch 96/100\n",
            "1/1 [==============================] - 0s 11ms/step - loss: 6.8531 - mae: 6.8531\n",
            "Epoch 97/100\n",
            "1/1 [==============================] - 0s 11ms/step - loss: 6.8475 - mae: 6.8475\n",
            "Epoch 98/100\n",
            "1/1 [==============================] - 0s 13ms/step - loss: 6.8419 - mae: 6.8419\n",
            "Epoch 99/100\n",
            "1/1 [==============================] - 0s 11ms/step - loss: 6.8363 - mae: 6.8363\n",
            "Epoch 100/100\n",
            "1/1 [==============================] - 0s 11ms/step - loss: 6.8306 - mae: 6.8306\n"
          ]
        },
        {
          "output_type": "execute_result",
          "data": {
            "text/plain": [
              "<keras.src.callbacks.History at 0x7bd07a57ed70>"
            ]
          },
          "metadata": {},
          "execution_count": 94
        }
      ],
      "source": [
        "# 1. Create a model using sequential API(specified to problem)\n",
        "model = tf.keras.Sequential([\n",
        "    tf.keras.layers.Dense(1),\n",
        "])\n",
        "# 2. compile model\n",
        "model.compile(loss=tf.keras.losses.mae, optimizer=tf.keras.optimizers.SGD(),metrics=[\"mae\"]) # mean absolute error\n",
        "# 3. fit the model\n",
        "model.fit(tf.expand_dims(X, axis=-1), y, epochs=100) # <- updated line\n"
      ]
    },
    {
      "cell_type": "code",
      "execution_count": 95,
      "metadata": {
        "colab": {
          "base_uri": "https://localhost:8080/"
        },
        "id": "jniXwecG5SPU",
        "outputId": "73614367-271e-4166-d9de-1e3f16de239b"
      },
      "outputs": [
        {
          "output_type": "stream",
          "name": "stdout",
          "text": [
            "1/1 [==============================] - 0s 81ms/step\n"
          ]
        },
        {
          "output_type": "execute_result",
          "data": {
            "text/plain": [
              "array([[29.764849]], dtype=float32)"
            ]
          },
          "metadata": {},
          "execution_count": 95
        }
      ],
      "source": [
        "# Lets see if pred has improved\n",
        "y_pred = model.predict([17.0])\n",
        "y_pred"
      ]
    },
    {
      "cell_type": "code",
      "execution_count": 96,
      "metadata": {
        "colab": {
          "base_uri": "https://localhost:8080/"
        },
        "id": "WWkQsStt8Ers",
        "outputId": "866a267a-6021-4ecd-8784-2b1270a6252c"
      },
      "outputs": [
        {
          "output_type": "stream",
          "name": "stdout",
          "text": [
            "Epoch 1/100\n",
            "1/1 [==============================] - 1s 662ms/step - loss: 14.1900 - mae: 14.1900\n",
            "Epoch 2/100\n",
            "1/1 [==============================] - 0s 15ms/step - loss: 13.4949 - mae: 13.4949\n",
            "Epoch 3/100\n",
            "1/1 [==============================] - 0s 16ms/step - loss: 12.8012 - mae: 12.8012\n",
            "Epoch 4/100\n",
            "1/1 [==============================] - 0s 12ms/step - loss: 12.1066 - mae: 12.1066\n",
            "Epoch 5/100\n",
            "1/1 [==============================] - 0s 12ms/step - loss: 11.4089 - mae: 11.4089\n",
            "Epoch 6/100\n",
            "1/1 [==============================] - 0s 12ms/step - loss: 10.7054 - mae: 10.7054\n",
            "Epoch 7/100\n",
            "1/1 [==============================] - 0s 14ms/step - loss: 9.9929 - mae: 9.9929\n",
            "Epoch 8/100\n",
            "1/1 [==============================] - 0s 15ms/step - loss: 9.2686 - mae: 9.2686\n",
            "Epoch 9/100\n",
            "1/1 [==============================] - 0s 13ms/step - loss: 8.5293 - mae: 8.5293\n",
            "Epoch 10/100\n",
            "1/1 [==============================] - 0s 14ms/step - loss: 7.7718 - mae: 7.7718\n",
            "Epoch 11/100\n",
            "1/1 [==============================] - 0s 11ms/step - loss: 6.9929 - mae: 6.9929\n",
            "Epoch 12/100\n",
            "1/1 [==============================] - 0s 14ms/step - loss: 6.4806 - mae: 6.4806\n",
            "Epoch 13/100\n",
            "1/1 [==============================] - 0s 12ms/step - loss: 6.6520 - mae: 6.6520\n",
            "Epoch 14/100\n",
            "1/1 [==============================] - 0s 12ms/step - loss: 6.9378 - mae: 6.9378\n",
            "Epoch 15/100\n",
            "1/1 [==============================] - 0s 13ms/step - loss: 7.2499 - mae: 7.2499\n",
            "Epoch 16/100\n",
            "1/1 [==============================] - 0s 13ms/step - loss: 7.3767 - mae: 7.3767\n",
            "Epoch 17/100\n",
            "1/1 [==============================] - 0s 12ms/step - loss: 7.3036 - mae: 7.3036\n",
            "Epoch 18/100\n",
            "1/1 [==============================] - 0s 13ms/step - loss: 7.0781 - mae: 7.0781\n",
            "Epoch 19/100\n",
            "1/1 [==============================] - 0s 13ms/step - loss: 6.7368 - mae: 6.7368\n",
            "Epoch 20/100\n",
            "1/1 [==============================] - 0s 13ms/step - loss: 6.4233 - mae: 6.4233\n",
            "Epoch 21/100\n",
            "1/1 [==============================] - 0s 13ms/step - loss: 6.1428 - mae: 6.1428\n",
            "Epoch 22/100\n",
            "1/1 [==============================] - 0s 13ms/step - loss: 5.8535 - mae: 5.8535\n",
            "Epoch 23/100\n",
            "1/1 [==============================] - 0s 14ms/step - loss: 5.7339 - mae: 5.7339\n",
            "Epoch 24/100\n",
            "1/1 [==============================] - 0s 14ms/step - loss: 5.6901 - mae: 5.6901\n",
            "Epoch 25/100\n",
            "1/1 [==============================] - 0s 18ms/step - loss: 5.8745 - mae: 5.8745\n",
            "Epoch 26/100\n",
            "1/1 [==============================] - 0s 13ms/step - loss: 5.9496 - mae: 5.9496\n",
            "Epoch 27/100\n",
            "1/1 [==============================] - 0s 13ms/step - loss: 5.9211 - mae: 5.9211\n",
            "Epoch 28/100\n",
            "1/1 [==============================] - 0s 13ms/step - loss: 5.8014 - mae: 5.8014\n",
            "Epoch 29/100\n",
            "1/1 [==============================] - 0s 13ms/step - loss: 5.5994 - mae: 5.5994\n",
            "Epoch 30/100\n",
            "1/1 [==============================] - 0s 11ms/step - loss: 5.3213 - mae: 5.3213\n",
            "Epoch 31/100\n",
            "1/1 [==============================] - 0s 11ms/step - loss: 5.0516 - mae: 5.0516\n",
            "Epoch 32/100\n",
            "1/1 [==============================] - 0s 12ms/step - loss: 4.9188 - mae: 4.9188\n",
            "Epoch 33/100\n",
            "1/1 [==============================] - 0s 12ms/step - loss: 4.8365 - mae: 4.8365\n",
            "Epoch 34/100\n",
            "1/1 [==============================] - 0s 14ms/step - loss: 4.8278 - mae: 4.8278\n",
            "Epoch 35/100\n",
            "1/1 [==============================] - 0s 13ms/step - loss: 4.7756 - mae: 4.7756\n",
            "Epoch 36/100\n",
            "1/1 [==============================] - 0s 16ms/step - loss: 4.6826 - mae: 4.6826\n",
            "Epoch 37/100\n",
            "1/1 [==============================] - 0s 11ms/step - loss: 4.5516 - mae: 4.5516\n",
            "Epoch 38/100\n",
            "1/1 [==============================] - 0s 12ms/step - loss: 4.3851 - mae: 4.3851\n",
            "Epoch 39/100\n",
            "1/1 [==============================] - 0s 12ms/step - loss: 4.1858 - mae: 4.1858\n",
            "Epoch 40/100\n",
            "1/1 [==============================] - 0s 12ms/step - loss: 3.9560 - mae: 3.9560\n",
            "Epoch 41/100\n",
            "1/1 [==============================] - 0s 12ms/step - loss: 3.8296 - mae: 3.8296\n",
            "Epoch 42/100\n",
            "1/1 [==============================] - 0s 12ms/step - loss: 3.7087 - mae: 3.7087\n",
            "Epoch 43/100\n",
            "1/1 [==============================] - 0s 12ms/step - loss: 3.7132 - mae: 3.7132\n",
            "Epoch 44/100\n",
            "1/1 [==============================] - 0s 11ms/step - loss: 3.5957 - mae: 3.5957\n",
            "Epoch 45/100\n",
            "1/1 [==============================] - 0s 11ms/step - loss: 3.3571 - mae: 3.3571\n",
            "Epoch 46/100\n",
            "1/1 [==============================] - 0s 10ms/step - loss: 3.0531 - mae: 3.0531\n",
            "Epoch 47/100\n",
            "1/1 [==============================] - 0s 11ms/step - loss: 2.8495 - mae: 2.8495\n",
            "Epoch 48/100\n",
            "1/1 [==============================] - 0s 10ms/step - loss: 2.7384 - mae: 2.7384\n",
            "Epoch 49/100\n",
            "1/1 [==============================] - 0s 10ms/step - loss: 2.6106 - mae: 2.6106\n",
            "Epoch 50/100\n",
            "1/1 [==============================] - 0s 10ms/step - loss: 2.4275 - mae: 2.4275\n",
            "Epoch 51/100\n",
            "1/1 [==============================] - 0s 11ms/step - loss: 2.1910 - mae: 2.1910\n",
            "Epoch 52/100\n",
            "1/1 [==============================] - 0s 12ms/step - loss: 1.9031 - mae: 1.9031\n",
            "Epoch 53/100\n",
            "1/1 [==============================] - 0s 14ms/step - loss: 1.6051 - mae: 1.6051\n",
            "Epoch 54/100\n",
            "1/1 [==============================] - 0s 16ms/step - loss: 1.4512 - mae: 1.4512\n",
            "Epoch 55/100\n",
            "1/1 [==============================] - 0s 12ms/step - loss: 1.2222 - mae: 1.2222\n",
            "Epoch 56/100\n",
            "1/1 [==============================] - 0s 11ms/step - loss: 0.8628 - mae: 0.8628\n",
            "Epoch 57/100\n",
            "1/1 [==============================] - 0s 10ms/step - loss: 0.6533 - mae: 0.6533\n",
            "Epoch 58/100\n",
            "1/1 [==============================] - 0s 11ms/step - loss: 0.3797 - mae: 0.3797\n",
            "Epoch 59/100\n",
            "1/1 [==============================] - 0s 11ms/step - loss: 0.1597 - mae: 0.1597\n",
            "Epoch 60/100\n",
            "1/1 [==============================] - 0s 12ms/step - loss: 0.2373 - mae: 0.2373\n",
            "Epoch 61/100\n",
            "1/1 [==============================] - 0s 11ms/step - loss: 0.5339 - mae: 0.5339\n",
            "Epoch 62/100\n",
            "1/1 [==============================] - 0s 12ms/step - loss: 0.6411 - mae: 0.6411\n",
            "Epoch 63/100\n",
            "1/1 [==============================] - 0s 10ms/step - loss: 0.6749 - mae: 0.6749\n",
            "Epoch 64/100\n",
            "1/1 [==============================] - 0s 10ms/step - loss: 0.7564 - mae: 0.7564\n",
            "Epoch 65/100\n",
            "1/1 [==============================] - 0s 11ms/step - loss: 0.6946 - mae: 0.6946\n",
            "Epoch 66/100\n",
            "1/1 [==============================] - 0s 11ms/step - loss: 0.7404 - mae: 0.7404\n",
            "Epoch 67/100\n",
            "1/1 [==============================] - 0s 12ms/step - loss: 0.6739 - mae: 0.6739\n",
            "Epoch 68/100\n",
            "1/1 [==============================] - 0s 11ms/step - loss: 0.4718 - mae: 0.4718\n",
            "Epoch 69/100\n",
            "1/1 [==============================] - 0s 11ms/step - loss: 0.3797 - mae: 0.3797\n",
            "Epoch 70/100\n",
            "1/1 [==============================] - 0s 13ms/step - loss: 0.2195 - mae: 0.2195\n",
            "Epoch 71/100\n",
            "1/1 [==============================] - 0s 15ms/step - loss: 0.1067 - mae: 0.1067\n",
            "Epoch 72/100\n",
            "1/1 [==============================] - 0s 12ms/step - loss: 0.1497 - mae: 0.1497\n",
            "Epoch 73/100\n",
            "1/1 [==============================] - 0s 13ms/step - loss: 0.2316 - mae: 0.2316\n",
            "Epoch 74/100\n",
            "1/1 [==============================] - 0s 11ms/step - loss: 0.2983 - mae: 0.2983\n",
            "Epoch 75/100\n",
            "1/1 [==============================] - 0s 11ms/step - loss: 0.3270 - mae: 0.3270\n",
            "Epoch 76/100\n",
            "1/1 [==============================] - 0s 10ms/step - loss: 0.3862 - mae: 0.3862\n",
            "Epoch 77/100\n",
            "1/1 [==============================] - 0s 11ms/step - loss: 0.3324 - mae: 0.3324\n",
            "Epoch 78/100\n",
            "1/1 [==============================] - 0s 11ms/step - loss: 0.2923 - mae: 0.2923\n",
            "Epoch 79/100\n",
            "1/1 [==============================] - 0s 11ms/step - loss: 0.2269 - mae: 0.2269\n",
            "Epoch 80/100\n",
            "1/1 [==============================] - 0s 10ms/step - loss: 0.0788 - mae: 0.0788\n",
            "Epoch 81/100\n",
            "1/1 [==============================] - 0s 10ms/step - loss: 0.1007 - mae: 0.1007\n",
            "Epoch 82/100\n",
            "1/1 [==============================] - 0s 11ms/step - loss: 0.1784 - mae: 0.1784\n",
            "Epoch 83/100\n",
            "1/1 [==============================] - 0s 11ms/step - loss: 0.1963 - mae: 0.1963\n",
            "Epoch 84/100\n",
            "1/1 [==============================] - 0s 10ms/step - loss: 0.1914 - mae: 0.1914\n",
            "Epoch 85/100\n",
            "1/1 [==============================] - 0s 10ms/step - loss: 0.2047 - mae: 0.2047\n",
            "Epoch 86/100\n",
            "1/1 [==============================] - 0s 10ms/step - loss: 0.0929 - mae: 0.0929\n",
            "Epoch 87/100\n",
            "1/1 [==============================] - 0s 10ms/step - loss: 0.1262 - mae: 0.1262\n",
            "Epoch 88/100\n",
            "1/1 [==============================] - 0s 11ms/step - loss: 0.1253 - mae: 0.1253\n",
            "Epoch 89/100\n",
            "1/1 [==============================] - 0s 11ms/step - loss: 0.1423 - mae: 0.1423\n",
            "Epoch 90/100\n",
            "1/1 [==============================] - 0s 12ms/step - loss: 0.1955 - mae: 0.1955\n",
            "Epoch 91/100\n",
            "1/1 [==============================] - 0s 12ms/step - loss: 0.1891 - mae: 0.1891\n",
            "Epoch 92/100\n",
            "1/1 [==============================] - 0s 11ms/step - loss: 0.1205 - mae: 0.1205\n",
            "Epoch 93/100\n",
            "1/1 [==============================] - 0s 11ms/step - loss: 0.1476 - mae: 0.1476\n",
            "Epoch 94/100\n",
            "1/1 [==============================] - 0s 12ms/step - loss: 0.0315 - mae: 0.0315\n",
            "Epoch 95/100\n",
            "1/1 [==============================] - 0s 10ms/step - loss: 0.3448 - mae: 0.3448\n",
            "Epoch 96/100\n",
            "1/1 [==============================] - 0s 10ms/step - loss: 0.3800 - mae: 0.3800\n",
            "Epoch 97/100\n",
            "1/1 [==============================] - 0s 10ms/step - loss: 0.2045 - mae: 0.2045\n",
            "Epoch 98/100\n",
            "1/1 [==============================] - 0s 10ms/step - loss: 0.3519 - mae: 0.3519\n",
            "Epoch 99/100\n",
            "1/1 [==============================] - 0s 11ms/step - loss: 0.4620 - mae: 0.4620\n",
            "Epoch 100/100\n",
            "1/1 [==============================] - 0s 13ms/step - loss: 0.2796 - mae: 0.2796\n"
          ]
        },
        {
          "output_type": "execute_result",
          "data": {
            "text/plain": [
              "<keras.src.callbacks.History at 0x7bd07a40d1b0>"
            ]
          },
          "metadata": {},
          "execution_count": 96
        }
      ],
      "source": [
        "# 1. Create a model using sequential API(specified to problem)\n",
        "model = tf.keras.Sequential([\n",
        "    tf.keras.layers.Dense(50,activation=None),\n",
        "    tf.keras.layers.Dense(1),\n",
        "])\n",
        "# 2. compile model\n",
        "model.compile(loss=tf.keras.losses.mae, optimizer=tf.keras.optimizers.Adam(learning_rate=0.01),metrics=[\"mae\"]) # mean absolute error\n",
        "# 3. fit the model\n",
        "model.fit(tf.expand_dims(X, axis=-1), y, epochs=100) # <- updated line\n"
      ]
    },
    {
      "cell_type": "code",
      "execution_count": 97,
      "metadata": {
        "colab": {
          "base_uri": "https://localhost:8080/"
        },
        "id": "DuslWhU28aIO",
        "outputId": "522686dd-a11a-4fa5-98bf-91caa4035aa1"
      },
      "outputs": [
        {
          "output_type": "execute_result",
          "data": {
            "text/plain": [
              "(<tf.Tensor: shape=(8,), dtype=float32, numpy=array([-7., -4., -1.,  2.,  5.,  8., 11., 14.], dtype=float32)>,\n",
              " <tf.Tensor: shape=(8,), dtype=float32, numpy=array([ 3.,  6.,  9., 12., 15., 18., 21., 24.], dtype=float32)>)"
            ]
          },
          "metadata": {},
          "execution_count": 97
        }
      ],
      "source": [
        "X,y"
      ]
    },
    {
      "cell_type": "code",
      "execution_count": 98,
      "metadata": {
        "colab": {
          "base_uri": "https://localhost:8080/"
        },
        "id": "komLYnfi8Q8S",
        "outputId": "0736c7e2-a6c3-4806-a7cc-1811fe0a8eca"
      },
      "outputs": [
        {
          "output_type": "stream",
          "name": "stdout",
          "text": [
            "1/1 [==============================] - 0s 134ms/step\n"
          ]
        },
        {
          "output_type": "execute_result",
          "data": {
            "text/plain": [
              "array([[27.446577]], dtype=float32)"
            ]
          },
          "metadata": {},
          "execution_count": 98
        }
      ],
      "source": [
        "# Lets see if pred has improved\n",
        "y_pred = model.predict([17.0])\n",
        "y_pred"
      ]
    },
    {
      "cell_type": "markdown",
      "metadata": {
        "id": "k5Fxd8Qd8FxS"
      },
      "source": [
        "## Evaluating a model\n",
        "In practice, a typical workflow you'll go through when building a neural network is:\n",
        "\n",
        "``` build a model -> fit it -> evaluate it -> tweak a model -> evaluate it -> repeat"
      ]
    },
    {
      "cell_type": "markdown",
      "metadata": {
        "id": "JRHGTOUN4fCd"
      },
      "source": [
        "When it comes to evaluation experiment experiment experiment\n",
        "When it comes to evaluation it's\n",
        "> visualization, visualization, visualization\n",
        "It's a good idea to visualize\n",
        "* The data - imagine what it looks like\n",
        "* The model itself - what does our model look like?\n",
        "* The training of a model - how does model perform while it learns?\n",
        "* The predictions of the model - how do predictions line up with the ground truth"
      ]
    },
    {
      "cell_type": "code",
      "execution_count": 99,
      "metadata": {
        "colab": {
          "base_uri": "https://localhost:8080/"
        },
        "id": "O_l1TrMgU8OI",
        "outputId": "f70818bc-1745-4b14-c723-e1679b682a52"
      },
      "outputs": [
        {
          "output_type": "execute_result",
          "data": {
            "text/plain": [
              "<tf.Tensor: shape=(50,), dtype=int32, numpy=\n",
              "array([-100,  -96,  -92,  -88,  -84,  -80,  -76,  -72,  -68,  -64,  -60,\n",
              "        -56,  -52,  -48,  -44,  -40,  -36,  -32,  -28,  -24,  -20,  -16,\n",
              "        -12,   -8,   -4,    0,    4,    8,   12,   16,   20,   24,   28,\n",
              "         32,   36,   40,   44,   48,   52,   56,   60,   64,   68,   72,\n",
              "         76,   80,   84,   88,   92,   96], dtype=int32)>"
            ]
          },
          "metadata": {},
          "execution_count": 99
        }
      ],
      "source": [
        "# Make a bigger dataset\n",
        "X = tf.range(-100,100,4)\n",
        "X"
      ]
    },
    {
      "cell_type": "code",
      "execution_count": 100,
      "metadata": {
        "colab": {
          "base_uri": "https://localhost:8080/"
        },
        "id": "ClUwP6AvVDIY",
        "outputId": "1eb058a8-fbd5-431a-f2b9-85089e50036a"
      },
      "outputs": [
        {
          "output_type": "execute_result",
          "data": {
            "text/plain": [
              "<tf.Tensor: shape=(50,), dtype=int32, numpy=\n",
              "array([-90, -86, -82, -78, -74, -70, -66, -62, -58, -54, -50, -46, -42,\n",
              "       -38, -34, -30, -26, -22, -18, -14, -10,  -6,  -2,   2,   6,  10,\n",
              "        14,  18,  22,  26,  30,  34,  38,  42,  46,  50,  54,  58,  62,\n",
              "        66,  70,  74,  78,  82,  86,  90,  94,  98, 102, 106], dtype=int32)>"
            ]
          },
          "metadata": {},
          "execution_count": 100
        }
      ],
      "source": [
        "# Make labels for the datase\n",
        "y = X + 10\n",
        "y"
      ]
    },
    {
      "cell_type": "code",
      "execution_count": 101,
      "metadata": {
        "colab": {
          "base_uri": "https://localhost:8080/",
          "height": 447
        },
        "id": "KaS1K5sUVN30",
        "outputId": "dc4a828b-be58-4299-c7d8-85bbea0cd34b"
      },
      "outputs": [
        {
          "output_type": "execute_result",
          "data": {
            "text/plain": [
              "<matplotlib.collections.PathCollection at 0x7bd07a35bfd0>"
            ]
          },
          "metadata": {},
          "execution_count": 101
        },
        {
          "output_type": "display_data",
          "data": {
            "text/plain": [
              "<Figure size 640x480 with 1 Axes>"
            ],
            "image/png": "[encoded data removed]"
          },
          "metadata": {}
        }
      ],
      "source": [
        "# visualize the data\n",
        "plt.scatter(X,y)"
      ]
    },
    {
      "cell_type": "markdown",
      "metadata": {
        "id": "Bk62q06AVtjp"
      },
      "source": [
        "### The 3 sets...."
      ]
    },
    {
      "cell_type": "markdown",
      "metadata": {
        "id": "Y1PiPPYeUTu9"
      },
      "source": [
        "* **Training** - the model used to train the data, usually 70 - 80 % of the total amount of data\n",
        "* **Validation** - Used to validate how well the model performs usually around 10% of the total available data\n",
        "* **Test** - provides an unbiased account of how well the model is performing usually 10 - 15 % of the total available data\n",
        "\n",
        "We want the model to be able to generalize - performs well on data which the model hasn't seen before and learns generalised patterns within the data"
      ]
    },
    {
      "cell_type": "code",
      "execution_count": 102,
      "metadata": {
        "colab": {
          "base_uri": "https://localhost:8080/"
        },
        "id": "q_ifD0ZlaocP",
        "outputId": "c8c1abf5-5181-4e74-da66-c3927b2e69d0"
      },
      "outputs": [
        {
          "output_type": "execute_result",
          "data": {
            "text/plain": [
              "50"
            ]
          },
          "metadata": {},
          "execution_count": 102
        }
      ],
      "source": [
        "# Check the length of how many samples we have\n",
        "len(X)"
      ]
    },
    {
      "cell_type": "code",
      "execution_count": 103,
      "metadata": {
        "colab": {
          "base_uri": "https://localhost:8080/"
        },
        "id": "x2xoPmEabAwa",
        "outputId": "2ae7fcf6-4ab3-42d1-bb2c-cf5eca6fe859"
      },
      "outputs": [
        {
          "output_type": "execute_result",
          "data": {
            "text/plain": [
              "(40, 10, 40, 10)"
            ]
          },
          "metadata": {},
          "execution_count": 103
        }
      ],
      "source": [
        "# Split the data into train and test sets\n",
        "X_train = X[:40] # first 40 are training samples\n",
        "y_train = y[:40]\n",
        "\n",
        "X_test = X[40:]\n",
        "y_test = y[40:]\n",
        "\n",
        "len(X_train),len(X_test),len(y_train),len(y_test)"
      ]
    },
    {
      "cell_type": "markdown",
      "metadata": {
        "id": "u9GxXdrjcWmQ"
      },
      "source": [
        "### Visualizing the data\n",
        "Now we've got the data in training and test sets... let's visualize it again!"
      ]
    },
    {
      "cell_type": "code",
      "execution_count": 104,
      "metadata": {
        "colab": {
          "base_uri": "https://localhost:8080/",
          "height": 616
        },
        "id": "RmQ7DnPNc211",
        "outputId": "b6bacb12-f87e-477d-ce4d-7b0ccf040f33"
      },
      "outputs": [
        {
          "output_type": "execute_result",
          "data": {
            "text/plain": [
              "<matplotlib.legend.Legend at 0x7bd07a3aa500>"
            ]
          },
          "metadata": {},
          "execution_count": 104
        },
        {
          "output_type": "display_data",
          "data": {
            "text/plain": [
              "<Figure size 1000x700 with 1 Axes>"
            ],
            "image/png": "[encoded data removed]"
          },
          "metadata": {}
        }
      ],
      "source": [
        "plt.figure(figsize=(10,7))\n",
        "\n",
        "# plot the training data in blue\n",
        "plt.scatter(X_train,y_train, c='b',label=\"Training data\")\n",
        "plt.scatter(X_test, y_test, c=\"g\",label=(\"Testing data\"))\n",
        "plt.legend()"
      ]
    },
    {
      "cell_type": "markdown",
      "metadata": {
        "id": "lldNEoaJdLvo"
      },
      "source": [
        "# Let's have a look at how to build a neural network with our data"
      ]
    },
    {
      "cell_type": "code",
      "execution_count": 105,
      "metadata": {
        "colab": {
          "base_uri": "https://localhost:8080/"
        },
        "id": "WHxIIuWunwXM",
        "outputId": "31517e45-aeb7-4326-bc71-a00d80b758cd"
      },
      "outputs": [
        {
          "output_type": "stream",
          "name": "stdout",
          "text": [
            "Epoch 1/100\n",
            "2/2 [==============================] - 0s 7ms/step - loss: 110.5860 - mae: 110.5860\n",
            "Epoch 2/100\n",
            "2/2 [==============================] - 0s 7ms/step - loss: 60.7442 - mae: 60.7442\n",
            "Epoch 3/100\n",
            "2/2 [==============================] - 0s 7ms/step - loss: 17.4582 - mae: 17.4582\n",
            "Epoch 4/100\n",
            "2/2 [==============================] - 0s 7ms/step - loss: 10.1439 - mae: 10.1439\n",
            "Epoch 5/100\n",
            "2/2 [==============================] - 0s 8ms/step - loss: 15.4612 - mae: 15.4612\n",
            "Epoch 6/100\n",
            "2/2 [==============================] - 0s 8ms/step - loss: 11.7436 - mae: 11.7436\n",
            "Epoch 7/100\n",
            "2/2 [==============================] - 0s 14ms/step - loss: 9.2498 - mae: 9.2498\n",
            "Epoch 8/100\n",
            "2/2 [==============================] - 0s 6ms/step - loss: 12.0256 - mae: 12.0256\n",
            "Epoch 9/100\n",
            "2/2 [==============================] - 0s 7ms/step - loss: 10.0722 - mae: 10.0722\n",
            "Epoch 10/100\n",
            "2/2 [==============================] - 0s 11ms/step - loss: 10.1186 - mae: 10.1186\n",
            "Epoch 11/100\n",
            "2/2 [==============================] - 0s 7ms/step - loss: 10.0906 - mae: 10.0906\n",
            "Epoch 12/100\n",
            "2/2 [==============================] - 0s 7ms/step - loss: 10.0317 - mae: 10.0317\n",
            "Epoch 13/100\n",
            "2/2 [==============================] - 0s 7ms/step - loss: 9.8699 - mae: 9.8699\n",
            "Epoch 14/100\n",
            "2/2 [==============================] - 0s 7ms/step - loss: 10.6706 - mae: 10.6706\n",
            "Epoch 15/100\n",
            "2/2 [==============================] - 0s 7ms/step - loss: 13.4304 - mae: 13.4304\n",
            "Epoch 16/100\n",
            "2/2 [==============================] - 0s 8ms/step - loss: 12.8549 - mae: 12.8549\n",
            "Epoch 17/100\n",
            "2/2 [==============================] - 0s 7ms/step - loss: 10.2078 - mae: 10.2078\n",
            "Epoch 18/100\n",
            "2/2 [==============================] - 0s 8ms/step - loss: 10.4307 - mae: 10.4307\n",
            "Epoch 19/100\n",
            "2/2 [==============================] - 0s 7ms/step - loss: 10.0109 - mae: 10.0109\n",
            "Epoch 20/100\n",
            "2/2 [==============================] - 0s 7ms/step - loss: 11.9695 - mae: 11.9695\n",
            "Epoch 21/100\n",
            "2/2 [==============================] - 0s 8ms/step - loss: 13.0452 - mae: 13.0452\n",
            "Epoch 22/100\n",
            "2/2 [==============================] - 0s 7ms/step - loss: 9.5716 - mae: 9.5716\n",
            "Epoch 23/100\n",
            "2/2 [==============================] - 0s 7ms/step - loss: 9.7539 - mae: 9.7539\n",
            "Epoch 24/100\n",
            "2/2 [==============================] - 0s 8ms/step - loss: 9.8014 - mae: 9.8014\n",
            "Epoch 25/100\n",
            "2/2 [==============================] - 0s 12ms/step - loss: 9.6979 - mae: 9.6979\n",
            "Epoch 26/100\n",
            "2/2 [==============================] - 0s 7ms/step - loss: 9.8731 - mae: 9.8731\n",
            "Epoch 27/100\n",
            "2/2 [==============================] - 0s 7ms/step - loss: 9.7106 - mae: 9.7106\n",
            "Epoch 28/100\n",
            "2/2 [==============================] - 0s 7ms/step - loss: 9.5453 - mae: 9.5453\n",
            "Epoch 29/100\n",
            "2/2 [==============================] - 0s 7ms/step - loss: 9.4132 - mae: 9.4132\n",
            "Epoch 30/100\n",
            "2/2 [==============================] - 0s 7ms/step - loss: 9.2729 - mae: 9.2729\n",
            "Epoch 31/100\n",
            "2/2 [==============================] - 0s 8ms/step - loss: 10.6680 - mae: 10.6680\n",
            "Epoch 32/100\n",
            "2/2 [==============================] - 0s 7ms/step - loss: 9.7300 - mae: 9.7300\n",
            "Epoch 33/100\n",
            "2/2 [==============================] - 0s 7ms/step - loss: 9.6934 - mae: 9.6934\n",
            "Epoch 34/100\n",
            "2/2 [==============================] - 0s 13ms/step - loss: 10.0442 - mae: 10.0442\n",
            "Epoch 35/100\n",
            "2/2 [==============================] - 0s 9ms/step - loss: 11.4262 - mae: 11.4262\n",
            "Epoch 36/100\n",
            "2/2 [==============================] - 0s 10ms/step - loss: 10.0242 - mae: 10.0242\n",
            "Epoch 37/100\n",
            "2/2 [==============================] - 0s 7ms/step - loss: 9.3691 - mae: 9.3691\n",
            "Epoch 38/100\n",
            "2/2 [==============================] - 0s 7ms/step - loss: 9.6380 - mae: 9.6380\n",
            "Epoch 39/100\n",
            "2/2 [==============================] - 0s 8ms/step - loss: 10.4034 - mae: 10.4034\n",
            "Epoch 40/100\n",
            "2/2 [==============================] - 0s 8ms/step - loss: 11.5157 - mae: 11.5157\n",
            "Epoch 41/100\n",
            "2/2 [==============================] - 0s 7ms/step - loss: 9.6840 - mae: 9.6840\n",
            "Epoch 42/100\n",
            "2/2 [==============================] - 0s 8ms/step - loss: 9.1855 - mae: 9.1855\n",
            "Epoch 43/100\n",
            "2/2 [==============================] - 0s 8ms/step - loss: 10.0380 - mae: 10.0380\n",
            "Epoch 44/100\n",
            "2/2 [==============================] - 0s 8ms/step - loss: 9.3995 - mae: 9.3995\n",
            "Epoch 45/100\n",
            "2/2 [==============================] - 0s 8ms/step - loss: 9.5331 - mae: 9.5331\n",
            "Epoch 46/100\n",
            "2/2 [==============================] - 0s 8ms/step - loss: 9.3533 - mae: 9.3533\n",
            "Epoch 47/100\n",
            "2/2 [==============================] - 0s 7ms/step - loss: 9.3845 - mae: 9.3845\n",
            "Epoch 48/100\n",
            "2/2 [==============================] - 0s 7ms/step - loss: 9.6284 - mae: 9.6284\n",
            "Epoch 49/100\n",
            "2/2 [==============================] - 0s 8ms/step - loss: 10.2831 - mae: 10.2831\n",
            "Epoch 50/100\n",
            "2/2 [==============================] - 0s 11ms/step - loss: 9.3113 - mae: 9.3113\n",
            "Epoch 51/100\n",
            "2/2 [==============================] - 0s 8ms/step - loss: 9.0761 - mae: 9.0761\n",
            "Epoch 52/100\n",
            "2/2 [==============================] - 0s 7ms/step - loss: 8.9959 - mae: 8.9959\n",
            "Epoch 53/100\n",
            "2/2 [==============================] - 0s 8ms/step - loss: 9.3486 - mae: 9.3486\n",
            "Epoch 54/100\n",
            "2/2 [==============================] - 0s 8ms/step - loss: 9.2256 - mae: 9.2256\n",
            "Epoch 55/100\n",
            "2/2 [==============================] - 0s 8ms/step - loss: 9.3817 - mae: 9.3817\n",
            "Epoch 56/100\n",
            "2/2 [==============================] - 0s 8ms/step - loss: 8.9683 - mae: 8.9683\n",
            "Epoch 57/100\n",
            "2/2 [==============================] - 0s 8ms/step - loss: 10.5853 - mae: 10.5853\n",
            "Epoch 58/100\n",
            "2/2 [==============================] - 0s 7ms/step - loss: 15.1819 - mae: 15.1819\n",
            "Epoch 59/100\n",
            "2/2 [==============================] - 0s 7ms/step - loss: 14.0158 - mae: 14.0158\n",
            "Epoch 60/100\n",
            "2/2 [==============================] - 0s 7ms/step - loss: 13.3154 - mae: 13.3154\n",
            "Epoch 61/100\n",
            "2/2 [==============================] - 0s 7ms/step - loss: 11.8153 - mae: 11.8153\n",
            "Epoch 62/100\n",
            "2/2 [==============================] - 0s 7ms/step - loss: 9.9558 - mae: 9.9558\n",
            "Epoch 63/100\n",
            "2/2 [==============================] - 0s 10ms/step - loss: 12.2926 - mae: 12.2926\n",
            "Epoch 64/100\n",
            "2/2 [==============================] - 0s 7ms/step - loss: 9.2172 - mae: 9.2172\n",
            "Epoch 65/100\n",
            "2/2 [==============================] - 0s 7ms/step - loss: 12.3100 - mae: 12.3100\n",
            "Epoch 66/100\n",
            "2/2 [==============================] - 0s 7ms/step - loss: 8.9783 - mae: 8.9783\n",
            "Epoch 67/100\n",
            "2/2 [==============================] - 0s 8ms/step - loss: 9.1191 - mae: 9.1191\n",
            "Epoch 68/100\n",
            "2/2 [==============================] - 0s 8ms/step - loss: 9.2309 - mae: 9.2309\n",
            "Epoch 69/100\n",
            "2/2 [==============================] - 0s 7ms/step - loss: 9.2262 - mae: 9.2262\n",
            "Epoch 70/100\n",
            "2/2 [==============================] - 0s 7ms/step - loss: 9.4861 - mae: 9.4861\n",
            "Epoch 71/100\n",
            "2/2 [==============================] - 0s 7ms/step - loss: 8.9314 - mae: 8.9314\n",
            "Epoch 72/100\n",
            "2/2 [==============================] - 0s 10ms/step - loss: 9.5430 - mae: 9.5430\n",
            "Epoch 73/100\n",
            "2/2 [==============================] - 0s 8ms/step - loss: 10.9382 - mae: 10.9382\n",
            "Epoch 74/100\n",
            "2/2 [==============================] - 0s 7ms/step - loss: 8.5834 - mae: 8.5834\n",
            "Epoch 75/100\n",
            "2/2 [==============================] - 0s 8ms/step - loss: 8.9458 - mae: 8.9458\n",
            "Epoch 76/100\n",
            "2/2 [==============================] - 0s 7ms/step - loss: 8.8205 - mae: 8.8205\n",
            "Epoch 77/100\n",
            "2/2 [==============================] - 0s 8ms/step - loss: 8.2901 - mae: 8.2901\n",
            "Epoch 78/100\n",
            "2/2 [==============================] - 0s 8ms/step - loss: 11.1508 - mae: 11.1508\n",
            "Epoch 79/100\n",
            "2/2 [==============================] - 0s 8ms/step - loss: 9.5127 - mae: 9.5127\n",
            "Epoch 80/100\n",
            "2/2 [==============================] - 0s 7ms/step - loss: 13.5319 - mae: 13.5319\n",
            "Epoch 81/100\n",
            "2/2 [==============================] - 0s 9ms/step - loss: 13.7502 - mae: 13.7502\n",
            "Epoch 82/100\n",
            "2/2 [==============================] - 0s 9ms/step - loss: 16.6936 - mae: 16.6936\n",
            "Epoch 83/100\n",
            "2/2 [==============================] - 0s 12ms/step - loss: 9.0309 - mae: 9.0309\n",
            "Epoch 84/100\n",
            "2/2 [==============================] - 0s 11ms/step - loss: 9.7150 - mae: 9.7150\n",
            "Epoch 85/100\n",
            "2/2 [==============================] - 0s 8ms/step - loss: 10.6072 - mae: 10.6072\n",
            "Epoch 86/100\n",
            "2/2 [==============================] - 0s 9ms/step - loss: 12.3779 - mae: 12.3779\n",
            "Epoch 87/100\n",
            "2/2 [==============================] - 0s 9ms/step - loss: 9.4722 - mae: 9.4722\n",
            "Epoch 88/100\n",
            "2/2 [==============================] - 0s 12ms/step - loss: 10.1587 - mae: 10.1587\n",
            "Epoch 89/100\n",
            "2/2 [==============================] - 0s 11ms/step - loss: 10.0937 - mae: 10.0937\n",
            "Epoch 90/100\n",
            "2/2 [==============================] - 0s 9ms/step - loss: 14.4988 - mae: 14.4988\n",
            "Epoch 91/100\n",
            "2/2 [==============================] - 0s 9ms/step - loss: 10.5121 - mae: 10.5121\n",
            "Epoch 92/100\n",
            "2/2 [==============================] - 0s 10ms/step - loss: 9.6651 - mae: 9.6651\n",
            "Epoch 93/100\n",
            "2/2 [==============================] - 0s 11ms/step - loss: 15.4493 - mae: 15.4493\n",
            "Epoch 94/100\n",
            "2/2 [==============================] - 0s 12ms/step - loss: 12.7264 - mae: 12.7264\n",
            "Epoch 95/100\n",
            "2/2 [==============================] - 0s 9ms/step - loss: 12.8876 - mae: 12.8876\n",
            "Epoch 96/100\n",
            "2/2 [==============================] - 0s 11ms/step - loss: 8.9378 - mae: 8.9378\n",
            "Epoch 97/100\n",
            "2/2 [==============================] - 0s 8ms/step - loss: 8.8299 - mae: 8.8299\n",
            "Epoch 98/100\n",
            "2/2 [==============================] - 0s 9ms/step - loss: 8.7860 - mae: 8.7860\n",
            "Epoch 99/100\n",
            "2/2 [==============================] - 0s 12ms/step - loss: 8.3751 - mae: 8.3751\n",
            "Epoch 100/100\n",
            "2/2 [==============================] - 0s 10ms/step - loss: 8.6789 - mae: 8.6789\n"
          ]
        },
        {
          "output_type": "execute_result",
          "data": {
            "text/plain": [
              "<keras.src.callbacks.History at 0x7bd0793848b0>"
            ]
          },
          "metadata": {},
          "execution_count": 105
        }
      ],
      "source": [
        "# 1. Create a model using sequential API(specified to problem)\n",
        "model = tf.keras.Sequential([\n",
        "    tf.keras.layers.Dense(1),\n",
        "])\n",
        "# 2. compile model\n",
        "model.compile(loss=tf.keras.losses.mae, optimizer=tf.keras.optimizers.SGD(),metrics=[\"mae\"]) # mean absolute error\n",
        "# 3. fit the model\n",
        "model.fit(tf.expand_dims(X, axis=-1), y, epochs=100) # <- updated line\n"
      ]
    },
    {
      "cell_type": "markdown",
      "metadata": {
        "id": "_zOAcwuaojHp"
      },
      "source": [
        "# Visualizing the model"
      ]
    },
    {
      "cell_type": "code",
      "execution_count": 106,
      "metadata": {
        "id": "aL4yEzWForrp"
      },
      "outputs": [],
      "source": [
        "model.build()"
      ]
    },
    {
      "cell_type": "code",
      "execution_count": 107,
      "metadata": {
        "colab": {
          "base_uri": "https://localhost:8080/"
        },
        "id": "qvYVLQuPokVX",
        "outputId": "9024f491-effe-4e9f-aff8-0406164c91b5"
      },
      "outputs": [
        {
          "output_type": "stream",
          "name": "stdout",
          "text": [
            "Model: \"sequential_14\"\n",
            "_________________________________________________________________\n",
            " Layer (type)                Output Shape              Param #   \n",
            "=================================================================\n",
            " dense_21 (Dense)            (None, 1)                 2         \n",
            "                                                                 \n",
            "=================================================================\n",
            "Total params: 2 (8.00 Byte)\n",
            "Trainable params: 2 (8.00 Byte)\n",
            "Non-trainable params: 0 (0.00 Byte)\n",
            "_________________________________________________________________\n"
          ]
        }
      ],
      "source": [
        "model.summary()"
      ]
    },
    {
      "cell_type": "code",
      "execution_count": 108,
      "metadata": {
        "colab": {
          "base_uri": "https://localhost:8080/"
        },
        "id": "0k3tUZZnpCM9",
        "outputId": "71269920-304a-4dbd-f6df-ee6ab424501c"
      },
      "outputs": [
        {
          "output_type": "execute_result",
          "data": {
            "text/plain": [
              "(<tf.Tensor: shape=(), dtype=int32, numpy=-100>,\n",
              " <tf.Tensor: shape=(), dtype=int32, numpy=-90>)"
            ]
          },
          "metadata": {},
          "execution_count": 108
        }
      ],
      "source": [
        "X[0],y[0]"
      ]
    },
    {
      "cell_type": "code",
      "execution_count": 109,
      "metadata": {
        "colab": {
          "base_uri": "https://localhost:8080/"
        },
        "id": "qkSj9kyXowEZ",
        "outputId": "26af8012-0b55-49e9-daad-da360eed1e44"
      },
      "outputs": [
        {
          "output_type": "stream",
          "name": "stdout",
          "text": [
            "Model: \"One_of_the_many_models_we_will_build\"\n",
            "_________________________________________________________________\n",
            " Layer (type)                Output Shape              Param #   \n",
            "=================================================================\n",
            " input_layer (Dense)         (None, 10)                20        \n",
            "                                                                 \n",
            " dense_22 (Dense)            (None, 10)                110       \n",
            "                                                                 \n",
            " dense_23 (Dense)            (None, 10)                110       \n",
            "                                                                 \n",
            " output_layer (Dense)        (None, 1)                 11        \n",
            "                                                                 \n",
            "=================================================================\n",
            "Total params: 251 (1004.00 Byte)\n",
            "Trainable params: 251 (1004.00 Byte)\n",
            "Non-trainable params: 0 (0.00 Byte)\n",
            "_________________________________________________________________\n"
          ]
        }
      ],
      "source": [
        "# let's create a model which builds automatically by defining the input_shape argument\n",
        "tf.random.set_seed(42)\n",
        "# create a model same as above\n",
        "model = tf.keras.Sequential([\n",
        "    tf.keras.layers.Dense(10,input_shape=[1],name=\"input_layer\"),\n",
        "    tf.keras.layers.Dense(10,activation=\"relu\"),\n",
        "    tf.keras.layers.Dense(10,activation=\"relu\"),\n",
        "    tf.keras.layers.Dense(1,name=\"output_layer\")\n",
        "], name=\"One_of_the_many_models_we_will_build\")\n",
        "# compile the model\n",
        "model.compile(loss=tf.keras.losses.mae,optimizer=tf.keras.optimizers.Adam(learning_rate=1e-3),metrics=[\"mae\"])\n",
        "#fit the model\n",
        "model.summary()"
      ]
    },
    {
      "cell_type": "markdown",
      "metadata": {
        "id": "CfBwUC6VpRRt"
      },
      "source": [
        "* **Total parameters** - total nums of parameters in the model\n",
        "* **Trainable parameters** - these are the parameters (patterns) the model can update as it trains\n",
        "* **Non-trainable params** - these parameters aren't updated during training(this usually occurs during transfer learning)\n",
        "\n",
        "** Resource ** For more in depth overview of trainable parameters within a layer checkout MIT's intro to deep-learning video http://introtodeeplearning.com/"
      ]
    },
    {
      "cell_type": "code",
      "execution_count": 110,
      "metadata": {
        "colab": {
          "base_uri": "https://localhost:8080/"
        },
        "id": "63mu3Rrgpz4_",
        "outputId": "123bddce-bb1a-444a-d038-e51a85d6e924"
      },
      "outputs": [
        {
          "output_type": "execute_result",
          "data": {
            "text/plain": [
              "<keras.src.callbacks.History at 0x7bd07922fcd0>"
            ]
          },
          "metadata": {},
          "execution_count": 110
        }
      ],
      "source": [
        "# lets fit our model to the training data\n",
        "model.fit(X_train,y_train, epochs=100, verbose=0)"
      ]
    },
    {
      "cell_type": "code",
      "execution_count": 111,
      "metadata": {
        "colab": {
          "base_uri": "https://localhost:8080/"
        },
        "id": "8Aa7S652rSjz",
        "outputId": "c4fcfbab-8ff9-4773-bc47-7102107179f3"
      },
      "outputs": [
        {
          "output_type": "stream",
          "name": "stdout",
          "text": [
            "Model: \"One_of_the_many_models_we_will_build\"\n",
            "_________________________________________________________________\n",
            " Layer (type)                Output Shape              Param #   \n",
            "=================================================================\n",
            " input_layer (Dense)         (None, 10)                20        \n",
            "                                                                 \n",
            " dense_22 (Dense)            (None, 10)                110       \n",
            "                                                                 \n",
            " dense_23 (Dense)            (None, 10)                110       \n",
            "                                                                 \n",
            " output_layer (Dense)        (None, 1)                 11        \n",
            "                                                                 \n",
            "=================================================================\n",
            "Total params: 251 (1004.00 Byte)\n",
            "Trainable params: 251 (1004.00 Byte)\n",
            "Non-trainable params: 0 (0.00 Byte)\n",
            "_________________________________________________________________\n"
          ]
        }
      ],
      "source": [
        "model.summary()"
      ]
    },
    {
      "cell_type": "code",
      "execution_count": 111,
      "metadata": {
        "id": "eRU5eQDhrs6C"
      },
      "outputs": [],
      "source": []
    },
    {
      "cell_type": "markdown",
      "metadata": {
        "id": "BNourEFg78m-"
      },
      "source": [
        "### Visualizing the model's predictions\n",
        "\n",
        "To visualize predictions, it's a good idea to plot them against the ground truth labels.\n",
        "\n",
        "Often you'll see this in the form of `y_test`or `y_true`vs `y_pred`(ground truth versus models prediction's)"
      ]
    },
    {
      "cell_type": "code",
      "execution_count": 112,
      "metadata": {
        "colab": {
          "base_uri": "https://localhost:8080/"
        },
        "id": "RO62A4oa9aAu",
        "outputId": "a74a10d0-9366-41e2-f6cb-48a364c2b15a"
      },
      "outputs": [
        {
          "output_type": "stream",
          "name": "stdout",
          "text": [
            "1/1 [==============================] - 0s 71ms/step\n"
          ]
        },
        {
          "output_type": "execute_result",
          "data": {
            "text/plain": [
              "array([[ 73.62611 ],\n",
              "       [ 78.46244 ],\n",
              "       [ 83.29877 ],\n",
              "       [ 88.13509 ],\n",
              "       [ 92.97142 ],\n",
              "       [ 97.807755],\n",
              "       [102.64408 ],\n",
              "       [107.480415],\n",
              "       [112.31674 ],\n",
              "       [117.153076]], dtype=float32)"
            ]
          },
          "metadata": {},
          "execution_count": 112
        }
      ],
      "source": [
        "y_pred = model.predict(X_test)\n",
        "y_pred"
      ]
    },
    {
      "cell_type": "code",
      "execution_count": 113,
      "metadata": {
        "colab": {
          "base_uri": "https://localhost:8080/"
        },
        "id": "dxo6LtBw-uXe",
        "outputId": "a3a9f753-0d7b-4394-e328-dd7a2cc34e80"
      },
      "outputs": [
        {
          "output_type": "execute_result",
          "data": {
            "text/plain": [
              "<tf.Tensor: shape=(10,), dtype=int32, numpy=array([ 70,  74,  78,  82,  86,  90,  94,  98, 102, 106], dtype=int32)>"
            ]
          },
          "metadata": {},
          "execution_count": 113
        }
      ],
      "source": [
        "y_test"
      ]
    },
    {
      "cell_type": "markdown",
      "metadata": {
        "id": "X917cfcE-5kq"
      },
      "source": [
        "**Note** if you feel like you're going to reuse a piece of code turn it into function"
      ]
    },
    {
      "cell_type": "code",
      "execution_count": 114,
      "metadata": {
        "colab": {
          "base_uri": "https://localhost:8080/",
          "height": 599
        },
        "id": "H8FSgpS3-vRB",
        "outputId": "6a0795ea-0bb5-48ea-d0d2-4b092c34e290"
      },
      "outputs": [
        {
          "output_type": "display_data",
          "data": {
            "text/plain": [
              "<Figure size 1000x700 with 1 Axes>"
            ],
            "image/png": "[encoded data removed]"
          },
          "metadata": {}
        }
      ],
      "source": [
        "# let's create a plotting function\n",
        "def plot_predictions(train_data=X_train,train_labels=y_train,test_data=X_test,test_labels=y_test,predictions=y_pred):\n",
        "  \"\"\"\n",
        "  Plots training data, test data, and compares predictions to ground truth\n",
        "  \"\"\"\n",
        "  plt.figure(figsize=[10,7])\n",
        "  # Training data\n",
        "  plt.scatter(train_data,train_labels,c=\"blue\",label=\"Training data\")\n",
        "  # Test data\n",
        "  plt.scatter(test_data,test_labels,c=\"g\",label=\"Testing data\")\n",
        "  # plot predictions\n",
        "  plt.scatter(test_data,predictions,c=\"r\",label=\"Predictions\")\n",
        "  plt.legend()\n",
        "plot_predictions(train_data=X_train,train_labels=y_train,test_data=X_test,test_labels=y_test, predictions=y_pred)"
      ]
    },
    {
      "cell_type": "markdown",
      "metadata": {
        "id": "gll_i5mT_NG1"
      },
      "source": [
        "### Evaluating our model's predictions with regression evaluation metrics\n",
        "\n",
        "Depending on the problem you're working on, there will be different evaluation metrics to evaluate your model's performance.  \n",
        "\n",
        "Since we're working on regression problems, two of the main metrics we will use are:\n",
        "\n",
        "* MAE - mean absolute error: on average, how wrong are our predictions\n",
        "* MSE - mean squared error: square of average errors"
      ]
    },
    {
      "cell_type": "code",
      "execution_count": 115,
      "metadata": {
        "colab": {
          "base_uri": "https://localhost:8080/"
        },
        "id": "ryRtlbXeDijr",
        "outputId": "9a9e6715-3a3f-44f9-c081-1379c1c82180"
      },
      "outputs": [
        {
          "output_type": "stream",
          "name": "stdout",
          "text": [
            "1/1 [==============================] - 0s 183ms/step - loss: 7.3896 - mae: 7.3896\n"
          ]
        },
        {
          "output_type": "execute_result",
          "data": {
            "text/plain": [
              "[7.389589786529541, 7.389589786529541]"
            ]
          },
          "metadata": {},
          "execution_count": 115
        }
      ],
      "source": [
        "# Evaluate the model on the test set\n",
        "model.evaluate(X_test,y_test)"
      ]
    },
    {
      "cell_type": "code",
      "execution_count": 116,
      "metadata": {
        "colab": {
          "base_uri": "https://localhost:8080/"
        },
        "id": "3OXVVRoaFkPh",
        "outputId": "f09523a2-4574-4d00-c98c-fcd81d6ccff6"
      },
      "outputs": [
        {
          "output_type": "stream",
          "name": "stdout",
          "text": [
            "tf.Tensor(\n",
            "[15.099115 12.215024 10.540247 10.       10.594284 12.323102 15.315265\n",
            " 19.480415 24.316742 29.153076], shape=(10,), dtype=float32)\n"
          ]
        }
      ],
      "source": [
        "# Calculate the mean absolute error\n",
        "mae = tf.metrics.mean_absolute_error(y_true=y_test,y_pred=tf.constant(y_pred))\n",
        "print(mae)"
      ]
    },
    {
      "cell_type": "code",
      "execution_count": 117,
      "metadata": {
        "colab": {
          "base_uri": "https://localhost:8080/"
        },
        "id": "24TF1x0dFRTk",
        "outputId": "29182de1-9196-4d38-ff62-55252cece460"
      },
      "outputs": [
        {
          "output_type": "execute_result",
          "data": {
            "text/plain": [
              "array([[ 73.62611 ],\n",
              "       [ 78.46244 ],\n",
              "       [ 83.29877 ],\n",
              "       [ 88.13509 ],\n",
              "       [ 92.97142 ],\n",
              "       [ 97.807755],\n",
              "       [102.64408 ],\n",
              "       [107.480415],\n",
              "       [112.31674 ],\n",
              "       [117.153076]], dtype=float32)"
            ]
          },
          "metadata": {},
          "execution_count": 117
        }
      ],
      "source": [
        "y_pred"
      ]
    },
    {
      "cell_type": "code",
      "execution_count": 118,
      "metadata": {
        "colab": {
          "base_uri": "https://localhost:8080/"
        },
        "id": "XnFdgxe2FiFo",
        "outputId": "620484bc-ce94-411f-a556-c46d6d7bd4f3"
      },
      "outputs": [
        {
          "output_type": "execute_result",
          "data": {
            "text/plain": [
              "<tf.Tensor: shape=(10,), dtype=int32, numpy=array([ 70,  74,  78,  82,  86,  90,  94,  98, 102, 106], dtype=int32)>"
            ]
          },
          "metadata": {},
          "execution_count": 118
        }
      ],
      "source": [
        "y_test"
      ]
    },
    {
      "cell_type": "code",
      "execution_count": 119,
      "metadata": {
        "id": "3yRFeHhlFioW"
      },
      "outputs": [],
      "source": [
        "# needed to be done for both mae and mse as they weren't of the same shame(10,1) for y_pred vs (10,) for y_test\n",
        "y_pred = tf.squeeze(y_pred)"
      ]
    },
    {
      "cell_type": "code",
      "execution_count": 120,
      "metadata": {
        "colab": {
          "base_uri": "https://localhost:8080/"
        },
        "id": "6XoeoG0mH1Xh",
        "outputId": "c859bb74-96e7-41cc-aacb-f323171df5d1"
      },
      "outputs": [
        {
          "output_type": "stream",
          "name": "stdout",
          "text": [
            "tf.Tensor(60.376476, shape=(), dtype=float32)\n"
          ]
        }
      ],
      "source": [
        "# Calculate the mean squared error\n",
        "mse = tf.metrics.mean_squared_error(y_true=y_test,y_pred=tf.constant(y_pred))\n",
        "print(mse)"
      ]
    },
    {
      "cell_type": "code",
      "execution_count": 121,
      "metadata": {
        "id": "neYJktZyISmw"
      },
      "outputs": [],
      "source": [
        "def mean_absolute_error(y_true,y_pred):\n",
        "  return tf.metrics.mean_absolute_error(y_true=y_test,y_pred=tf.squeeze(tf.constant(y_pred)))\n",
        "\n",
        "def mean_squared_error(y_true,y_pred):\n",
        "  return tf.metrics.mean_squared_error(y_true=y_test,y_pred=tf.squeeze(tf.constant(y_pred)))\n"
      ]
    },
    {
      "cell_type": "markdown",
      "source": [
        "### Running experiements to improve our model\n",
        "\n",
        "```\n",
        "Build a model -> fit it -> evaluate it -> tweak it -> repeat\n",
        "```\n",
        "\n",
        "1. Get more data - more examples for the model to train on\n",
        "2. Make the model larger (using a more complex model) - this might be adding more layers or units per layer\n",
        "3. Train for longer number of epochs\n",
        "\n",
        "Let's do 3 different experiements\n",
        "\n",
        "1. `model_1` - same as the original model, 1 layer, trained for 100 epochs\n",
        "2. `model_2` - 2 layers trained for 100 epochs\n",
        "3. `model_3` - 2 layers trained for 500 epochs\n",
        "4.\n",
        "5."
      ],
      "metadata": {
        "id": "K_4tMUzKK9sH"
      }
    },
    {
      "cell_type": "code",
      "source": [
        "X_train = X[:40] # first 40 are training samples\n",
        "y_train = y[:40]\n",
        "\n",
        "X_test = X[40:]\n",
        "y_test = y[40:]"
      ],
      "metadata": {
        "id": "i0syQQtg4nlF"
      },
      "execution_count": 122,
      "outputs": []
    },
    {
      "cell_type": "code",
      "source": [
        "X_train,y_train\n"
      ],
      "metadata": {
        "colab": {
          "base_uri": "https://localhost:8080/"
        },
        "id": "Z2jtw8ls3yl9",
        "outputId": "96e042f8-33d2-4bdd-d799-1ebd9f9b1f24"
      },
      "execution_count": 123,
      "outputs": [
        {
          "output_type": "execute_result",
          "data": {
            "text/plain": [
              "(<tf.Tensor: shape=(40,), dtype=int32, numpy=\n",
              " array([-100,  -96,  -92,  -88,  -84,  -80,  -76,  -72,  -68,  -64,  -60,\n",
              "         -56,  -52,  -48,  -44,  -40,  -36,  -32,  -28,  -24,  -20,  -16,\n",
              "         -12,   -8,   -4,    0,    4,    8,   12,   16,   20,   24,   28,\n",
              "          32,   36,   40,   44,   48,   52,   56], dtype=int32)>,\n",
              " <tf.Tensor: shape=(40,), dtype=int32, numpy=\n",
              " array([-90, -86, -82, -78, -74, -70, -66, -62, -58, -54, -50, -46, -42,\n",
              "        -38, -34, -30, -26, -22, -18, -14, -10,  -6,  -2,   2,   6,  10,\n",
              "         14,  18,  22,  26,  30,  34,  38,  42,  46,  50,  54,  58,  62,\n",
              "         66], dtype=int32)>)"
            ]
          },
          "metadata": {},
          "execution_count": 123
        }
      ]
    },
    {
      "cell_type": "code",
      "source": [
        "X_train = tf.expand_dims(X_train, axis=-1)"
      ],
      "metadata": {
        "id": "EMTC3Bml5zAU"
      },
      "execution_count": 124,
      "outputs": []
    },
    {
      "cell_type": "code",
      "source": [
        "X_train"
      ],
      "metadata": {
        "colab": {
          "base_uri": "https://localhost:8080/"
        },
        "id": "sLUfBl1Y5zuc",
        "outputId": "8ac1b3c0-cfc3-4ed8-a871-61e4c6e2fec6"
      },
      "execution_count": 125,
      "outputs": [
        {
          "output_type": "execute_result",
          "data": {
            "text/plain": [
              "<tf.Tensor: shape=(40, 1), dtype=int32, numpy=\n",
              "array([[-100],\n",
              "       [ -96],\n",
              "       [ -92],\n",
              "       [ -88],\n",
              "       [ -84],\n",
              "       [ -80],\n",
              "       [ -76],\n",
              "       [ -72],\n",
              "       [ -68],\n",
              "       [ -64],\n",
              "       [ -60],\n",
              "       [ -56],\n",
              "       [ -52],\n",
              "       [ -48],\n",
              "       [ -44],\n",
              "       [ -40],\n",
              "       [ -36],\n",
              "       [ -32],\n",
              "       [ -28],\n",
              "       [ -24],\n",
              "       [ -20],\n",
              "       [ -16],\n",
              "       [ -12],\n",
              "       [  -8],\n",
              "       [  -4],\n",
              "       [   0],\n",
              "       [   4],\n",
              "       [   8],\n",
              "       [  12],\n",
              "       [  16],\n",
              "       [  20],\n",
              "       [  24],\n",
              "       [  28],\n",
              "       [  32],\n",
              "       [  36],\n",
              "       [  40],\n",
              "       [  44],\n",
              "       [  48],\n",
              "       [  52],\n",
              "       [  56]], dtype=int32)>"
            ]
          },
          "metadata": {},
          "execution_count": 125
        }
      ]
    },
    {
      "cell_type": "code",
      "source": [
        "model_1 = tf.keras.Sequential([\n",
        "    tf.keras.layers.Dense(1)\n",
        "])\n",
        "model_1.compile(loss=tf.keras.losses.mae,optimizer=tf.keras.optimizers.SGD(),metrics=[\"mae\"])\n",
        "model_1.fit(X_train,y_train,epochs=100)"
      ],
      "metadata": {
        "colab": {
          "base_uri": "https://localhost:8080/"
        },
        "id": "9HlRZKTE2iQ9",
        "outputId": "f26ae10e-fe98-420b-e24a-14165d175f17"
      },
      "execution_count": 126,
      "outputs": [
        {
          "output_type": "stream",
          "name": "stdout",
          "text": [
            "Epoch 1/100\n",
            "2/2 [==============================] - 0s 7ms/step - loss: 9.8602 - mae: 9.8602\n",
            "Epoch 2/100\n",
            "2/2 [==============================] - 0s 6ms/step - loss: 10.7332 - mae: 10.7332\n",
            "Epoch 3/100\n",
            "2/2 [==============================] - 0s 7ms/step - loss: 16.4922 - mae: 16.4922\n",
            "Epoch 4/100\n",
            "2/2 [==============================] - 0s 7ms/step - loss: 8.8115 - mae: 8.8115\n",
            "Epoch 5/100\n",
            "2/2 [==============================] - 0s 6ms/step - loss: 10.7140 - mae: 10.7140\n",
            "Epoch 6/100\n",
            "2/2 [==============================] - 0s 7ms/step - loss: 9.9102 - mae: 9.9102\n",
            "Epoch 7/100\n",
            "2/2 [==============================] - 0s 7ms/step - loss: 8.9709 - mae: 8.9709\n",
            "Epoch 8/100\n",
            "2/2 [==============================] - 0s 7ms/step - loss: 9.0732 - mae: 9.0732\n",
            "Epoch 9/100\n",
            "2/2 [==============================] - 0s 8ms/step - loss: 19.7637 - mae: 19.7637\n",
            "Epoch 10/100\n",
            "2/2 [==============================] - 0s 8ms/step - loss: 10.6736 - mae: 10.6736\n",
            "Epoch 11/100\n",
            "2/2 [==============================] - 0s 8ms/step - loss: 8.6128 - mae: 8.6128\n",
            "Epoch 12/100\n",
            "2/2 [==============================] - 0s 8ms/step - loss: 11.1981 - mae: 11.1981\n",
            "Epoch 13/100\n",
            "2/2 [==============================] - 0s 6ms/step - loss: 12.0773 - mae: 12.0773\n",
            "Epoch 14/100\n",
            "2/2 [==============================] - 0s 9ms/step - loss: 14.0544 - mae: 14.0544\n",
            "Epoch 15/100\n",
            "2/2 [==============================] - 0s 11ms/step - loss: 11.4506 - mae: 11.4506\n",
            "Epoch 16/100\n",
            "2/2 [==============================] - 0s 7ms/step - loss: 8.5211 - mae: 8.5211\n",
            "Epoch 17/100\n",
            "2/2 [==============================] - 0s 7ms/step - loss: 13.5975 - mae: 13.5975\n",
            "Epoch 18/100\n",
            "2/2 [==============================] - 0s 8ms/step - loss: 11.4175 - mae: 11.4175\n",
            "Epoch 19/100\n",
            "2/2 [==============================] - 0s 7ms/step - loss: 17.9609 - mae: 17.9609\n",
            "Epoch 20/100\n",
            "2/2 [==============================] - 0s 8ms/step - loss: 15.0952 - mae: 15.0952\n",
            "Epoch 21/100\n",
            "2/2 [==============================] - 0s 7ms/step - loss: 11.0586 - mae: 11.0586\n",
            "Epoch 22/100\n",
            "2/2 [==============================] - 0s 7ms/step - loss: 8.1887 - mae: 8.1887\n",
            "Epoch 23/100\n",
            "2/2 [==============================] - 0s 7ms/step - loss: 9.4821 - mae: 9.4821\n",
            "Epoch 24/100\n",
            "2/2 [==============================] - 0s 7ms/step - loss: 7.6659 - mae: 7.6659\n",
            "Epoch 25/100\n",
            "2/2 [==============================] - 0s 7ms/step - loss: 13.1207 - mae: 13.1207\n",
            "Epoch 26/100\n",
            "2/2 [==============================] - 0s 7ms/step - loss: 16.4661 - mae: 16.4661\n",
            "Epoch 27/100\n",
            "2/2 [==============================] - 0s 7ms/step - loss: 13.2026 - mae: 13.2026\n",
            "Epoch 28/100\n",
            "2/2 [==============================] - 0s 11ms/step - loss: 14.3035 - mae: 14.3035\n",
            "Epoch 29/100\n",
            "2/2 [==============================] - 0s 7ms/step - loss: 10.0772 - mae: 10.0772\n",
            "Epoch 30/100\n",
            "2/2 [==============================] - 0s 7ms/step - loss: 16.4143 - mae: 16.4143\n",
            "Epoch 31/100\n",
            "2/2 [==============================] - 0s 7ms/step - loss: 23.5743 - mae: 23.5743\n",
            "Epoch 32/100\n",
            "2/2 [==============================] - 0s 7ms/step - loss: 7.6065 - mae: 7.6065\n",
            "Epoch 33/100\n",
            "2/2 [==============================] - 0s 9ms/step - loss: 9.3035 - mae: 9.3035\n",
            "Epoch 34/100\n",
            "2/2 [==============================] - 0s 11ms/step - loss: 13.6772 - mae: 13.6772\n",
            "Epoch 35/100\n",
            "2/2 [==============================] - 0s 7ms/step - loss: 11.1537 - mae: 11.1537\n",
            "Epoch 36/100\n",
            "2/2 [==============================] - 0s 10ms/step - loss: 13.3783 - mae: 13.3783\n",
            "Epoch 37/100\n",
            "2/2 [==============================] - 0s 7ms/step - loss: 9.4496 - mae: 9.4496\n",
            "Epoch 38/100\n",
            "2/2 [==============================] - 0s 8ms/step - loss: 10.1012 - mae: 10.1012\n",
            "Epoch 39/100\n",
            "2/2 [==============================] - 0s 7ms/step - loss: 10.2058 - mae: 10.2058\n",
            "Epoch 40/100\n",
            "2/2 [==============================] - 0s 10ms/step - loss: 10.9514 - mae: 10.9514\n",
            "Epoch 41/100\n",
            "2/2 [==============================] - 0s 10ms/step - loss: 7.9266 - mae: 7.9266\n",
            "Epoch 42/100\n",
            "2/2 [==============================] - 0s 7ms/step - loss: 10.5792 - mae: 10.5792\n",
            "Epoch 43/100\n",
            "2/2 [==============================] - 0s 7ms/step - loss: 7.2078 - mae: 7.2078\n",
            "Epoch 44/100\n",
            "2/2 [==============================] - 0s 9ms/step - loss: 7.9938 - mae: 7.9938\n",
            "Epoch 45/100\n",
            "2/2 [==============================] - 0s 10ms/step - loss: 9.7862 - mae: 9.7862\n",
            "Epoch 46/100\n",
            "2/2 [==============================] - 0s 7ms/step - loss: 8.8622 - mae: 8.8622\n",
            "Epoch 47/100\n",
            "2/2 [==============================] - 0s 9ms/step - loss: 7.5707 - mae: 7.5707\n",
            "Epoch 48/100\n",
            "2/2 [==============================] - 0s 9ms/step - loss: 8.5743 - mae: 8.5743\n",
            "Epoch 49/100\n",
            "2/2 [==============================] - 0s 7ms/step - loss: 9.9911 - mae: 9.9911\n",
            "Epoch 50/100\n",
            "2/2 [==============================] - 0s 12ms/step - loss: 9.0265 - mae: 9.0265\n",
            "Epoch 51/100\n",
            "2/2 [==============================] - 0s 12ms/step - loss: 10.6601 - mae: 10.6601\n",
            "Epoch 52/100\n",
            "2/2 [==============================] - 0s 8ms/step - loss: 15.2982 - mae: 15.2982\n",
            "Epoch 53/100\n",
            "2/2 [==============================] - 0s 9ms/step - loss: 14.3185 - mae: 14.3185\n",
            "Epoch 54/100\n",
            "2/2 [==============================] - 0s 8ms/step - loss: 21.6191 - mae: 21.6191\n",
            "Epoch 55/100\n",
            "2/2 [==============================] - 0s 8ms/step - loss: 15.9829 - mae: 15.9829\n",
            "Epoch 56/100\n",
            "2/2 [==============================] - 0s 8ms/step - loss: 10.2913 - mae: 10.2913\n",
            "Epoch 57/100\n",
            "2/2 [==============================] - 0s 8ms/step - loss: 9.7612 - mae: 9.7612\n",
            "Epoch 58/100\n",
            "2/2 [==============================] - 0s 8ms/step - loss: 9.0473 - mae: 9.0473\n",
            "Epoch 59/100\n",
            "2/2 [==============================] - 0s 9ms/step - loss: 8.2524 - mae: 8.2524\n",
            "Epoch 60/100\n",
            "2/2 [==============================] - 0s 6ms/step - loss: 9.3497 - mae: 9.3497\n",
            "Epoch 61/100\n",
            "2/2 [==============================] - 0s 7ms/step - loss: 11.1563 - mae: 11.1563\n",
            "Epoch 62/100\n",
            "2/2 [==============================] - 0s 7ms/step - loss: 12.0802 - mae: 12.0802\n",
            "Epoch 63/100\n",
            "2/2 [==============================] - 0s 7ms/step - loss: 7.2659 - mae: 7.2659\n",
            "Epoch 64/100\n",
            "2/2 [==============================] - 0s 7ms/step - loss: 12.4235 - mae: 12.4235\n",
            "Epoch 65/100\n",
            "2/2 [==============================] - 0s 7ms/step - loss: 10.4921 - mae: 10.4921\n",
            "Epoch 66/100\n",
            "2/2 [==============================] - 0s 7ms/step - loss: 15.6133 - mae: 15.6133\n",
            "Epoch 67/100\n",
            "2/2 [==============================] - 0s 7ms/step - loss: 10.0128 - mae: 10.0128\n",
            "Epoch 68/100\n",
            "2/2 [==============================] - 0s 7ms/step - loss: 8.7203 - mae: 8.7203\n",
            "Epoch 69/100\n",
            "2/2 [==============================] - 0s 7ms/step - loss: 13.4900 - mae: 13.4900\n",
            "Epoch 70/100\n",
            "2/2 [==============================] - 0s 8ms/step - loss: 7.4654 - mae: 7.4654\n",
            "Epoch 71/100\n",
            "2/2 [==============================] - 0s 7ms/step - loss: 12.2190 - mae: 12.2190\n",
            "Epoch 72/100\n",
            "2/2 [==============================] - 0s 7ms/step - loss: 8.5325 - mae: 8.5325\n",
            "Epoch 73/100\n",
            "2/2 [==============================] - 0s 7ms/step - loss: 7.0363 - mae: 7.0363\n",
            "Epoch 74/100\n",
            "2/2 [==============================] - 0s 7ms/step - loss: 9.9327 - mae: 9.9327\n",
            "Epoch 75/100\n",
            "2/2 [==============================] - 0s 7ms/step - loss: 9.9306 - mae: 9.9306\n",
            "Epoch 76/100\n",
            "2/2 [==============================] - 0s 9ms/step - loss: 10.0979 - mae: 10.0979\n",
            "Epoch 77/100\n",
            "2/2 [==============================] - 0s 8ms/step - loss: 12.9444 - mae: 12.9444\n",
            "Epoch 78/100\n",
            "2/2 [==============================] - 0s 7ms/step - loss: 11.1483 - mae: 11.1483\n",
            "Epoch 79/100\n",
            "2/2 [==============================] - 0s 7ms/step - loss: 14.7043 - mae: 14.7043\n",
            "Epoch 80/100\n",
            "2/2 [==============================] - 0s 9ms/step - loss: 8.9194 - mae: 8.9194\n",
            "Epoch 81/100\n",
            "2/2 [==============================] - 0s 9ms/step - loss: 10.7606 - mae: 10.7606\n",
            "Epoch 82/100\n",
            "2/2 [==============================] - 0s 8ms/step - loss: 8.3898 - mae: 8.3898\n",
            "Epoch 83/100\n",
            "2/2 [==============================] - 0s 7ms/step - loss: 9.2181 - mae: 9.2181\n",
            "Epoch 84/100\n",
            "2/2 [==============================] - 0s 7ms/step - loss: 8.9377 - mae: 8.9377\n",
            "Epoch 85/100\n",
            "2/2 [==============================] - 0s 7ms/step - loss: 13.1907 - mae: 13.1907\n",
            "Epoch 86/100\n",
            "2/2 [==============================] - 0s 9ms/step - loss: 13.7061 - mae: 13.7061\n",
            "Epoch 87/100\n",
            "2/2 [==============================] - 0s 7ms/step - loss: 13.1904 - mae: 13.1904\n",
            "Epoch 88/100\n",
            "2/2 [==============================] - 0s 8ms/step - loss: 11.5162 - mae: 11.5162\n",
            "Epoch 89/100\n",
            "2/2 [==============================] - 0s 7ms/step - loss: 7.8018 - mae: 7.8018\n",
            "Epoch 90/100\n",
            "2/2 [==============================] - 0s 8ms/step - loss: 10.9302 - mae: 10.9302\n",
            "Epoch 91/100\n",
            "2/2 [==============================] - 0s 7ms/step - loss: 6.7458 - mae: 6.7458\n",
            "Epoch 92/100\n",
            "2/2 [==============================] - 0s 7ms/step - loss: 10.1229 - mae: 10.1229\n",
            "Epoch 93/100\n",
            "2/2 [==============================] - 0s 7ms/step - loss: 7.6025 - mae: 7.6025\n",
            "Epoch 94/100\n",
            "2/2 [==============================] - 0s 9ms/step - loss: 9.2345 - mae: 9.2345\n",
            "Epoch 95/100\n",
            "2/2 [==============================] - 0s 7ms/step - loss: 10.8221 - mae: 10.8221\n",
            "Epoch 96/100\n",
            "2/2 [==============================] - 0s 7ms/step - loss: 10.2962 - mae: 10.2962\n",
            "Epoch 97/100\n",
            "2/2 [==============================] - 0s 7ms/step - loss: 7.6737 - mae: 7.6737\n",
            "Epoch 98/100\n",
            "2/2 [==============================] - 0s 7ms/step - loss: 8.6092 - mae: 8.6092\n",
            "Epoch 99/100\n",
            "2/2 [==============================] - 0s 7ms/step - loss: 9.3873 - mae: 9.3873\n",
            "Epoch 100/100\n",
            "2/2 [==============================] - 0s 7ms/step - loss: 8.8342 - mae: 8.8342\n"
          ]
        },
        {
          "output_type": "execute_result",
          "data": {
            "text/plain": [
              "<keras.src.callbacks.History at 0x7bd0791ea470>"
            ]
          },
          "metadata": {},
          "execution_count": 126
        }
      ]
    },
    {
      "cell_type": "code",
      "source": [
        "# make and plot predictions for model 1\n",
        "y_preds_1 = model_1.predict(X_test)\n",
        "plot_predictions(X_train,y_train,X_test,y_test,y_preds_1)"
      ],
      "metadata": {
        "colab": {
          "base_uri": "https://localhost:8080/",
          "height": 616
        },
        "id": "DpOJpvPJ2n9c",
        "outputId": "050a0cfc-3b3e-43bf-dce8-fa54dffc44c0"
      },
      "execution_count": 127,
      "outputs": [
        {
          "output_type": "stream",
          "name": "stdout",
          "text": [
            "1/1 [==============================] - 0s 54ms/step\n"
          ]
        },
        {
          "output_type": "display_data",
          "data": {
            "text/plain": [
              "<Figure size 1000x700 with 1 Axes>"
            ],
            "image/png": "[encoded data removed]"
          },
          "metadata": {}
        }
      ]
    },
    {
      "cell_type": "code",
      "source": [
        "mae_1= mean_absolute_error(y_test,y_preds_1)\n",
        "mse_1= mean_squared_error(y_test,y_preds_1)\n",
        "mae_1,mse_1"
      ],
      "metadata": {
        "colab": {
          "base_uri": "https://localhost:8080/"
        },
        "id": "9EOwJbzU6YRz",
        "outputId": "bde54538-af4a-4893-ce4e-47034a6976dd"
      },
      "execution_count": 128,
      "outputs": [
        {
          "output_type": "execute_result",
          "data": {
            "text/plain": [
              "(<tf.Tensor: shape=(), dtype=float32, numpy=8.624475>,\n",
              " <tf.Tensor: shape=(), dtype=float32, numpy=80.88871>)"
            ]
          },
          "metadata": {},
          "execution_count": 128
        }
      ]
    },
    {
      "cell_type": "code",
      "source": [
        "model_2 = tf.keras.Sequential([\n",
        "    tf.keras.layers.Dense(10),\n",
        "    tf.keras.layers.Dense(1)\n",
        "])\n",
        "model_2.compile(loss=tf.keras.losses.mae,optimizer=tf.keras.optimizers.SGD(),metrics=[\"mse\"])\n",
        "model_2.fit(X_train,y_train,epochs=100)"
      ],
      "metadata": {
        "colab": {
          "base_uri": "https://localhost:8080/"
        },
        "id": "xDhsyFLP7uy6",
        "outputId": "e096eb4e-01aa-48aa-e09a-f8d4e4ce3a6b"
      },
      "execution_count": 129,
      "outputs": [
        {
          "output_type": "stream",
          "name": "stdout",
          "text": [
            "Epoch 1/100\n",
            "2/2 [==============================] - 1s 10ms/step - loss: 46.3822 - mse: 3207.3896\n",
            "Epoch 2/100\n",
            "2/2 [==============================] - 0s 8ms/step - loss: 25.7326 - mse: 897.5197\n",
            "Epoch 3/100\n",
            "2/2 [==============================] - 0s 9ms/step - loss: 29.6101 - mse: 1325.7355\n",
            "Epoch 4/100\n",
            "2/2 [==============================] - 0s 9ms/step - loss: 16.4745 - mse: 383.8327\n",
            "Epoch 5/100\n",
            "2/2 [==============================] - 0s 9ms/step - loss: 18.8924 - mse: 513.2958\n",
            "Epoch 6/100\n",
            "2/2 [==============================] - 0s 9ms/step - loss: 14.7215 - mse: 308.4820\n",
            "Epoch 7/100\n",
            "2/2 [==============================] - 0s 9ms/step - loss: 10.4037 - mse: 140.8970\n",
            "Epoch 8/100\n",
            "2/2 [==============================] - 0s 9ms/step - loss: 12.0692 - mse: 197.8885\n",
            "Epoch 9/100\n",
            "2/2 [==============================] - 0s 9ms/step - loss: 37.7077 - mse: 2190.3931\n",
            "Epoch 10/100\n",
            "2/2 [==============================] - 0s 14ms/step - loss: 25.3415 - mse: 901.0558\n",
            "Epoch 11/100\n",
            "2/2 [==============================] - 0s 14ms/step - loss: 10.2592 - mse: 147.3860\n",
            "Epoch 12/100\n",
            "2/2 [==============================] - 0s 9ms/step - loss: 25.3904 - mse: 897.7731\n",
            "Epoch 13/100\n",
            "2/2 [==============================] - 0s 9ms/step - loss: 16.8966 - mse: 394.3992\n",
            "Epoch 14/100\n",
            "2/2 [==============================] - 0s 10ms/step - loss: 25.7427 - mse: 1033.3873\n",
            "Epoch 15/100\n",
            "2/2 [==============================] - 0s 10ms/step - loss: 17.5993 - mse: 428.7020\n",
            "Epoch 16/100\n",
            "2/2 [==============================] - 0s 10ms/step - loss: 10.0600 - mse: 124.4774\n",
            "Epoch 17/100\n",
            "2/2 [==============================] - 0s 8ms/step - loss: 18.6086 - mse: 462.9326\n",
            "Epoch 18/100\n",
            "2/2 [==============================] - 0s 8ms/step - loss: 11.7590 - mse: 211.3401\n",
            "Epoch 19/100\n",
            "2/2 [==============================] - 0s 7ms/step - loss: 16.4222 - mse: 432.6339\n",
            "Epoch 20/100\n",
            "2/2 [==============================] - 0s 8ms/step - loss: 8.2519 - mse: 93.5043\n",
            "Epoch 21/100\n",
            "2/2 [==============================] - 0s 12ms/step - loss: 14.4485 - mse: 289.3033\n",
            "Epoch 22/100\n",
            "2/2 [==============================] - 0s 11ms/step - loss: 12.8648 - mse: 246.4557\n",
            "Epoch 23/100\n",
            "2/2 [==============================] - 0s 7ms/step - loss: 15.5010 - mse: 315.5052\n",
            "Epoch 24/100\n",
            "2/2 [==============================] - 0s 7ms/step - loss: 15.2914 - mse: 316.6917\n",
            "Epoch 25/100\n",
            "2/2 [==============================] - 0s 10ms/step - loss: 14.3586 - mse: 273.0659\n",
            "Epoch 26/100\n",
            "2/2 [==============================] - 0s 9ms/step - loss: 19.3766 - mse: 569.6594\n",
            "Epoch 27/100\n",
            "2/2 [==============================] - 0s 8ms/step - loss: 11.4428 - mse: 167.8819\n",
            "Epoch 28/100\n",
            "2/2 [==============================] - 0s 7ms/step - loss: 28.9948 - mse: 1366.1073\n",
            "Epoch 29/100\n",
            "2/2 [==============================] - 0s 14ms/step - loss: 9.2562 - mse: 94.8870\n",
            "Epoch 30/100\n",
            "2/2 [==============================] - 0s 11ms/step - loss: 29.7487 - mse: 1600.6371\n",
            "Epoch 31/100\n",
            "2/2 [==============================] - 0s 10ms/step - loss: 53.9688 - mse: 5217.3652\n",
            "Epoch 32/100\n",
            "2/2 [==============================] - 0s 9ms/step - loss: 9.5553 - mse: 101.0800\n",
            "Epoch 33/100\n",
            "2/2 [==============================] - 0s 8ms/step - loss: 12.1431 - mse: 179.5484\n",
            "Epoch 34/100\n",
            "2/2 [==============================] - 0s 12ms/step - loss: 23.7902 - mse: 857.1349\n",
            "Epoch 35/100\n",
            "2/2 [==============================] - 0s 10ms/step - loss: 12.6438 - mse: 242.0999\n",
            "Epoch 36/100\n",
            "2/2 [==============================] - 0s 10ms/step - loss: 21.5763 - mse: 663.9052\n",
            "Epoch 37/100\n",
            "2/2 [==============================] - 0s 10ms/step - loss: 11.3460 - mse: 149.3449\n",
            "Epoch 38/100\n",
            "2/2 [==============================] - 0s 9ms/step - loss: 13.4005 - mse: 265.8855\n",
            "Epoch 39/100\n",
            "2/2 [==============================] - 0s 9ms/step - loss: 10.7622 - mse: 137.5983\n",
            "Epoch 40/100\n",
            "2/2 [==============================] - 0s 8ms/step - loss: 16.4982 - mse: 395.2750\n",
            "Epoch 41/100\n",
            "2/2 [==============================] - 0s 8ms/step - loss: 10.9272 - mse: 180.1732\n",
            "Epoch 42/100\n",
            "2/2 [==============================] - 0s 8ms/step - loss: 9.2658 - mse: 115.7031\n",
            "Epoch 43/100\n",
            "2/2 [==============================] - 0s 8ms/step - loss: 9.5856 - mse: 111.7365\n",
            "Epoch 44/100\n",
            "2/2 [==============================] - 0s 10ms/step - loss: 27.8251 - mse: 1240.6267\n",
            "Epoch 45/100\n",
            "2/2 [==============================] - 0s 8ms/step - loss: 11.2451 - mse: 145.6768\n",
            "Epoch 46/100\n",
            "2/2 [==============================] - 0s 12ms/step - loss: 13.8087 - mse: 278.4494\n",
            "Epoch 47/100\n",
            "2/2 [==============================] - 0s 8ms/step - loss: 11.9433 - mse: 212.3093\n",
            "Epoch 48/100\n",
            "2/2 [==============================] - 0s 9ms/step - loss: 16.9908 - mse: 390.9393\n",
            "Epoch 49/100\n",
            "2/2 [==============================] - 0s 10ms/step - loss: 9.7567 - mse: 104.3575\n",
            "Epoch 50/100\n",
            "2/2 [==============================] - 0s 8ms/step - loss: 14.1304 - mse: 278.2980\n",
            "Epoch 51/100\n",
            "2/2 [==============================] - 0s 8ms/step - loss: 11.7254 - mse: 160.4699\n",
            "Epoch 52/100\n",
            "2/2 [==============================] - 0s 8ms/step - loss: 31.2709 - mse: 1697.9570\n",
            "Epoch 53/100\n",
            "2/2 [==============================] - 0s 8ms/step - loss: 14.6766 - mse: 318.5977\n",
            "Epoch 54/100\n",
            "2/2 [==============================] - 0s 8ms/step - loss: 24.5258 - mse: 904.4305\n",
            "Epoch 55/100\n",
            "2/2 [==============================] - 0s 8ms/step - loss: 23.8020 - mse: 851.2867\n",
            "Epoch 56/100\n",
            "2/2 [==============================] - 0s 8ms/step - loss: 11.0953 - mse: 171.1627\n",
            "Epoch 57/100\n",
            "2/2 [==============================] - 0s 7ms/step - loss: 13.0218 - mse: 209.7029\n",
            "Epoch 58/100\n",
            "2/2 [==============================] - 0s 8ms/step - loss: 9.7604 - mse: 105.2219\n",
            "Epoch 59/100\n",
            "2/2 [==============================] - 0s 9ms/step - loss: 13.1919 - mse: 242.7550\n",
            "Epoch 60/100\n",
            "2/2 [==============================] - 0s 9ms/step - loss: 10.8082 - mse: 136.9475\n",
            "Epoch 61/100\n",
            "2/2 [==============================] - 0s 8ms/step - loss: 13.3750 - mse: 235.9610\n",
            "Epoch 62/100\n",
            "2/2 [==============================] - 0s 7ms/step - loss: 17.2994 - mse: 456.1488\n",
            "Epoch 63/100\n",
            "2/2 [==============================] - 0s 7ms/step - loss: 9.1223 - mse: 87.7232\n",
            "Epoch 64/100\n",
            "2/2 [==============================] - 0s 7ms/step - loss: 17.9237 - mse: 465.9700\n",
            "Epoch 65/100\n",
            "2/2 [==============================] - 0s 7ms/step - loss: 10.6049 - mse: 137.5727\n",
            "Epoch 66/100\n",
            "2/2 [==============================] - 0s 7ms/step - loss: 21.4340 - mse: 679.2884\n",
            "Epoch 67/100\n",
            "2/2 [==============================] - 0s 7ms/step - loss: 10.6123 - mse: 131.9451\n",
            "Epoch 68/100\n",
            "2/2 [==============================] - 0s 7ms/step - loss: 14.8272 - mse: 333.9845\n",
            "Epoch 69/100\n",
            "2/2 [==============================] - 0s 7ms/step - loss: 10.7540 - mse: 133.6793\n",
            "Epoch 70/100\n",
            "2/2 [==============================] - 0s 7ms/step - loss: 12.8528 - mse: 210.4465\n",
            "Epoch 71/100\n",
            "2/2 [==============================] - 0s 8ms/step - loss: 13.2728 - mse: 239.8654\n",
            "Epoch 72/100\n",
            "2/2 [==============================] - 0s 13ms/step - loss: 20.0916 - mse: 574.3485\n",
            "Epoch 73/100\n",
            "2/2 [==============================] - 0s 9ms/step - loss: 9.7317 - mse: 150.2943\n",
            "Epoch 74/100\n",
            "2/2 [==============================] - 0s 9ms/step - loss: 27.3819 - mse: 1193.2449\n",
            "Epoch 75/100\n",
            "2/2 [==============================] - 0s 9ms/step - loss: 10.0041 - mse: 146.0395\n",
            "Epoch 76/100\n",
            "2/2 [==============================] - 0s 9ms/step - loss: 12.9201 - mse: 207.7658\n",
            "Epoch 77/100\n",
            "2/2 [==============================] - 0s 9ms/step - loss: 17.8913 - mse: 498.8595\n",
            "Epoch 78/100\n",
            "2/2 [==============================] - 0s 9ms/step - loss: 8.9579 - mse: 87.7514\n",
            "Epoch 79/100\n",
            "2/2 [==============================] - 0s 9ms/step - loss: 28.7237 - mse: 1302.9832\n",
            "Epoch 80/100\n",
            "2/2 [==============================] - 0s 8ms/step - loss: 31.0616 - mse: 1532.0820\n",
            "Epoch 81/100\n",
            "2/2 [==============================] - 0s 9ms/step - loss: 13.4156 - mse: 251.8800\n",
            "Epoch 82/100\n",
            "2/2 [==============================] - 0s 11ms/step - loss: 14.3196 - mse: 284.2873\n",
            "Epoch 83/100\n",
            "2/2 [==============================] - 0s 9ms/step - loss: 18.8539 - mse: 471.6968\n",
            "Epoch 84/100\n",
            "2/2 [==============================] - 0s 14ms/step - loss: 9.4563 - mse: 149.0506\n",
            "Epoch 85/100\n",
            "2/2 [==============================] - 0s 15ms/step - loss: 25.2493 - mse: 892.5050\n",
            "Epoch 86/100\n",
            "2/2 [==============================] - 0s 15ms/step - loss: 16.4275 - mse: 396.9156\n",
            "Epoch 87/100\n",
            "2/2 [==============================] - 0s 9ms/step - loss: 11.4638 - mse: 156.2436\n",
            "Epoch 88/100\n",
            "2/2 [==============================] - 0s 14ms/step - loss: 27.0381 - mse: 1045.6908\n",
            "Epoch 89/100\n",
            "2/2 [==============================] - 0s 15ms/step - loss: 9.7365 - mse: 128.1790\n",
            "Epoch 90/100\n",
            "2/2 [==============================] - 0s 13ms/step - loss: 19.0814 - mse: 522.1227\n",
            "Epoch 91/100\n",
            "2/2 [==============================] - 0s 12ms/step - loss: 10.5950 - mse: 163.2436\n",
            "Epoch 92/100\n",
            "2/2 [==============================] - 0s 14ms/step - loss: 18.2975 - mse: 458.6646\n",
            "Epoch 93/100\n",
            "2/2 [==============================] - 0s 13ms/step - loss: 6.8575 - mse: 67.7528\n",
            "Epoch 94/100\n",
            "2/2 [==============================] - 0s 11ms/step - loss: 13.0687 - mse: 232.1084\n",
            "Epoch 95/100\n",
            "2/2 [==============================] - 0s 17ms/step - loss: 18.4486 - mse: 502.2360\n",
            "Epoch 96/100\n",
            "2/2 [==============================] - 0s 12ms/step - loss: 10.4045 - mse: 179.1654\n",
            "Epoch 97/100\n",
            "2/2 [==============================] - 0s 13ms/step - loss: 14.1859 - mse: 302.2641\n",
            "Epoch 98/100\n",
            "2/2 [==============================] - 0s 13ms/step - loss: 9.6464 - mse: 136.9922\n",
            "Epoch 99/100\n",
            "2/2 [==============================] - 0s 12ms/step - loss: 11.3393 - mse: 164.6348\n",
            "Epoch 100/100\n",
            "2/2 [==============================] - 0s 12ms/step - loss: 29.3143 - mse: 1323.1949\n"
          ]
        },
        {
          "output_type": "execute_result",
          "data": {
            "text/plain": [
              "<keras.src.callbacks.History at 0x7bd078f60070>"
            ]
          },
          "metadata": {},
          "execution_count": 129
        }
      ]
    },
    {
      "cell_type": "code",
      "source": [
        "y_preds_2 = model_2.predict(X_test)\n",
        "plot_predictions(X_train,y_train,X_test,y_test,y_preds_2)"
      ],
      "metadata": {
        "colab": {
          "base_uri": "https://localhost:8080/",
          "height": 616
        },
        "id": "SFlqmM4a8wqE",
        "outputId": "981b5729-ee0d-4c63-f294-244131a32199"
      },
      "execution_count": 130,
      "outputs": [
        {
          "output_type": "stream",
          "name": "stdout",
          "text": [
            "1/1 [==============================] - 0s 89ms/step\n"
          ]
        },
        {
          "output_type": "display_data",
          "data": {
            "text/plain": [
              "<Figure size 1000x700 with 1 Axes>"
            ],
            "image/png": "[encoded data removed]"
          },
          "metadata": {}
        }
      ]
    },
    {
      "cell_type": "code",
      "source": [
        "# calculate model 2 evaluation metrics\n",
        "mae_2 = mean_absolute_error(y_test,y_preds_2)\n",
        "mse_2 = mean_squared_error(y_test,y_preds_2)\n",
        "mae_2,mse_2"
      ],
      "metadata": {
        "colab": {
          "base_uri": "https://localhost:8080/"
        },
        "id": "QhkEO4Pl9vuK",
        "outputId": "80750aaf-ac06-439f-ceef-31170453448e"
      },
      "execution_count": 131,
      "outputs": [
        {
          "output_type": "execute_result",
          "data": {
            "text/plain": [
              "(<tf.Tensor: shape=(), dtype=float32, numpy=11.620806>,\n",
              " <tf.Tensor: shape=(), dtype=float32, numpy=143.65686>)"
            ]
          },
          "metadata": {},
          "execution_count": 131
        }
      ]
    },
    {
      "cell_type": "code",
      "source": [
        "model_3 = tf.keras.Sequential([\n",
        "    tf.keras.layers.Dense(10),\n",
        "    tf.keras.layers.Dense(1)\n",
        "])\n",
        "model_3.compile(loss=tf.keras.losses.mae,optimizer=tf.keras.optimizers.SGD(),metrics=[\"mse\"])\n",
        "model_3.fit(X_train,y_train,epochs=500)"
      ],
      "metadata": {
        "colab": {
          "base_uri": "https://localhost:8080/"
        },
        "id": "ojJS5TIF9_GY",
        "outputId": "fd5fbcf4-4d82-4d4d-d008-47c2faaf9241"
      },
      "execution_count": 132,
      "outputs": [
        {
          "output_type": "stream",
          "name": "stdout",
          "text": [
            "Epoch 1/500\n",
            "2/2 [==============================] - 1s 17ms/step - loss: 27.8116 - mse: 1899.9336\n",
            "Epoch 2/500\n",
            "2/2 [==============================] - 0s 12ms/step - loss: 24.6709 - mse: 1075.3308\n",
            "Epoch 3/500\n",
            "2/2 [==============================] - 0s 13ms/step - loss: 30.8244 - mse: 1400.7053\n",
            "Epoch 4/500\n",
            "2/2 [==============================] - 0s 10ms/step - loss: 14.7865 - mse: 372.8166\n",
            "Epoch 5/500\n",
            "2/2 [==============================] - 0s 9ms/step - loss: 22.3893 - mse: 737.5594\n",
            "Epoch 6/500\n",
            "2/2 [==============================] - 0s 11ms/step - loss: 12.6170 - mse: 205.3921\n",
            "Epoch 7/500\n",
            "2/2 [==============================] - 0s 7ms/step - loss: 11.9393 - mse: 177.8368\n",
            "Epoch 8/500\n",
            "2/2 [==============================] - 0s 7ms/step - loss: 13.1119 - mse: 236.2276\n",
            "Epoch 9/500\n",
            "2/2 [==============================] - 0s 9ms/step - loss: 34.7646 - mse: 1819.9498\n",
            "Epoch 10/500\n",
            "2/2 [==============================] - 0s 8ms/step - loss: 24.1352 - mse: 815.4084\n",
            "Epoch 11/500\n",
            "2/2 [==============================] - 0s 8ms/step - loss: 11.8508 - mse: 217.2368\n",
            "Epoch 12/500\n",
            "2/2 [==============================] - 0s 7ms/step - loss: 23.7649 - mse: 799.9642\n",
            "Epoch 13/500\n",
            "2/2 [==============================] - 0s 9ms/step - loss: 21.0753 - mse: 632.5774\n",
            "Epoch 14/500\n",
            "2/2 [==============================] - 0s 7ms/step - loss: 23.5139 - mse: 847.1376\n",
            "Epoch 15/500\n",
            "2/2 [==============================] - 0s 9ms/step - loss: 15.2906 - mse: 315.5178\n",
            "Epoch 16/500\n",
            "2/2 [==============================] - 0s 8ms/step - loss: 11.3725 - mse: 150.5238\n",
            "Epoch 17/500\n",
            "2/2 [==============================] - 0s 8ms/step - loss: 23.2426 - mse: 756.7462\n",
            "Epoch 18/500\n",
            "2/2 [==============================] - 0s 7ms/step - loss: 11.8030 - mse: 214.3405\n",
            "Epoch 19/500\n",
            "2/2 [==============================] - 0s 7ms/step - loss: 16.5280 - mse: 438.0945\n",
            "Epoch 20/500\n",
            "2/2 [==============================] - 0s 7ms/step - loss: 8.2399 - mse: 93.3394\n",
            "Epoch 21/500\n",
            "2/2 [==============================] - 0s 7ms/step - loss: 14.4057 - mse: 288.0859\n",
            "Epoch 22/500\n",
            "2/2 [==============================] - 0s 7ms/step - loss: 12.8173 - mse: 245.3054\n",
            "Epoch 23/500\n",
            "2/2 [==============================] - 0s 8ms/step - loss: 15.4571 - mse: 314.5661\n",
            "Epoch 24/500\n",
            "2/2 [==============================] - 0s 7ms/step - loss: 15.2454 - mse: 315.2422\n",
            "Epoch 25/500\n",
            "2/2 [==============================] - 0s 7ms/step - loss: 14.3270 - mse: 272.5262\n",
            "Epoch 26/500\n",
            "2/2 [==============================] - 0s 8ms/step - loss: 19.3180 - mse: 566.4077\n",
            "Epoch 27/500\n",
            "2/2 [==============================] - 0s 7ms/step - loss: 11.4692 - mse: 170.3205\n",
            "Epoch 28/500\n",
            "2/2 [==============================] - 0s 8ms/step - loss: 29.1873 - mse: 1385.1832\n",
            "Epoch 29/500\n",
            "2/2 [==============================] - 0s 8ms/step - loss: 9.2542 - mse: 94.2995\n",
            "Epoch 30/500\n",
            "2/2 [==============================] - 0s 7ms/step - loss: 29.9027 - mse: 1621.7269\n",
            "Epoch 31/500\n",
            "2/2 [==============================] - 0s 9ms/step - loss: 54.2704 - mse: 5277.3643\n",
            "Epoch 32/500\n",
            "2/2 [==============================] - 0s 9ms/step - loss: 9.5888 - mse: 101.3846\n",
            "Epoch 33/500\n",
            "2/2 [==============================] - 0s 8ms/step - loss: 12.1830 - mse: 182.3975\n",
            "Epoch 34/500\n",
            "2/2 [==============================] - 0s 8ms/step - loss: 23.9749 - mse: 871.1961\n",
            "Epoch 35/500\n",
            "2/2 [==============================] - 0s 10ms/step - loss: 12.6146 - mse: 243.2511\n",
            "Epoch 36/500\n",
            "2/2 [==============================] - 0s 9ms/step - loss: 21.5099 - mse: 659.9227\n",
            "Epoch 37/500\n",
            "2/2 [==============================] - 0s 8ms/step - loss: 11.3983 - mse: 150.5318\n",
            "Epoch 38/500\n",
            "2/2 [==============================] - 0s 9ms/step - loss: 13.4932 - mse: 270.6176\n",
            "Epoch 39/500\n",
            "2/2 [==============================] - 0s 8ms/step - loss: 10.8064 - mse: 139.9781\n",
            "Epoch 40/500\n",
            "2/2 [==============================] - 0s 9ms/step - loss: 16.6399 - mse: 401.6283\n",
            "Epoch 41/500\n",
            "2/2 [==============================] - 0s 9ms/step - loss: 10.9962 - mse: 179.9169\n",
            "Epoch 42/500\n",
            "2/2 [==============================] - 0s 9ms/step - loss: 9.3186 - mse: 114.9802\n",
            "Epoch 43/500\n",
            "2/2 [==============================] - 0s 9ms/step - loss: 9.6001 - mse: 110.7521\n",
            "Epoch 44/500\n",
            "2/2 [==============================] - 0s 11ms/step - loss: 28.0590 - mse: 1263.1780\n",
            "Epoch 45/500\n",
            "2/2 [==============================] - 0s 9ms/step - loss: 11.3048 - mse: 147.5763\n",
            "Epoch 46/500\n",
            "2/2 [==============================] - 0s 11ms/step - loss: 14.1131 - mse: 290.9729\n",
            "Epoch 47/500\n",
            "2/2 [==============================] - 0s 12ms/step - loss: 13.4878 - mse: 256.2769\n",
            "Epoch 48/500\n",
            "2/2 [==============================] - 0s 10ms/step - loss: 17.3172 - mse: 406.7975\n",
            "Epoch 49/500\n",
            "2/2 [==============================] - 0s 11ms/step - loss: 9.5331 - mse: 98.9574\n",
            "Epoch 50/500\n",
            "2/2 [==============================] - 0s 10ms/step - loss: 13.7355 - mse: 255.1575\n",
            "Epoch 51/500\n",
            "2/2 [==============================] - 0s 11ms/step - loss: 11.5726 - mse: 153.5057\n",
            "Epoch 52/500\n",
            "2/2 [==============================] - 0s 11ms/step - loss: 30.2933 - mse: 1583.3629\n",
            "Epoch 53/500\n",
            "2/2 [==============================] - 0s 9ms/step - loss: 14.2464 - mse: 297.3545\n",
            "Epoch 54/500\n",
            "2/2 [==============================] - 0s 10ms/step - loss: 23.5502 - mse: 834.5811\n",
            "Epoch 55/500\n",
            "2/2 [==============================] - 0s 10ms/step - loss: 24.4655 - mse: 903.1527\n",
            "Epoch 56/500\n",
            "2/2 [==============================] - 0s 13ms/step - loss: 11.3067 - mse: 171.7173\n",
            "Epoch 57/500\n",
            "2/2 [==============================] - 0s 9ms/step - loss: 13.3105 - mse: 222.7449\n",
            "Epoch 58/500\n",
            "2/2 [==============================] - 0s 9ms/step - loss: 9.9225 - mse: 108.7819\n",
            "Epoch 59/500\n",
            "2/2 [==============================] - 0s 13ms/step - loss: 13.8464 - mse: 271.9546\n",
            "Epoch 60/500\n",
            "2/2 [==============================] - 0s 9ms/step - loss: 9.9651 - mse: 118.6682\n",
            "Epoch 61/500\n",
            "2/2 [==============================] - 0s 9ms/step - loss: 14.9013 - mse: 304.6668\n",
            "Epoch 62/500\n",
            "2/2 [==============================] - 0s 9ms/step - loss: 11.8844 - mse: 193.9189\n",
            "Epoch 63/500\n",
            "2/2 [==============================] - 0s 10ms/step - loss: 10.2664 - mse: 132.9051\n",
            "Epoch 64/500\n",
            "2/2 [==============================] - 0s 11ms/step - loss: 23.7601 - mse: 829.2402\n",
            "Epoch 65/500\n",
            "2/2 [==============================] - 0s 9ms/step - loss: 10.4417 - mse: 128.8228\n",
            "Epoch 66/500\n",
            "2/2 [==============================] - 0s 9ms/step - loss: 20.8209 - mse: 636.7992\n",
            "Epoch 67/500\n",
            "2/2 [==============================] - 0s 10ms/step - loss: 10.4118 - mse: 125.2901\n",
            "Epoch 68/500\n",
            "2/2 [==============================] - 0s 10ms/step - loss: 14.0979 - mse: 299.0528\n",
            "Epoch 69/500\n",
            "2/2 [==============================] - 0s 9ms/step - loss: 10.4747 - mse: 124.7689\n",
            "Epoch 70/500\n",
            "2/2 [==============================] - 0s 9ms/step - loss: 12.5408 - mse: 199.3030\n",
            "Epoch 71/500\n",
            "2/2 [==============================] - 0s 9ms/step - loss: 12.9703 - mse: 223.5035\n",
            "Epoch 72/500\n",
            "2/2 [==============================] - 0s 9ms/step - loss: 19.2489 - mse: 525.5891\n",
            "Epoch 73/500\n",
            "2/2 [==============================] - 0s 11ms/step - loss: 11.1047 - mse: 194.2360\n",
            "Epoch 74/500\n",
            "2/2 [==============================] - 0s 11ms/step - loss: 21.3210 - mse: 708.9077\n",
            "Epoch 75/500\n",
            "2/2 [==============================] - 0s 8ms/step - loss: 9.4275 - mse: 152.3281\n",
            "Epoch 76/500\n",
            "2/2 [==============================] - 0s 9ms/step - loss: 12.2440 - mse: 181.6405\n",
            "Epoch 77/500\n",
            "2/2 [==============================] - 0s 9ms/step - loss: 16.2289 - mse: 405.0701\n",
            "Epoch 78/500\n",
            "2/2 [==============================] - 0s 8ms/step - loss: 8.9989 - mse: 91.2271\n",
            "Epoch 79/500\n",
            "2/2 [==============================] - 0s 10ms/step - loss: 23.4538 - mse: 822.8065\n",
            "Epoch 80/500\n",
            "2/2 [==============================] - 0s 8ms/step - loss: 26.1270 - mse: 1048.9143\n",
            "Epoch 81/500\n",
            "2/2 [==============================] - 0s 7ms/step - loss: 11.3814 - mse: 158.4019\n",
            "Epoch 82/500\n",
            "2/2 [==============================] - 0s 8ms/step - loss: 12.4811 - mse: 227.2467\n",
            "Epoch 83/500\n",
            "2/2 [==============================] - 0s 11ms/step - loss: 17.1610 - mse: 383.1909\n",
            "Epoch 84/500\n",
            "2/2 [==============================] - 0s 7ms/step - loss: 6.5719 - mse: 64.0333\n",
            "Epoch 85/500\n",
            "2/2 [==============================] - 0s 7ms/step - loss: 20.3326 - mse: 578.2431\n",
            "Epoch 86/500\n",
            "2/2 [==============================] - 0s 8ms/step - loss: 10.1585 - mse: 115.9402\n",
            "Epoch 87/500\n",
            "2/2 [==============================] - 0s 7ms/step - loss: 24.3912 - mse: 832.6022\n",
            "Epoch 88/500\n",
            "2/2 [==============================] - 0s 7ms/step - loss: 19.0557 - mse: 515.5463\n",
            "Epoch 89/500\n",
            "2/2 [==============================] - 0s 7ms/step - loss: 7.1489 - mse: 69.7702\n",
            "Epoch 90/500\n",
            "2/2 [==============================] - 0s 7ms/step - loss: 18.2297 - mse: 492.9725\n",
            "Epoch 91/500\n",
            "2/2 [==============================] - 0s 7ms/step - loss: 13.2775 - mse: 254.9789\n",
            "Epoch 92/500\n",
            "2/2 [==============================] - 0s 7ms/step - loss: 14.8168 - mse: 309.5656\n",
            "Epoch 93/500\n",
            "2/2 [==============================] - 0s 8ms/step - loss: 11.6154 - mse: 250.7594\n",
            "Epoch 94/500\n",
            "2/2 [==============================] - 0s 7ms/step - loss: 16.1710 - mse: 369.3914\n",
            "Epoch 95/500\n",
            "2/2 [==============================] - 0s 7ms/step - loss: 15.5118 - mse: 320.4021\n",
            "Epoch 96/500\n",
            "2/2 [==============================] - 0s 7ms/step - loss: 15.0400 - mse: 322.6933\n",
            "Epoch 97/500\n",
            "2/2 [==============================] - 0s 7ms/step - loss: 10.8703 - mse: 188.0771\n",
            "Epoch 98/500\n",
            "2/2 [==============================] - 0s 11ms/step - loss: 14.3281 - mse: 285.1726\n",
            "Epoch 99/500\n",
            "2/2 [==============================] - 0s 7ms/step - loss: 13.3550 - mse: 250.9235\n",
            "Epoch 100/500\n",
            "2/2 [==============================] - 0s 8ms/step - loss: 19.9504 - mse: 582.1855\n",
            "Epoch 101/500\n",
            "2/2 [==============================] - 0s 7ms/step - loss: 22.6185 - mse: 778.5052\n",
            "Epoch 102/500\n",
            "2/2 [==============================] - 0s 7ms/step - loss: 11.3043 - mse: 165.7667\n",
            "Epoch 103/500\n",
            "2/2 [==============================] - 0s 7ms/step - loss: 9.3612 - mse: 96.4979\n",
            "Epoch 104/500\n",
            "2/2 [==============================] - 0s 8ms/step - loss: 25.2704 - mse: 961.7367\n",
            "Epoch 105/500\n",
            "2/2 [==============================] - 0s 8ms/step - loss: 12.4697 - mse: 234.4482\n",
            "Epoch 106/500\n",
            "2/2 [==============================] - 0s 8ms/step - loss: 9.4024 - mse: 105.9973\n",
            "Epoch 107/500\n",
            "2/2 [==============================] - 0s 10ms/step - loss: 23.3020 - mse: 818.9253\n",
            "Epoch 108/500\n",
            "2/2 [==============================] - 0s 8ms/step - loss: 8.2855 - mse: 87.9517\n",
            "Epoch 109/500\n",
            "2/2 [==============================] - 0s 8ms/step - loss: 14.0950 - mse: 281.8135\n",
            "Epoch 110/500\n",
            "2/2 [==============================] - 0s 8ms/step - loss: 10.6009 - mse: 205.7739\n",
            "Epoch 111/500\n",
            "2/2 [==============================] - 0s 7ms/step - loss: 16.9049 - mse: 406.8312\n",
            "Epoch 112/500\n",
            "2/2 [==============================] - 0s 8ms/step - loss: 8.2739 - mse: 96.1086\n",
            "Epoch 113/500\n",
            "2/2 [==============================] - 0s 8ms/step - loss: 19.7710 - mse: 564.8823\n",
            "Epoch 114/500\n",
            "2/2 [==============================] - 0s 11ms/step - loss: 17.4675 - mse: 457.5609\n",
            "Epoch 115/500\n",
            "2/2 [==============================] - 0s 8ms/step - loss: 11.2479 - mse: 160.8835\n",
            "Epoch 116/500\n",
            "2/2 [==============================] - 0s 7ms/step - loss: 23.6696 - mse: 818.1342\n",
            "Epoch 117/500\n",
            "2/2 [==============================] - 0s 7ms/step - loss: 9.7559 - mse: 126.6647\n",
            "Epoch 118/500\n",
            "2/2 [==============================] - 0s 7ms/step - loss: 10.8442 - mse: 144.3724\n",
            "Epoch 119/500\n",
            "2/2 [==============================] - 0s 9ms/step - loss: 8.0870 - mse: 81.2764\n",
            "Epoch 120/500\n",
            "2/2 [==============================] - 0s 8ms/step - loss: 30.0631 - mse: 1352.3105\n",
            "Epoch 121/500\n",
            "2/2 [==============================] - 0s 8ms/step - loss: 8.1164 - mse: 71.8842\n",
            "Epoch 122/500\n",
            "2/2 [==============================] - 0s 7ms/step - loss: 28.6031 - mse: 1264.3848\n",
            "Epoch 123/500\n",
            "2/2 [==============================] - 0s 7ms/step - loss: 33.2630 - mse: 1630.8733\n",
            "Epoch 124/500\n",
            "2/2 [==============================] - 0s 7ms/step - loss: 19.9104 - mse: 588.7119\n",
            "Epoch 125/500\n",
            "2/2 [==============================] - 0s 7ms/step - loss: 7.6908 - mse: 93.3372\n",
            "Epoch 126/500\n",
            "2/2 [==============================] - 0s 7ms/step - loss: 17.1643 - mse: 404.8548\n",
            "Epoch 127/500\n",
            "2/2 [==============================] - 0s 8ms/step - loss: 7.5242 - mse: 68.0222\n",
            "Epoch 128/500\n",
            "2/2 [==============================] - 0s 7ms/step - loss: 18.1528 - mse: 475.7430\n",
            "Epoch 129/500\n",
            "2/2 [==============================] - 0s 7ms/step - loss: 8.7938 - mse: 100.7571\n",
            "Epoch 130/500\n",
            "2/2 [==============================] - 0s 7ms/step - loss: 22.5608 - mse: 716.3584\n",
            "Epoch 131/500\n",
            "2/2 [==============================] - 0s 7ms/step - loss: 10.2558 - mse: 147.9823\n",
            "Epoch 132/500\n",
            "2/2 [==============================] - 0s 7ms/step - loss: 15.0272 - mse: 339.2052\n",
            "Epoch 133/500\n",
            "2/2 [==============================] - 0s 7ms/step - loss: 7.1032 - mse: 66.1370\n",
            "Epoch 134/500\n",
            "2/2 [==============================] - 0s 7ms/step - loss: 23.8757 - mse: 814.4352\n",
            "Epoch 135/500\n",
            "2/2 [==============================] - 0s 8ms/step - loss: 16.5942 - mse: 386.3202\n",
            "Epoch 136/500\n",
            "2/2 [==============================] - 0s 11ms/step - loss: 14.8207 - mse: 307.4033\n",
            "Epoch 137/500\n",
            "2/2 [==============================] - 0s 8ms/step - loss: 23.0543 - mse: 716.8237\n",
            "Epoch 138/500\n",
            "2/2 [==============================] - 0s 8ms/step - loss: 9.1036 - mse: 140.0640\n",
            "Epoch 139/500\n",
            "2/2 [==============================] - 0s 8ms/step - loss: 8.9014 - mse: 145.6987\n",
            "Epoch 140/500\n",
            "2/2 [==============================] - 0s 9ms/step - loss: 16.3869 - mse: 385.4026\n",
            "Epoch 141/500\n",
            "2/2 [==============================] - 0s 8ms/step - loss: 8.4292 - mse: 90.6022\n",
            "Epoch 142/500\n",
            "2/2 [==============================] - 0s 8ms/step - loss: 36.7665 - mse: 2378.4736\n",
            "Epoch 143/500\n",
            "2/2 [==============================] - 0s 8ms/step - loss: 25.4381 - mse: 915.9414\n",
            "Epoch 144/500\n",
            "2/2 [==============================] - 0s 7ms/step - loss: 9.5558 - mse: 143.5406\n",
            "Epoch 145/500\n",
            "2/2 [==============================] - 0s 8ms/step - loss: 26.6516 - mse: 960.2615\n",
            "Epoch 146/500\n",
            "2/2 [==============================] - 0s 7ms/step - loss: 8.6739 - mse: 108.8780\n",
            "Epoch 147/500\n",
            "2/2 [==============================] - 0s 7ms/step - loss: 15.6649 - mse: 312.1654\n",
            "Epoch 148/500\n",
            "2/2 [==============================] - 0s 7ms/step - loss: 18.3675 - mse: 467.9800\n",
            "Epoch 149/500\n",
            "2/2 [==============================] - 0s 7ms/step - loss: 8.1628 - mse: 107.1725\n",
            "Epoch 150/500\n",
            "2/2 [==============================] - 0s 8ms/step - loss: 7.4910 - mse: 66.9832\n",
            "Epoch 151/500\n",
            "2/2 [==============================] - 0s 8ms/step - loss: 18.2095 - mse: 478.7335\n",
            "Epoch 152/500\n",
            "2/2 [==============================] - 0s 7ms/step - loss: 10.2686 - mse: 129.5930\n",
            "Epoch 153/500\n",
            "2/2 [==============================] - 0s 7ms/step - loss: 29.4355 - mse: 1248.7932\n",
            "Epoch 154/500\n",
            "2/2 [==============================] - 0s 7ms/step - loss: 10.6027 - mse: 200.5121\n",
            "Epoch 155/500\n",
            "2/2 [==============================] - 0s 8ms/step - loss: 15.4964 - mse: 349.9681\n",
            "Epoch 156/500\n",
            "2/2 [==============================] - 0s 7ms/step - loss: 17.1071 - mse: 442.2020\n",
            "Epoch 157/500\n",
            "2/2 [==============================] - 0s 8ms/step - loss: 32.5900 - mse: 1718.4652\n",
            "Epoch 158/500\n",
            "2/2 [==============================] - 0s 8ms/step - loss: 10.6492 - mse: 149.3733\n",
            "Epoch 159/500\n",
            "2/2 [==============================] - 0s 8ms/step - loss: 8.8862 - mse: 97.7557\n",
            "Epoch 160/500\n",
            "2/2 [==============================] - 0s 7ms/step - loss: 21.9620 - mse: 697.6775\n",
            "Epoch 161/500\n",
            "2/2 [==============================] - 0s 8ms/step - loss: 11.1166 - mse: 177.6548\n",
            "Epoch 162/500\n",
            "2/2 [==============================] - 0s 7ms/step - loss: 21.4920 - mse: 664.9249\n",
            "Epoch 163/500\n",
            "2/2 [==============================] - 0s 8ms/step - loss: 19.1729 - mse: 529.1727\n",
            "Epoch 164/500\n",
            "2/2 [==============================] - 0s 7ms/step - loss: 10.9744 - mse: 175.8833\n",
            "Epoch 165/500\n",
            "2/2 [==============================] - 0s 7ms/step - loss: 9.6377 - mse: 179.0887\n",
            "Epoch 166/500\n",
            "2/2 [==============================] - 0s 8ms/step - loss: 21.6368 - mse: 684.3278\n",
            "Epoch 167/500\n",
            "2/2 [==============================] - 0s 7ms/step - loss: 26.1752 - mse: 1039.6415\n",
            "Epoch 168/500\n",
            "2/2 [==============================] - 0s 7ms/step - loss: 9.8418 - mse: 118.1868\n",
            "Epoch 169/500\n",
            "2/2 [==============================] - 0s 7ms/step - loss: 22.4483 - mse: 779.0018\n",
            "Epoch 170/500\n",
            "2/2 [==============================] - 0s 7ms/step - loss: 10.1739 - mse: 195.3087\n",
            "Epoch 171/500\n",
            "2/2 [==============================] - 0s 13ms/step - loss: 18.0979 - mse: 505.7211\n",
            "Epoch 172/500\n",
            "2/2 [==============================] - 0s 8ms/step - loss: 28.7148 - mse: 1293.7323\n",
            "Epoch 173/500\n",
            "2/2 [==============================] - 0s 9ms/step - loss: 16.4341 - mse: 427.8248\n",
            "Epoch 174/500\n",
            "2/2 [==============================] - 0s 14ms/step - loss: 11.7326 - mse: 226.4460\n",
            "Epoch 175/500\n",
            "2/2 [==============================] - 0s 19ms/step - loss: 27.1682 - mse: 1068.1503\n",
            "Epoch 176/500\n",
            "2/2 [==============================] - 0s 12ms/step - loss: 8.7575 - mse: 89.5750\n",
            "Epoch 177/500\n",
            "2/2 [==============================] - 0s 10ms/step - loss: 8.7734 - mse: 104.8164\n",
            "Epoch 178/500\n",
            "2/2 [==============================] - 0s 15ms/step - loss: 16.2161 - mse: 378.3946\n",
            "Epoch 179/500\n",
            "2/2 [==============================] - 0s 9ms/step - loss: 10.3925 - mse: 143.2421\n",
            "Epoch 180/500\n",
            "2/2 [==============================] - 0s 11ms/step - loss: 7.9927 - mse: 98.0241\n",
            "Epoch 181/500\n",
            "2/2 [==============================] - 0s 8ms/step - loss: 17.7917 - mse: 457.5463\n",
            "Epoch 182/500\n",
            "2/2 [==============================] - 0s 14ms/step - loss: 11.1988 - mse: 162.4105\n",
            "Epoch 183/500\n",
            "2/2 [==============================] - 0s 15ms/step - loss: 12.4109 - mse: 232.5857\n",
            "Epoch 184/500\n",
            "2/2 [==============================] - 0s 13ms/step - loss: 27.4145 - mse: 1116.0952\n",
            "Epoch 185/500\n",
            "2/2 [==============================] - 0s 15ms/step - loss: 7.5542 - mse: 99.6754\n",
            "Epoch 186/500\n",
            "2/2 [==============================] - 0s 11ms/step - loss: 15.9299 - mse: 366.5618\n",
            "Epoch 187/500\n",
            "2/2 [==============================] - 0s 12ms/step - loss: 8.5935 - mse: 85.6585\n",
            "Epoch 188/500\n",
            "2/2 [==============================] - 0s 9ms/step - loss: 28.9276 - mse: 1192.7371\n",
            "Epoch 189/500\n",
            "2/2 [==============================] - 0s 17ms/step - loss: 13.1345 - mse: 272.0760\n",
            "Epoch 190/500\n",
            "2/2 [==============================] - 0s 15ms/step - loss: 18.2725 - mse: 509.5668\n",
            "Epoch 191/500\n",
            "2/2 [==============================] - 0s 19ms/step - loss: 13.6935 - mse: 263.3290\n",
            "Epoch 192/500\n",
            "2/2 [==============================] - 0s 18ms/step - loss: 13.6988 - mse: 261.7291\n",
            "Epoch 193/500\n",
            "2/2 [==============================] - 0s 20ms/step - loss: 28.5460 - mse: 1132.2035\n",
            "Epoch 194/500\n",
            "2/2 [==============================] - 0s 18ms/step - loss: 7.1266 - mse: 78.6640\n",
            "Epoch 195/500\n",
            "2/2 [==============================] - 0s 14ms/step - loss: 7.0653 - mse: 75.4598\n",
            "Epoch 196/500\n",
            "2/2 [==============================] - 0s 16ms/step - loss: 21.9564 - mse: 706.4682\n",
            "Epoch 197/500\n",
            "2/2 [==============================] - 0s 13ms/step - loss: 20.9512 - mse: 650.6352\n",
            "Epoch 198/500\n",
            "2/2 [==============================] - 0s 15ms/step - loss: 12.5380 - mse: 238.6806\n",
            "Epoch 199/500\n",
            "2/2 [==============================] - 0s 16ms/step - loss: 18.0016 - mse: 464.9081\n",
            "Epoch 200/500\n",
            "2/2 [==============================] - 0s 12ms/step - loss: 13.8356 - mse: 285.8597\n",
            "Epoch 201/500\n",
            "2/2 [==============================] - 0s 16ms/step - loss: 6.0451 - mse: 51.3527\n",
            "Epoch 202/500\n",
            "2/2 [==============================] - 0s 16ms/step - loss: 22.8428 - mse: 744.1766\n",
            "Epoch 203/500\n",
            "2/2 [==============================] - 0s 22ms/step - loss: 8.9580 - mse: 153.6300\n",
            "Epoch 204/500\n",
            "2/2 [==============================] - 0s 13ms/step - loss: 18.8203 - mse: 531.2207\n",
            "Epoch 205/500\n",
            "2/2 [==============================] - 0s 15ms/step - loss: 9.3605 - mse: 127.2549\n",
            "Epoch 206/500\n",
            "2/2 [==============================] - 0s 17ms/step - loss: 10.4288 - mse: 143.3086\n",
            "Epoch 207/500\n",
            "2/2 [==============================] - 0s 15ms/step - loss: 21.0919 - mse: 676.2418\n",
            "Epoch 208/500\n",
            "2/2 [==============================] - 0s 27ms/step - loss: 16.4649 - mse: 390.2418\n",
            "Epoch 209/500\n",
            "2/2 [==============================] - 0s 21ms/step - loss: 14.3636 - mse: 318.1630\n",
            "Epoch 210/500\n",
            "2/2 [==============================] - 0s 10ms/step - loss: 19.3709 - mse: 546.7687\n",
            "Epoch 211/500\n",
            "2/2 [==============================] - 0s 13ms/step - loss: 10.3108 - mse: 146.8978\n",
            "Epoch 212/500\n",
            "2/2 [==============================] - 0s 13ms/step - loss: 20.1491 - mse: 609.2557\n",
            "Epoch 213/500\n",
            "2/2 [==============================] - 0s 17ms/step - loss: 15.0740 - mse: 308.7466\n",
            "Epoch 214/500\n",
            "2/2 [==============================] - 0s 16ms/step - loss: 14.6124 - mse: 294.7511\n",
            "Epoch 215/500\n",
            "2/2 [==============================] - 0s 13ms/step - loss: 23.3414 - mse: 801.6705\n",
            "Epoch 216/500\n",
            "2/2 [==============================] - 0s 13ms/step - loss: 13.3021 - mse: 276.1044\n",
            "Epoch 217/500\n",
            "2/2 [==============================] - 0s 17ms/step - loss: 9.8230 - mse: 134.8595\n",
            "Epoch 218/500\n",
            "2/2 [==============================] - 0s 18ms/step - loss: 12.6010 - mse: 208.1144\n",
            "Epoch 219/500\n",
            "2/2 [==============================] - 0s 11ms/step - loss: 5.3498 - mse: 39.5488\n",
            "Epoch 220/500\n",
            "2/2 [==============================] - 0s 11ms/step - loss: 14.7011 - mse: 284.1194\n",
            "Epoch 221/500\n",
            "2/2 [==============================] - 0s 19ms/step - loss: 33.5423 - mse: 1537.1146\n",
            "Epoch 222/500\n",
            "2/2 [==============================] - 0s 15ms/step - loss: 13.8974 - mse: 238.0999\n",
            "Epoch 223/500\n",
            "2/2 [==============================] - 0s 14ms/step - loss: 10.9962 - mse: 179.7670\n",
            "Epoch 224/500\n",
            "2/2 [==============================] - 0s 11ms/step - loss: 14.9520 - mse: 334.0855\n",
            "Epoch 225/500\n",
            "2/2 [==============================] - 0s 12ms/step - loss: 17.0005 - mse: 374.8614\n",
            "Epoch 226/500\n",
            "2/2 [==============================] - 0s 14ms/step - loss: 16.1890 - mse: 385.8114\n",
            "Epoch 227/500\n",
            "2/2 [==============================] - 0s 11ms/step - loss: 16.5076 - mse: 385.6297\n",
            "Epoch 228/500\n",
            "2/2 [==============================] - 0s 12ms/step - loss: 9.9469 - mse: 185.2710\n",
            "Epoch 229/500\n",
            "2/2 [==============================] - 0s 17ms/step - loss: 17.8455 - mse: 444.0762\n",
            "Epoch 230/500\n",
            "2/2 [==============================] - 0s 10ms/step - loss: 15.4664 - mse: 310.8651\n",
            "Epoch 231/500\n",
            "2/2 [==============================] - 0s 10ms/step - loss: 20.8941 - mse: 655.2173\n",
            "Epoch 232/500\n",
            "2/2 [==============================] - 0s 10ms/step - loss: 20.3959 - mse: 591.6084\n",
            "Epoch 233/500\n",
            "2/2 [==============================] - 0s 10ms/step - loss: 15.0608 - mse: 337.9993\n",
            "Epoch 234/500\n",
            "2/2 [==============================] - 0s 11ms/step - loss: 6.9680 - mse: 66.1560\n",
            "Epoch 235/500\n",
            "2/2 [==============================] - 0s 11ms/step - loss: 15.7110 - mse: 346.9688\n",
            "Epoch 236/500\n",
            "2/2 [==============================] - 0s 20ms/step - loss: 6.6866 - mse: 71.4272\n",
            "Epoch 237/500\n",
            "2/2 [==============================] - 0s 17ms/step - loss: 8.5957 - mse: 114.2055\n",
            "Epoch 238/500\n",
            "2/2 [==============================] - 0s 12ms/step - loss: 7.7651 - mse: 88.1507\n",
            "Epoch 239/500\n",
            "2/2 [==============================] - 0s 11ms/step - loss: 15.6252 - mse: 371.9462\n",
            "Epoch 240/500\n",
            "2/2 [==============================] - 0s 9ms/step - loss: 9.0006 - mse: 109.1331\n",
            "Epoch 241/500\n",
            "2/2 [==============================] - 0s 10ms/step - loss: 13.4027 - mse: 279.1652\n",
            "Epoch 242/500\n",
            "2/2 [==============================] - 0s 21ms/step - loss: 8.8934 - mse: 107.4203\n",
            "Epoch 243/500\n",
            "2/2 [==============================] - 0s 15ms/step - loss: 19.2613 - mse: 566.6203\n",
            "Epoch 244/500\n",
            "2/2 [==============================] - 0s 11ms/step - loss: 13.9018 - mse: 271.8768\n",
            "Epoch 245/500\n",
            "2/2 [==============================] - 0s 18ms/step - loss: 14.5489 - mse: 283.6613\n",
            "Epoch 246/500\n",
            "2/2 [==============================] - 0s 16ms/step - loss: 15.6882 - mse: 362.5838\n",
            "Epoch 247/500\n",
            "2/2 [==============================] - 0s 16ms/step - loss: 17.5267 - mse: 412.5182\n",
            "Epoch 248/500\n",
            "2/2 [==============================] - 0s 15ms/step - loss: 13.0929 - mse: 250.0173\n",
            "Epoch 249/500\n",
            "2/2 [==============================] - 0s 20ms/step - loss: 14.4299 - mse: 284.5313\n",
            "Epoch 250/500\n",
            "2/2 [==============================] - 0s 13ms/step - loss: 27.8305 - mse: 1101.9924\n",
            "Epoch 251/500\n",
            "2/2 [==============================] - 0s 14ms/step - loss: 7.5102 - mse: 69.5594\n",
            "Epoch 252/500\n",
            "2/2 [==============================] - 0s 10ms/step - loss: 38.1456 - mse: 2403.7075\n",
            "Epoch 253/500\n",
            "2/2 [==============================] - 0s 8ms/step - loss: 22.9535 - mse: 740.8926\n",
            "Epoch 254/500\n",
            "2/2 [==============================] - 0s 7ms/step - loss: 7.4499 - mse: 73.2664\n",
            "Epoch 255/500\n",
            "2/2 [==============================] - 0s 7ms/step - loss: 25.8416 - mse: 977.0921\n",
            "Epoch 256/500\n",
            "2/2 [==============================] - 0s 7ms/step - loss: 13.7516 - mse: 276.1827\n",
            "Epoch 257/500\n",
            "2/2 [==============================] - 0s 7ms/step - loss: 8.3568 - mse: 111.1095\n",
            "Epoch 258/500\n",
            "2/2 [==============================] - 0s 6ms/step - loss: 13.2462 - mse: 274.4609\n",
            "Epoch 259/500\n",
            "2/2 [==============================] - 0s 8ms/step - loss: 10.2554 - mse: 151.0186\n",
            "Epoch 260/500\n",
            "2/2 [==============================] - 0s 7ms/step - loss: 33.6921 - mse: 1750.2620\n",
            "Epoch 261/500\n",
            "2/2 [==============================] - 0s 10ms/step - loss: 12.4476 - mse: 224.5339\n",
            "Epoch 262/500\n",
            "2/2 [==============================] - 0s 8ms/step - loss: 8.9268 - mse: 124.1381\n",
            "Epoch 263/500\n",
            "2/2 [==============================] - 0s 8ms/step - loss: 8.2817 - mse: 98.8381\n",
            "Epoch 264/500\n",
            "2/2 [==============================] - 0s 8ms/step - loss: 18.8395 - mse: 495.5747\n",
            "Epoch 265/500\n",
            "2/2 [==============================] - 0s 9ms/step - loss: 11.7116 - mse: 201.2385\n",
            "Epoch 266/500\n",
            "2/2 [==============================] - 0s 7ms/step - loss: 13.5833 - mse: 261.7226\n",
            "Epoch 267/500\n",
            "2/2 [==============================] - 0s 7ms/step - loss: 11.2292 - mse: 225.8657\n",
            "Epoch 268/500\n",
            "2/2 [==============================] - 0s 7ms/step - loss: 19.5298 - mse: 566.6035\n",
            "Epoch 269/500\n",
            "2/2 [==============================] - 0s 7ms/step - loss: 39.5611 - mse: 2416.1870\n",
            "Epoch 270/500\n",
            "2/2 [==============================] - 0s 7ms/step - loss: 12.1395 - mse: 227.0516\n",
            "Epoch 271/500\n",
            "2/2 [==============================] - 0s 10ms/step - loss: 14.1173 - mse: 267.7671\n",
            "Epoch 272/500\n",
            "2/2 [==============================] - 0s 7ms/step - loss: 27.9652 - mse: 1074.8464\n",
            "Epoch 273/500\n",
            "2/2 [==============================] - 0s 9ms/step - loss: 8.0001 - mse: 87.0056\n",
            "Epoch 274/500\n",
            "2/2 [==============================] - 0s 7ms/step - loss: 6.4188 - mse: 46.4075\n",
            "Epoch 275/500\n",
            "2/2 [==============================] - 0s 7ms/step - loss: 33.9910 - mse: 1744.2227\n",
            "Epoch 276/500\n",
            "2/2 [==============================] - 0s 7ms/step - loss: 7.9521 - mse: 122.9757\n",
            "Epoch 277/500\n",
            "2/2 [==============================] - 0s 7ms/step - loss: 25.3177 - mse: 865.2781\n",
            "Epoch 278/500\n",
            "2/2 [==============================] - 0s 11ms/step - loss: 11.4998 - mse: 222.4476\n",
            "Epoch 279/500\n",
            "2/2 [==============================] - 0s 8ms/step - loss: 16.2421 - mse: 401.4769\n",
            "Epoch 280/500\n",
            "2/2 [==============================] - 0s 7ms/step - loss: 21.5333 - mse: 696.9905\n",
            "Epoch 281/500\n",
            "2/2 [==============================] - 0s 7ms/step - loss: 23.0885 - mse: 812.1129\n",
            "Epoch 282/500\n",
            "2/2 [==============================] - 0s 7ms/step - loss: 8.0333 - mse: 93.2045\n",
            "Epoch 283/500\n",
            "2/2 [==============================] - 0s 7ms/step - loss: 8.3094 - mse: 93.2700\n",
            "Epoch 284/500\n",
            "2/2 [==============================] - 0s 8ms/step - loss: 25.8524 - mse: 1012.3947\n",
            "Epoch 285/500\n",
            "2/2 [==============================] - 0s 7ms/step - loss: 14.3933 - mse: 328.9034\n",
            "Epoch 286/500\n",
            "2/2 [==============================] - 0s 7ms/step - loss: 4.5295 - mse: 29.5639\n",
            "Epoch 287/500\n",
            "2/2 [==============================] - 0s 8ms/step - loss: 12.9650 - mse: 241.7478\n",
            "Epoch 288/500\n",
            "2/2 [==============================] - 0s 6ms/step - loss: 24.7339 - mse: 883.9866\n",
            "Epoch 289/500\n",
            "2/2 [==============================] - 0s 7ms/step - loss: 9.6980 - mse: 141.9203\n",
            "Epoch 290/500\n",
            "2/2 [==============================] - 0s 7ms/step - loss: 11.7901 - mse: 220.8892\n",
            "Epoch 291/500\n",
            "2/2 [==============================] - 0s 7ms/step - loss: 10.1071 - mse: 182.0512\n",
            "Epoch 292/500\n",
            "2/2 [==============================] - 0s 7ms/step - loss: 16.7160 - mse: 355.2962\n",
            "Epoch 293/500\n",
            "2/2 [==============================] - 0s 8ms/step - loss: 17.5382 - mse: 486.3093\n",
            "Epoch 294/500\n",
            "2/2 [==============================] - 0s 7ms/step - loss: 30.0493 - mse: 1442.7314\n",
            "Epoch 295/500\n",
            "2/2 [==============================] - 0s 7ms/step - loss: 8.0485 - mse: 84.7771\n",
            "Epoch 296/500\n",
            "2/2 [==============================] - 0s 8ms/step - loss: 16.2626 - mse: 384.9467\n",
            "Epoch 297/500\n",
            "2/2 [==============================] - 0s 8ms/step - loss: 14.4756 - mse: 290.6978\n",
            "Epoch 298/500\n",
            "2/2 [==============================] - 0s 7ms/step - loss: 26.9969 - mse: 1029.5829\n",
            "Epoch 299/500\n",
            "2/2 [==============================] - 0s 7ms/step - loss: 11.0727 - mse: 202.3912\n",
            "Epoch 300/500\n",
            "2/2 [==============================] - 0s 7ms/step - loss: 7.6784 - mse: 83.5842\n",
            "Epoch 301/500\n",
            "2/2 [==============================] - 0s 7ms/step - loss: 21.9889 - mse: 671.0966\n",
            "Epoch 302/500\n",
            "2/2 [==============================] - 0s 7ms/step - loss: 7.5591 - mse: 77.1721\n",
            "Epoch 303/500\n",
            "2/2 [==============================] - 0s 7ms/step - loss: 18.6094 - mse: 506.3598\n",
            "Epoch 304/500\n",
            "2/2 [==============================] - 0s 7ms/step - loss: 12.3861 - mse: 233.7447\n",
            "Epoch 305/500\n",
            "2/2 [==============================] - 0s 7ms/step - loss: 7.5741 - mse: 84.8960\n",
            "Epoch 306/500\n",
            "2/2 [==============================] - 0s 8ms/step - loss: 21.7913 - mse: 668.3617\n",
            "Epoch 307/500\n",
            "2/2 [==============================] - 0s 8ms/step - loss: 8.2713 - mse: 145.7789\n",
            "Epoch 308/500\n",
            "2/2 [==============================] - 0s 7ms/step - loss: 20.9147 - mse: 670.1227\n",
            "Epoch 309/500\n",
            "2/2 [==============================] - 0s 8ms/step - loss: 19.2950 - mse: 533.5851\n",
            "Epoch 310/500\n",
            "2/2 [==============================] - 0s 7ms/step - loss: 6.0369 - mse: 74.7491\n",
            "Epoch 311/500\n",
            "2/2 [==============================] - 0s 7ms/step - loss: 7.8896 - mse: 115.9084\n",
            "Epoch 312/500\n",
            "2/2 [==============================] - 0s 7ms/step - loss: 30.5525 - mse: 1287.6342\n",
            "Epoch 313/500\n",
            "2/2 [==============================] - 0s 7ms/step - loss: 5.2080 - mse: 46.4605\n",
            "Epoch 314/500\n",
            "2/2 [==============================] - 0s 12ms/step - loss: 12.7491 - mse: 270.0795\n",
            "Epoch 315/500\n",
            "2/2 [==============================] - 0s 8ms/step - loss: 13.1047 - mse: 275.3332\n",
            "Epoch 316/500\n",
            "2/2 [==============================] - 0s 7ms/step - loss: 4.7926 - mse: 29.0054\n",
            "Epoch 317/500\n",
            "2/2 [==============================] - 0s 7ms/step - loss: 27.6996 - mse: 1043.2551\n",
            "Epoch 318/500\n",
            "2/2 [==============================] - 0s 7ms/step - loss: 11.4376 - mse: 193.3073\n",
            "Epoch 319/500\n",
            "2/2 [==============================] - 0s 8ms/step - loss: 7.3218 - mse: 124.5578\n",
            "Epoch 320/500\n",
            "2/2 [==============================] - 0s 7ms/step - loss: 16.3244 - mse: 402.5321\n",
            "Epoch 321/500\n",
            "2/2 [==============================] - 0s 7ms/step - loss: 5.9100 - mse: 79.6618\n",
            "Epoch 322/500\n",
            "2/2 [==============================] - 0s 7ms/step - loss: 13.6751 - mse: 260.6354\n",
            "Epoch 323/500\n",
            "2/2 [==============================] - 0s 7ms/step - loss: 17.9670 - mse: 490.8738\n",
            "Epoch 324/500\n",
            "2/2 [==============================] - 0s 7ms/step - loss: 16.0545 - mse: 345.1812\n",
            "Epoch 325/500\n",
            "2/2 [==============================] - 0s 9ms/step - loss: 17.8187 - mse: 503.7240\n",
            "Epoch 326/500\n",
            "2/2 [==============================] - 0s 12ms/step - loss: 23.4358 - mse: 829.5557\n",
            "Epoch 327/500\n",
            "2/2 [==============================] - 0s 7ms/step - loss: 9.5817 - mse: 143.0561\n",
            "Epoch 328/500\n",
            "2/2 [==============================] - 0s 11ms/step - loss: 10.2820 - mse: 211.1097\n",
            "Epoch 329/500\n",
            "2/2 [==============================] - 0s 12ms/step - loss: 15.9622 - mse: 382.5753\n",
            "Epoch 330/500\n",
            "2/2 [==============================] - 0s 11ms/step - loss: 14.3182 - mse: 281.1879\n",
            "Epoch 331/500\n",
            "2/2 [==============================] - 0s 15ms/step - loss: 25.7338 - mse: 947.3037\n",
            "Epoch 332/500\n",
            "2/2 [==============================] - 0s 22ms/step - loss: 17.0738 - mse: 414.8410\n",
            "Epoch 333/500\n",
            "2/2 [==============================] - 0s 15ms/step - loss: 10.6773 - mse: 185.2072\n",
            "Epoch 334/500\n",
            "2/2 [==============================] - 0s 13ms/step - loss: 7.0460 - mse: 133.1260\n",
            "Epoch 335/500\n",
            "2/2 [==============================] - 0s 8ms/step - loss: 13.0161 - mse: 276.7151\n",
            "Epoch 336/500\n",
            "2/2 [==============================] - 0s 13ms/step - loss: 32.3670 - mse: 1428.7405\n",
            "Epoch 337/500\n",
            "2/2 [==============================] - 0s 11ms/step - loss: 10.6152 - mse: 177.9036\n",
            "Epoch 338/500\n",
            "2/2 [==============================] - 0s 17ms/step - loss: 20.0662 - mse: 591.3467\n",
            "Epoch 339/500\n",
            "2/2 [==============================] - 0s 13ms/step - loss: 34.0055 - mse: 1728.1758\n",
            "Epoch 340/500\n",
            "2/2 [==============================] - 0s 8ms/step - loss: 8.6923 - mse: 106.5977\n",
            "Epoch 341/500\n",
            "2/2 [==============================] - 0s 12ms/step - loss: 21.6716 - mse: 656.5920\n",
            "Epoch 342/500\n",
            "2/2 [==============================] - 0s 12ms/step - loss: 13.9351 - mse: 260.7199\n",
            "Epoch 343/500\n",
            "2/2 [==============================] - 0s 18ms/step - loss: 11.7986 - mse: 183.9117\n",
            "Epoch 344/500\n",
            "2/2 [==============================] - 0s 10ms/step - loss: 10.7267 - mse: 223.8844\n",
            "Epoch 345/500\n",
            "2/2 [==============================] - 0s 11ms/step - loss: 30.9666 - mse: 1348.0959\n",
            "Epoch 346/500\n",
            "2/2 [==============================] - 0s 7ms/step - loss: 10.6890 - mse: 256.1347\n",
            "Epoch 347/500\n",
            "2/2 [==============================] - 0s 13ms/step - loss: 25.6599 - mse: 921.5116\n",
            "Epoch 348/500\n",
            "2/2 [==============================] - 0s 10ms/step - loss: 13.0689 - mse: 266.3141\n",
            "Epoch 349/500\n",
            "2/2 [==============================] - 0s 10ms/step - loss: 13.1277 - mse: 249.7821\n",
            "Epoch 350/500\n",
            "2/2 [==============================] - 0s 14ms/step - loss: 15.4402 - mse: 331.2335\n",
            "Epoch 351/500\n",
            "2/2 [==============================] - 0s 12ms/step - loss: 32.9277 - mse: 1521.5645\n",
            "Epoch 352/500\n",
            "2/2 [==============================] - 0s 13ms/step - loss: 14.1739 - mse: 281.9892\n",
            "Epoch 353/500\n",
            "2/2 [==============================] - 0s 15ms/step - loss: 15.8964 - mse: 371.8235\n",
            "Epoch 354/500\n",
            "2/2 [==============================] - 0s 24ms/step - loss: 19.0339 - mse: 532.0189\n",
            "Epoch 355/500\n",
            "2/2 [==============================] - 0s 11ms/step - loss: 34.2808 - mse: 1802.1029\n",
            "Epoch 356/500\n",
            "2/2 [==============================] - 0s 15ms/step - loss: 7.7569 - mse: 92.4918\n",
            "Epoch 357/500\n",
            "2/2 [==============================] - 0s 16ms/step - loss: 25.3135 - mse: 982.6408\n",
            "Epoch 358/500\n",
            "2/2 [==============================] - 0s 15ms/step - loss: 22.7937 - mse: 750.3065\n",
            "Epoch 359/500\n",
            "2/2 [==============================] - 0s 8ms/step - loss: 8.9135 - mse: 200.6214\n",
            "Epoch 360/500\n",
            "2/2 [==============================] - 0s 12ms/step - loss: 21.4516 - mse: 685.7897\n",
            "Epoch 361/500\n",
            "2/2 [==============================] - 0s 11ms/step - loss: 20.6603 - mse: 620.1252\n",
            "Epoch 362/500\n",
            "2/2 [==============================] - 0s 15ms/step - loss: 7.1329 - mse: 70.0374\n",
            "Epoch 363/500\n",
            "2/2 [==============================] - 0s 17ms/step - loss: 25.8308 - mse: 997.0241\n",
            "Epoch 364/500\n",
            "2/2 [==============================] - 0s 13ms/step - loss: 32.2601 - mse: 1531.3365\n",
            "Epoch 365/500\n",
            "2/2 [==============================] - 0s 8ms/step - loss: 10.0753 - mse: 162.8884\n",
            "Epoch 366/500\n",
            "2/2 [==============================] - 0s 15ms/step - loss: 9.7143 - mse: 228.0337\n",
            "Epoch 367/500\n",
            "2/2 [==============================] - 0s 9ms/step - loss: 30.4252 - mse: 1294.8118\n",
            "Epoch 368/500\n",
            "2/2 [==============================] - 0s 15ms/step - loss: 10.5281 - mse: 236.0407\n",
            "Epoch 369/500\n",
            "2/2 [==============================] - 0s 13ms/step - loss: 15.0190 - mse: 331.8955\n",
            "Epoch 370/500\n",
            "2/2 [==============================] - 0s 13ms/step - loss: 14.6784 - mse: 309.1505\n",
            "Epoch 371/500\n",
            "2/2 [==============================] - 0s 14ms/step - loss: 23.4056 - mse: 790.5741\n",
            "Epoch 372/500\n",
            "2/2 [==============================] - 0s 22ms/step - loss: 13.0599 - mse: 289.3027\n",
            "Epoch 373/500\n",
            "2/2 [==============================] - 0s 14ms/step - loss: 8.9696 - mse: 127.4568\n",
            "Epoch 374/500\n",
            "2/2 [==============================] - 0s 15ms/step - loss: 5.8862 - mse: 69.9566\n",
            "Epoch 375/500\n",
            "2/2 [==============================] - 0s 7ms/step - loss: 14.7704 - mse: 305.1686\n",
            "Epoch 376/500\n",
            "2/2 [==============================] - 0s 9ms/step - loss: 16.5090 - mse: 422.5211\n",
            "Epoch 377/500\n",
            "2/2 [==============================] - 0s 17ms/step - loss: 5.3790 - mse: 47.0985\n",
            "Epoch 378/500\n",
            "2/2 [==============================] - 0s 8ms/step - loss: 19.9699 - mse: 591.0697\n",
            "Epoch 379/500\n",
            "2/2 [==============================] - 0s 14ms/step - loss: 30.8759 - mse: 1378.8445\n",
            "Epoch 380/500\n",
            "2/2 [==============================] - 0s 12ms/step - loss: 26.8873 - mse: 1054.0531\n",
            "Epoch 381/500\n",
            "2/2 [==============================] - 0s 18ms/step - loss: 6.5887 - mse: 92.6400\n",
            "Epoch 382/500\n",
            "2/2 [==============================] - 0s 7ms/step - loss: 7.6220 - mse: 92.4821\n",
            "Epoch 383/500\n",
            "2/2 [==============================] - 0s 16ms/step - loss: 15.5292 - mse: 321.6357\n",
            "Epoch 384/500\n",
            "2/2 [==============================] - 0s 7ms/step - loss: 15.9271 - mse: 380.6042\n",
            "Epoch 385/500\n",
            "2/2 [==============================] - 0s 15ms/step - loss: 11.5749 - mse: 258.5321\n",
            "Epoch 386/500\n",
            "2/2 [==============================] - 0s 12ms/step - loss: 19.8249 - mse: 603.7133\n",
            "Epoch 387/500\n",
            "2/2 [==============================] - 0s 10ms/step - loss: 24.6747 - mse: 883.0231\n",
            "Epoch 388/500\n",
            "2/2 [==============================] - 0s 11ms/step - loss: 8.2969 - mse: 109.8106\n",
            "Epoch 389/500\n",
            "2/2 [==============================] - 0s 15ms/step - loss: 10.8410 - mse: 189.8426\n",
            "Epoch 390/500\n",
            "2/2 [==============================] - 0s 11ms/step - loss: 4.2465 - mse: 26.3704\n",
            "Epoch 391/500\n",
            "2/2 [==============================] - 0s 14ms/step - loss: 13.1766 - mse: 278.0908\n",
            "Epoch 392/500\n",
            "2/2 [==============================] - 0s 13ms/step - loss: 15.8367 - mse: 398.4410\n",
            "Epoch 393/500\n",
            "2/2 [==============================] - 0s 8ms/step - loss: 7.5612 - mse: 161.5506\n",
            "Epoch 394/500\n",
            "2/2 [==============================] - 0s 15ms/step - loss: 14.1174 - mse: 272.3125\n",
            "Epoch 395/500\n",
            "2/2 [==============================] - 0s 14ms/step - loss: 28.4868 - mse: 1126.6255\n",
            "Epoch 396/500\n",
            "2/2 [==============================] - 0s 15ms/step - loss: 8.5561 - mse: 115.7685\n",
            "Epoch 397/500\n",
            "2/2 [==============================] - 0s 14ms/step - loss: 11.2521 - mse: 231.2061\n",
            "Epoch 398/500\n",
            "2/2 [==============================] - 0s 12ms/step - loss: 6.9501 - mse: 79.4610\n",
            "Epoch 399/500\n",
            "2/2 [==============================] - 0s 14ms/step - loss: 14.0507 - mse: 310.9389\n",
            "Epoch 400/500\n",
            "2/2 [==============================] - 0s 18ms/step - loss: 6.7323 - mse: 61.0030\n",
            "Epoch 401/500\n",
            "2/2 [==============================] - 0s 16ms/step - loss: 7.5372 - mse: 96.6831\n",
            "Epoch 402/500\n",
            "2/2 [==============================] - 0s 14ms/step - loss: 19.4881 - mse: 524.5417\n",
            "Epoch 403/500\n",
            "2/2 [==============================] - 0s 15ms/step - loss: 10.4881 - mse: 249.3635\n",
            "Epoch 404/500\n",
            "2/2 [==============================] - 0s 10ms/step - loss: 23.2215 - mse: 755.2541\n",
            "Epoch 405/500\n",
            "2/2 [==============================] - 0s 13ms/step - loss: 17.4875 - mse: 473.1029\n",
            "Epoch 406/500\n",
            "2/2 [==============================] - 0s 10ms/step - loss: 6.8907 - mse: 73.0460\n",
            "Epoch 407/500\n",
            "2/2 [==============================] - 0s 15ms/step - loss: 11.9748 - mse: 245.1374\n",
            "Epoch 408/500\n",
            "2/2 [==============================] - 0s 17ms/step - loss: 7.1342 - mse: 79.5306\n",
            "Epoch 409/500\n",
            "2/2 [==============================] - 0s 14ms/step - loss: 23.4822 - mse: 825.5323\n",
            "Epoch 410/500\n",
            "2/2 [==============================] - 0s 14ms/step - loss: 12.4030 - mse: 263.1143\n",
            "Epoch 411/500\n",
            "2/2 [==============================] - 0s 13ms/step - loss: 15.2002 - mse: 298.9363\n",
            "Epoch 412/500\n",
            "2/2 [==============================] - 0s 14ms/step - loss: 22.3099 - mse: 756.1815\n",
            "Epoch 413/500\n",
            "2/2 [==============================] - 0s 15ms/step - loss: 15.6942 - mse: 362.2023\n",
            "Epoch 414/500\n",
            "2/2 [==============================] - 0s 16ms/step - loss: 6.1447 - mse: 87.4484\n",
            "Epoch 415/500\n",
            "2/2 [==============================] - 0s 9ms/step - loss: 13.2564 - mse: 240.5570\n",
            "Epoch 416/500\n",
            "2/2 [==============================] - 0s 19ms/step - loss: 27.5014 - mse: 1043.1738\n",
            "Epoch 417/500\n",
            "2/2 [==============================] - 0s 17ms/step - loss: 10.4344 - mse: 202.8846\n",
            "Epoch 418/500\n",
            "2/2 [==============================] - 0s 11ms/step - loss: 12.9023 - mse: 238.6605\n",
            "Epoch 419/500\n",
            "2/2 [==============================] - 0s 11ms/step - loss: 15.9403 - mse: 379.1706\n",
            "Epoch 420/500\n",
            "2/2 [==============================] - 0s 16ms/step - loss: 24.8560 - mse: 855.9321\n",
            "Epoch 421/500\n",
            "2/2 [==============================] - 0s 9ms/step - loss: 17.1249 - mse: 433.3269\n",
            "Epoch 422/500\n",
            "2/2 [==============================] - 0s 14ms/step - loss: 7.8620 - mse: 153.2318\n",
            "Epoch 423/500\n",
            "2/2 [==============================] - 0s 19ms/step - loss: 25.4853 - mse: 914.3248\n",
            "Epoch 424/500\n",
            "2/2 [==============================] - 0s 19ms/step - loss: 14.8655 - mse: 361.7115\n",
            "Epoch 425/500\n",
            "2/2 [==============================] - 0s 16ms/step - loss: 7.1203 - mse: 74.8862\n",
            "Epoch 426/500\n",
            "2/2 [==============================] - 0s 74ms/step - loss: 20.0415 - mse: 556.0508\n",
            "Epoch 427/500\n",
            "2/2 [==============================] - 0s 77ms/step - loss: 6.2724 - mse: 86.6136\n",
            "Epoch 428/500\n",
            "2/2 [==============================] - 0s 49ms/step - loss: 12.5744 - mse: 269.4090\n",
            "Epoch 429/500\n",
            "2/2 [==============================] - 0s 43ms/step - loss: 12.0047 - mse: 228.3319\n",
            "Epoch 430/500\n",
            "2/2 [==============================] - 0s 51ms/step - loss: 11.0151 - mse: 241.9280\n",
            "Epoch 431/500\n",
            "2/2 [==============================] - 0s 46ms/step - loss: 9.9590 - mse: 193.4208\n",
            "Epoch 432/500\n",
            "2/2 [==============================] - 0s 47ms/step - loss: 13.2572 - mse: 288.3080\n",
            "Epoch 433/500\n",
            "2/2 [==============================] - 0s 35ms/step - loss: 11.4200 - mse: 291.4131\n",
            "Epoch 434/500\n",
            "2/2 [==============================] - 0s 55ms/step - loss: 30.4562 - mse: 1301.0081\n",
            "Epoch 435/500\n",
            "2/2 [==============================] - 0s 57ms/step - loss: 10.5463 - mse: 278.2143\n",
            "Epoch 436/500\n",
            "2/2 [==============================] - 0s 43ms/step - loss: 28.9502 - mse: 1221.2682\n",
            "Epoch 437/500\n",
            "2/2 [==============================] - 0s 49ms/step - loss: 8.6950 - mse: 206.5427\n",
            "Epoch 438/500\n",
            "2/2 [==============================] - 0s 59ms/step - loss: 12.7649 - mse: 261.3166\n",
            "Epoch 439/500\n",
            "2/2 [==============================] - 0s 62ms/step - loss: 33.7188 - mse: 1574.0074\n",
            "Epoch 440/500\n",
            "2/2 [==============================] - 0s 65ms/step - loss: 15.1778 - mse: 297.8729\n",
            "Epoch 441/500\n",
            "2/2 [==============================] - 0s 51ms/step - loss: 17.5443 - mse: 492.7495\n",
            "Epoch 442/500\n",
            "2/2 [==============================] - 0s 13ms/step - loss: 22.4267 - mse: 757.5377\n",
            "Epoch 443/500\n",
            "2/2 [==============================] - 0s 14ms/step - loss: 23.2961 - mse: 764.0770\n",
            "Epoch 444/500\n",
            "2/2 [==============================] - 0s 15ms/step - loss: 10.7757 - mse: 198.2351\n",
            "Epoch 445/500\n",
            "2/2 [==============================] - 0s 14ms/step - loss: 14.9966 - mse: 320.8857\n",
            "Epoch 446/500\n",
            "2/2 [==============================] - 0s 28ms/step - loss: 18.1126 - mse: 521.7161\n",
            "Epoch 447/500\n",
            "2/2 [==============================] - 0s 14ms/step - loss: 5.3596 - mse: 51.7136\n",
            "Epoch 448/500\n",
            "2/2 [==============================] - 0s 21ms/step - loss: 10.1677 - mse: 249.6578\n",
            "Epoch 449/500\n",
            "2/2 [==============================] - 0s 25ms/step - loss: 14.0968 - mse: 279.7411\n",
            "Epoch 450/500\n",
            "2/2 [==============================] - 0s 28ms/step - loss: 16.8710 - mse: 430.4305\n",
            "Epoch 451/500\n",
            "2/2 [==============================] - 0s 33ms/step - loss: 14.3400 - mse: 307.6324\n",
            "Epoch 452/500\n",
            "2/2 [==============================] - 0s 33ms/step - loss: 30.6968 - mse: 1335.8624\n",
            "Epoch 453/500\n",
            "2/2 [==============================] - 0s 24ms/step - loss: 8.4232 - mse: 200.7916\n",
            "Epoch 454/500\n",
            "2/2 [==============================] - 0s 56ms/step - loss: 27.6139 - mse: 1065.4915\n",
            "Epoch 455/500\n",
            "2/2 [==============================] - 0s 38ms/step - loss: 10.0414 - mse: 191.6191\n",
            "Epoch 456/500\n",
            "2/2 [==============================] - 0s 24ms/step - loss: 14.5784 - mse: 288.3681\n",
            "Epoch 457/500\n",
            "2/2 [==============================] - 0s 15ms/step - loss: 17.7314 - mse: 478.8491\n",
            "Epoch 458/500\n",
            "2/2 [==============================] - 0s 18ms/step - loss: 14.0413 - mse: 270.1691\n",
            "Epoch 459/500\n",
            "2/2 [==============================] - 0s 14ms/step - loss: 25.9329 - mse: 970.6161\n",
            "Epoch 460/500\n",
            "2/2 [==============================] - 0s 19ms/step - loss: 14.9584 - mse: 333.3107\n",
            "Epoch 461/500\n",
            "2/2 [==============================] - 0s 21ms/step - loss: 11.9722 - mse: 264.5246\n",
            "Epoch 462/500\n",
            "2/2 [==============================] - 0s 20ms/step - loss: 13.2874 - mse: 244.3153\n",
            "Epoch 463/500\n",
            "2/2 [==============================] - 0s 31ms/step - loss: 29.4819 - mse: 1214.2238\n",
            "Epoch 464/500\n",
            "2/2 [==============================] - 0s 31ms/step - loss: 3.2588 - mse: 14.4570\n",
            "Epoch 465/500\n",
            "2/2 [==============================] - 0s 28ms/step - loss: 7.6237 - mse: 153.0445\n",
            "Epoch 466/500\n",
            "2/2 [==============================] - 0s 26ms/step - loss: 16.5442 - mse: 443.9447\n",
            "Epoch 467/500\n",
            "2/2 [==============================] - 0s 34ms/step - loss: 17.5263 - mse: 482.8662\n",
            "Epoch 468/500\n",
            "2/2 [==============================] - 0s 18ms/step - loss: 12.9364 - mse: 246.1770\n",
            "Epoch 469/500\n",
            "2/2 [==============================] - 0s 28ms/step - loss: 29.2363 - mse: 1190.5333\n",
            "Epoch 470/500\n",
            "2/2 [==============================] - 0s 20ms/step - loss: 7.2753 - mse: 95.5223\n",
            "Epoch 471/500\n",
            "2/2 [==============================] - 0s 26ms/step - loss: 26.1320 - mse: 1003.5582\n",
            "Epoch 472/500\n",
            "2/2 [==============================] - 0s 31ms/step - loss: 12.4728 - mse: 240.5942\n",
            "Epoch 473/500\n",
            "2/2 [==============================] - 0s 36ms/step - loss: 14.8165 - mse: 357.7089\n",
            "Epoch 474/500\n",
            "2/2 [==============================] - 0s 27ms/step - loss: 18.7899 - mse: 548.2850\n",
            "Epoch 475/500\n",
            "2/2 [==============================] - 0s 20ms/step - loss: 12.0889 - mse: 235.6695\n",
            "Epoch 476/500\n",
            "2/2 [==============================] - 0s 18ms/step - loss: 13.7472 - mse: 263.2898\n",
            "Epoch 477/500\n",
            "2/2 [==============================] - 0s 27ms/step - loss: 30.4018 - mse: 1287.9329\n",
            "Epoch 478/500\n",
            "2/2 [==============================] - 0s 18ms/step - loss: 7.5302 - mse: 158.2400\n",
            "Epoch 479/500\n",
            "2/2 [==============================] - 0s 17ms/step - loss: 11.3760 - mse: 264.7343\n",
            "Epoch 480/500\n",
            "2/2 [==============================] - 0s 19ms/step - loss: 18.0457 - mse: 495.2663\n",
            "Epoch 481/500\n",
            "2/2 [==============================] - 0s 16ms/step - loss: 15.9212 - mse: 376.9500\n",
            "Epoch 482/500\n",
            "2/2 [==============================] - 0s 25ms/step - loss: 21.5389 - mse: 710.6268\n",
            "Epoch 483/500\n",
            "2/2 [==============================] - 0s 20ms/step - loss: 24.8777 - mse: 911.8915\n",
            "Epoch 484/500\n",
            "2/2 [==============================] - 0s 18ms/step - loss: 23.4463 - mse: 773.1738\n",
            "Epoch 485/500\n",
            "2/2 [==============================] - 0s 19ms/step - loss: 5.6932 - mse: 53.9135\n",
            "Epoch 486/500\n",
            "2/2 [==============================] - 0s 20ms/step - loss: 19.3877 - mse: 530.6019\n",
            "Epoch 487/500\n",
            "2/2 [==============================] - 0s 21ms/step - loss: 13.9849 - mse: 281.6481\n",
            "Epoch 488/500\n",
            "2/2 [==============================] - 0s 20ms/step - loss: 30.4985 - mse: 1325.6655\n",
            "Epoch 489/500\n",
            "2/2 [==============================] - 0s 21ms/step - loss: 11.7680 - mse: 238.3419\n",
            "Epoch 490/500\n",
            "2/2 [==============================] - 0s 34ms/step - loss: 12.4705 - mse: 243.9215\n",
            "Epoch 491/500\n",
            "2/2 [==============================] - 0s 27ms/step - loss: 23.6625 - mse: 840.6729\n",
            "Epoch 492/500\n",
            "2/2 [==============================] - 0s 24ms/step - loss: 20.4243 - mse: 586.0225\n",
            "Epoch 493/500\n",
            "2/2 [==============================] - 0s 23ms/step - loss: 4.9810 - mse: 48.3572\n",
            "Epoch 494/500\n",
            "2/2 [==============================] - 0s 22ms/step - loss: 12.7020 - mse: 244.8472\n",
            "Epoch 495/500\n",
            "2/2 [==============================] - 0s 19ms/step - loss: 13.4242 - mse: 240.9727\n",
            "Epoch 496/500\n",
            "2/2 [==============================] - 0s 42ms/step - loss: 12.7061 - mse: 241.6406\n",
            "Epoch 497/500\n",
            "2/2 [==============================] - 0s 13ms/step - loss: 17.6802 - mse: 518.1408\n",
            "Epoch 498/500\n",
            "2/2 [==============================] - 0s 19ms/step - loss: 23.4317 - mse: 806.6224\n",
            "Epoch 499/500\n",
            "2/2 [==============================] - 0s 15ms/step - loss: 9.1656 - mse: 129.8286\n",
            "Epoch 500/500\n",
            "2/2 [==============================] - 0s 22ms/step - loss: 14.3803 - mse: 273.2508\n"
          ]
        },
        {
          "output_type": "execute_result",
          "data": {
            "text/plain": [
              "<keras.src.callbacks.History at 0x7bd079046e60>"
            ]
          },
          "metadata": {},
          "execution_count": 132
        }
      ]
    },
    {
      "cell_type": "code",
      "source": [
        "y_preds_3 = model_3.predict(X_test)\n",
        "plot_predictions(X_train,y_train,X_test,y_test,y_preds_3)"
      ],
      "metadata": {
        "colab": {
          "base_uri": "https://localhost:8080/",
          "height": 616
        },
        "id": "B7YLTXWh-KhH",
        "outputId": "b3b094b1-bc7a-4201-d654-a1ebb56354ca"
      },
      "execution_count": 133,
      "outputs": [
        {
          "output_type": "stream",
          "name": "stdout",
          "text": [
            "1/1 [==============================] - 0s 491ms/step\n"
          ]
        },
        {
          "output_type": "display_data",
          "data": {
            "text/plain": [
              "<Figure size 1000x700 with 1 Axes>"
            ],
            "image/png": "[encoded data removed]"
          },
          "metadata": {}
        }
      ]
    },
    {
      "cell_type": "code",
      "source": [
        "# calculate model 2 evaluation metrics\n",
        "mae_3 = mean_absolute_error(y_test,y_preds_3)\n",
        "mse_3 = mean_squared_error(y_test,y_preds_3)\n",
        "mae_3,mse_3"
      ],
      "metadata": {
        "colab": {
          "base_uri": "https://localhost:8080/"
        },
        "id": "Xk8FtdSs-Ls5",
        "outputId": "0d3d0427-eb14-4020-afcc-e47f26c5457f"
      },
      "execution_count": 134,
      "outputs": [
        {
          "output_type": "execute_result",
          "data": {
            "text/plain": [
              "(<tf.Tensor: shape=(), dtype=float32, numpy=67.90406>,\n",
              " <tf.Tensor: shape=(), dtype=float32, numpy=4695.307>)"
            ]
          },
          "metadata": {},
          "execution_count": 134
        }
      ]
    },
    {
      "cell_type": "markdown",
      "source": [
        "**Note** You want to start with small experiments - start with small models then scale\n"
      ],
      "metadata": {
        "id": "ho1K-EFk-njK"
      }
    },
    {
      "cell_type": "markdown",
      "source": [
        "### Comparing results of our experiments\n",
        "\n",
        "We've run a few experiments let's compare the results"
      ],
      "metadata": {
        "id": "g7xrRDsd-R5x"
      }
    },
    {
      "cell_type": "code",
      "source": [
        "import pandas as pd\n",
        "model_results = [[\"model_1\",mae_1.numpy(),mse_1.numpy()],[\"model_2\",mae_2.numpy(),mse_2.numpy()],[\"model_3\",mae_3.numpy(),mse_3.numpy()]]\n",
        "all_results = pd.DataFrame(model_results,columns=[\"model\",\"mae\",\"mse\"])\n",
        "all_results"
      ],
      "metadata": {
        "colab": {
          "base_uri": "https://localhost:8080/",
          "height": 144
        },
        "id": "kq34XV47kbuO",
        "outputId": "dbde07ff-be13-4243-afa8-fafa2eeffd5c"
      },
      "execution_count": 139,
      "outputs": [
        {
          "output_type": "execute_result",
          "data": {
            "text/plain": [
              "     model        mae          mse\n",
              "0  model_1   8.624475    80.888710\n",
              "1  model_2  11.620806   143.656860\n",
              "2  model_3  67.904060  4695.307129"
            ],
            "text/html": [
              "\n",
              "  <div id=\"df-ce6f0df7-5984-47c1-a5b8-570967898d1c\" class=\"colab-df-container\">\n",
              "    <div>\n",
              "<style scoped>\n",
              "    .dataframe tbody tr th:only-of-type {\n",
              "        vertical-align: middle;\n",
              "    }\n",
              "\n",
              "    .dataframe tbody tr th {\n",
              "        vertical-align: top;\n",
              "    }\n",
              "\n",
              "    .dataframe thead th {\n",
              "        text-align: right;\n",
              "    }\n",
              "</style>\n",
              "<table border=\"1\" class=\"dataframe\">\n",
              "  <thead>\n",
              "    <tr style=\"text-align: right;\">\n",
              "      <th></th>\n",
              "      <th>model</th>\n",
              "      <th>mae</th>\n",
              "      <th>mse</th>\n",
              "    </tr>\n",
              "  </thead>\n",
              "  <tbody>\n",
              "    <tr>\n",
              "      <th>0</th>\n",
              "      <td>model_1</td>\n",
              "      <td>8.624475</td>\n",
              "      <td>80.888710</td>\n",
              "    </tr>\n",
              "    <tr>\n",
              "      <th>1</th>\n",
              "      <td>model_2</td>\n",
              "      <td>11.620806</td>\n",
              "      <td>143.656860</td>\n",
              "    </tr>\n",
              "    <tr>\n",
              "      <th>2</th>\n",
              "      <td>model_3</td>\n",
              "      <td>67.904060</td>\n",
              "      <td>4695.307129</td>\n",
              "    </tr>\n",
              "  </tbody>\n",
              "</table>\n",
              "</div>\n",
              "    <div class=\"colab-df-buttons\">\n",
              "\n",
              "  <div class=\"colab-df-container\">\n",
              "    <button class=\"colab-df-convert\" onclick=\"convertToInteractive('df-ce6f0df7-5984-47c1-a5b8-570967898d1c')\"\n",
              "            title=\"Convert this dataframe to an interactive table.\"\n",
              "            style=\"display:none;\">\n",
              "\n",
              "  <svg xmlns=\"http://www.w3.org/2000/svg\" height=\"24px\" viewBox=\"0 -960 960 960\">\n",
              "    <path d=\"M120-120v-720h720v720H120Zm60-500h600v-160H180v160Zm220 220h160v-160H400v160Zm0 220h160v-160H400v160ZM180-400h160v-160H180v160Zm440 0h160v-160H620v160ZM180-180h160v-160H180v160Zm440 0h160v-160H620v160Z\"/>\n",
              "  </svg>\n",
              "    </button>\n",
              "\n",
              "  <style>\n",
              "    .colab-df-container {\n",
              "      display:flex;\n",
              "      gap: 12px;\n",
              "    }\n",
              "\n",
              "    .colab-df-convert {\n",
              "      background-color: #E8F0FE;\n",
              "      border: none;\n",
              "      border-radius: 50%;\n",
              "      cursor: pointer;\n",
              "      display: none;\n",
              "      fill: #1967D2;\n",
              "      height: 32px;\n",
              "      padding: 0 0 0 0;\n",
              "      width: 32px;\n",
              "    }\n",
              "\n",
              "    .colab-df-convert:hover {\n",
              "      background-color: #E2EBFA;\n",
              "      box-shadow: 0px 1px 2px rgba(60, 64, 67, 0.3), 0px 1px 3px 1px rgba(60, 64, 67, 0.15);\n",
              "      fill: #174EA6;\n",
              "    }\n",
              "\n",
              "    .colab-df-buttons div {\n",
              "      margin-bottom: 4px;\n",
              "    }\n",
              "\n",
              "    [theme=dark] .colab-df-convert {\n",
              "      background-color: #3B4455;\n",
              "      fill: #D2E3FC;\n",
              "    }\n",
              "\n",
              "    [theme=dark] .colab-df-convert:hover {\n",
              "      background-color: #434B5C;\n",
              "      box-shadow: 0px 1px 3px 1px rgba(0, 0, 0, 0.15);\n",
              "      filter: drop-shadow(0px 1px 2px rgba(0, 0, 0, 0.3));\n",
              "      fill: #FFFFFF;\n",
              "    }\n",
              "  </style>\n",
              "\n",
              "    <script>\n",
              "      const buttonEl =\n",
              "        document.querySelector('#df-ce6f0df7-5984-47c1-a5b8-570967898d1c button.colab-df-convert');\n",
              "      buttonEl.style.display =\n",
              "        google.colab.kernel.accessAllowed ? 'block' : 'none';\n",
              "\n",
              "      async function convertToInteractive(key) {\n",
              "        const element = document.querySelector('#df-ce6f0df7-5984-47c1-a5b8-570967898d1c');\n",
              "        const dataTable =\n",
              "          await google.colab.kernel.invokeFunction('convertToInteractive',\n",
              "                                                    [key], {});\n",
              "        if (!dataTable) return;\n",
              "\n",
              "        const docLinkHtml = 'Like what you see? Visit the ' +\n",
              "          '<a target=\"_blank\" href=https://colab.research.google.com/notebooks/data_table.ipynb>data table notebook</a>'\n",
              "          + ' to learn more about interactive tables.';\n",
              "        element.innerHTML = '';\n",
              "        dataTable['output_type'] = 'display_data';\n",
              "        await google.colab.output.renderOutput(dataTable, element);\n",
              "        const docLink = document.createElement('div');\n",
              "        docLink.innerHTML = docLinkHtml;\n",
              "        element.appendChild(docLink);\n",
              "      }\n",
              "    </script>\n",
              "  </div>\n",
              "\n",
              "\n",
              "<div id=\"df-24203501-fc31-4893-964d-b165bd8533fa\">\n",
              "  <button class=\"colab-df-quickchart\" onclick=\"quickchart('df-24203501-fc31-4893-964d-b165bd8533fa')\"\n",
              "            title=\"Suggest charts\"\n",
              "            style=\"display:none;\">\n",
              "\n",
              "<svg xmlns=\"http://www.w3.org/2000/svg\" height=\"24px\"viewBox=\"0 0 24 24\"\n",
              "     width=\"24px\">\n",
              "    <g>\n",
              "        <path d=\"M19 3H5c-1.1 0-2 .9-2 2v14c0 1.1.9 2 2 2h14c1.1 0 2-.9 2-2V5c0-1.1-.9-2-2-2zM9 17H7v-7h2v7zm4 0h-2V7h2v10zm4 0h-2v-4h2v4z\"/>\n",
              "    </g>\n",
              "</svg>\n",
              "  </button>\n",
              "\n",
              "<style>\n",
              "  .colab-df-quickchart {\n",
              "      --bg-color: #E8F0FE;\n",
              "      --fill-color: #1967D2;\n",
              "      --hover-bg-color: #E2EBFA;\n",
              "      --hover-fill-color: #174EA6;\n",
              "      --disabled-fill-color: #AAA;\n",
              "      --disabled-bg-color: #DDD;\n",
              "  }\n",
              "\n",
              "  [theme=dark] .colab-df-quickchart {\n",
              "      --bg-color: #3B4455;\n",
              "      --fill-color: #D2E3FC;\n",
              "      --hover-bg-color: #434B5C;\n",
              "      --hover-fill-color: #FFFFFF;\n",
              "      --disabled-bg-color: #3B4455;\n",
              "      --disabled-fill-color: #666;\n",
              "  }\n",
              "\n",
              "  .colab-df-quickchart {\n",
              "    background-color: var(--bg-color);\n",
              "    border: none;\n",
              "    border-radius: 50%;\n",
              "    cursor: pointer;\n",
              "    display: none;\n",
              "    fill: var(--fill-color);\n",
              "    height: 32px;\n",
              "    padding: 0;\n",
              "    width: 32px;\n",
              "  }\n",
              "\n",
              "  .colab-df-quickchart:hover {\n",
              "    background-color: var(--hover-bg-color);\n",
              "    box-shadow: 0 1px 2px rgba(60, 64, 67, 0.3), 0 1px 3px 1px rgba(60, 64, 67, 0.15);\n",
              "    fill: var(--button-hover-fill-color);\n",
              "  }\n",
              "\n",
              "  .colab-df-quickchart-complete:disabled,\n",
              "  .colab-df-quickchart-complete:disabled:hover {\n",
              "    background-color: var(--disabled-bg-color);\n",
              "    fill: var(--disabled-fill-color);\n",
              "    box-shadow: none;\n",
              "  }\n",
              "\n",
              "  .colab-df-spinner {\n",
              "    border: 2px solid var(--fill-color);\n",
              "    border-color: transparent;\n",
              "    border-bottom-color: var(--fill-color);\n",
              "    animation:\n",
              "      spin 1s steps(1) infinite;\n",
              "  }\n",
              "\n",
              "  @keyframes spin {\n",
              "    0% {\n",
              "      border-color: transparent;\n",
              "      border-bottom-color: var(--fill-color);\n",
              "      border-left-color: var(--fill-color);\n",
              "    }\n",
              "    20% {\n",
              "      border-color: transparent;\n",
              "      border-left-color: var(--fill-color);\n",
              "      border-top-color: var(--fill-color);\n",
              "    }\n",
              "    30% {\n",
              "      border-color: transparent;\n",
              "      border-left-color: var(--fill-color);\n",
              "      border-top-color: var(--fill-color);\n",
              "      border-right-color: var(--fill-color);\n",
              "    }\n",
              "    40% {\n",
              "      border-color: transparent;\n",
              "      border-right-color: var(--fill-color);\n",
              "      border-top-color: var(--fill-color);\n",
              "    }\n",
              "    60% {\n",
              "      border-color: transparent;\n",
              "      border-right-color: var(--fill-color);\n",
              "    }\n",
              "    80% {\n",
              "      border-color: transparent;\n",
              "      border-right-color: var(--fill-color);\n",
              "      border-bottom-color: var(--fill-color);\n",
              "    }\n",
              "    90% {\n",
              "      border-color: transparent;\n",
              "      border-bottom-color: var(--fill-color);\n",
              "    }\n",
              "  }\n",
              "</style>\n",
              "\n",
              "  <script>\n",
              "    async function quickchart(key) {\n",
              "      const quickchartButtonEl =\n",
              "        document.querySelector('#' + key + ' button');\n",
              "      quickchartButtonEl.disabled = true;  // To prevent multiple clicks.\n",
              "      quickchartButtonEl.classList.add('colab-df-spinner');\n",
              "      try {\n",
              "        const charts = await google.colab.kernel.invokeFunction(\n",
              "            'suggestCharts', [key], {});\n",
              "      } catch (error) {\n",
              "        console.error('Error during call to suggestCharts:', error);\n",
              "      }\n",
              "      quickchartButtonEl.classList.remove('colab-df-spinner');\n",
              "      quickchartButtonEl.classList.add('colab-df-quickchart-complete');\n",
              "    }\n",
              "    (() => {\n",
              "      let quickchartButtonEl =\n",
              "        document.querySelector('#df-24203501-fc31-4893-964d-b165bd8533fa button');\n",
              "      quickchartButtonEl.style.display =\n",
              "        google.colab.kernel.accessAllowed ? 'block' : 'none';\n",
              "    })();\n",
              "  </script>\n",
              "</div>\n",
              "    </div>\n",
              "  </div>\n"
            ]
          },
          "metadata": {},
          "execution_count": 139
        }
      ]
    },
    {
      "cell_type": "markdown",
      "source": [
        "``Looks like model 1 performed the best``"
      ],
      "metadata": {
        "id": "XVyhYzJtkwLt"
      }
    },
    {
      "cell_type": "code",
      "source": [
        "model_1.summary()"
      ],
      "metadata": {
        "colab": {
          "base_uri": "https://localhost:8080/"
        },
        "id": "NHYVUelClZTu",
        "outputId": "9121f0c0-3f1c-4614-9f3f-3377fe011ef0"
      },
      "execution_count": 141,
      "outputs": [
        {
          "output_type": "stream",
          "name": "stdout",
          "text": [
            "Model: \"sequential_15\"\n",
            "_________________________________________________________________\n",
            " Layer (type)                Output Shape              Param #   \n",
            "=================================================================\n",
            " dense_24 (Dense)            (None, 1)                 2         \n",
            "                                                                 \n",
            "=================================================================\n",
            "Total params: 2 (8.00 Byte)\n",
            "Trainable params: 2 (8.00 Byte)\n",
            "Non-trainable params: 0 (0.00 Byte)\n",
            "_________________________________________________________________\n"
          ]
        }
      ]
    },
    {
      "cell_type": "markdown",
      "source": [
        "The mode experiments you do the more things you'll figure out which don't work and you'll get closer to what does work.  Remember: experiment,experiment,experiment."
      ],
      "metadata": {
        "id": "VBpr9oanlbzR"
      }
    },
    {
      "cell_type": "markdown",
      "source": [
        "## Tracking your experiements\n",
        "\n",
        "One really good habit in machine learning modelling is to track the results of your experiments.\n",
        "\n",
        "And when doing so, it can be tedious if you're running lots of experiments.\n",
        "\n",
        "Luckily there are tools to help us!\n",
        "\n",
        "**Resource:** As you build more models, you'll want to look into using:\n",
        "\n",
        "* Tensorboard - a component of the Tensorflow library to help track modelling experiments(will use later in course)\n",
        "* Weights & Biases - a tool for tracking all kinds of ML experiments"
      ],
      "metadata": {
        "id": "0cUW9GzclpDW"
      }
    },
    {
      "cell_type": "markdown",
      "source": [
        "## Saving our models\n",
        "\n",
        "Saving our models allows us to use them outside of Google Colab (or wherever they were trained) such as a web application or a mobile application\n",
        "\n",
        "There are two main formats we can save our model's as:\n",
        "\n",
        "1. Saved model format\n",
        "2. The HD5 format"
      ],
      "metadata": {
        "id": "tdMXtf9SmKpW"
      }
    },
    {
      "cell_type": "code",
      "source": [
        "model_1.save('./model_1')\n",
        "!pwd"
      ],
      "metadata": {
        "colab": {
          "base_uri": "https://localhost:8080/"
        },
        "id": "npqVSVMbnGT9",
        "outputId": "90e2f16b-3046-4c6c-e642-a7711b76568b"
      },
      "execution_count": 144,
      "outputs": [
        {
          "output_type": "stream",
          "name": "stdout",
          "text": [
            "/content\n"
          ]
        }
      ]
    },
    {
      "cell_type": "code",
      "source": [
        "model_1.save('./model_1.hdf5')\n"
      ],
      "metadata": {
        "colab": {
          "base_uri": "https://localhost:8080/"
        },
        "id": "LEA_oyT4nJd4",
        "outputId": "4dd4466d-f53a-4e32-d13b-e06e639a0508"
      },
      "execution_count": 145,
      "outputs": [
        {
          "output_type": "stream",
          "name": "stderr",
          "text": [
            "/usr/local/lib/python3.10/dist-packages/keras/src/engine/training.py:3103: UserWarning: You are saving your model as an HDF5 file via `model.save()`. This file format is considered legacy. We recommend using instead the native Keras format, e.g. `model.save('my_model.keras')`.\n",
            "  saving_api.save_model(\n"
          ]
        }
      ]
    },
    {
      "cell_type": "markdown",
      "source": [
        "### Loading in a saved model"
      ],
      "metadata": {
        "id": "Dv4iaXqLndX5"
      }
    },
    {
      "cell_type": "code",
      "source": [
        "loaded_saved_model = tf.keras.models.load_model('./model_1')\n",
        "loaded_saved_model.summary()"
      ],
      "metadata": {
        "colab": {
          "base_uri": "https://localhost:8080/"
        },
        "id": "YHmmIYEPo0SF",
        "outputId": "ae9475c5-ca80-40f1-d4f8-b965d4fc26f3"
      },
      "execution_count": 148,
      "outputs": [
        {
          "output_type": "stream",
          "name": "stdout",
          "text": [
            "Model: \"sequential_15\"\n",
            "_________________________________________________________________\n",
            " Layer (type)                Output Shape              Param #   \n",
            "=================================================================\n",
            " dense_24 (Dense)            (None, 1)                 2         \n",
            "                                                                 \n",
            "=================================================================\n",
            "Total params: 2 (8.00 Byte)\n",
            "Trainable params: 2 (8.00 Byte)\n",
            "Non-trainable params: 0 (0.00 Byte)\n",
            "_________________________________________________________________\n"
          ]
        }
      ]
    },
    {
      "cell_type": "code",
      "source": [
        "model_1.summary()"
      ],
      "metadata": {
        "colab": {
          "base_uri": "https://localhost:8080/"
        },
        "id": "XRrLYw74o6Q5",
        "outputId": "8a628451-e358-4ac3-ce1a-7abd29a8b93d"
      },
      "execution_count": 149,
      "outputs": [
        {
          "output_type": "stream",
          "name": "stdout",
          "text": [
            "Model: \"sequential_15\"\n",
            "_________________________________________________________________\n",
            " Layer (type)                Output Shape              Param #   \n",
            "=================================================================\n",
            " dense_24 (Dense)            (None, 1)                 2         \n",
            "                                                                 \n",
            "=================================================================\n",
            "Total params: 2 (8.00 Byte)\n",
            "Trainable params: 2 (8.00 Byte)\n",
            "Non-trainable params: 0 (0.00 Byte)\n",
            "_________________________________________________________________\n"
          ]
        }
      ]
    },
    {
      "cell_type": "code",
      "source": [
        "model_preds = loaded_saved_model.predict(X_test)"
      ],
      "metadata": {
        "colab": {
          "base_uri": "https://localhost:8080/"
        },
        "id": "U_AeJGbwpH-6",
        "outputId": "2a0e6d96-c278-4ea1-c33d-59f8fdcd7ae3"
      },
      "execution_count": 150,
      "outputs": [
        {
          "output_type": "stream",
          "name": "stdout",
          "text": [
            "1/1 [==============================] - 0s 69ms/step\n"
          ]
        }
      ]
    },
    {
      "cell_type": "code",
      "source": [
        "plot_predictions(X_train,y_train,X_test,y_test,model_preds)"
      ],
      "metadata": {
        "colab": {
          "base_uri": "https://localhost:8080/",
          "height": 599
        },
        "id": "5HdDBdO6pNCv",
        "outputId": "225e9b69-93b6-494b-d7a0-9d65250d4a1c"
      },
      "execution_count": 151,
      "outputs": [
        {
          "output_type": "display_data",
          "data": {
            "text/plain": [
              "<Figure size 1000x700 with 1 Axes>"
            ],
            "image/png": "[encoded data removed]"
          },
          "metadata": {}
        }
      ]
    },
    {
      "cell_type": "code",
      "source": [
        "y_preds_1 == model_preds"
      ],
      "metadata": {
        "colab": {
          "base_uri": "https://localhost:8080/"
        },
        "id": "Ieg8uTqppTb_",
        "outputId": "7404dbae-1629-4c3e-e6f2-ae7d1a344cc2"
      },
      "execution_count": 155,
      "outputs": [
        {
          "output_type": "execute_result",
          "data": {
            "text/plain": [
              "array([[ True],\n",
              "       [ True],\n",
              "       [ True],\n",
              "       [ True],\n",
              "       [ True],\n",
              "       [ True],\n",
              "       [ True],\n",
              "       [ True],\n",
              "       [ True],\n",
              "       [ True]])"
            ]
          },
          "metadata": {},
          "execution_count": 155
        }
      ]
    },
    {
      "cell_type": "code",
      "source": [
        "mean_absolute_error(y_true=y_test,y_pred=y_preds_1) == mean_absolute_error(y_true= y_test, y_pred = model_preds)"
      ],
      "metadata": {
        "colab": {
          "base_uri": "https://localhost:8080/"
        },
        "id": "52WWpqMjpYM7",
        "outputId": "4737d639-cf16-477b-ebb4-8dadc0ef5c59"
      },
      "execution_count": 157,
      "outputs": [
        {
          "output_type": "execute_result",
          "data": {
            "text/plain": [
              "<tf.Tensor: shape=(), dtype=bool, numpy=True>"
            ]
          },
          "metadata": {},
          "execution_count": 157
        }
      ]
    },
    {
      "cell_type": "code",
      "source": [
        "model_preds"
      ],
      "metadata": {
        "colab": {
          "base_uri": "https://localhost:8080/"
        },
        "id": "qZoVL30ep6Gr",
        "outputId": "d65bfee9-9282-40a2-e6a4-acee08de3dde"
      },
      "execution_count": 158,
      "outputs": [
        {
          "output_type": "execute_result",
          "data": {
            "text/plain": [
              "array([[ 74.62796 ],\n",
              "       [ 79.516075],\n",
              "       [ 84.40419 ],\n",
              "       [ 89.292305],\n",
              "       [ 94.18042 ],\n",
              "       [ 99.068535],\n",
              "       [103.95664 ],\n",
              "       [108.84476 ],\n",
              "       [113.73287 ],\n",
              "       [118.62099 ]], dtype=float32)"
            ]
          },
          "metadata": {},
          "execution_count": 158
        }
      ]
    },
    {
      "cell_type": "code",
      "source": [
        "y_preds_1"
      ],
      "metadata": {
        "colab": {
          "base_uri": "https://localhost:8080/"
        },
        "id": "BYcG37VDqCbV",
        "outputId": "262afb0a-20db-43c0-a299-ce98f962e086"
      },
      "execution_count": 159,
      "outputs": [
        {
          "output_type": "execute_result",
          "data": {
            "text/plain": [
              "array([[ 74.62796 ],\n",
              "       [ 79.516075],\n",
              "       [ 84.40419 ],\n",
              "       [ 89.292305],\n",
              "       [ 94.18042 ],\n",
              "       [ 99.068535],\n",
              "       [103.95664 ],\n",
              "       [108.84476 ],\n",
              "       [113.73287 ],\n",
              "       [118.62099 ]], dtype=float32)"
            ]
          },
          "metadata": {},
          "execution_count": 159
        }
      ]
    },
    {
      "cell_type": "code",
      "source": [
        "# load model using h5\n",
        "\n",
        "loaded_h5_model = tf.keras.models.load_model('./model_1.hdf5')\n",
        "loaded_h5_model.summary()"
      ],
      "metadata": {
        "colab": {
          "base_uri": "https://localhost:8080/"
        },
        "id": "VyB70IcfqDj3",
        "outputId": "c49a1dd8-2eff-4103-8d76-9192883d8a5a"
      },
      "execution_count": 162,
      "outputs": [
        {
          "output_type": "stream",
          "name": "stdout",
          "text": [
            "Model: \"sequential_15\"\n",
            "_________________________________________________________________\n",
            " Layer (type)                Output Shape              Param #   \n",
            "=================================================================\n",
            " dense_24 (Dense)            (None, 1)                 2         \n",
            "                                                                 \n",
            "=================================================================\n",
            "Total params: 2 (8.00 Byte)\n",
            "Trainable params: 2 (8.00 Byte)\n",
            "Non-trainable params: 0 (0.00 Byte)\n",
            "_________________________________________________________________\n"
          ]
        }
      ]
    },
    {
      "cell_type": "code",
      "source": [
        "model_1.summary()"
      ],
      "metadata": {
        "colab": {
          "base_uri": "https://localhost:8080/"
        },
        "id": "-3RAh7NgqYy0",
        "outputId": "e92202b4-e32a-456b-f4d7-162474be5f02"
      },
      "execution_count": 164,
      "outputs": [
        {
          "output_type": "stream",
          "name": "stdout",
          "text": [
            "Model: \"sequential_15\"\n",
            "_________________________________________________________________\n",
            " Layer (type)                Output Shape              Param #   \n",
            "=================================================================\n",
            " dense_24 (Dense)            (None, 1)                 2         \n",
            "                                                                 \n",
            "=================================================================\n",
            "Total params: 2 (8.00 Byte)\n",
            "Trainable params: 2 (8.00 Byte)\n",
            "Non-trainable params: 0 (0.00 Byte)\n",
            "_________________________________________________________________\n"
          ]
        }
      ]
    },
    {
      "cell_type": "code",
      "source": [
        "model_preds_hdf5 = loaded_h5_model.predict(X_test)"
      ],
      "metadata": {
        "colab": {
          "base_uri": "https://localhost:8080/"
        },
        "id": "J8lNrGXRqfB5",
        "outputId": "9478d65b-cb72-4969-c6d3-f6088843f2e6"
      },
      "execution_count": 166,
      "outputs": [
        {
          "output_type": "stream",
          "name": "stdout",
          "text": [
            "1/1 [==============================] - 0s 105ms/step\n"
          ]
        }
      ]
    },
    {
      "cell_type": "code",
      "source": [
        "model_preds_hdf5 == y_preds_1"
      ],
      "metadata": {
        "colab": {
          "base_uri": "https://localhost:8080/"
        },
        "id": "VHS59a3DqkYg",
        "outputId": "96828439-44c6-4b05-a036-7dd5c4d11217"
      },
      "execution_count": 167,
      "outputs": [
        {
          "output_type": "execute_result",
          "data": {
            "text/plain": [
              "array([[ True],\n",
              "       [ True],\n",
              "       [ True],\n",
              "       [ True],\n",
              "       [ True],\n",
              "       [ True],\n",
              "       [ True],\n",
              "       [ True],\n",
              "       [ True],\n",
              "       [ True]])"
            ]
          },
          "metadata": {},
          "execution_count": 167
        }
      ]
    },
    {
      "cell_type": "code",
      "source": [],
      "metadata": {
        "id": "fyZsXm1fqoy-"
      },
      "execution_count": null,
      "outputs": []
    }
  ],
  "metadata": {
    "colab": {
      "provenance": [],
      "authorship_tag": "ABX9TyM+0AGFXdIwkafQVgnUPKZ7",
      "include_colab_link": true
    },
    "kernelspec": {
      "display_name": "Python 3",
      "name": "python3"
    },
    "language_info": {
      "name": "python"
    }
  },
  "nbformat": 4,
  "nbformat_minor": 0
}