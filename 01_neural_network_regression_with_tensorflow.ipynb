{
  "cells": [
    {
      "cell_type": "markdown",
      "metadata": {
        "id": "m2hWQ5CuXy0k"
      },
      "source": [
        "# Introduction to Regresion with Neural Networks in Tensorflow\n",
        "There are many definitions for a regression problem but in our case, we're going to simplify it: predicting a numerical variable based on some other combination of variables, even shorter predicting a number"
      ]
    },
    {
      "cell_type": "code",
      "execution_count": null,
      "metadata": {
        "colab": {
          "base_uri": "https://localhost:8080/"
        },
        "id": "Hzx5HZkth7n3",
        "outputId": "288feddd-9df5-4d04-a917-516bab7a7034"
      },
      "outputs": [
        {
          "name": "stdout",
          "output_type": "stream",
          "text": [
            "2.15.0\n"
          ]
        }
      ],
      "source": [
        "# import tensorflow\n",
        "import tensorflow as tf\n",
        "print(tf.__version__)"
      ]
    },
    {
      "cell_type": "markdown",
      "metadata": {
        "id": "ATMaw2F-iA_A"
      },
      "source": [
        "## Creating data to view and fit"
      ]
    },
    {
      "cell_type": "code",
      "execution_count": null,
      "metadata": {
        "colab": {
          "base_uri": "https://localhost:8080/",
          "height": 454
        },
        "id": "c3ukeQN-iI8n",
        "outputId": "2cdd1e9f-f54d-4108-c80d-c49b10e736e8"
      },
      "outputs": [
        {
          "data": {
            "text/plain": [
              "<matplotlib.collections.PathCollection at 0x7c6b54a31c00>"
            ]
          },
          "execution_count": 2,
          "metadata": {},
          "output_type": "execute_result"
        },
        {
          "data": {
            "image/png": "[encoded data removed]",
            "text/plain": [
              "<Figure size 640x480 with 1 Axes>"
            ]
          },
          "metadata": {},
          "output_type": "display_data"
        }
      ],
      "source": [
        "import numpy as np\n",
        "import matplotlib.pyplot as plt\n",
        "# create features\n",
        "X = np.array([-7.0,-4.0,-1.0,2.0,5.0,8.0,11.0,14.0])\n",
        "# create labels\n",
        "y = np.array([3.0,6.0,9.0,12.0,15.0,18.0,21.0,24.0])\n",
        "\n",
        "plt.scatter(X,y)"
      ]
    },
    {
      "cell_type": "code",
      "execution_count": null,
      "metadata": {
        "colab": {
          "base_uri": "https://localhost:8080/"
        },
        "id": "00Kkv_EniIJg",
        "outputId": "86827a79-c32b-430d-f958-ec31dc2b470b"
      },
      "outputs": [
        {
          "data": {
            "text/plain": [
              "array([ True,  True,  True,  True,  True,  True,  True,  True])"
            ]
          },
          "execution_count": 3,
          "metadata": {},
          "output_type": "execute_result"
        }
      ],
      "source": [
        "y == X + 10"
      ]
    },
    {
      "cell_type": "markdown",
      "metadata": {
        "id": "Rq3y_qdqi_CV"
      },
      "source": [
        "## Input and output shapes"
      ]
    },
    {
      "cell_type": "code",
      "execution_count": null,
      "metadata": {
        "colab": {
          "base_uri": "https://localhost:8080/"
        },
        "id": "bWxsOGAljs9n",
        "outputId": "e581ab8e-11b2-4ed4-d910-9ade5b81bfc4"
      },
      "outputs": [
        {
          "data": {
            "text/plain": [
              "(-7.0, 3.0)"
            ]
          },
          "execution_count": 4,
          "metadata": {},
          "output_type": "execute_result"
        }
      ],
      "source": [
        "X[0], y[0]"
      ]
    },
    {
      "cell_type": "code",
      "execution_count": null,
      "metadata": {
        "colab": {
          "base_uri": "https://localhost:8080/"
        },
        "id": "W5mjdl7BjwEi",
        "outputId": "42c04d9c-2729-4844-cdbf-cc1a6123cc7f"
      },
      "outputs": [
        {
          "data": {
            "text/plain": [
              "(-4.0, 6.0)"
            ]
          },
          "execution_count": 5,
          "metadata": {},
          "output_type": "execute_result"
        }
      ],
      "source": [
        "X[1],y[1]"
      ]
    },
    {
      "cell_type": "code",
      "execution_count": null,
      "metadata": {
        "colab": {
          "base_uri": "https://localhost:8080/"
        },
        "id": "JiupWI3xjIDb",
        "outputId": "42808ff1-f964-477c-e72f-8a0af500f7aa"
      },
      "outputs": [
        {
          "data": {
            "text/plain": [
              "(<tf.Tensor: shape=(3,), dtype=string, numpy=array([b'bedroom', b'bathroom', b'garage'], dtype=object)>,\n",
              " <tf.Tensor: shape=(1,), dtype=int32, numpy=array([939700], dtype=int32)>)"
            ]
          },
          "execution_count": 6,
          "metadata": {},
          "output_type": "execute_result"
        }
      ],
      "source": [
        "# Create a demo tensor for our housing price prediction problem\n",
        "house_info = tf.constant([\"bedroom\",\"bathroom\",\"garage\"])\n",
        "house_price = tf.constant([939700])\n",
        "house_info,house_price"
      ]
    },
    {
      "cell_type": "code",
      "execution_count": null,
      "metadata": {
        "colab": {
          "base_uri": "https://localhost:8080/"
        },
        "id": "ZeIP8hvmjhHE",
        "outputId": "31ed32fa-9901-490b-8a99-611bb2a4cab8"
      },
      "outputs": [
        {
          "data": {
            "text/plain": [
              "((8,), (8,))"
            ]
          },
          "execution_count": 7,
          "metadata": {},
          "output_type": "execute_result"
        }
      ],
      "source": [
        "input_shape = X.shape\n",
        "output_shape = y.shape\n",
        "input_shape, output_shape"
      ]
    },
    {
      "cell_type": "code",
      "execution_count": null,
      "metadata": {
        "colab": {
          "base_uri": "https://localhost:8080/"
        },
        "id": "9uxfKqe7jmkq",
        "outputId": "3e1af40e-951a-42d4-90ef-43bfa3bf3cf5"
      },
      "outputs": [
        {
          "data": {
            "text/plain": [
              "((), ())"
            ]
          },
          "execution_count": 8,
          "metadata": {},
          "output_type": "execute_result"
        }
      ],
      "source": [
        "input_shape = X[0].shape\n",
        "output_shape = y[0].shape\n",
        "input_shape, output_shape"
      ]
    },
    {
      "cell_type": "code",
      "execution_count": null,
      "metadata": {
        "colab": {
          "base_uri": "https://localhost:8080/"
        },
        "id": "aaIeHyRYj3fw",
        "outputId": "c37f0cdf-2e36-428d-806f-df2d7d459023"
      },
      "outputs": [
        {
          "data": {
            "text/plain": [
              "0"
            ]
          },
          "execution_count": 9,
          "metadata": {},
          "output_type": "execute_result"
        }
      ],
      "source": [
        "X[0].ndim"
      ]
    },
    {
      "cell_type": "code",
      "execution_count": null,
      "metadata": {
        "colab": {
          "base_uri": "https://localhost:8080/"
        },
        "id": "n24G3tVkj9Mg",
        "outputId": "ccfa1fca-e798-45c2-d911-d38498708f4d"
      },
      "outputs": [
        {
          "data": {
            "text/plain": [
              "(-7.0, 3.0)"
            ]
          },
          "execution_count": 10,
          "metadata": {},
          "output_type": "execute_result"
        }
      ],
      "source": [
        "X[0],y[0]"
      ]
    },
    {
      "cell_type": "code",
      "execution_count": null,
      "metadata": {
        "colab": {
          "base_uri": "https://localhost:8080/"
        },
        "id": "NsZjQRhUj-6-",
        "outputId": "7d681205-85f1-412d-857b-392eacd525db"
      },
      "outputs": [
        {
          "data": {
            "text/plain": [
              "(<tf.Tensor: shape=(8,), dtype=float32, numpy=array([-7., -4., -1.,  2.,  5.,  8., 11., 14.], dtype=float32)>,\n",
              " TensorShape([8]))"
            ]
          },
          "execution_count": 11,
          "metadata": {},
          "output_type": "execute_result"
        }
      ],
      "source": [
        "# Turn numpy arrays into tensors\n",
        "X = tf.cast(tf.constant(X),dtype=tf.float32)\n",
        "y = tf.cast(tf.constant(y),dtype=tf.float32)\n",
        "X,y.shape\n"
      ]
    },
    {
      "cell_type": "code",
      "execution_count": null,
      "metadata": {
        "colab": {
          "base_uri": "https://localhost:8080/"
        },
        "id": "4JXYCIEnv1Io",
        "outputId": "8959e94a-3280-456c-f31e-1c9da3e7b023"
      },
      "outputs": [
        {
          "data": {
            "text/plain": [
              "(TensorShape([]), TensorShape([]))"
            ]
          },
          "execution_count": 12,
          "metadata": {},
          "output_type": "execute_result"
        }
      ],
      "source": [
        "input_shape = X[0].shape\n",
        "output_shape=y[0].shape\n",
        "input_shape, output_shape"
      ]
    },
    {
      "cell_type": "code",
      "execution_count": null,
      "metadata": {
        "colab": {
          "base_uri": "https://localhost:8080/",
          "height": 454
        },
        "id": "PHqjaO_MwEQk",
        "outputId": "60c409a2-3d5b-4beb-ba07-cc61062afb7e"
      },
      "outputs": [
        {
          "data": {
            "text/plain": [
              "<matplotlib.collections.PathCollection at 0x7c6b5297d1b0>"
            ]
          },
          "execution_count": 13,
          "metadata": {},
          "output_type": "execute_result"
        },
        {
          "data": {
            "image/png": "[encoded data removed]",
            "text/plain": [
              "<Figure size 640x480 with 1 Axes>"
            ]
          },
          "metadata": {},
          "output_type": "display_data"
        }
      ],
      "source": [
        "plt.scatter(X,y)"
      ]
    },
    {
      "cell_type": "markdown",
      "metadata": {
        "id": "wEpL0t1HyORv"
      },
      "source": [
        "## Steps in modelling with tensorflow\n",
        "1. Creating a model - define input and output  layers as well as hidden layers of model\n",
        "2. Compiling a model - define loss function(tells how wrong model is) and the optimizer(improves model and tells us how to improve) evaluation metrics(gauges how well model performs)\n",
        "3. Fitting the model(where model learns patterns in data)"
      ]
    },
    {
      "cell_type": "code",
      "execution_count": null,
      "metadata": {
        "id": "TBWHBScTzQ2G"
      },
      "outputs": [],
      "source": [
        "tf.random.set_seed(42)"
      ]
    },
    {
      "cell_type": "code",
      "execution_count": null,
      "metadata": {
        "id": "I4qEYEG61DPy"
      },
      "outputs": [],
      "source": [
        "model = tf.keras.Sequential()\n",
        "model.add(tf.keras.layers.Dense(1))"
      ]
    },
    {
      "cell_type": "code",
      "execution_count": null,
      "metadata": {
        "colab": {
          "base_uri": "https://localhost:8080/"
        },
        "id": "zXprJ3LZyqCM",
        "outputId": "56453529-6f0c-40b1-b811-c38f37253c91"
      },
      "outputs": [
        {
          "name": "stdout",
          "output_type": "stream",
          "text": [
            "Epoch 1/5\n",
            "1/1 [==============================] - 2s 2s/step - loss: 22.0369 - mae: 22.0369\n",
            "Epoch 2/5\n",
            "1/1 [==============================] - 0s 40ms/step - loss: 21.6437 - mae: 21.6437\n",
            "Epoch 3/5\n",
            "1/1 [==============================] - 0s 20ms/step - loss: 21.2506 - mae: 21.2506\n",
            "Epoch 4/5\n",
            "1/1 [==============================] - 0s 21ms/step - loss: 20.8575 - mae: 20.8575\n",
            "Epoch 5/5\n",
            "1/1 [==============================] - 0s 24ms/step - loss: 20.4835 - mae: 20.4835\n"
          ]
        },
        {
          "data": {
            "text/plain": [
              "<keras.src.callbacks.History at 0x7c6b43645ed0>"
            ]
          },
          "execution_count": 16,
          "metadata": {},
          "output_type": "execute_result"
        }
      ],
      "source": [
        "# 1. Create a model using sequential API(specified to problem)\n",
        "model = tf.keras.Sequential([\n",
        "    tf.keras.layers.Dense(1),\n",
        "])\n",
        "# 2. compile model\n",
        "model.compile(loss=tf.keras.losses.mae, optimizer=tf.keras.optimizers.SGD(),metrics=[\"mae\"]) # mean absolute error\n",
        "# 3. fit the model\n",
        "model.fit(tf.expand_dims(X, axis=-1), y, epochs=5) # <- updated line\n"
      ]
    },
    {
      "cell_type": "code",
      "execution_count": null,
      "metadata": {
        "colab": {
          "base_uri": "https://localhost:8080/"
        },
        "id": "CDQS6bAt2Mlz",
        "outputId": "722988ae-1175-42e6-8a5e-1a299f5a0600"
      },
      "outputs": [
        {
          "data": {
            "text/plain": [
              "(<tf.Tensor: shape=(8,), dtype=float32, numpy=array([-7., -4., -1.,  2.,  5.,  8., 11., 14.], dtype=float32)>,\n",
              " <tf.Tensor: shape=(8,), dtype=float32, numpy=array([ 3.,  6.,  9., 12., 15., 18., 21., 24.], dtype=float32)>)"
            ]
          },
          "execution_count": 17,
          "metadata": {},
          "output_type": "execute_result"
        }
      ],
      "source": [
        "X,y"
      ]
    },
    {
      "cell_type": "code",
      "execution_count": null,
      "metadata": {
        "colab": {
          "base_uri": "https://localhost:8080/"
        },
        "id": "VZXvYRChzWac",
        "outputId": "a4a242d1-19dc-46bc-f3fb-a44650793a60"
      },
      "outputs": [
        {
          "name": "stdout",
          "output_type": "stream",
          "text": [
            "1/1 [==============================] - 0s 212ms/step\n"
          ]
        },
        {
          "data": {
            "text/plain": [
              "array([[-15.629879]], dtype=float32)"
            ]
          },
          "execution_count": 18,
          "metadata": {},
          "output_type": "execute_result"
        }
      ],
      "source": [
        "y_pred = model.predict([11.0])\n",
        "y_pred"
      ]
    },
    {
      "cell_type": "markdown",
      "metadata": {
        "id": "5jQPZv5w006H"
      },
      "source": [
        "## Improving our model\n",
        "We can improve our model, by altering the steps we took to create the model\n",
        "\n",
        "1. creating a model - here we might add more layers, increase hidden units within each hidden layer, change activation func of layers\n",
        "2. compiling a model - here we might change optimization function or perhaps the learning rate of the optimization function\n",
        "3. fitting a model - here we might fit a model for more epochs or on more data"
      ]
    },
    {
      "cell_type": "code",
      "execution_count": null,
      "metadata": {
        "colab": {
          "base_uri": "https://localhost:8080/"
        },
        "id": "IYXoxTiy45C4",
        "outputId": "cbc438d2-1fd5-41e7-e2da-23b4c21e44eb"
      },
      "outputs": [
        {
          "name": "stdout",
          "output_type": "stream",
          "text": [
            "Epoch 1/100\n",
            "1/1 [==============================] - 1s 893ms/step - loss: 13.8866 - mae: 13.8866\n",
            "Epoch 2/100\n",
            "1/1 [==============================] - 0s 28ms/step - loss: 13.7541 - mae: 13.7541\n",
            "Epoch 3/100\n",
            "1/1 [==============================] - 0s 30ms/step - loss: 13.6216 - mae: 13.6216\n",
            "Epoch 4/100\n",
            "1/1 [==============================] - 0s 28ms/step - loss: 13.4891 - mae: 13.4891\n",
            "Epoch 5/100\n",
            "1/1 [==============================] - 0s 41ms/step - loss: 13.3566 - mae: 13.3566\n",
            "Epoch 6/100\n",
            "1/1 [==============================] - 0s 34ms/step - loss: 13.2241 - mae: 13.2241\n",
            "Epoch 7/100\n",
            "1/1 [==============================] - 0s 31ms/step - loss: 13.0916 - mae: 13.0916\n",
            "Epoch 8/100\n",
            "1/1 [==============================] - 0s 29ms/step - loss: 12.9591 - mae: 12.9591\n",
            "Epoch 9/100\n",
            "1/1 [==============================] - 0s 27ms/step - loss: 12.8266 - mae: 12.8266\n",
            "Epoch 10/100\n",
            "1/1 [==============================] - 0s 21ms/step - loss: 12.6941 - mae: 12.6941\n",
            "Epoch 11/100\n",
            "1/1 [==============================] - 0s 19ms/step - loss: 12.5616 - mae: 12.5616\n",
            "Epoch 12/100\n",
            "1/1 [==============================] - 0s 20ms/step - loss: 12.4291 - mae: 12.4291\n",
            "Epoch 13/100\n",
            "1/1 [==============================] - 0s 22ms/step - loss: 12.2966 - mae: 12.2966\n",
            "Epoch 14/100\n",
            "1/1 [==============================] - 0s 39ms/step - loss: 12.1641 - mae: 12.1641\n",
            "Epoch 15/100\n",
            "1/1 [==============================] - 0s 27ms/step - loss: 12.0316 - mae: 12.0316\n",
            "Epoch 16/100\n",
            "1/1 [==============================] - 0s 20ms/step - loss: 11.8991 - mae: 11.8991\n",
            "Epoch 17/100\n",
            "1/1 [==============================] - 0s 36ms/step - loss: 11.7666 - mae: 11.7666\n",
            "Epoch 18/100\n",
            "1/1 [==============================] - 0s 22ms/step - loss: 11.6341 - mae: 11.6341\n",
            "Epoch 19/100\n",
            "1/1 [==============================] - 0s 30ms/step - loss: 11.5016 - mae: 11.5016\n",
            "Epoch 20/100\n",
            "1/1 [==============================] - 0s 28ms/step - loss: 11.3691 - mae: 11.3691\n",
            "Epoch 21/100\n",
            "1/1 [==============================] - 0s 17ms/step - loss: 11.2366 - mae: 11.2366\n",
            "Epoch 22/100\n",
            "1/1 [==============================] - 0s 31ms/step - loss: 11.1041 - mae: 11.1041\n",
            "Epoch 23/100\n",
            "1/1 [==============================] - 0s 30ms/step - loss: 10.9716 - mae: 10.9716\n",
            "Epoch 24/100\n",
            "1/1 [==============================] - 0s 33ms/step - loss: 10.8391 - mae: 10.8391\n",
            "Epoch 25/100\n",
            "1/1 [==============================] - 0s 53ms/step - loss: 10.7066 - mae: 10.7066\n",
            "Epoch 26/100\n",
            "1/1 [==============================] - 0s 19ms/step - loss: 10.5741 - mae: 10.5741\n",
            "Epoch 27/100\n",
            "1/1 [==============================] - 0s 20ms/step - loss: 10.4416 - mae: 10.4416\n",
            "Epoch 28/100\n",
            "1/1 [==============================] - 0s 27ms/step - loss: 10.3091 - mae: 10.3091\n",
            "Epoch 29/100\n",
            "1/1 [==============================] - 0s 22ms/step - loss: 10.1766 - mae: 10.1766\n",
            "Epoch 30/100\n",
            "1/1 [==============================] - 0s 30ms/step - loss: 10.0441 - mae: 10.0441\n",
            "Epoch 31/100\n",
            "1/1 [==============================] - 0s 23ms/step - loss: 9.9116 - mae: 9.9116\n",
            "Epoch 32/100\n",
            "1/1 [==============================] - 0s 22ms/step - loss: 9.7791 - mae: 9.7791\n",
            "Epoch 33/100\n",
            "1/1 [==============================] - 0s 21ms/step - loss: 9.6466 - mae: 9.6466\n",
            "Epoch 34/100\n",
            "1/1 [==============================] - 0s 24ms/step - loss: 9.5141 - mae: 9.5141\n",
            "Epoch 35/100\n",
            "1/1 [==============================] - 0s 21ms/step - loss: 9.3816 - mae: 9.3816\n",
            "Epoch 36/100\n",
            "1/1 [==============================] - 0s 13ms/step - loss: 9.2491 - mae: 9.2491\n",
            "Epoch 37/100\n",
            "1/1 [==============================] - 0s 20ms/step - loss: 9.1166 - mae: 9.1166\n",
            "Epoch 38/100\n",
            "1/1 [==============================] - 0s 26ms/step - loss: 8.9841 - mae: 8.9841\n",
            "Epoch 39/100\n",
            "1/1 [==============================] - 0s 21ms/step - loss: 8.8516 - mae: 8.8516\n",
            "Epoch 40/100\n",
            "1/1 [==============================] - 0s 17ms/step - loss: 8.7191 - mae: 8.7191\n",
            "Epoch 41/100\n",
            "1/1 [==============================] - 0s 21ms/step - loss: 8.5866 - mae: 8.5866\n",
            "Epoch 42/100\n",
            "1/1 [==============================] - 0s 21ms/step - loss: 8.4541 - mae: 8.4541\n",
            "Epoch 43/100\n",
            "1/1 [==============================] - 0s 26ms/step - loss: 8.3216 - mae: 8.3216\n",
            "Epoch 44/100\n",
            "1/1 [==============================] - 0s 25ms/step - loss: 8.1891 - mae: 8.1891\n",
            "Epoch 45/100\n",
            "1/1 [==============================] - 0s 21ms/step - loss: 8.0566 - mae: 8.0566\n",
            "Epoch 46/100\n",
            "1/1 [==============================] - 0s 18ms/step - loss: 7.9241 - mae: 7.9241\n",
            "Epoch 47/100\n",
            "1/1 [==============================] - 0s 22ms/step - loss: 7.7916 - mae: 7.7916\n",
            "Epoch 48/100\n",
            "1/1 [==============================] - 0s 22ms/step - loss: 7.6591 - mae: 7.6591\n",
            "Epoch 49/100\n",
            "1/1 [==============================] - 0s 20ms/step - loss: 7.5266 - mae: 7.5266\n",
            "Epoch 50/100\n",
            "1/1 [==============================] - 0s 33ms/step - loss: 7.3941 - mae: 7.3941\n",
            "Epoch 51/100\n",
            "1/1 [==============================] - 0s 42ms/step - loss: 7.2616 - mae: 7.2616\n",
            "Epoch 52/100\n",
            "1/1 [==============================] - 0s 29ms/step - loss: 7.1291 - mae: 7.1291\n",
            "Epoch 53/100\n",
            "1/1 [==============================] - 0s 47ms/step - loss: 7.1100 - mae: 7.1100\n",
            "Epoch 54/100\n",
            "1/1 [==============================] - 0s 80ms/step - loss: 7.1044 - mae: 7.1044\n",
            "Epoch 55/100\n",
            "1/1 [==============================] - 0s 66ms/step - loss: 7.0988 - mae: 7.0988\n",
            "Epoch 56/100\n",
            "1/1 [==============================] - 0s 63ms/step - loss: 7.0931 - mae: 7.0931\n",
            "Epoch 57/100\n",
            "1/1 [==============================] - 0s 74ms/step - loss: 7.0875 - mae: 7.0875\n",
            "Epoch 58/100\n",
            "1/1 [==============================] - 0s 48ms/step - loss: 7.0819 - mae: 7.0819\n",
            "Epoch 59/100\n",
            "1/1 [==============================] - 0s 33ms/step - loss: 7.0763 - mae: 7.0763\n",
            "Epoch 60/100\n",
            "1/1 [==============================] - 0s 56ms/step - loss: 7.0706 - mae: 7.0706\n",
            "Epoch 61/100\n",
            "1/1 [==============================] - 0s 25ms/step - loss: 7.0650 - mae: 7.0650\n",
            "Epoch 62/100\n",
            "1/1 [==============================] - 0s 15ms/step - loss: 7.0594 - mae: 7.0594\n",
            "Epoch 63/100\n",
            "1/1 [==============================] - 0s 13ms/step - loss: 7.0538 - mae: 7.0538\n",
            "Epoch 64/100\n",
            "1/1 [==============================] - 0s 11ms/step - loss: 7.0481 - mae: 7.0481\n",
            "Epoch 65/100\n",
            "1/1 [==============================] - 0s 14ms/step - loss: 7.0425 - mae: 7.0425\n",
            "Epoch 66/100\n",
            "1/1 [==============================] - 0s 28ms/step - loss: 7.0369 - mae: 7.0369\n",
            "Epoch 67/100\n",
            "1/1 [==============================] - 0s 14ms/step - loss: 7.0312 - mae: 7.0312\n",
            "Epoch 68/100\n",
            "1/1 [==============================] - 0s 12ms/step - loss: 7.0256 - mae: 7.0256\n",
            "Epoch 69/100\n",
            "1/1 [==============================] - 0s 15ms/step - loss: 7.0200 - mae: 7.0200\n",
            "Epoch 70/100\n",
            "1/1 [==============================] - 0s 14ms/step - loss: 7.0144 - mae: 7.0144\n",
            "Epoch 71/100\n",
            "1/1 [==============================] - 0s 14ms/step - loss: 7.0088 - mae: 7.0088\n",
            "Epoch 72/100\n",
            "1/1 [==============================] - 0s 30ms/step - loss: 7.0031 - mae: 7.0031\n",
            "Epoch 73/100\n",
            "1/1 [==============================] - 0s 23ms/step - loss: 6.9975 - mae: 6.9975\n",
            "Epoch 74/100\n",
            "1/1 [==============================] - 0s 71ms/step - loss: 6.9919 - mae: 6.9919\n",
            "Epoch 75/100\n",
            "1/1 [==============================] - 0s 34ms/step - loss: 6.9862 - mae: 6.9862\n",
            "Epoch 76/100\n",
            "1/1 [==============================] - 0s 38ms/step - loss: 6.9806 - mae: 6.9806\n",
            "Epoch 77/100\n",
            "1/1 [==============================] - 0s 42ms/step - loss: 6.9750 - mae: 6.9750\n",
            "Epoch 78/100\n",
            "1/1 [==============================] - 0s 47ms/step - loss: 6.9694 - mae: 6.9694\n",
            "Epoch 79/100\n",
            "1/1 [==============================] - 0s 27ms/step - loss: 6.9638 - mae: 6.9638\n",
            "Epoch 80/100\n",
            "1/1 [==============================] - 0s 57ms/step - loss: 6.9581 - mae: 6.9581\n",
            "Epoch 81/100\n",
            "1/1 [==============================] - 0s 34ms/step - loss: 6.9525 - mae: 6.9525\n",
            "Epoch 82/100\n",
            "1/1 [==============================] - 0s 42ms/step - loss: 6.9469 - mae: 6.9469\n",
            "Epoch 83/100\n",
            "1/1 [==============================] - 0s 42ms/step - loss: 6.9412 - mae: 6.9412\n",
            "Epoch 84/100\n",
            "1/1 [==============================] - 0s 42ms/step - loss: 6.9356 - mae: 6.9356\n",
            "Epoch 85/100\n",
            "1/1 [==============================] - 0s 38ms/step - loss: 6.9300 - mae: 6.9300\n",
            "Epoch 86/100\n",
            "1/1 [==============================] - 0s 37ms/step - loss: 6.9244 - mae: 6.9244\n",
            "Epoch 87/100\n",
            "1/1 [==============================] - 0s 29ms/step - loss: 6.9188 - mae: 6.9188\n",
            "Epoch 88/100\n",
            "1/1 [==============================] - 0s 46ms/step - loss: 6.9131 - mae: 6.9131\n",
            "Epoch 89/100\n",
            "1/1 [==============================] - 0s 29ms/step - loss: 6.9075 - mae: 6.9075\n",
            "Epoch 90/100\n",
            "1/1 [==============================] - 0s 30ms/step - loss: 6.9019 - mae: 6.9019\n",
            "Epoch 91/100\n",
            "1/1 [==============================] - 0s 32ms/step - loss: 6.8963 - mae: 6.8963\n",
            "Epoch 92/100\n",
            "1/1 [==============================] - 0s 27ms/step - loss: 6.8906 - mae: 6.8906\n",
            "Epoch 93/100\n",
            "1/1 [==============================] - 0s 31ms/step - loss: 6.8850 - mae: 6.8850\n",
            "Epoch 94/100\n",
            "1/1 [==============================] - 0s 37ms/step - loss: 6.8794 - mae: 6.8794\n",
            "Epoch 95/100\n",
            "1/1 [==============================] - 0s 33ms/step - loss: 6.8738 - mae: 6.8738\n",
            "Epoch 96/100\n",
            "1/1 [==============================] - 0s 53ms/step - loss: 6.8681 - mae: 6.8681\n",
            "Epoch 97/100\n",
            "1/1 [==============================] - 0s 67ms/step - loss: 6.8625 - mae: 6.8625\n",
            "Epoch 98/100\n",
            "1/1 [==============================] - 0s 14ms/step - loss: 6.8569 - mae: 6.8569\n",
            "Epoch 99/100\n",
            "1/1 [==============================] - 0s 14ms/step - loss: 6.8513 - mae: 6.8513\n",
            "Epoch 100/100\n",
            "1/1 [==============================] - 0s 34ms/step - loss: 6.8456 - mae: 6.8456\n"
          ]
        },
        {
          "data": {
            "text/plain": [
              "<keras.src.callbacks.History at 0x7c6b42ca2890>"
            ]
          },
          "execution_count": 19,
          "metadata": {},
          "output_type": "execute_result"
        }
      ],
      "source": [
        "# 1. Create a model using sequential API(specified to problem)\n",
        "model = tf.keras.Sequential([\n",
        "    tf.keras.layers.Dense(1),\n",
        "])\n",
        "# 2. compile model\n",
        "model.compile(loss=tf.keras.losses.mae, optimizer=tf.keras.optimizers.SGD(),metrics=[\"mae\"]) # mean absolute error\n",
        "# 3. fit the model\n",
        "model.fit(tf.expand_dims(X, axis=-1), y, epochs=100) # <- updated line\n"
      ]
    },
    {
      "cell_type": "code",
      "execution_count": null,
      "metadata": {
        "colab": {
          "base_uri": "https://localhost:8080/"
        },
        "id": "jniXwecG5SPU",
        "outputId": "16bc27c3-eaa0-4dd0-dca8-fec8cf00adaf"
      },
      "outputs": [
        {
          "name": "stdout",
          "output_type": "stream",
          "text": [
            "1/1 [==============================] - 0s 351ms/step\n"
          ]
        },
        {
          "data": {
            "text/plain": [
              "array([[29.942139]], dtype=float32)"
            ]
          },
          "execution_count": 20,
          "metadata": {},
          "output_type": "execute_result"
        }
      ],
      "source": [
        "# Lets see if pred has improved\n",
        "y_pred = model.predict([17.0])\n",
        "y_pred"
      ]
    },
    {
      "cell_type": "code",
      "execution_count": null,
      "metadata": {
        "colab": {
          "base_uri": "https://localhost:8080/"
        },
        "id": "WWkQsStt8Ers",
        "outputId": "28861c95-7f64-492a-c8dc-a257d0ad2292"
      },
      "outputs": [
        {
          "name": "stdout",
          "output_type": "stream",
          "text": [
            "Epoch 1/100\n",
            "1/1 [==============================] - 4s 4s/step - loss: 13.9658 - mae: 13.9658\n",
            "Epoch 2/100\n",
            "1/1 [==============================] - 0s 14ms/step - loss: 13.3356 - mae: 13.3356\n",
            "Epoch 3/100\n",
            "1/1 [==============================] - 0s 16ms/step - loss: 12.7077 - mae: 12.7077\n",
            "Epoch 4/100\n",
            "1/1 [==============================] - 0s 18ms/step - loss: 12.0773 - mae: 12.0773\n",
            "Epoch 5/100\n",
            "1/1 [==============================] - 0s 17ms/step - loss: 11.4408 - mae: 11.4408\n",
            "Epoch 6/100\n",
            "1/1 [==============================] - 0s 22ms/step - loss: 10.7953 - mae: 10.7953\n",
            "Epoch 7/100\n",
            "1/1 [==============================] - 0s 18ms/step - loss: 10.1376 - mae: 10.1376\n",
            "Epoch 8/100\n",
            "1/1 [==============================] - 0s 18ms/step - loss: 9.4650 - mae: 9.4650\n",
            "Epoch 9/100\n",
            "1/1 [==============================] - 0s 19ms/step - loss: 8.7749 - mae: 8.7749\n",
            "Epoch 10/100\n",
            "1/1 [==============================] - 0s 14ms/step - loss: 8.0647 - mae: 8.0647\n",
            "Epoch 11/100\n",
            "1/1 [==============================] - 0s 17ms/step - loss: 7.3318 - mae: 7.3318\n",
            "Epoch 12/100\n",
            "1/1 [==============================] - 0s 22ms/step - loss: 6.7210 - mae: 6.7210\n",
            "Epoch 13/100\n",
            "1/1 [==============================] - 0s 18ms/step - loss: 6.7645 - mae: 6.7645\n",
            "Epoch 14/100\n",
            "1/1 [==============================] - 0s 23ms/step - loss: 7.0508 - mae: 7.0508\n",
            "Epoch 15/100\n",
            "1/1 [==============================] - 0s 26ms/step - loss: 7.2289 - mae: 7.2289\n",
            "Epoch 16/100\n",
            "1/1 [==============================] - 0s 28ms/step - loss: 7.4069 - mae: 7.4069\n",
            "Epoch 17/100\n",
            "1/1 [==============================] - 0s 19ms/step - loss: 7.3891 - mae: 7.3891\n",
            "Epoch 18/100\n",
            "1/1 [==============================] - 0s 27ms/step - loss: 7.2030 - mae: 7.2030\n",
            "Epoch 19/100\n",
            "1/1 [==============================] - 0s 31ms/step - loss: 6.9336 - mae: 6.9336\n",
            "Epoch 20/100\n",
            "1/1 [==============================] - 0s 24ms/step - loss: 6.7049 - mae: 6.7049\n",
            "Epoch 21/100\n",
            "1/1 [==============================] - 0s 23ms/step - loss: 6.4567 - mae: 6.4567\n",
            "Epoch 22/100\n",
            "1/1 [==============================] - 0s 41ms/step - loss: 6.1937 - mae: 6.1937\n",
            "Epoch 23/100\n",
            "1/1 [==============================] - 0s 21ms/step - loss: 6.0516 - mae: 6.0516\n",
            "Epoch 24/100\n",
            "1/1 [==============================] - 0s 25ms/step - loss: 6.0102 - mae: 6.0102\n",
            "Epoch 25/100\n",
            "1/1 [==============================] - 0s 21ms/step - loss: 6.0697 - mae: 6.0697\n",
            "Epoch 26/100\n",
            "1/1 [==============================] - 0s 29ms/step - loss: 6.1295 - mae: 6.1295\n",
            "Epoch 27/100\n",
            "1/1 [==============================] - 0s 55ms/step - loss: 6.0872 - mae: 6.0872\n",
            "Epoch 28/100\n",
            "1/1 [==============================] - 0s 69ms/step - loss: 5.9556 - mae: 5.9556\n",
            "Epoch 29/100\n",
            "1/1 [==============================] - 0s 45ms/step - loss: 5.7436 - mae: 5.7436\n",
            "Epoch 30/100\n",
            "1/1 [==============================] - 0s 46ms/step - loss: 5.5564 - mae: 5.5564\n",
            "Epoch 31/100\n",
            "1/1 [==============================] - 0s 44ms/step - loss: 5.4497 - mae: 5.4497\n",
            "Epoch 32/100\n",
            "1/1 [==============================] - 0s 42ms/step - loss: 5.3396 - mae: 5.3396\n",
            "Epoch 33/100\n",
            "1/1 [==============================] - 0s 23ms/step - loss: 5.3417 - mae: 5.3417\n",
            "Epoch 34/100\n",
            "1/1 [==============================] - 0s 17ms/step - loss: 5.3251 - mae: 5.3251\n",
            "Epoch 35/100\n",
            "1/1 [==============================] - 0s 20ms/step - loss: 5.2662 - mae: 5.2662\n",
            "Epoch 36/100\n",
            "1/1 [==============================] - 0s 19ms/step - loss: 5.1683 - mae: 5.1683\n",
            "Epoch 37/100\n",
            "1/1 [==============================] - 0s 19ms/step - loss: 5.0349 - mae: 5.0349\n",
            "Epoch 38/100\n",
            "1/1 [==============================] - 0s 16ms/step - loss: 4.8692 - mae: 4.8692\n",
            "Epoch 39/100\n",
            "1/1 [==============================] - 0s 17ms/step - loss: 4.6746 - mae: 4.6746\n",
            "Epoch 40/100\n",
            "1/1 [==============================] - 0s 21ms/step - loss: 4.5655 - mae: 4.5655\n",
            "Epoch 41/100\n",
            "1/1 [==============================] - 0s 23ms/step - loss: 4.4740 - mae: 4.4740\n",
            "Epoch 42/100\n",
            "1/1 [==============================] - 0s 19ms/step - loss: 4.3866 - mae: 4.3866\n",
            "Epoch 43/100\n",
            "1/1 [==============================] - 0s 20ms/step - loss: 4.2913 - mae: 4.2913\n",
            "Epoch 44/100\n",
            "1/1 [==============================] - 0s 21ms/step - loss: 4.1137 - mae: 4.1137\n",
            "Epoch 45/100\n",
            "1/1 [==============================] - 0s 23ms/step - loss: 3.9668 - mae: 3.9668\n",
            "Epoch 46/100\n",
            "1/1 [==============================] - 0s 19ms/step - loss: 3.8122 - mae: 3.8122\n",
            "Epoch 47/100\n",
            "1/1 [==============================] - 0s 18ms/step - loss: 3.6498 - mae: 3.6498\n",
            "Epoch 48/100\n",
            "1/1 [==============================] - 0s 19ms/step - loss: 3.5284 - mae: 3.5284\n",
            "Epoch 49/100\n",
            "1/1 [==============================] - 0s 24ms/step - loss: 3.3949 - mae: 3.3949\n",
            "Epoch 50/100\n",
            "1/1 [==============================] - 0s 24ms/step - loss: 3.2126 - mae: 3.2126\n",
            "Epoch 51/100\n",
            "1/1 [==============================] - 0s 23ms/step - loss: 2.9898 - mae: 2.9898\n",
            "Epoch 52/100\n",
            "1/1 [==============================] - 0s 21ms/step - loss: 2.8180 - mae: 2.8180\n",
            "Epoch 53/100\n",
            "1/1 [==============================] - 0s 26ms/step - loss: 2.6344 - mae: 2.6344\n",
            "Epoch 54/100\n",
            "1/1 [==============================] - 0s 24ms/step - loss: 2.4389 - mae: 2.4389\n",
            "Epoch 55/100\n",
            "1/1 [==============================] - 0s 24ms/step - loss: 2.2314 - mae: 2.2314\n",
            "Epoch 56/100\n",
            "1/1 [==============================] - 0s 35ms/step - loss: 2.0118 - mae: 2.0118\n",
            "Epoch 57/100\n",
            "1/1 [==============================] - 0s 29ms/step - loss: 1.7798 - mae: 1.7798\n",
            "Epoch 58/100\n",
            "1/1 [==============================] - 0s 53ms/step - loss: 1.5353 - mae: 1.5353\n",
            "Epoch 59/100\n",
            "1/1 [==============================] - 0s 21ms/step - loss: 1.2781 - mae: 1.2781\n",
            "Epoch 60/100\n",
            "1/1 [==============================] - 0s 24ms/step - loss: 1.0249 - mae: 1.0249\n",
            "Epoch 61/100\n",
            "1/1 [==============================] - 0s 50ms/step - loss: 0.7395 - mae: 0.7395\n",
            "Epoch 62/100\n",
            "1/1 [==============================] - 0s 41ms/step - loss: 0.4565 - mae: 0.4565\n",
            "Epoch 63/100\n",
            "1/1 [==============================] - 0s 25ms/step - loss: 0.1867 - mae: 0.1867\n",
            "Epoch 64/100\n",
            "1/1 [==============================] - 0s 30ms/step - loss: 0.2920 - mae: 0.2920\n",
            "Epoch 65/100\n",
            "1/1 [==============================] - 0s 26ms/step - loss: 0.4811 - mae: 0.4811\n",
            "Epoch 66/100\n",
            "1/1 [==============================] - 0s 61ms/step - loss: 0.6178 - mae: 0.6178\n",
            "Epoch 67/100\n",
            "1/1 [==============================] - 0s 27ms/step - loss: 0.8183 - mae: 0.8183\n",
            "Epoch 68/100\n",
            "1/1 [==============================] - 0s 62ms/step - loss: 0.7735 - mae: 0.7735\n",
            "Epoch 69/100\n",
            "1/1 [==============================] - 0s 30ms/step - loss: 0.9093 - mae: 0.9093\n",
            "Epoch 70/100\n",
            "1/1 [==============================] - 0s 36ms/step - loss: 0.9149 - mae: 0.9149\n",
            "Epoch 71/100\n",
            "1/1 [==============================] - 0s 30ms/step - loss: 0.7165 - mae: 0.7165\n",
            "Epoch 72/100\n",
            "1/1 [==============================] - 0s 36ms/step - loss: 0.7018 - mae: 0.7018\n",
            "Epoch 73/100\n",
            "1/1 [==============================] - 0s 26ms/step - loss: 0.5679 - mae: 0.5679\n",
            "Epoch 74/100\n",
            "1/1 [==============================] - 0s 29ms/step - loss: 0.3995 - mae: 0.3995\n",
            "Epoch 75/100\n",
            "1/1 [==============================] - 0s 20ms/step - loss: 0.2473 - mae: 0.2473\n",
            "Epoch 76/100\n",
            "1/1 [==============================] - 0s 20ms/step - loss: 0.0938 - mae: 0.0938\n",
            "Epoch 77/100\n",
            "1/1 [==============================] - 0s 23ms/step - loss: 0.1958 - mae: 0.1958\n",
            "Epoch 78/100\n",
            "1/1 [==============================] - 0s 25ms/step - loss: 0.2671 - mae: 0.2671\n",
            "Epoch 79/100\n",
            "1/1 [==============================] - 0s 26ms/step - loss: 0.4199 - mae: 0.4199\n",
            "Epoch 80/100\n",
            "1/1 [==============================] - 0s 26ms/step - loss: 0.4710 - mae: 0.4710\n",
            "Epoch 81/100\n",
            "1/1 [==============================] - 0s 22ms/step - loss: 0.3736 - mae: 0.3736\n",
            "Epoch 82/100\n",
            "1/1 [==============================] - 0s 32ms/step - loss: 0.4431 - mae: 0.4431\n",
            "Epoch 83/100\n",
            "1/1 [==============================] - 0s 48ms/step - loss: 0.3568 - mae: 0.3568\n",
            "Epoch 84/100\n",
            "1/1 [==============================] - 0s 36ms/step - loss: 0.3463 - mae: 0.3463\n",
            "Epoch 85/100\n",
            "1/1 [==============================] - 0s 26ms/step - loss: 0.3011 - mae: 0.3011\n",
            "Epoch 86/100\n",
            "1/1 [==============================] - 0s 22ms/step - loss: 0.1031 - mae: 0.1031\n",
            "Epoch 87/100\n",
            "1/1 [==============================] - 0s 20ms/step - loss: 0.1394 - mae: 0.1394\n",
            "Epoch 88/100\n",
            "1/1 [==============================] - 0s 22ms/step - loss: 0.2424 - mae: 0.2424\n",
            "Epoch 89/100\n",
            "1/1 [==============================] - 0s 25ms/step - loss: 0.3023 - mae: 0.3023\n",
            "Epoch 90/100\n",
            "1/1 [==============================] - 0s 20ms/step - loss: 0.2053 - mae: 0.2053\n",
            "Epoch 91/100\n",
            "1/1 [==============================] - 0s 19ms/step - loss: 0.2107 - mae: 0.2107\n",
            "Epoch 92/100\n",
            "1/1 [==============================] - 0s 22ms/step - loss: 0.1944 - mae: 0.1944\n",
            "Epoch 93/100\n",
            "1/1 [==============================] - 0s 30ms/step - loss: 0.0882 - mae: 0.0882\n",
            "Epoch 94/100\n",
            "1/1 [==============================] - 0s 20ms/step - loss: 0.2259 - mae: 0.2259\n",
            "Epoch 95/100\n",
            "1/1 [==============================] - 0s 21ms/step - loss: 0.1964 - mae: 0.1964\n",
            "Epoch 96/100\n",
            "1/1 [==============================] - 0s 25ms/step - loss: 0.2163 - mae: 0.2163\n",
            "Epoch 97/100\n",
            "1/1 [==============================] - 0s 21ms/step - loss: 0.2556 - mae: 0.2556\n",
            "Epoch 98/100\n",
            "1/1 [==============================] - 0s 19ms/step - loss: 0.2071 - mae: 0.2071\n",
            "Epoch 99/100\n",
            "1/1 [==============================] - 0s 21ms/step - loss: 0.1890 - mae: 0.1890\n",
            "Epoch 100/100\n",
            "1/1 [==============================] - 0s 20ms/step - loss: 0.1218 - mae: 0.1218\n"
          ]
        },
        {
          "data": {
            "text/plain": [
              "<keras.src.callbacks.History at 0x7c6b43fb2c50>"
            ]
          },
          "execution_count": 21,
          "metadata": {},
          "output_type": "execute_result"
        }
      ],
      "source": [
        "# 1. Create a model using sequential API(specified to problem)\n",
        "model = tf.keras.Sequential([\n",
        "    tf.keras.layers.Dense(50,activation=None),\n",
        "    tf.keras.layers.Dense(1),\n",
        "])\n",
        "# 2. compile model\n",
        "model.compile(loss=tf.keras.losses.mae, optimizer=tf.keras.optimizers.Adam(learning_rate=0.01),metrics=[\"mae\"]) # mean absolute error\n",
        "# 3. fit the model\n",
        "model.fit(tf.expand_dims(X, axis=-1), y, epochs=100) # <- updated line\n"
      ]
    },
    {
      "cell_type": "code",
      "execution_count": null,
      "metadata": {
        "colab": {
          "base_uri": "https://localhost:8080/"
        },
        "id": "DuslWhU28aIO",
        "outputId": "e6b7e85e-f7dc-4714-efdb-244c6f3b505d"
      },
      "outputs": [
        {
          "data": {
            "text/plain": [
              "(<tf.Tensor: shape=(8,), dtype=float32, numpy=array([-7., -4., -1.,  2.,  5.,  8., 11., 14.], dtype=float32)>,\n",
              " <tf.Tensor: shape=(8,), dtype=float32, numpy=array([ 3.,  6.,  9., 12., 15., 18., 21., 24.], dtype=float32)>)"
            ]
          },
          "execution_count": 22,
          "metadata": {},
          "output_type": "execute_result"
        }
      ],
      "source": [
        "X,y"
      ]
    },
    {
      "cell_type": "code",
      "execution_count": null,
      "metadata": {
        "colab": {
          "base_uri": "https://localhost:8080/"
        },
        "id": "komLYnfi8Q8S",
        "outputId": "45b89e05-8c6d-49aa-aa52-550a772fa25b"
      },
      "outputs": [
        {
          "name": "stdout",
          "output_type": "stream",
          "text": [
            "1/1 [==============================] - 0s 304ms/step\n"
          ]
        },
        {
          "data": {
            "text/plain": [
              "array([[26.930693]], dtype=float32)"
            ]
          },
          "execution_count": 23,
          "metadata": {},
          "output_type": "execute_result"
        }
      ],
      "source": [
        "# Lets see if pred has improved\n",
        "y_pred = model.predict([17.0])\n",
        "y_pred"
      ]
    },
    {
      "cell_type": "markdown",
      "metadata": {
        "id": "k5Fxd8Qd8FxS"
      },
      "source": [
        "## Evaluating a model\n",
        "In practice, a typical workflow you'll go through when building a neural network is:\n",
        "\n",
        "``` build a model -> fit it -> evaluate it -> tweak a model -> evaluate it -> repeat"
      ]
    },
    {
      "cell_type": "markdown",
      "metadata": {
        "id": "JRHGTOUN4fCd"
      },
      "source": [
        "When it comes to evaluation experiment experiment experiment\n",
        "When it comes to evaluation it's\n",
        "> visualization, visualization, visualization\n",
        "It's a good idea to visualize\n",
        "* The data - imagine what it looks like\n",
        "* The model itself - what does our model look like?\n",
        "* The training of a model - how does model perform while it learns?\n",
        "* The predictions of the model - how do predictions line up with the ground truth"
      ]
    },
    {
      "cell_type": "code",
      "execution_count": null,
      "metadata": {
        "colab": {
          "base_uri": "https://localhost:8080/"
        },
        "id": "O_l1TrMgU8OI",
        "outputId": "962267cf-26e9-45a6-dae1-16009db1e1ad"
      },
      "outputs": [
        {
          "data": {
            "text/plain": [
              "<tf.Tensor: shape=(50,), dtype=int32, numpy=\n",
              "array([-100,  -96,  -92,  -88,  -84,  -80,  -76,  -72,  -68,  -64,  -60,\n",
              "        -56,  -52,  -48,  -44,  -40,  -36,  -32,  -28,  -24,  -20,  -16,\n",
              "        -12,   -8,   -4,    0,    4,    8,   12,   16,   20,   24,   28,\n",
              "         32,   36,   40,   44,   48,   52,   56,   60,   64,   68,   72,\n",
              "         76,   80,   84,   88,   92,   96], dtype=int32)>"
            ]
          },
          "execution_count": 24,
          "metadata": {},
          "output_type": "execute_result"
        }
      ],
      "source": [
        "# Make a bigger dataset\n",
        "X = tf.range(-100,100,4)\n",
        "X"
      ]
    },
    {
      "cell_type": "code",
      "execution_count": null,
      "metadata": {
        "colab": {
          "base_uri": "https://localhost:8080/"
        },
        "id": "ClUwP6AvVDIY",
        "outputId": "caa11b16-d3f8-41f4-f269-c833ee79f031"
      },
      "outputs": [
        {
          "data": {
            "text/plain": [
              "<tf.Tensor: shape=(50,), dtype=int32, numpy=\n",
              "array([-90, -86, -82, -78, -74, -70, -66, -62, -58, -54, -50, -46, -42,\n",
              "       -38, -34, -30, -26, -22, -18, -14, -10,  -6,  -2,   2,   6,  10,\n",
              "        14,  18,  22,  26,  30,  34,  38,  42,  46,  50,  54,  58,  62,\n",
              "        66,  70,  74,  78,  82,  86,  90,  94,  98, 102, 106], dtype=int32)>"
            ]
          },
          "execution_count": 25,
          "metadata": {},
          "output_type": "execute_result"
        }
      ],
      "source": [
        "# Make labels for the datase\n",
        "y = X + 10\n",
        "y"
      ]
    },
    {
      "cell_type": "code",
      "execution_count": null,
      "metadata": {
        "colab": {
          "base_uri": "https://localhost:8080/",
          "height": 449
        },
        "id": "KaS1K5sUVN30",
        "outputId": "faf4d438-52e1-4f45-f6e9-aaa316c8a178"
      },
      "outputs": [
        {
          "data": {
            "text/plain": [
              "<matplotlib.collections.PathCollection at 0x7c6b43ee3790>"
            ]
          },
          "execution_count": 26,
          "metadata": {},
          "output_type": "execute_result"
        },
        {
          "data": {
            "image/png": "[encoded data removed]",
            "text/plain": [
              "<Figure size 640x480 with 1 Axes>"
            ]
          },
          "metadata": {},
          "output_type": "display_data"
        }
      ],
      "source": [
        "# visualize the data\n",
        "plt.scatter(X,y)"
      ]
    },
    {
      "cell_type": "markdown",
      "metadata": {
        "id": "Bk62q06AVtjp"
      },
      "source": [
        "### The 3 sets...."
      ]
    },
    {
      "cell_type": "markdown",
      "metadata": {
        "id": "Y1PiPPYeUTu9"
      },
      "source": [
        "* **Training** - the model used to train the data, usually 70 - 80 % of the total amount of data\n",
        "* **Validation** - Used to validate how well the model performs usually around 10% of the total available data\n",
        "* **Test** - provides an unbiased account of how well the model is performing usually 10 - 15 % of the total available data\n",
        "\n",
        "We want the model to be able to generalize - performs well on data which the model hasn't seen before and learns generalised patterns within the data"
      ]
    },
    {
      "cell_type": "code",
      "execution_count": null,
      "metadata": {
        "colab": {
          "base_uri": "https://localhost:8080/"
        },
        "id": "q_ifD0ZlaocP",
        "outputId": "19d5e358-1877-4e85-a118-01be53abc4b0"
      },
      "outputs": [
        {
          "data": {
            "text/plain": [
              "50"
            ]
          },
          "execution_count": 27,
          "metadata": {},
          "output_type": "execute_result"
        }
      ],
      "source": [
        "# Check the length of how many samples we have\n",
        "len(X)"
      ]
    },
    {
      "cell_type": "code",
      "execution_count": null,
      "metadata": {
        "colab": {
          "base_uri": "https://localhost:8080/"
        },
        "id": "x2xoPmEabAwa",
        "outputId": "788c23b5-01d2-4e24-ab15-d17b14fea607"
      },
      "outputs": [
        {
          "data": {
            "text/plain": [
              "(40, 10, 40, 10)"
            ]
          },
          "execution_count": 28,
          "metadata": {},
          "output_type": "execute_result"
        }
      ],
      "source": [
        "# Split the data into train and test sets\n",
        "X_train = X[:40] # first 40 are training samples\n",
        "y_train = y[:40]\n",
        "\n",
        "X_test = X[40:]\n",
        "y_test = y[40:]\n",
        "\n",
        "len(X_train),len(X_test),len(y_train),len(y_test)"
      ]
    },
    {
      "cell_type": "markdown",
      "metadata": {
        "id": "u9GxXdrjcWmQ"
      },
      "source": [
        "### Visualizing the data\n",
        "Now we've got the data in training and test sets... let's visualize it again!"
      ]
    },
    {
      "cell_type": "code",
      "execution_count": null,
      "metadata": {
        "colab": {
          "base_uri": "https://localhost:8080/",
          "height": 618
        },
        "id": "RmQ7DnPNc211",
        "outputId": "e25d145e-22fe-4628-e078-80c0e308ad2e"
      },
      "outputs": [
        {
          "data": {
            "text/plain": [
              "<matplotlib.legend.Legend at 0x7c6b438c1810>"
            ]
          },
          "execution_count": 29,
          "metadata": {},
          "output_type": "execute_result"
        },
        {
          "data": {
            "image/png": "[encoded data removed]",
            "text/plain": [
              "<Figure size 1000x700 with 1 Axes>"
            ]
          },
          "metadata": {},
          "output_type": "display_data"
        }
      ],
      "source": [
        "plt.figure(figsize=(10,7))\n",
        "\n",
        "# plot the training data in blue\n",
        "plt.scatter(X_train,y_train, c='b',label=\"Training data\")\n",
        "plt.scatter(X_test, y_test, c=\"g\",label=(\"Testing data\"))\n",
        "plt.legend()"
      ]
    },
    {
      "cell_type": "markdown",
      "metadata": {
        "id": "lldNEoaJdLvo"
      },
      "source": [
        "# Let's have a look at how to build a neural network with our data"
      ]
    },
    {
      "cell_type": "code",
      "execution_count": null,
      "metadata": {
        "colab": {
          "base_uri": "https://localhost:8080/"
        },
        "id": "WHxIIuWunwXM",
        "outputId": "e0c9eb22-3db1-4604-a4ab-72435022d12b"
      },
      "outputs": [
        {
          "name": "stdout",
          "output_type": "stream",
          "text": [
            "Epoch 1/100\n",
            "2/2 [==============================] - 1s 12ms/step - loss: 96.5149 - mae: 96.5149\n",
            "Epoch 2/100\n",
            "2/2 [==============================] - 0s 14ms/step - loss: 46.8268 - mae: 46.8268\n",
            "Epoch 3/100\n",
            "2/2 [==============================] - 0s 13ms/step - loss: 9.9734 - mae: 9.9734\n",
            "Epoch 4/100\n",
            "2/2 [==============================] - 0s 18ms/step - loss: 12.3977 - mae: 12.3977\n",
            "Epoch 5/100\n",
            "2/2 [==============================] - 0s 16ms/step - loss: 15.5455 - mae: 15.5455\n",
            "Epoch 6/100\n",
            "2/2 [==============================] - 0s 16ms/step - loss: 11.8591 - mae: 11.8591\n",
            "Epoch 7/100\n",
            "2/2 [==============================] - 0s 7ms/step - loss: 9.1764 - mae: 9.1764\n",
            "Epoch 8/100\n",
            "2/2 [==============================] - 0s 18ms/step - loss: 13.6410 - mae: 13.6410\n",
            "Epoch 9/100\n",
            "2/2 [==============================] - 0s 23ms/step - loss: 13.8876 - mae: 13.8876\n",
            "Epoch 10/100\n",
            "2/2 [==============================] - 0s 16ms/step - loss: 10.0261 - mae: 10.0261\n",
            "Epoch 11/100\n",
            "2/2 [==============================] - 0s 14ms/step - loss: 9.9981 - mae: 9.9981\n",
            "Epoch 12/100\n",
            "2/2 [==============================] - 0s 29ms/step - loss: 9.9392 - mae: 9.9392\n",
            "Epoch 13/100\n",
            "2/2 [==============================] - 0s 17ms/step - loss: 9.7774 - mae: 9.7774\n",
            "Epoch 14/100\n",
            "2/2 [==============================] - 0s 16ms/step - loss: 10.5781 - mae: 10.5781\n",
            "Epoch 15/100\n",
            "2/2 [==============================] - 0s 16ms/step - loss: 13.8013 - mae: 13.8013\n",
            "Epoch 16/100\n",
            "2/2 [==============================] - 0s 26ms/step - loss: 12.4160 - mae: 12.4160\n",
            "Epoch 17/100\n",
            "2/2 [==============================] - 0s 56ms/step - loss: 10.2019 - mae: 10.2019\n",
            "Epoch 18/100\n",
            "2/2 [==============================] - 0s 43ms/step - loss: 10.6926 - mae: 10.6926\n",
            "Epoch 19/100\n",
            "2/2 [==============================] - 0s 23ms/step - loss: 10.0956 - mae: 10.0956\n",
            "Epoch 20/100\n",
            "2/2 [==============================] - 0s 28ms/step - loss: 10.8900 - mae: 10.8900\n",
            "Epoch 21/100\n",
            "2/2 [==============================] - 0s 19ms/step - loss: 12.1215 - mae: 12.1215\n",
            "Epoch 22/100\n",
            "2/2 [==============================] - 0s 14ms/step - loss: 9.6028 - mae: 9.6028\n",
            "Epoch 23/100\n",
            "2/2 [==============================] - 0s 32ms/step - loss: 9.3329 - mae: 9.3329\n",
            "Epoch 24/100\n",
            "2/2 [==============================] - 0s 16ms/step - loss: 9.7420 - mae: 9.7420\n",
            "Epoch 25/100\n",
            "2/2 [==============================] - 0s 20ms/step - loss: 9.6384 - mae: 9.6384\n",
            "Epoch 26/100\n",
            "2/2 [==============================] - 0s 16ms/step - loss: 10.0437 - mae: 10.0437\n",
            "Epoch 27/100\n",
            "2/2 [==============================] - 0s 31ms/step - loss: 10.3811 - mae: 10.3811\n",
            "Epoch 28/100\n",
            "2/2 [==============================] - 0s 43ms/step - loss: 9.7851 - mae: 9.7851\n",
            "Epoch 29/100\n",
            "2/2 [==============================] - 0s 16ms/step - loss: 9.6715 - mae: 9.6715\n",
            "Epoch 30/100\n",
            "2/2 [==============================] - 0s 24ms/step - loss: 9.7959 - mae: 9.7959\n",
            "Epoch 31/100\n",
            "2/2 [==============================] - 0s 14ms/step - loss: 10.6901 - mae: 10.6901\n",
            "Epoch 32/100\n",
            "2/2 [==============================] - 0s 16ms/step - loss: 9.6908 - mae: 9.6908\n",
            "Epoch 33/100\n",
            "2/2 [==============================] - 0s 23ms/step - loss: 9.5121 - mae: 9.5121\n",
            "Epoch 34/100\n",
            "2/2 [==============================] - 0s 13ms/step - loss: 9.8377 - mae: 9.8377\n",
            "Epoch 35/100\n",
            "2/2 [==============================] - 0s 11ms/step - loss: 11.0323 - mae: 11.0323\n",
            "Epoch 36/100\n",
            "2/2 [==============================] - 0s 10ms/step - loss: 10.6796 - mae: 10.6796\n",
            "Epoch 37/100\n",
            "2/2 [==============================] - 0s 10ms/step - loss: 9.4040 - mae: 9.4040\n",
            "Epoch 38/100\n",
            "2/2 [==============================] - 0s 12ms/step - loss: 9.4124 - mae: 9.4124\n",
            "Epoch 39/100\n",
            "2/2 [==============================] - 0s 10ms/step - loss: 10.2441 - mae: 10.2441\n",
            "Epoch 40/100\n",
            "2/2 [==============================] - 0s 16ms/step - loss: 11.8273 - mae: 11.8273\n",
            "Epoch 41/100\n",
            "2/2 [==============================] - 0s 35ms/step - loss: 10.4430 - mae: 10.4430\n",
            "Epoch 42/100\n",
            "2/2 [==============================] - 0s 20ms/step - loss: 10.3874 - mae: 10.3874\n",
            "Epoch 43/100\n",
            "2/2 [==============================] - 0s 27ms/step - loss: 12.9659 - mae: 12.9659\n",
            "Epoch 44/100\n",
            "2/2 [==============================] - 0s 23ms/step - loss: 10.1979 - mae: 10.1979\n",
            "Epoch 45/100\n",
            "2/2 [==============================] - 0s 15ms/step - loss: 9.5402 - mae: 9.5402\n",
            "Epoch 46/100\n",
            "2/2 [==============================] - 0s 35ms/step - loss: 9.4048 - mae: 9.4048\n",
            "Epoch 47/100\n",
            "2/2 [==============================] - 0s 46ms/step - loss: 9.3917 - mae: 9.3917\n",
            "Epoch 48/100\n",
            "2/2 [==============================] - 0s 23ms/step - loss: 9.6355 - mae: 9.6355\n",
            "Epoch 49/100\n",
            "2/2 [==============================] - 0s 33ms/step - loss: 10.2903 - mae: 10.2903\n",
            "Epoch 50/100\n",
            "2/2 [==============================] - 0s 22ms/step - loss: 9.6038 - mae: 9.6038\n",
            "Epoch 51/100\n",
            "2/2 [==============================] - 0s 11ms/step - loss: 9.0437 - mae: 9.0437\n",
            "Epoch 52/100\n",
            "2/2 [==============================] - 0s 30ms/step - loss: 9.3056 - mae: 9.3056\n",
            "Epoch 53/100\n",
            "2/2 [==============================] - 0s 14ms/step - loss: 9.4287 - mae: 9.4287\n",
            "Epoch 54/100\n",
            "2/2 [==============================] - 0s 15ms/step - loss: 9.3056 - mae: 9.3056\n",
            "Epoch 55/100\n",
            "2/2 [==============================] - 0s 16ms/step - loss: 9.4618 - mae: 9.4618\n",
            "Epoch 56/100\n",
            "2/2 [==============================] - 0s 15ms/step - loss: 9.1500 - mae: 9.1500\n",
            "Epoch 57/100\n",
            "2/2 [==============================] - 0s 17ms/step - loss: 8.7354 - mae: 8.7354\n",
            "Epoch 58/100\n",
            "2/2 [==============================] - 0s 12ms/step - loss: 9.2282 - mae: 9.2282\n",
            "Epoch 59/100\n",
            "2/2 [==============================] - 0s 8ms/step - loss: 9.0485 - mae: 9.0485\n",
            "Epoch 60/100\n",
            "2/2 [==============================] - 0s 9ms/step - loss: 10.1782 - mae: 10.1782\n",
            "Epoch 61/100\n",
            "2/2 [==============================] - 0s 9ms/step - loss: 9.0346 - mae: 9.0346\n",
            "Epoch 62/100\n",
            "2/2 [==============================] - 0s 20ms/step - loss: 10.0247 - mae: 10.0247\n",
            "Epoch 63/100\n",
            "2/2 [==============================] - 0s 14ms/step - loss: 12.7962 - mae: 12.7962\n",
            "Epoch 64/100\n",
            "2/2 [==============================] - 0s 15ms/step - loss: 9.4819 - mae: 9.4819\n",
            "Epoch 65/100\n",
            "2/2 [==============================] - 0s 16ms/step - loss: 8.9559 - mae: 8.9559\n",
            "Epoch 66/100\n",
            "2/2 [==============================] - 0s 14ms/step - loss: 8.9469 - mae: 8.9469\n",
            "Epoch 67/100\n",
            "2/2 [==============================] - 0s 14ms/step - loss: 9.0653 - mae: 9.0653\n",
            "Epoch 68/100\n",
            "2/2 [==============================] - 0s 13ms/step - loss: 9.1771 - mae: 9.1771\n",
            "Epoch 69/100\n",
            "2/2 [==============================] - 0s 13ms/step - loss: 9.1724 - mae: 9.1724\n",
            "Epoch 70/100\n",
            "2/2 [==============================] - 0s 18ms/step - loss: 9.4323 - mae: 9.4323\n",
            "Epoch 71/100\n",
            "2/2 [==============================] - 0s 16ms/step - loss: 8.8775 - mae: 8.8775\n",
            "Epoch 72/100\n",
            "2/2 [==============================] - 0s 12ms/step - loss: 9.9714 - mae: 9.9714\n",
            "Epoch 73/100\n",
            "2/2 [==============================] - 0s 12ms/step - loss: 11.9183 - mae: 11.9183\n",
            "Epoch 74/100\n",
            "2/2 [==============================] - 0s 53ms/step - loss: 8.5515 - mae: 8.5515\n",
            "Epoch 75/100\n",
            "2/2 [==============================] - 0s 17ms/step - loss: 8.7409 - mae: 8.7409\n",
            "Epoch 76/100\n",
            "2/2 [==============================] - 0s 21ms/step - loss: 8.7865 - mae: 8.7865\n",
            "Epoch 77/100\n",
            "2/2 [==============================] - 0s 10ms/step - loss: 8.1601 - mae: 8.1601\n",
            "Epoch 78/100\n",
            "2/2 [==============================] - 0s 17ms/step - loss: 11.2055 - mae: 11.2055\n",
            "Epoch 79/100\n",
            "2/2 [==============================] - 0s 12ms/step - loss: 9.5367 - mae: 9.5367\n",
            "Epoch 80/100\n",
            "2/2 [==============================] - 0s 22ms/step - loss: 13.1610 - mae: 13.1610\n",
            "Epoch 81/100\n",
            "2/2 [==============================] - 0s 12ms/step - loss: 14.3045 - mae: 14.3045\n",
            "Epoch 82/100\n",
            "2/2 [==============================] - 0s 20ms/step - loss: 16.2380 - mae: 16.2380\n",
            "Epoch 83/100\n",
            "2/2 [==============================] - 0s 22ms/step - loss: 9.5237 - mae: 9.5237\n",
            "Epoch 84/100\n",
            "2/2 [==============================] - 0s 21ms/step - loss: 8.6163 - mae: 8.6163\n",
            "Epoch 85/100\n",
            "2/2 [==============================] - 0s 17ms/step - loss: 8.7185 - mae: 8.7185\n",
            "Epoch 86/100\n",
            "2/2 [==============================] - 0s 16ms/step - loss: 8.9867 - mae: 8.9867\n",
            "Epoch 87/100\n",
            "2/2 [==============================] - 0s 16ms/step - loss: 9.1427 - mae: 9.1427\n",
            "Epoch 88/100\n",
            "2/2 [==============================] - 0s 16ms/step - loss: 8.6909 - mae: 8.6909\n",
            "Epoch 89/100\n",
            "2/2 [==============================] - 0s 9ms/step - loss: 8.8340 - mae: 8.8340\n",
            "Epoch 90/100\n",
            "2/2 [==============================] - 0s 11ms/step - loss: 8.6434 - mae: 8.6434\n",
            "Epoch 91/100\n",
            "2/2 [==============================] - 0s 10ms/step - loss: 8.6934 - mae: 8.6934\n",
            "Epoch 92/100\n",
            "2/2 [==============================] - 0s 12ms/step - loss: 8.5601 - mae: 8.5601\n",
            "Epoch 93/100\n",
            "2/2 [==============================] - 0s 16ms/step - loss: 9.1519 - mae: 9.1519\n",
            "Epoch 94/100\n",
            "2/2 [==============================] - 0s 12ms/step - loss: 9.8900 - mae: 9.8900\n",
            "Epoch 95/100\n",
            "2/2 [==============================] - 0s 11ms/step - loss: 12.8066 - mae: 12.8066\n",
            "Epoch 96/100\n",
            "2/2 [==============================] - 0s 15ms/step - loss: 9.1318 - mae: 9.1318\n",
            "Epoch 97/100\n",
            "2/2 [==============================] - 0s 11ms/step - loss: 10.5295 - mae: 10.5295\n",
            "Epoch 98/100\n",
            "2/2 [==============================] - 0s 10ms/step - loss: 14.7336 - mae: 14.7336\n",
            "Epoch 99/100\n",
            "2/2 [==============================] - 0s 19ms/step - loss: 10.8396 - mae: 10.8396\n",
            "Epoch 100/100\n",
            "2/2 [==============================] - 0s 27ms/step - loss: 14.8909 - mae: 14.8909\n"
          ]
        },
        {
          "data": {
            "text/plain": [
              "<keras.src.callbacks.History at 0x7c6b4393ef20>"
            ]
          },
          "execution_count": 30,
          "metadata": {},
          "output_type": "execute_result"
        }
      ],
      "source": [
        "# 1. Create a model using sequential API(specified to problem)\n",
        "model = tf.keras.Sequential([\n",
        "    tf.keras.layers.Dense(1),\n",
        "])\n",
        "# 2. compile model\n",
        "model.compile(loss=tf.keras.losses.mae, optimizer=tf.keras.optimizers.SGD(),metrics=[\"mae\"]) # mean absolute error\n",
        "# 3. fit the model\n",
        "model.fit(tf.expand_dims(X, axis=-1), y, epochs=100) # <- updated line\n"
      ]
    },
    {
      "cell_type": "markdown",
      "metadata": {
        "id": "_zOAcwuaojHp"
      },
      "source": [
        "# Visualizing the model"
      ]
    },
    {
      "cell_type": "code",
      "execution_count": null,
      "metadata": {
        "id": "aL4yEzWForrp"
      },
      "outputs": [],
      "source": [
        "model.build()"
      ]
    },
    {
      "cell_type": "code",
      "execution_count": null,
      "metadata": {
        "colab": {
          "base_uri": "https://localhost:8080/"
        },
        "id": "qvYVLQuPokVX",
        "outputId": "7b140706-956d-4631-f795-d13604a4efa8"
      },
      "outputs": [
        {
          "name": "stdout",
          "output_type": "stream",
          "text": [
            "Model: \"sequential_5\"\n",
            "_________________________________________________________________\n",
            " Layer (type)                Output Shape              Param #   \n",
            "=================================================================\n",
            " dense_7 (Dense)             (None, 1)                 2         \n",
            "                                                                 \n",
            "=================================================================\n",
            "Total params: 2 (8.00 Byte)\n",
            "Trainable params: 2 (8.00 Byte)\n",
            "Non-trainable params: 0 (0.00 Byte)\n",
            "_________________________________________________________________\n"
          ]
        }
      ],
      "source": [
        "model.summary()"
      ]
    },
    {
      "cell_type": "code",
      "execution_count": null,
      "metadata": {
        "colab": {
          "base_uri": "https://localhost:8080/"
        },
        "id": "0k3tUZZnpCM9",
        "outputId": "e6573b2b-c571-4276-f81c-04a20668c303"
      },
      "outputs": [
        {
          "data": {
            "text/plain": [
              "(<tf.Tensor: shape=(), dtype=int32, numpy=-100>,\n",
              " <tf.Tensor: shape=(), dtype=int32, numpy=-90>)"
            ]
          },
          "execution_count": 33,
          "metadata": {},
          "output_type": "execute_result"
        }
      ],
      "source": [
        "X[0],y[0]"
      ]
    },
    {
      "cell_type": "code",
      "execution_count": null,
      "metadata": {
        "colab": {
          "base_uri": "https://localhost:8080/"
        },
        "id": "qkSj9kyXowEZ",
        "outputId": "78c8ded3-64b8-4f28-db68-387d34e1feeb"
      },
      "outputs": [
        {
          "name": "stdout",
          "output_type": "stream",
          "text": [
            "Model: \"One_of_the_many_models_we_will_build\"\n",
            "_________________________________________________________________\n",
            " Layer (type)                Output Shape              Param #   \n",
            "=================================================================\n",
            " input_layer (Dense)         (None, 10)                20        \n",
            "                                                                 \n",
            " dense_18 (Dense)            (None, 10)                110       \n",
            "                                                                 \n",
            " dense_19 (Dense)            (None, 10)                110       \n",
            "                                                                 \n",
            " output_layer (Dense)        (None, 1)                 11        \n",
            "                                                                 \n",
            "=================================================================\n",
            "Total params: 251 (1004.00 Byte)\n",
            "Trainable params: 251 (1004.00 Byte)\n",
            "Non-trainable params: 0 (0.00 Byte)\n",
            "_________________________________________________________________\n"
          ]
        }
      ],
      "source": [
        "# let's create a model which builds automatically by defining the input_shape argument\n",
        "tf.random.set_seed(42)\n",
        "# create a model same as above\n",
        "model = tf.keras.Sequential([\n",
        "    tf.keras.layers.Dense(10,input_shape=[1],name=\"input_layer\"),\n",
        "    tf.keras.layers.Dense(10,activation=\"relu\"),\n",
        "    tf.keras.layers.Dense(10,activation=\"relu\"),\n",
        "    tf.keras.layers.Dense(1,name=\"output_layer\")\n",
        "], name=\"One_of_the_many_models_we_will_build\")\n",
        "# compile the model\n",
        "model.compile(loss=tf.keras.losses.mae,optimizer=tf.keras.optimizers.Adam(learning_rate=1e-3),metrics=[\"mae\"])\n",
        "#fit the model\n",
        "model.summary()"
      ]
    },
    {
      "cell_type": "markdown",
      "metadata": {
        "id": "CfBwUC6VpRRt"
      },
      "source": [
        "* **Total parameters** - total nums of parameters in the model\n",
        "* **Trainable parameters** - these are the parameters (patterns) the model can update as it trains\n",
        "* **Non-trainable params** - these parameters aren't updated during training(this usually occurs during transfer learning)\n",
        "\n",
        "** Resource ** For more in depth overview of trainable parameters within a layer checkout MIT's intro to deep-learning video http://introtodeeplearning.com/"
      ]
    },
    {
      "cell_type": "code",
      "execution_count": null,
      "metadata": {
        "colab": {
          "base_uri": "https://localhost:8080/"
        },
        "id": "63mu3Rrgpz4_",
        "outputId": "036ea023-707e-41a7-9399-ac22c1ae199d"
      },
      "outputs": [
        {
          "data": {
            "text/plain": [
              "<keras.src.callbacks.History at 0x7c6b3cb5dc60>"
            ]
          },
          "execution_count": 95,
          "metadata": {},
          "output_type": "execute_result"
        }
      ],
      "source": [
        "# lets fit our model to the training data\n",
        "model.fit(X_train,y_train, epochs=100, verbose=0)"
      ]
    },
    {
      "cell_type": "code",
      "execution_count": null,
      "metadata": {
        "colab": {
          "base_uri": "https://localhost:8080/"
        },
        "id": "8Aa7S652rSjz",
        "outputId": "c830244d-33ac-4680-8e5a-b498b84133fb"
      },
      "outputs": [
        {
          "name": "stdout",
          "output_type": "stream",
          "text": [
            "Model: \"One_of_the_many_models_we_will_build\"\n",
            "_________________________________________________________________\n",
            " Layer (type)                Output Shape              Param #   \n",
            "=================================================================\n",
            " input_layer (Dense)         (None, 10)                20        \n",
            "                                                                 \n",
            " dense_18 (Dense)            (None, 10)                110       \n",
            "                                                                 \n",
            " dense_19 (Dense)            (None, 10)                110       \n",
            "                                                                 \n",
            " output_layer (Dense)        (None, 1)                 11        \n",
            "                                                                 \n",
            "=================================================================\n",
            "Total params: 251 (1004.00 Byte)\n",
            "Trainable params: 251 (1004.00 Byte)\n",
            "Non-trainable params: 0 (0.00 Byte)\n",
            "_________________________________________________________________\n"
          ]
        }
      ],
      "source": [
        "model.summary()"
      ]
    },
    {
      "cell_type": "code",
      "execution_count": null,
      "metadata": {
        "colab": {
          "base_uri": "https://localhost:8080/",
          "height": 533
        },
        "id": "eRU5eQDhrs6C",
        "outputId": "29d16f1b-a937-421b-f974-92b616f467d3"
      },
      "outputs": [
        {
          "data": {
            "image/png": "[encoded data removed]",
            "text/plain": [
              "<IPython.core.display.Image object>"
            ]
          },
          "execution_count": 97,
          "metadata": {},
          "output_type": "execute_result"
        }
      ],
      "source": [
        "from tensorflow.keras.utils import plot_model\n",
        "plot_model(model,show_shapes=True)"
      ]
    },
    {
      "cell_type": "markdown",
      "metadata": {
        "id": "BNourEFg78m-"
      },
      "source": [
        "### Visualizing the model's predictions\n",
        "\n",
        "To visualize predictions, it's a good idea to plot them against the ground truth labels.\n",
        "\n",
        "Often you'll see this in the form of `y_test`or `y_true`vs `y_pred`(ground truth versus models prediction's)"
      ]
    },
    {
      "cell_type": "code",
      "execution_count": null,
      "metadata": {
        "colab": {
          "base_uri": "https://localhost:8080/"
        },
        "id": "RO62A4oa9aAu",
        "outputId": "47cb8a0f-9707-4216-bb6b-227d0a6cc0ea"
      },
      "outputs": [
        {
          "name": "stdout",
          "output_type": "stream",
          "text": [
            "1/1 [==============================] - 0s 67ms/step\n"
          ]
        },
        {
          "data": {
            "text/plain": [
              "array([[ 74.209435],\n",
              "       [ 79.059845],\n",
              "       [ 83.91026 ],\n",
              "       [ 88.760666],\n",
              "       [ 93.61108 ],\n",
              "       [ 98.4615  ],\n",
              "       [103.311905],\n",
              "       [108.16232 ],\n",
              "       [113.01274 ],\n",
              "       [117.86315 ]], dtype=float32)"
            ]
          },
          "execution_count": 98,
          "metadata": {},
          "output_type": "execute_result"
        }
      ],
      "source": [
        "y_pred = model.predict(X_test)\n",
        "y_pred"
      ]
    },
    {
      "cell_type": "code",
      "execution_count": null,
      "metadata": {
        "colab": {
          "base_uri": "https://localhost:8080/"
        },
        "id": "dxo6LtBw-uXe",
        "outputId": "c9ededec-8dc2-4db0-daf0-075ebd26619a"
      },
      "outputs": [
        {
          "data": {
            "text/plain": [
              "<tf.Tensor: shape=(10,), dtype=int32, numpy=array([ 70,  74,  78,  82,  86,  90,  94,  98, 102, 106], dtype=int32)>"
            ]
          },
          "execution_count": 99,
          "metadata": {},
          "output_type": "execute_result"
        }
      ],
      "source": [
        "y_test"
      ]
    },
    {
      "cell_type": "markdown",
      "metadata": {
        "id": "X917cfcE-5kq"
      },
      "source": [
        "**Note** if you feel like you're going to reuse a piece of code turn it into function"
      ]
    },
    {
      "cell_type": "code",
      "execution_count": null,
      "metadata": {
        "colab": {
          "base_uri": "https://localhost:8080/",
          "height": 599
        },
        "id": "H8FSgpS3-vRB",
        "outputId": "f33055bf-4a62-4c8e-e502-916180e94575"
      },
      "outputs": [
        {
          "data": {
            "image/png": "[encoded data removed]",
            "text/plain": [
              "<Figure size 1000x700 with 1 Axes>"
            ]
          },
          "metadata": {},
          "output_type": "display_data"
        }
      ],
      "source": [
        "# let's create a plotting function\n",
        "def plot_predictions(train_data=X_train,train_labels=y_train,test_data=X_test,test_labels=y_test,predictions=y_pred):\n",
        "  \"\"\"\n",
        "  Plots training data, test data, and compares predictions to ground truth\n",
        "  \"\"\"\n",
        "  plt.figure(figsize=[10,7])\n",
        "  # Training data\n",
        "  plt.scatter(train_data,train_labels,c=\"blue\",label=\"Training data\")\n",
        "  # Test data\n",
        "  plt.scatter(test_data,test_labels,c=\"g\",label=\"Testing data\")\n",
        "  # plot predictions\n",
        "  plt.scatter(test_data,predictions,c=\"r\",label=\"Predictions\")\n",
        "  plt.legend()\n",
        "plot_predictions(train_data=X_train,train_labels=y_train,test_data=X_test,test_labels=y_test, predictions=y_pred)"
      ]
    },
    {
      "cell_type": "markdown",
      "metadata": {
        "id": "gll_i5mT_NG1"
      },
      "source": [
        "### Evaluating our model's predictions with regression evaluation metrics\n",
        "\n",
        "Depending on the problem you're working on, there will be different evaluation metrics to evaluate your model's performance.  \n",
        "\n",
        "Since we're working on regression problems, two of the main metrics we will use are:\n",
        "\n",
        "* MAE - mean absolute error: on average, how wrong are our predictions\n",
        "* MSE - mean squared error: square of average errors"
      ]
    },
    {
      "cell_type": "code",
      "execution_count": null,
      "metadata": {
        "colab": {
          "base_uri": "https://localhost:8080/"
        },
        "id": "ryRtlbXeDijr",
        "outputId": "f6a7b0aa-5d3f-4200-ef67-88df9e7e27a2"
      },
      "outputs": [
        {
          "name": "stdout",
          "output_type": "stream",
          "text": [
            "1/1 [==============================] - 0s 314ms/step - loss: 8.0363 - mae: 8.0363\n"
          ]
        },
        {
          "data": {
            "text/plain": [
              "[8.036293029785156, 8.036293029785156]"
            ]
          },
          "execution_count": 101,
          "metadata": {},
          "output_type": "execute_result"
        }
      ],
      "source": [
        "# Evaluate the model on the test set\n",
        "model.evaluate(X_test,y_test)"
      ]
    },
    {
      "cell_type": "code",
      "execution_count": 143,
      "metadata": {
        "colab": {
          "base_uri": "https://localhost:8080/"
        },
        "id": "3OXVVRoaFkPh",
        "outputId": "de3fe256-746b-4754-911a-34fa45329adc"
      },
      "outputs": [
        {
          "output_type": "stream",
          "name": "stdout",
          "text": [
            "tf.Tensor(8.036291, shape=(), dtype=float32)\n"
          ]
        }
      ],
      "source": [
        "# Calculate the mean absolute error\n",
        "mae = tf.metrics.mean_absolute_error(y_true=y_test,y_pred=tf.constant(y_pred))\n",
        "print(mae)"
      ]
    },
    {
      "cell_type": "code",
      "execution_count": 144,
      "metadata": {
        "colab": {
          "base_uri": "https://localhost:8080/"
        },
        "id": "24TF1x0dFRTk",
        "outputId": "1c9845d0-fbc3-4961-b356-38eb8afa920f"
      },
      "outputs": [
        {
          "output_type": "execute_result",
          "data": {
            "text/plain": [
              "<tf.Tensor: shape=(10,), dtype=float32, numpy=\n",
              "array([ 74.209435,  79.059845,  83.91026 ,  88.760666,  93.61108 ,\n",
              "        98.4615  , 103.311905, 108.16232 , 113.01274 , 117.86315 ],\n",
              "      dtype=float32)>"
            ]
          },
          "metadata": {},
          "execution_count": 144
        }
      ],
      "source": [
        "y_pred"
      ]
    },
    {
      "cell_type": "code",
      "execution_count": 145,
      "metadata": {
        "colab": {
          "base_uri": "https://localhost:8080/"
        },
        "id": "XnFdgxe2FiFo",
        "outputId": "607da3fd-3e16-4e9a-cefa-d321d332b5e8"
      },
      "outputs": [
        {
          "output_type": "execute_result",
          "data": {
            "text/plain": [
              "<tf.Tensor: shape=(10,), dtype=int32, numpy=array([ 70,  74,  78,  82,  86,  90,  94,  98, 102, 106], dtype=int32)>"
            ]
          },
          "metadata": {},
          "execution_count": 145
        }
      ],
      "source": [
        "y_test"
      ]
    },
    {
      "cell_type": "code",
      "execution_count": 146,
      "metadata": {
        "id": "3yRFeHhlFioW"
      },
      "outputs": [],
      "source": [
        "# needed to be done for both mae and mse as they weren't of the same shame(10,1) for y_pred vs (10,) for y_test\n",
        "y_pred = tf.squeeze(y_pred)"
      ]
    },
    {
      "cell_type": "code",
      "execution_count": 147,
      "metadata": {
        "colab": {
          "base_uri": "https://localhost:8080/"
        },
        "id": "6XoeoG0mH1Xh",
        "outputId": "80769af8-29b8-40c4-a351-8bca42080f2d"
      },
      "outputs": [
        {
          "output_type": "stream",
          "name": "stdout",
          "text": [
            "tf.Tensor(70.548386, shape=(), dtype=float32)\n"
          ]
        }
      ],
      "source": [
        "# Calculate the mean squared error\n",
        "mse = tf.metrics.mean_squared_error(y_true=y_test,y_pred=tf.constant(y_pred))\n",
        "print(mse)"
      ]
    },
    {
      "cell_type": "code",
      "execution_count": 148,
      "metadata": {
        "id": "neYJktZyISmw"
      },
      "outputs": [],
      "source": [
        "def mean_absolute_error(y_true,y_pred):\n",
        "  return tf.metrics.mean_absolute_error(y_true=y_test,y_pred=tf.constant(y_pred))\n",
        "\n",
        "def mean_squared_error(y_true,y_pred):\n",
        "  return tf.metrics.mean_squared_error(y_true=y_test,y_pred=tf.constant(y_pred))\n"
      ]
    },
    {
      "cell_type": "code",
      "source": [],
      "metadata": {
        "id": "K_4tMUzKK9sH"
      },
      "execution_count": null,
      "outputs": []
    }
  ],
  "metadata": {
    "colab": {
      "provenance": []
    },
    "kernelspec": {
      "display_name": "Python 3",
      "name": "python3"
    },
    "language_info": {
      "name": "python"
    }
  },
  "nbformat": 4,
  "nbformat_minor": 0
}